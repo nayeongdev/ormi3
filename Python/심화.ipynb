{
 "cells": [
  {
   "cell_type": "markdown",
   "metadata": {},
   "source": [
    "# 일차함수와 고차함수"
   ]
  },
  {
   "cell_type": "markdown",
   "metadata": {},
   "source": [
    "- 일급 함수: 함수를 일급객체(값, 주소)로 취급\n",
    "- 고차 함수: 함수를 아규먼트로 받거나 return 값으로 반환할 수 있는 함수"
   ]
  },
  {
   "cell_type": "code",
   "execution_count": null,
   "metadata": {},
   "outputs": [],
   "source": [
    "luna = print\n",
    "luna('hellow world')"
   ]
  },
  {
   "cell_type": "code",
   "execution_count": null,
   "metadata": {},
   "outputs": [],
   "source": [
    "class Cat:\n",
    "  def sound(self):\n",
    "    print(\"냐옹\")\n",
    "\n",
    "luna = Cat()\n",
    "luna_sound = luna.sound\n",
    "luna_sound()  # licat.sound()"
   ]
  },
  {
   "cell_type": "code",
   "execution_count": null,
   "metadata": {},
   "outputs": [],
   "source": [
    "l=[10,20,30]\n",
    "la = l.append\n",
    "la(40)  # l.append()\n",
    "l"
   ]
  },
  {
   "cell_type": "code",
   "execution_count": null,
   "metadata": {},
   "outputs": [],
   "source": [
    "# 함수를 변수로써 관리 할 수 있다\n",
    "def add(x, y):\n",
    "    return x + y\n",
    "\n",
    "\n",
    "def subtract(x, y):\n",
    "    return x - y\n",
    "\n",
    "\n",
    "funcs = [add, subtract]\n",
    "print(funcs[0](2, 3))  # 출력: 5"
   ]
  },
  {
   "cell_type": "code",
   "execution_count": null,
   "metadata": {},
   "outputs": [],
   "source": [
    "class Operator:\n",
    "  def add(self,x,y):\n",
    "    return x+y\n",
    "  def sub(self,x,y):\n",
    "    return x-y\n",
    "  def mul(self,x,y):\n",
    "    return x*y\n",
    "  def div(self,x,y):\n",
    "    return x/y\n",
    "  def _and(self,x,y):\n",
    "    return x and y\n",
    "  def _or(self,x,y):\n",
    "    return x or y\n",
    "\n",
    "op = Operator()\n",
    "logical_op={\n",
    "  'add':op.add,\n",
    "  'sub':op.sub,\n",
    "  'mul':op.mul,\n",
    "  'div':op.div,\n",
    "}\n",
    "arithmetic_op = {\n",
    "  '_and':op._and,\n",
    "  '_or':op._or,\n",
    "}\n",
    "\n",
    "print(logical_op['add'](2, 3))  # 출력: 5\n",
    "print(op.add(2, 3))  # 출력: 5\n",
    "\n",
    "for _, f in logical_op.items():\n",
    "    print(f(2, 3))  # 4칙연산 모두 계산\n"
   ]
  },
  {
   "cell_type": "code",
   "execution_count": null,
   "metadata": {},
   "outputs": [],
   "source": [
    "# 콜백함수 : 내가 받았어, 나중에 실행시켜 줄꺼야\n",
    "def luna_sound(p):\n",
    "  x=10\n",
    "  y=10\n",
    "  z=10\n",
    "  p('냐용')\n",
    "\n",
    "luna_sound(print) # licat_sound안에 내장 함수 print"
   ]
  },
  {
   "cell_type": "code",
   "execution_count": null,
   "metadata": {},
   "outputs": [],
   "source": [
    "def square(x):\n",
    "    return x ** 2\n",
    "def circle_width(r,s):\n",
    "    return s(r) * 3.14\n",
    "\n",
    "circle_width(10,square)"
   ]
  },
  {
   "cell_type": "markdown",
   "metadata": {},
   "source": [
    "![Alt text](image-6.png)"
   ]
  },
  {
   "cell_type": "code",
   "execution_count": null,
   "metadata": {},
   "outputs": [],
   "source": [
    "def square(x):\n",
    "    return x **2\n",
    "def root(x):\n",
    "    return x ** 0.5\n",
    "def length(a, b, square, root):\n",
    "    return root(square(a)+square(b))\n",
    "\n",
    "length(3,4,square,root)"
   ]
  },
  {
   "cell_type": "code",
   "execution_count": null,
   "metadata": {},
   "outputs": [],
   "source": [
    "# 함수를 결과로 반환!\n",
    "def create_adder(x):\n",
    "    def adder(y):\n",
    "        return x + y\n",
    "    return adder\n",
    "\n",
    "\n",
    "add_5 = create_adder(5)\n",
    "print(add_5(10))  # 출력: 15\n"
   ]
  },
  {
   "cell_type": "code",
   "execution_count": null,
   "metadata": {},
   "outputs": [],
   "source": [
    "def create_exponent(x):\n",
    "    def exponent(y):\n",
    "        return y ** x\n",
    "    return exponent\n",
    "\n",
    "\n",
    "exponent_2 = create_exponent(2)  # exponent\n",
    "exponent_3 = create_exponent(3)  # exponent\n",
    "print(exponent_2(10))  # 출력: 100\n",
    "# print(exponent(10)) => return y**2(이 숫자는 상수취급되어 변경시킬 수 없게 된다.)\n",
    "print(exponent_3(10))  # 출력: 1000\n",
    "# print(exponent(10)) => return y**3(이 숫자는 상수취급되어 변경시킬 수 없게 된다.)"
   ]
  },
  {
   "cell_type": "code",
   "execution_count": null,
   "metadata": {},
   "outputs": [],
   "source": [
    "# l의 주소는 휘발됬지만 []의 주소는 휘발되지 않았다.\n",
    "# 함수 안의 l은 일정 시간을 뒀다가 가비지 컬렉터가 휘발시킨다.\n",
    "\n",
    "def f():\n",
    "  l=[10,20,30]\n",
    "  print(id(l))\n",
    "  return l\n",
    "\n",
    "sample = f()\n",
    "id(sample)"
   ]
  },
  {
   "cell_type": "code",
   "execution_count": null,
   "metadata": {},
   "outputs": [],
   "source": [
    "def ff():\n",
    "  l = [10, 20, 30]\n",
    "  return l\n",
    "\n",
    "\n",
    "sample_ = ff()"
   ]
  },
  {
   "cell_type": "code",
   "execution_count": null,
   "metadata": {},
   "outputs": [],
   "source": [
    "import sys\n",
    "sys.getrefcount(sample_)"
   ]
  },
  {
   "cell_type": "markdown",
   "metadata": {},
   "source": [
    "# 클로저"
   ]
  },
  {
   "cell_type": "markdown",
   "metadata": {},
   "source": [
    "클로저: 휘발되었어야 하는 메모리 영역에 접근하여 함수나 데이터를 활용하는 일"
   ]
  },
  {
   "cell_type": "code",
   "execution_count": null,
   "metadata": {},
   "outputs": [],
   "source": [
    "# 고차함수이며, 일반적인 클로저의 형태는 아닙니다.\n",
    "# 보통 클로저는 outer_function에 은닉할 값을 매개변수로 넘겨줍니다.\n",
    "\n",
    "# 클로저가 아닌경우\n",
    "def outer_function():\n",
    "    def inner_function():\n",
    "        return 100+100\n",
    "    return inner_function\n",
    "\n",
    "# 클로저인 경우\n",
    "def outer_function(x):\n",
    "    def inner_function(y):\n",
    "        return x + y\n",
    "    return inner_function\n",
    "\n",
    "\n",
    "inner = outer_function(100)\n",
    "inner(200)  # inner 입장에서 100을 변경할 수 있는 방법이 없습니다.\n"
   ]
  },
  {
   "cell_type": "markdown",
   "metadata": {},
   "source": [
    "# 데코레이터"
   ]
  },
  {
   "cell_type": "code",
   "execution_count": null,
   "metadata": {},
   "outputs": [],
   "source": [
    "# 이런식으로 활용\n",
    "# login한 사용자만 게시판을 읽도록하는 코드\n",
    "def login(arg):\n",
    "  pass\n",
    "\n",
    "@login\n",
    "def 게시판읽기():\n",
    "  pass\n",
    "\n",
    "# Django와 같은 프레임웤은 필요한 데코레이터는 미리 구현되어 있습니다.\n",
    "# 걱정하지 않으셔도 됩니다."
   ]
  },
  {
   "cell_type": "code",
   "execution_count": null,
   "metadata": {},
   "outputs": [],
   "source": [
    "def simple_decorator(function):\n",
    "    def wrapper():\n",
    "        print(\"Before the function call\")\n",
    "        function()\n",
    "        print(\"After the function call\")\n",
    "    return wrapper\n",
    "\n",
    "\n",
    "@simple_decorator\n",
    "def hello():\n",
    "    print(\"Hello, World!\")\n",
    "\n",
    "\n",
    "hello()  # 데코레이터가 없는 상태에서는 simple_decorator(hello)() 와 같습니다."
   ]
  },
  {
   "cell_type": "code",
   "execution_count": null,
   "metadata": {},
   "outputs": [],
   "source": [
    "def simple_decorator(function):\n",
    "    def wrapper():\n",
    "        print(\"Before the function call\")\n",
    "        function()\n",
    "        print(\"After the function call\")\n",
    "    return wrapper\n",
    "\n",
    "\n",
    "def hello():\n",
    "    print(\"Hello, World!\")\n",
    "\n",
    "\n",
    "simple_decorator(hello)()\n",
    "# simple_decorator(hello) => wrapper\n",
    "# simple_decorator(hello)() => wrapper()\n"
   ]
  },
  {
   "cell_type": "code",
   "execution_count": null,
   "metadata": {},
   "outputs": [],
   "source": [
    "def simple_decorator(function):\n",
    "    def wrapper():\n",
    "        print(\"Before the function call\")\n",
    "        function()\n",
    "        print(\"After the function call\")\n",
    "    return wrapper\n",
    "\n",
    "\n",
    "@simple_decorator\n",
    "def hello():\n",
    "    print(\"Hello, World!\")\n",
    "\n",
    "\n",
    "hello()  # 이렇게만 하면 simple_decorator에 hello를 아규먼트로 넣어주고 실행하겠다!\n"
   ]
  },
  {
   "cell_type": "code",
   "execution_count": null,
   "metadata": {},
   "outputs": [],
   "source": [
    "# step 1\n",
    "def data_Preprocessing(function):\n",
    "    def wrapper():\n",
    "        pass\n",
    "    return wrapper\n",
    "\n",
    "\n",
    "@data_Preprocessing\n",
    "def mean(data):\n",
    "    return sum(data)/len(data)\n",
    "\n",
    "\n",
    "mean([1, 2, '3', 4, '5'])  # TypeError 발생\n",
    "# data~함수에 파라미터로 mean이 들어감"
   ]
  },
  {
   "cell_type": "code",
   "execution_count": null,
   "metadata": {},
   "outputs": [],
   "source": [
    "# step 2\n",
    "def data_Preprocessing(function):\n",
    "    def wrapper(data):\n",
    "        print(data)\n",
    "    return wrapper\n",
    "\n",
    "\n",
    "@data_Preprocessing\n",
    "def mean(data):\n",
    "    return sum(data)/len(data)\n",
    "\n",
    "\n",
    "mean([1, 2, '3', 4, '5'])  # 데이터만 출력하고 함수는 None을 반환\n"
   ]
  },
  {
   "cell_type": "code",
   "execution_count": null,
   "metadata": {},
   "outputs": [],
   "source": [
    "# step 3\n",
    "def data_Preprocessing(function):\n",
    "    def wrapper(data):    # data에는 mean의 데이타\n",
    "        return function(list(map(int, data)))  # function은 mean\n",
    "    return wrapper\n",
    "\n",
    "\n",
    "@data_Preprocessing\n",
    "def mean(data):\n",
    "    return sum(data)/len(data)\n",
    "\n",
    "\n",
    "mean([1, 2, '3', 4, '5'])  # 출력: 3.0 (정상 작동) # 데코레이터가 붙으면 mean을 실행하는 것이 아니다!\n",
    "\n",
    "# simple_decorator(mean) => wrapper\n",
    "# simple_decorator(mean)() => wrapper([1, 2, '3', 4, '5'])\n",
    "# mean(data)가 아니라 mean 만 function으로 들어가는 거고, data는 wrapper(data)로 들어간다."
   ]
  },
  {
   "cell_type": "markdown",
   "metadata": {},
   "source": [
    "![Alt text](image-7.png)"
   ]
  },
  {
   "cell_type": "markdown",
   "metadata": {},
   "source": [
    "mean([1, 2, 3, 4, 5])이 실행되면,\n",
    "data_Preprocessing(mean 함수 주소) 실행> wrapper 함수 주소 반환?>\n",
    "wrapper([1, 2, 3, 4, 5]) 실행 > 만약 wrapper 안에 function이 있다면 data_Preprocessing의 아규먼트로 받은 함수 주소의 함수를 사용(여기선 mean 함수)"
   ]
  },
  {
   "cell_type": "code",
   "execution_count": null,
   "metadata": {},
   "outputs": [],
   "source": [
    "import sys\n",
    "\n",
    "\n",
    "def ff():\n",
    "    l = [10, 20, 30]\n",
    "    return l\n",
    "\n",
    "\n",
    "sample_ = ff()\n",
    "sys.getrefcount(sample_)  # window, mac, linux의 출력값이 달라요.\n",
    "# 중요한 포인트는 getrefcount의 작동 원리가 아니라\n",
    "# 함수가 종료되어도 참조하는 변수가 있다면\n",
    "# 값이 사라지지 않는다는 것이 포인트입니다!"
   ]
  },
  {
   "cell_type": "code",
   "execution_count": null,
   "metadata": {},
   "outputs": [],
   "source": [
    "# 아래는 참고만 하기"
   ]
  },
  {
   "cell_type": "code",
   "execution_count": null,
   "metadata": {},
   "outputs": [],
   "source": [
    "def add_exclamation(function):\n",
    "    def wrapper(text):\n",
    "        print(f'add_exclamation 데코레이터 시작')\n",
    "        result = function(text) + \"!\"\n",
    "        print(f'add_exclamation 데코레이터 종료')\n",
    "        return result\n",
    "    return wrapper\n",
    "\n",
    "\n",
    "def add_question_mark(function):\n",
    "    def wrapper(text):\n",
    "        print(f'add_question_mark 데코레이터 시작')\n",
    "        result = function(text) + \"?\"\n",
    "        print(f'add_question_mark 데코레이터 종료')\n",
    "        return result\n",
    "    return wrapper\n",
    "\n",
    "\n",
    "def add_dot(function):\n",
    "    def wrapper(text):\n",
    "        print(f'add_dot 데코레이터 시작')\n",
    "        result = function(text) + \".\"\n",
    "        print(f'add_dot 데코레이터 종료')\n",
    "        return result\n",
    "    return wrapper\n",
    "\n",
    "\n",
    "@add_exclamation\n",
    "@add_question_mark\n",
    "@add_dot\n",
    "def greet(message):\n",
    "    return message\n",
    "\n",
    "\n",
    "result = greet('Hello')\n",
    "print(result)"
   ]
  },
  {
   "cell_type": "markdown",
   "metadata": {},
   "source": [
    "![Alt text](image-8.png)"
   ]
  },
  {
   "cell_type": "code",
   "execution_count": null,
   "metadata": {},
   "outputs": [],
   "source": [
    "def add(n):  # 데코레이터를 감싸는 하나의 함수를 더 만들어서 아규먼트를 받는 방법입니다.\n",
    "    def decorator(function):  # 여기서부터의 기능은 같습니다.\n",
    "        def new_function(a, b):\n",
    "            print(f'plus 함수가 {n}만큼 증가시키는 데코레이터가 시작됩니다.')\n",
    "            result = function(a, b)\n",
    "            print(result)\n",
    "            print(f'plus 함수가 {n}만큼 증가시키는 데코레이터가 종료됩니다.')\n",
    "            return result + n\n",
    "        return new_function\n",
    "    return decorator\n",
    "\n",
    "\n",
    "@add(1000)\n",
    "def plus(a, b):\n",
    "    print('plus 함수가 호출되었습니다.')\n",
    "    return a + b\n",
    "\n",
    "\n",
    "# 1000이라는 아규먼트를 받기위해서 하는 것\n",
    "\n",
    "result = plus(10, 20)  # add(1000)(plus)(10,20)\n",
    "print(f'result : {result}')\n"
   ]
  },
  {
   "cell_type": "markdown",
   "metadata": {},
   "source": [
    "# lambda"
   ]
  },
  {
   "cell_type": "code",
   "execution_count": null,
   "metadata": {},
   "outputs": [],
   "source": [
    "# lambda parameters: expression"
   ]
  },
  {
   "cell_type": "code",
   "execution_count": null,
   "metadata": {},
   "outputs": [],
   "source": [
    "def square(x): return x*x\n",
    "\n",
    "\n",
    "print(square(5))  # 출력: 25"
   ]
  },
  {
   "cell_type": "markdown",
   "metadata": {},
   "source": [
    "# args, kargs"
   ]
  },
  {
   "cell_type": "code",
   "execution_count": null,
   "metadata": {},
   "outputs": [],
   "source": [
    "a, b, *c = 10, 20, 30, 40, 50"
   ]
  },
  {
   "cell_type": "code",
   "execution_count": null,
   "metadata": {},
   "outputs": [],
   "source": [
    "def print_args(a, b, *args):\n",
    "    print(args)\n",
    "    for x in args:\n",
    "        print(x)\n",
    "\n",
    "\n",
    "print_args(100, True, 'Luna', 'hello', 10)"
   ]
  },
  {
   "cell_type": "code",
   "execution_count": null,
   "metadata": {},
   "outputs": [],
   "source": [
    "#error\n",
    "def print_args(a, b, *args, c):  # *args뒤에 일반 변수를 선언하지 못합니다.\n",
    "    print(args)\n",
    "    for x in args:\n",
    "        print(x)\n",
    "\n",
    "\n",
    "#error\n",
    "def print_args(a, b, *args, *c):  # *args뒤에 또다른 가변 아규먼트를 넣지 못합니다.\n",
    "    print(args)\n",
    "    for x in args:\n",
    "        print(x)\n",
    "\n",
    "\n",
    "print_args(100, True, 'Licat', 'hello', 10)"
   ]
  },
  {
   "cell_type": "code",
   "execution_count": null,
   "metadata": {},
   "outputs": [],
   "source": [
    "def print_kwargs(a, **kwargs):\n",
    "    print(a)\n",
    "    print(kwargs)\n",
    "    for i in kwargs:\n",
    "        print(i)\n",
    "\n",
    "\n",
    "print_kwargs(100, name='Licat', age='10')\n"
   ]
  },
  {
   "cell_type": "code",
   "execution_count": null,
   "metadata": {},
   "outputs": [],
   "source": [
    "def print_kwargs(*args):\n",
    "    print(args)\n",
    "    for i in args:\n",
    "        print(i)\n",
    "\n",
    "\n",
    "value = {'one': 10, 'two': 20}\n",
    "print_kwargs(*value)"
   ]
  },
  {
   "cell_type": "code",
   "execution_count": null,
   "metadata": {},
   "outputs": [],
   "source": [
    "def func(a, b, c):\n",
    "    print(a, b, c)\n",
    "\n",
    "\n",
    "args = (1, 2, 3)\n",
    "func(*args)\n",
    "print(args, *args)\n",
    "\n",
    "kwargs = {'a': 1, 'b': 2, 'c': 3}\n",
    "func(**kwargs)\n",
    "# print(kwargs, **kwargs) #error\n",
    "# print(kwargs, a=1, b=2, c=3) # 위에 코드와 같은 코드"
   ]
  },
  {
   "cell_type": "code",
   "execution_count": null,
   "metadata": {},
   "outputs": [],
   "source": [
    "def func(d=100,c=200,b=300,a=400):\n",
    "  print(d,c,b,a)\n",
    "\n",
    "kwargs = {'a':1,'b':2,'c':3}\n",
    "func(**kwargs)\n",
    "# {'a':1,'b':2,'c':3} => **kwargs => a=1, b=2,c=3"
   ]
  },
  {
   "cell_type": "code",
   "execution_count": 1,
   "metadata": {},
   "outputs": [
    {
     "ename": "NameError",
     "evalue": "name 'b' is not defined",
     "output_type": "error",
     "traceback": [
      "\u001b[1;31m---------------------------------------------------------------------------\u001b[0m",
      "\u001b[1;31mNameError\u001b[0m                                 Traceback (most recent call last)",
      "\u001b[1;32mc:\\Users\\user\\BackendOrmi3\\Python\\심화.ipynb Cell 46\u001b[0m line \u001b[0;36m6\n\u001b[0;32m      <a href='vscode-notebook-cell:/c%3A/Users/user/BackendOrmi3/Python/%EC%8B%AC%ED%99%94.ipynb#X65sZmlsZQ%3D%3D?line=1'>2</a>\u001b[0m \u001b[39mdef\u001b[39;00m \u001b[39mfunc\u001b[39m(a\u001b[39m=\u001b[39m\u001b[39m100\u001b[39m, \u001b[39m*\u001b[39m\u001b[39m*\u001b[39mkwargs):\n\u001b[0;32m      <a href='vscode-notebook-cell:/c%3A/Users/user/BackendOrmi3/Python/%EC%8B%AC%ED%99%94.ipynb#X65sZmlsZQ%3D%3D?line=2'>3</a>\u001b[0m   \u001b[39mprint\u001b[39m(a,b,c)\n\u001b[1;32m----> <a href='vscode-notebook-cell:/c%3A/Users/user/BackendOrmi3/Python/%EC%8B%AC%ED%99%94.ipynb#X65sZmlsZQ%3D%3D?line=5'>6</a>\u001b[0m func(a\u001b[39m=\u001b[39;49m\u001b[39m1\u001b[39;49m, b\u001b[39m=\u001b[39;49m\u001b[39m2\u001b[39;49m, c\u001b[39m=\u001b[39;49m\u001b[39m3\u001b[39;49m)\n",
      "\u001b[1;32mc:\\Users\\user\\BackendOrmi3\\Python\\심화.ipynb Cell 46\u001b[0m line \u001b[0;36m3\n\u001b[0;32m      <a href='vscode-notebook-cell:/c%3A/Users/user/BackendOrmi3/Python/%EC%8B%AC%ED%99%94.ipynb#X65sZmlsZQ%3D%3D?line=1'>2</a>\u001b[0m \u001b[39mdef\u001b[39;00m \u001b[39mfunc\u001b[39m(a\u001b[39m=\u001b[39m\u001b[39m100\u001b[39m, \u001b[39m*\u001b[39m\u001b[39m*\u001b[39mkwargs):\n\u001b[1;32m----> <a href='vscode-notebook-cell:/c%3A/Users/user/BackendOrmi3/Python/%EC%8B%AC%ED%99%94.ipynb#X65sZmlsZQ%3D%3D?line=2'>3</a>\u001b[0m   \u001b[39mprint\u001b[39m(a,b,c)\n",
      "\u001b[1;31mNameError\u001b[0m: name 'b' is not defined"
     ]
    }
   ],
   "source": [
    "# a = 1, b = 2, c = 3 = > **kwargs = > {'a': 1, 'b': 2, 'c': 3}\n",
    "def func(a=100, **kwargs):\n",
    "  print(a,b,c)\n",
    "\n",
    "\n",
    "func(a=1, b=2, c=3)"
   ]
  },
  {
   "cell_type": "code",
   "execution_count": null,
   "metadata": {},
   "outputs": [],
   "source": [
    "def func(*args):\n",
    "    print(args)\n",
    "\n",
    "\n",
    "func(10, 20, 30)\n",
    "# func(kwargs, a=1, b=2, c=3) 로 입력이 되었다는 것을 확인할 수 있습니다.\n",
    "# 10, 20, 30 => *args => (10, 20, 30)\n"
   ]
  },
  {
   "cell_type": "code",
   "execution_count": null,
   "metadata": {},
   "outputs": [],
   "source": [
    "def func(a, b, c):\n",
    "    print(a, b, c)\n",
    "\n",
    "\n",
    "args = (10, 20, 30)\n",
    "func(*args)\n",
    "# func(kwargs, a=1, b=2, c=3) 로 입력이 되었다는 것을 확인할 수 있습니다.\n",
    "# (10, 20, 30) => *args => 10, 20, 30"
   ]
  },
  {
   "cell_type": "code",
   "execution_count": null,
   "metadata": {},
   "outputs": [],
   "source": [
    "# *args는 리스트를 묶고 풀고하는 용도로 사용하고\n",
    "# **kargs는 딕셔너리를 묶고 풀고하는 용도로 사용한다"
   ]
  },
  {
   "cell_type": "markdown",
   "metadata": {},
   "source": [
    "# 이터레이터"
   ]
  },
  {
   "cell_type": "code",
   "execution_count": null,
   "metadata": {},
   "outputs": [],
   "source": [
    "class MyIterator:\n",
    "    def __init__(self, stop):\n",
    "        self.current_value = 0  # 현재 값\n",
    "        self.stop = stop  # 순회를 멈출 값\n",
    "\n",
    "    def __iter__(self):\n",
    "        return self\n",
    "\n",
    "    def __next__(self):\n",
    "        if self.current_value >= self.stop:\n",
    "            raise StopIteration\n",
    "        result = self.current_value\n",
    "        self.current_value += 1\n",
    "        return result\n",
    "\n",
    "\n",
    "my_iterator = MyIterator(5)\n",
    "\n",
    "for i in my_iterator:\n",
    "    print(i)\n"
   ]
  },
  {
   "cell_type": "code",
   "execution_count": null,
   "metadata": {},
   "outputs": [],
   "source": [
    "class MyIterator:\n",
    "    def __init__(self, stop):\n",
    "        self.stop = stop  # 순회를 멈출 값\n",
    "\n",
    "    def __iter__(self):\n",
    "        self.current_value = 0  # 현재 값\n",
    "        return self\n",
    "\n",
    "    def __next__(self):\n",
    "        if self.current_value >= self.stop:\n",
    "            raise StopIteration\n",
    "        result = self.current_value\n",
    "        self.current_value += 1\n",
    "        return result\n",
    "\n",
    "\n",
    "my_iterator = MyIterator(5)\n",
    "\n",
    "for i in my_iterator:\n",
    "    print(i)\n",
    "\n",
    "for i in my_iterator:\n",
    "    print(i)"
   ]
  },
  {
   "cell_type": "code",
   "execution_count": null,
   "metadata": {},
   "outputs": [],
   "source": [
    "class MyIterator:\n",
    "    def __init__(self, stop):\n",
    "        self.stop = stop  # 순회를 멈출 값\n",
    "\n",
    "    def __iter__(self):\n",
    "        self.current_value = 0  # 현재 값\n",
    "        return self\n",
    "\n",
    "    def __next__(self):\n",
    "        if self.current_value >= self.stop:\n",
    "            raise StopIteration\n",
    "        result = self.current_value\n",
    "        self.current_value += 1\n",
    "        return result\n",
    "\n",
    "\n",
    "my_iterator = MyIterator(5)\n",
    "\n",
    "i = iter(my_iterator) #여기서부터\n",
    "print(next(i))\n",
    "print(next(i))\n",
    "print(next(i))\n",
    "print(next(i))\n",
    "print(next(i))\n",
    "print(next(i)) # 여기까지가 for문의 작동원리이다."
   ]
  },
  {
   "cell_type": "markdown",
   "metadata": {},
   "source": [
    "# 제너레이터"
   ]
  },
  {
   "cell_type": "code",
   "execution_count": null,
   "metadata": {},
   "outputs": [],
   "source": [
    "def my_generator(data):\n",
    "    for i in data:\n",
    "        yield i * 10\n",
    "\n",
    "\n",
    "for i in my_generator([1, 2, 3]):\n",
    "    print(i)\n"
   ]
  },
  {
   "cell_type": "code",
   "execution_count": 4,
   "metadata": {},
   "outputs": [
    {
     "name": "stdout",
     "output_type": "stream",
     "text": [
      "1\n",
      "2\n",
      "3\n",
      "4\n",
      "5\n"
     ]
    }
   ],
   "source": [
    "def my_generator(data):\n",
    "    for i in data:\n",
    "        yield i\n",
    "\n",
    "\n",
    "my_list = [1, 2, 3, 4, 5]\n",
    "my_iterator = my_generator(my_list)\n",
    "\n",
    "for i in my_iterator:\n",
    "    print(i)"
   ]
  },
  {
   "cell_type": "code",
   "execution_count": 5,
   "metadata": {},
   "outputs": [
    {
     "data": {
      "text/plain": [
       "[(0, '짝'), (1, '홀'), (2, '짝'), (3, '홀'), (4, '짝'), (5, '홀')]"
      ]
     },
     "execution_count": 5,
     "metadata": {},
     "output_type": "execute_result"
    }
   ],
   "source": [
    "# 이럴때 많이 사용\n",
    "def my_generator():\n",
    "    l = ['짝', '홀']\n",
    "    t = False\n",
    "\n",
    "    while True:\n",
    "        yield l[t]\n",
    "        t = True\n",
    "        yield l[t]\n",
    "        t = False\n",
    "\n",
    "\n",
    "list(zip([0, 1, 2, 3, 4, 5], my_generator()))\n"
   ]
  },
  {
   "cell_type": "code",
   "execution_count": null,
   "metadata": {},
   "outputs": [],
   "source": [
    "# 3.10 이상\n",
    "def my_generator():\n",
    "    l = ['짝', '홀']\n",
    "    while True:\n",
    "        yield l[t := False]\n",
    "        yield l[t := True]\n",
    "\n",
    "\n",
    "list(zip([0, 1, 2, 3, 4, 5, 6], my_generator()))"
   ]
  },
  {
   "cell_type": "code",
   "execution_count": null,
   "metadata": {},
   "outputs": [],
   "source": [
    "def my_generator():\n",
    "  count = 0"
   ]
  },
  {
   "cell_type": "code",
   "execution_count": 6,
   "metadata": {},
   "outputs": [
    {
     "data": {
      "text/plain": [
       "[(1, 'h', 0),\n",
       " (2, 'e', 2),\n",
       " (3, 'l', 4),\n",
       " (4, 'l', 6),\n",
       " (5, 'o', 8),\n",
       " (6, ' ', 10),\n",
       " (7, 'w', 12),\n",
       " (8, 'o', 14),\n",
       " (9, 'r', 16)]"
      ]
     },
     "execution_count": 6,
     "metadata": {},
     "output_type": "execute_result"
    }
   ],
   "source": [
    "def my_generator():\n",
    "    count = 0\n",
    "    while True:\n",
    "        yield count\n",
    "        count += 2\n",
    "\n",
    "\n",
    "# 마치 enumerate처럼\n",
    "list(zip([1, 2, 3, 4, 5, 6, 7, 8, 9], 'hello world', my_generator()))"
   ]
  },
  {
   "cell_type": "code",
   "execution_count": null,
   "metadata": {},
   "outputs": [],
   "source": [
    "gen = (i for i in range(2, 11, 2))\n",
    "for i in gen:\n",
    "    print(i)"
   ]
  },
  {
   "cell_type": "code",
   "execution_count": null,
   "metadata": {},
   "outputs": [],
   "source": [
    "# 회전초밥집에 들어갔습니다. 초밥은 아래와 같은 양식으로 나옵니다.\n",
    "# [['광어초밥', 1000], ['연어초밥', 2000], ['계란초밥', 3000]]\n",
    "# * 각 초밥은 몇 개 나올지 알 수 없습니다.\n",
    "# * 각 초밥은 1000원씩 비싸집니다.\n",
    "# * 초밥에 '어'가 나오는 초밥만 먹습니다.\n",
    "# 내가 먹은 초밥의 비용을 계산하는 코드를 작성해 주세요."
   ]
  },
  {
   "cell_type": "code",
   "execution_count": 15,
   "metadata": {},
   "outputs": [
    {
     "data": {
      "text/plain": [
       "12000"
      ]
     },
     "execution_count": 15,
     "metadata": {},
     "output_type": "execute_result"
    }
   ],
   "source": [
    "def data_generator(data):\n",
    "    for name, price in data:\n",
    "        if '어' in name:\n",
    "            yield price\n",
    "\n",
    "def solution(data):\n",
    "    return sum(data_generator(data))\n",
    "\n",
    "solution([['광어초밥', 1000], ['연어초밥', 2000], \n",
    "          ['계란초밥', 3000], ['문어초밥', 4000], \n",
    "          ['장어초밥', 5000]])"
   ]
  },
  {
   "cell_type": "markdown",
   "metadata": {},
   "source": [
    "# nonlocal"
   ]
  },
  {
   "cell_type": "code",
   "execution_count": 16,
   "metadata": {},
   "outputs": [
    {
     "name": "stdout",
     "output_type": "stream",
     "text": [
      "2\n",
      "2\n",
      "100\n"
     ]
    }
   ],
   "source": [
    "x = 100\n",
    "\n",
    "\n",
    "def outer():\n",
    "    x = 1\n",
    "\n",
    "    def inner():\n",
    "        nonlocal x\n",
    "        x += 1\n",
    "        print(x)\n",
    "    inner()\n",
    "    print(x)\n",
    "\n",
    "\n",
    "outer()\n",
    "print(x)"
   ]
  },
  {
   "cell_type": "code",
   "execution_count": 17,
   "metadata": {},
   "outputs": [
    {
     "name": "stdout",
     "output_type": "stream",
     "text": [
      "101\n",
      "1\n",
      "101\n"
     ]
    }
   ],
   "source": [
    "x = 100\n",
    "\n",
    "\n",
    "def outer():\n",
    "    x = 1\n",
    "\n",
    "    def inner():\n",
    "        global x\n",
    "        x += 1\n",
    "        print(x)\n",
    "    inner()\n",
    "    print(x)\n",
    "\n",
    "\n",
    "outer()\n",
    "print(x)\n"
   ]
  },
  {
   "cell_type": "markdown",
   "metadata": {},
   "source": [
    "# zip,map,reversed, filter가 한 번 호출되면 빈 값이 되는 이유?"
   ]
  },
  {
   "cell_type": "code",
   "execution_count": null,
   "metadata": {},
   "outputs": [],
   "source": [
    "a = [1, 2, 3]\n",
    "b = ['a', 'b', 'c']\n",
    "\n",
    "z = zip(a, b)\n",
    "print(list(z))  # [(1, 'a'), (2, 'b'), (3, 'c')]\n",
    "\n",
    "# zip 객체는 한 번 사용되었으므로 빈 리스트가 반환됩니다.\n",
    "print(list(z))  # []\n",
    "\n",
    "# 왜? iter에서 초기화 해주지 않아서\n",
    "# iter에서 왜 초기화 해주지 않을까?"
   ]
  },
  {
   "cell_type": "code",
   "execution_count": 18,
   "metadata": {},
   "outputs": [
    {
     "name": "stdout",
     "output_type": "stream",
     "text": [
      "3\n",
      "2\n",
      "1\n"
     ]
    },
    {
     "data": {
      "text/plain": [
       "<list_reverseiterator at 0x294ffe05b80>"
      ]
     },
     "execution_count": 18,
     "metadata": {},
     "output_type": "execute_result"
    }
   ],
   "source": [
    "x = [1, 2, 3]\n",
    "y = reversed(x)\n",
    "\n",
    "for i in y:\n",
    "    print(i)\n",
    "for i in y:\n",
    "    print(i)\n",
    "\n",
    "y\n",
    "# sorted와 다르게 reversed는 한 번만 실행이 되었고,\n",
    "# 반환되는 값도 리스트로 주지 않았다."
   ]
  },
  {
   "cell_type": "code",
   "execution_count": 19,
   "metadata": {},
   "outputs": [
    {
     "data": {
      "text/plain": [
       "[0, 1, 2, 3, 4, 5, 6, 7, 8, 9, 10, 11, 12, 13, 14, 15, 16, 17, 18, 19]"
      ]
     },
     "execution_count": 19,
     "metadata": {},
     "output_type": "execute_result"
    }
   ],
   "source": [
    "sorted(range(20)) #메모리 부하가 큰 작업이다."
   ]
  },
  {
   "cell_type": "markdown",
   "metadata": {},
   "source": [
    "![Alt text](image-9.png)"
   ]
  },
  {
   "cell_type": "code",
   "execution_count": null,
   "metadata": {},
   "outputs": [],
   "source": [
    "# 문제1\n",
    "# 다음과 같이 동작하는 제너레이터 함수 fibonacci(n)를 완성하세요.\n",
    "# 주어진 숫자 n까지의 피보나치 수열을 반환합니다.\n",
    "# 인터넷에서 피보나치 순열 Python 코드를 검색해보셔도 좋습니다.\n",
    "def fib(n):\n",
    "    pass\n",
    "\n",
    "\n",
    "for i in fib(5):\n",
    "    print(i)\n",
    "\n",
    "'''\n",
    "출력\n",
    "1\n",
    "1\n",
    "2\n",
    "3\n",
    "5\n",
    "'''\n"
   ]
  },
  {
   "cell_type": "code",
   "execution_count": 45,
   "metadata": {},
   "outputs": [
    {
     "name": "stdout",
     "output_type": "stream",
     "text": [
      "1\n",
      "1\n",
      "2\n",
      "3\n",
      "5\n"
     ]
    }
   ],
   "source": [
    "def fib(n):\n",
    "    pre = 1\n",
    "    next = 1\n",
    "    for _ in range(n):\n",
    "        yield pre\n",
    "        temp = pre + next\n",
    "        pre, next = next, temp\n",
    "\n",
    "\n",
    "for i in fib(5):\n",
    "    print(i)\n"
   ]
  },
  {
   "cell_type": "code",
   "execution_count": null,
   "metadata": {},
   "outputs": [],
   "source": [
    "# 문제2\n",
    "# 주어진 함수의 실행 시간을 측정하여 출력하는 데코레이터 time_it를 작성하세요.\n",
    "# (힌트: time 모듈의 time() 함수를 사용하세요.)"
   ]
  },
  {
   "cell_type": "code",
   "execution_count": 48,
   "metadata": {},
   "outputs": [
    {
     "name": "stdout",
     "output_type": "stream",
     "text": [
      "1\n",
      "1\n",
      "2\n",
      "3\n",
      "5\n",
      "실행시간: 0.0000s\n"
     ]
    }
   ],
   "source": [
    "import time\n",
    "\n",
    "\n",
    "def time_it(func):\n",
    "  def wrapper():\n",
    "    start = time.time()  # 시작 시간 저장\n",
    "    func()\n",
    "    print(f\"실행시간: {time.time() - start:.3f}s\")  # 현재시각 - 시작시간 = 실행 시간\n",
    "  return wrapper\n",
    "\n",
    "\n",
    "@time_it\n",
    "def main():\n",
    "    def fib(n):\n",
    "        pre = 1\n",
    "        next = 1\n",
    "        for _ in range(n):\n",
    "            yield pre\n",
    "            temp = pre + next\n",
    "            pre, next = next, temp\n",
    "\n",
    "\n",
    "    for i in fib(5):\n",
    "        print(i)\n",
    "\n",
    "main()"
   ]
  },
  {
   "cell_type": "code",
   "execution_count": 3,
   "metadata": {},
   "outputs": [
    {
     "data": {
      "text/plain": [
       "30"
      ]
     },
     "execution_count": 3,
     "metadata": {},
     "output_type": "execute_result"
    }
   ],
   "source": [
    "# 3.8\n",
    "(x := 10) * 3"
   ]
  },
  {
   "cell_type": "code",
   "execution_count": 5,
   "metadata": {},
   "outputs": [
    {
     "data": {
      "text/plain": [
       "{'key1': 'value1', 'key2': 'value2'}"
      ]
     },
     "execution_count": 5,
     "metadata": {},
     "output_type": "execute_result"
    }
   ],
   "source": [
    "# 3.9\n",
    "# 딕셔너리 결합 가능\n",
    "x = {\"key1\": \"value1\"}\n",
    "y = {\"key2\": \"value2\"}\n",
    "z = x | y\n",
    "z"
   ]
  },
  {
   "cell_type": "code",
   "execution_count": 6,
   "metadata": {},
   "outputs": [
    {
     "data": {
      "text/plain": [
       "{'key1': 'value1', 'key2': 'value2'}"
      ]
     },
     "execution_count": 6,
     "metadata": {},
     "output_type": "execute_result"
    }
   ],
   "source": [
    "# {\"key1\": \"value1\"} + {\"key2\": \"value2\"}\n",
    "# {\"key1\": \"value1\"}.append({\"key2\": \"value2\"})\n",
    "x = {\"key1\": \"value1\"}\n",
    "x.update({\"key2\": \"value2\"})\n",
    "x"
   ]
  },
  {
   "cell_type": "markdown",
   "metadata": {},
   "source": [
    "# 파일 입출력"
   ]
  },
  {
   "cell_type": "code",
   "execution_count": null,
   "metadata": {},
   "outputs": [],
   "source": [
    "# open(파일이름, 파일모드)\n",
    "f = open('python.txt', 'w')  \n",
    "# 파일모드 : r(읽기), w(쓰기,파일이 없으면 생성, 내용이 있어도 덮어쓰기가 된다.), a(추가)\n",
    "f.close()"
   ]
  },
  {
   "cell_type": "code",
   "execution_count": null,
   "metadata": {},
   "outputs": [],
   "source": [
    "f = open('python.txt', 'w')\n",
    "s = ''\n",
    "for i in range(1, 6):\n",
    "    s += f'{i}명 참여 중입니다. \\n'\n",
    "f.write(s)\n",
    "f.close()"
   ]
  },
  {
   "cell_type": "code",
   "execution_count": null,
   "metadata": {},
   "outputs": [],
   "source": [
    "# readline\n",
    "f = open('python.txt', 'r')\n",
    "while True:\n",
    "    line = f.readline()\n",
    "    if not line:\n",
    "        break\n",
    "    print(line)\n",
    "f.close()"
   ]
  },
  {
   "cell_type": "code",
   "execution_count": null,
   "metadata": {},
   "outputs": [],
   "source": [
    "# readlines\n",
    "f = open('python.txt', 'r')\n",
    "lines = f.readlines()\n",
    "for line in lines:\n",
    "    print(line)\n",
    "f.close()"
   ]
  },
  {
   "cell_type": "code",
   "execution_count": null,
   "metadata": {},
   "outputs": [],
   "source": [
    "# read\n",
    "f = open('python.txt', 'r')\n",
    "data = f.read()\n",
    "print(data)\n",
    "f.close()"
   ]
  },
  {
   "cell_type": "code",
   "execution_count": null,
   "metadata": {},
   "outputs": [],
   "source": [
    "f = open('python.html', 'w')\n",
    "s = '''\n",
    "<html>\n",
    "  <head></head>\n",
    "  <body>\n",
    "    <h1>hello world</h1>\n",
    "  </body>\n",
    "</html>\n",
    "'''"
   ]
  },
  {
   "cell_type": "code",
   "execution_count": 15,
   "metadata": {},
   "outputs": [],
   "source": [
    "f = open('python.csv', 'w',encoding='utf-8')\n",
    "s = '''\n",
    "제목, 평점, 이비지, 줄거리\n",
    "무빙, 5.0,img,줄거리\n",
    "오펜하이머, 5.0,img,줄거리\n",
    "무빙, 5.0,img,줄거리\n",
    "'''\n",
    "f.write(s)\n",
    "f.close()"
   ]
  },
  {
   "cell_type": "code",
   "execution_count": 12,
   "metadata": {},
   "outputs": [],
   "source": [
    "# 어려운 예제\n",
    "# django의 동작원리와도 관련이 있습니다.\n",
    "import requests\n",
    "from bs4 import BeautifulSoup\n",
    "\n",
    "paullab_url = 'http://paullab.co.kr/bookservice/'\n",
    "response = requests.get(paullab_url)\n",
    "response.encoding = 'utf-8'\n",
    "html = response.text\n",
    "\n",
    "soup = BeautifulSoup(html, 'html.parser')\n",
    "\n",
    "bookservices = soup.select('.col-lg-6 > h2')     # col-lg-6 클래스 안의 h2 태그 탐색\n",
    "contents = ''\n",
    "\n",
    "for no, (book, img) in enumerate(zip(bookservices, soup.select('img')[2:]), 1):\n",
    "    contents += f'''\n",
    "                <section>\n",
    "                <h2>{no}. {book.text}</h2>\n",
    "                <img src='https://paullab.co.kr/bookservice/{img[\"src\"]}'>\n",
    "                </section>\n",
    "                '''\n",
    "\n",
    "# 이미지 양식: https://paullab.co.kr/bookservice/img/notion.jpg\n",
    "f = open('python.html', 'w')\n",
    "s = f'''<html>\n",
    "<head>\n",
    "</head>\n",
    "<body>\n",
    "{contents}\n",
    "</body>\n",
    "</html>\n",
    "'''\n",
    "f.write(s)\n",
    "f.close()\n"
   ]
  },
  {
   "cell_type": "code",
   "execution_count": null,
   "metadata": {},
   "outputs": [],
   "source": [
    "for i in soup.select('img')[2:]:\n",
    "    print(i['src'])"
   ]
  },
  {
   "cell_type": "code",
   "execution_count": null,
   "metadata": {},
   "outputs": [],
   "source": [
    "f = open('python.txt', 'a')\n",
    "s = ''\n",
    "for i in range(6, 11):\n",
    "    s += f'{i}명 참여 중입니다. \\n'\n",
    "f.write(s)\n",
    "f.close()"
   ]
  },
  {
   "cell_type": "code",
   "execution_count": null,
   "metadata": {},
   "outputs": [],
   "source": [
    "with open('test.txt', 'w') as f:\n",
    "    f.write('Life is too short, you need python')"
   ]
  },
  {
   "cell_type": "markdown",
   "metadata": {},
   "source": [
    "# 비트연산"
   ]
  },
  {
   "cell_type": "code",
   "execution_count": null,
   "metadata": {},
   "outputs": [],
   "source": [
    "5 & 12  # bit and 연산\n",
    "\n",
    "# 00000101 == 5\n",
    "# 00001100 == 12\n",
    "# --------\n",
    "# 00000100"
   ]
  },
  {
   "cell_type": "code",
   "execution_count": 16,
   "metadata": {},
   "outputs": [
    {
     "data": {
      "text/plain": [
       "-1"
      ]
     },
     "execution_count": 16,
     "metadata": {},
     "output_type": "execute_result"
    }
   ],
   "source": [
    "~0 # 2의 보수"
   ]
  },
  {
   "cell_type": "code",
   "execution_count": 17,
   "metadata": {},
   "outputs": [
    {
     "data": {
      "text/plain": [
       "-6"
      ]
     },
     "execution_count": 17,
     "metadata": {},
     "output_type": "execute_result"
    }
   ],
   "source": [
    "~5"
   ]
  },
  {
   "cell_type": "code",
   "execution_count": null,
   "metadata": {},
   "outputs": [],
   "source": [
    "~~5 # ~(-6) => -(-6 + 1) = 5\n",
    "# -(n + 1)가 n의 보수다"
   ]
  },
  {
   "cell_type": "markdown",
   "metadata": {},
   "source": [
    "# f-string"
   ]
  },
  {
   "cell_type": "code",
   "execution_count": 22,
   "metadata": {},
   "outputs": [
    {
     "name": "stdout",
     "output_type": "stream",
     "text": [
      "hello\n",
      "{value}\n",
      "{hello}\n",
      "{{value}}\n",
      "{{hello}}\n"
     ]
    }
   ],
   "source": [
    "# 중괄호가 2개씩 증가할 때마다 출력은 1개씩 증가\n",
    "value ='hello'\n",
    "print(f'{value}')\n",
    "print(f'{{value}}')\n",
    "print(f'{{{value}}}')\n",
    "print(f'{{{{value}}}}')\n",
    "print(f'{{{{{value}}}}}')"
   ]
  },
  {
   "cell_type": "code",
   "execution_count": 23,
   "metadata": {},
   "outputs": [
    {
     "name": "stdout",
     "output_type": "stream",
     "text": [
      "helloworld\n"
     ]
    }
   ],
   "source": [
    "value = 'hello'\n",
    "# print(f'{value + 'world'}') # error\n",
    "print(f'{value + \"world\"}')"
   ]
  },
  {
   "cell_type": "code",
   "execution_count": 24,
   "metadata": {},
   "outputs": [
    {
     "name": "stdout",
     "output_type": "stream",
     "text": [
      "3.14\n",
      "     Alice\n"
     ]
    }
   ],
   "source": [
    "num = 3.14159\n",
    "print(f\"{num:.2f}\")  # 출력: 3.14\n",
    "\n",
    "name = \"Alice\"\n",
    "print(f\"{name:>10}\")  # 출력:      Alice"
   ]
  },
  {
   "cell_type": "code",
   "execution_count": null,
   "metadata": {},
   "outputs": [],
   "source": [
    "# 파이썬(Python) 3 포맷팅 방식\n",
    "print('나의 이름은 {}입니다'.format('한사람'))\n",
    "print('나의 이름은 {0}입니다. 나이는 {1}세이고 성별은 {2}입니다.'.format('한사람', 33, '남성'))\n",
    "print('나이는 {1}세이고 성별은 {2}입니다. 나의 이름은 {0}입니다. '.format('한사람', 33, '남성'))\n",
    "print('나이는 {age}세이고 성별은 {gender}입니다. 나의 이름은 {name}입니다.'.format(\n",
    "    name='한사람', age=33, gender='남성'))\n",
    "print('만세삼창 :  {0}!!! {0}!!! {0}!!! '.format('만세'))\n",
    "print('삼삼칠 박수 :  {0}!!! {0}!!! {1}!!! '.format('짝'*3, '짝'*7))\n",
    "print('-' * 40)\n",
    "\n",
    "print('나의 키는 {0:.2f}cm 입니다.'.format(156.8653))\n",
    "print('나의 키는 {0:>10}cm 입니다.'.format(156.8653))\n",
    "print('나의 키는 {0:^10}cm 입니다.'.format(156.8653))\n",
    "print('나의 키는 {0:#^10}cm 입니다.'.format(156.8653))\n",
    "print('나의 키는 {0:#^10.2f}cm 입니다.'.format(156.8653))"
   ]
  }
 ],
 "metadata": {
  "kernelspec": {
   "display_name": "Python 3",
   "language": "python",
   "name": "python3"
  },
  "language_info": {
   "codemirror_mode": {
    "name": "ipython",
    "version": 3
   },
   "file_extension": ".py",
   "mimetype": "text/x-python",
   "name": "python",
   "nbconvert_exporter": "python",
   "pygments_lexer": "ipython3",
   "version": "3.9.2"
  },
  "orig_nbformat": 4
 },
 "nbformat": 4,
 "nbformat_minor": 2
}
