{
 "cells": [
  {
   "cell_type": "markdown",
   "metadata": {},
   "source": [
    "# 연습문제"
   ]
  },
  {
   "cell_type": "code",
   "execution_count": null,
   "metadata": {},
   "outputs": [],
   "source": [
    "# list로 형변환하는 것은 부하가 크다\n",
    "# 리스트 컴프레이션도 list보다는 빠르지만 역시 부하가 있다"
   ]
  },
  {
   "cell_type": "code",
   "execution_count": null,
   "metadata": {},
   "outputs": [],
   "source": [
    "# 문제1: 1 ~ 9 까지 더하는 프로그램\n",
    "sum(range(1,10))  # 45"
   ]
  },
  {
   "cell_type": "code",
   "execution_count": null,
   "metadata": {},
   "outputs": [],
   "source": [
    "# 문제2: 1 ~ 9 까지 홀수의 합\n",
    "sum(range(1,10,2))  # 25 "
   ]
  },
  {
   "cell_type": "code",
   "execution_count": null,
   "metadata": {},
   "outputs": [],
   "source": [
    "# 문제3: 1000 미만의 자연수에서 3의 배수와 5의 배수의 총합을 구하는 프로그램을 작성\n",
    "def myfilter(x):\n",
    "  if x % 3 == 0 or x % 5 == 0:\n",
    "    return True\n",
    "  return False\n",
    "\n",
    "sum(filter(myfilter,range(1000)))  # 233168"
   ]
  },
  {
   "cell_type": "code",
   "execution_count": null,
   "metadata": {},
   "outputs": [],
   "source": [
    "m = [[1, 2, 3], [4, 5, 6], [7, 8, 9]]\n",
    "sum(sum(m,[]))"
   ]
  },
  {
   "cell_type": "code",
   "execution_count": null,
   "metadata": {},
   "outputs": [],
   "source": [
    "sum([1, 2, 3], 100)\n",
    "\n",
    "sum([[1, 2, 3], [4, 5, 6], [7, 8, 9]], [])\n",
    "# [1, 2, 3] + [] == [1, 2, 3]\n",
    "# [4, 5, 6] + [1, 2, 3] == [4, 5, 6, 1, 2, 3]\n",
    "# [7, 8, 9] + [4, 5, 6, 1, 2, 3] == [7, 8, 9, 4, 5, 6, 1, 2, 3]"
   ]
  },
  {
   "cell_type": "code",
   "execution_count": null,
   "metadata": {},
   "outputs": [],
   "source": [
    "import numpy as np\n",
    "# 수학 수식에 막강한 성능을 자랑합니다.\n",
    "# 수학 수식 관련해서 파이썬보다 속도도 훨~~~~씬 빠르고 기능도 많아요.\n",
    "\n",
    "np.sum([[1, 2, 3], [4, 5, 6], [7, 8, 9]])"
   ]
  },
  {
   "cell_type": "code",
   "execution_count": null,
   "metadata": {},
   "outputs": [],
   "source": [
    "# 문제4 : 공백, 특수기호를 없애주세요\n",
    "# import collections\n",
    "\n",
    "s = \"Hello, World! This is a sample string for testing purposes.\"\n",
    "# 방법1\n",
    "# s = s.replace(',', '').replace('!', '').replace('.', '').replace(' ', '')\n",
    "\n",
    "# 방법2\n",
    "# table = str.maketrans(' ,!.', '    ')\n",
    "# s = s.translate(table).replace(' ','')\n",
    "\n",
    "# 방법3\n",
    "# table = str.maketrans('', '', ',!. ')\n",
    "# s = s.translate(table)\n",
    "\n",
    "# c = collections.Counter(s)\n",
    "# c.most_common\n"
   ]
  },
  {
   "cell_type": "code",
   "execution_count": null,
   "metadata": {},
   "outputs": [],
   "source": [
    "# 문제5: 문장 안의 알파벳 개수를 출력하세요\n",
    "d = {}\n",
    "s = \"Hello, World! This is a sample string for testing purposes.\"\n",
    "s = s.replace(',', '').replace('!', '').replace('.', '').replace(' ', '')\n",
    "\n",
    "# 풀이1, 순회를 돌면서 dict에 있으면 += 1, 없으면 =1 대입하면서 푼다\n",
    "for i in s:\n",
    "    if i in d:\n",
    "        d[i] += 1\n",
    "    else:\n",
    "        d[i] = 1\n",
    "d\n",
    "\n",
    "# 풀이2, set으로 만들어서 count를 한다.\n",
    "d={}\n",
    "for i in set(s):\n",
    "    d[i]=s.count(i)"
   ]
  },
  {
   "cell_type": "code",
   "execution_count": null,
   "metadata": {},
   "outputs": [],
   "source": [
    "# 다음 자료구조 클래스를 만들어주세요.\n",
    "# 데이터는 <1, 2, 3, 4> 형식으로 숫자만 저장됩니다.\n",
    "# print()를 하면 <1, 2, 3, 4>와 같이 출력이 되어야 합니다.\n",
    "# 메서드는 append, remove가 있습니다.\n",
    "# 아래 연산은 길이가 다르면 error가 납니다.\n",
    "# 나누기 연산은 지원하지 않습니다.\n",
    "# <1, 2, 3, 4> + <1, 2, 3 ,4> == <2, 4, 6, 8>와 같이 같은 순서에 요소를 더합니다.\n",
    "# <1, 2, 3, 4> - <1, 2, 1 ,2> == <0, 0, 2, 2>와 같이 같은 순서에 요소를 뺍니다.\n",
    "# <1, 2, 3, 4> * 3 == <3, 6, 9, 12>가 됩니다."
   ]
  },
  {
   "cell_type": "code",
   "execution_count": null,
   "metadata": {},
   "outputs": [],
   "source": [
    "class OperList:\n",
    "    def __init__(self, *args):\n",
    "        self.__operlist = list(args)\n",
    "\n",
    "    def __str__(self):\n",
    "        return f'<{str(self.__operlist)[1:-1]}>'\n",
    "\n",
    "    def __repr__(self):\n",
    "        return f'<{str(self.__operlist)[1:-1]}>'\n",
    "\n",
    "    def __len__(self):\n",
    "        return self.__operlist.__len__()\n",
    "\n",
    "    def __add__(self, other):\n",
    "        if len(self.__operlist) != len(other.__operlist):\n",
    "            raise\n",
    "        for i in range(len(self.__operlist)):\n",
    "            self.__operlist[i] += other.__operlist[i]\n",
    "        return self.__operlist\n",
    "\n",
    "    def __sub__(self, other):\n",
    "        if len(self.__operlist) != len(other.__operlist):\n",
    "            raise\n",
    "        for i in range(len(self.__operlist)):\n",
    "            self.__operlist[i] -= other.__operlist[i]\n",
    "        return self.__operlist\n",
    "\n",
    "    def __mul__(self, other):\n",
    "        if len(self.__operlist) != len(other.__operlist):\n",
    "            raise\n",
    "        for i in range(len(self.__operlist)):\n",
    "            self.__operlist[i] *= other.__operlist[i]\n",
    "        return self.__operlist\n",
    "\n",
    "    def append(self, data):\n",
    "        self.__operlist.append(data)\n",
    "\n",
    "    def remove(self, data):\n",
    "        self.__operlist.remove(data)\n",
    "\n",
    "\n",
    "l = OperList(1, 2, 3, 4)\n",
    "print(l)\n",
    "l.append(5)\n",
    "print(l + l)  # 출력: <2, 4, 6, 8, 10>\n"
   ]
  },
  {
   "cell_type": "markdown",
   "metadata": {},
   "source": [
    "과제2:  \n",
    "student.csv에는 아래와 같은 텍스트가 담겨있습니다.\n",
    "\n",
    "|학년|반|번|이름|국어|영어|수학|사회|\n",
    "|:--:|:--:|:--:|:--:|:--:|:--:|:--:|:--:|\n",
    "|3|3|1|licat|90|80|30|40|\n",
    "|3|3|2|mura|80|70|60|30|\n",
    "|3|3|3|binky|30|80|70|30|\n",
    "\n",
    "```py\n",
    "'''\n",
    "학년,반,번,이름,국어,영어,수학,사회\n",
    "3,3,1,licat,90,80,30,40\n",
    "3,3,2,mura,80,70,60,30\n",
    "3,3,3,binky,30,80,70,30\n",
    "'''\n",
    "```\n",
    "학생들의 평균을 구해 아래와 같이 student.csv가 출력되게 해주세요.(xx이라 표기된 곳에 평균 값이 들어가야 합니다.)\n",
    "\n",
    "|학년|반|번|이름|국어|영어|수학|사회|평균|\n",
    "|:--:|:--:|:--:|:--:|:--:|:--:|:--:|:--:|:--:|\n",
    "|3|3|1|licat|90|80|30|40|xx|\n",
    "|3|3|2|mura|80|70|60|30|xx|\n",
    "|3|3|3|binky|30|80|70|30|xx|\n",
    "\n",
    "```py\n",
    "'''\n",
    "학년,반,번,이름,국어,영어,수학,사회,평균\n",
    "3,3,1,licat,90,80,30,40,xx\n",
    "3,3,2,mura,80,70,60,30,xx\n",
    "3,3,3,binky,30,80,70,30,xx\n",
    "'''\n",
    "```"
   ]
  },
  {
   "cell_type": "code",
   "execution_count": null,
   "metadata": {},
   "outputs": [],
   "source": [
    "f = open('student.csv', 'w', encoding='utf-8')\n",
    "s = '''\n",
    "학년,반,번,이름,국어,영어,수학,사회\n",
    "3,3,1,licat,90,80,30,40\n",
    "3,3,2,mura,80,70,60,30\n",
    "3,3,3,binky,30,80,70,30\n",
    "'''\n",
    "f.write(s.strip())\n",
    "f.close()"
   ]
  },
  {
   "cell_type": "code",
   "execution_count": null,
   "metadata": {},
   "outputs": [],
   "source": [
    "with open('student.csv', 'r', encoding='utf-8') as f:\n",
    "    lines = f.readlines()\n",
    "    title = lines[0]\n",
    "    datas = lines[1:]\n",
    "\n",
    "\n",
    "with open('student.csv', 'w', encoding='utf-8') as f:\n",
    "    title = ','.join([title.replace('\\n', ''), '평균'])\n",
    "    f.write(title+'\\n')\n",
    "\n",
    "    for data in datas:\n",
    "        li = data.replace('\\n', '').split(',')\n",
    "        avg = sum(map(int, li[4:]))/len(li[4:])\n",
    "        avgData = ','.join([data.replace('\\n', ''), str(avg)])\n",
    "        f.write(avgData+'\\n')\n"
   ]
  }
 ],
 "metadata": {
  "kernelspec": {
   "display_name": "Python 3",
   "language": "python",
   "name": "python3"
  },
  "language_info": {
   "codemirror_mode": {
    "name": "ipython",
    "version": 3
   },
   "file_extension": ".py",
   "mimetype": "text/x-python",
   "name": "python",
   "nbconvert_exporter": "python",
   "pygments_lexer": "ipython3",
   "version": "3.9.2"
  },
  "orig_nbformat": 4
 },
 "nbformat": 4,
 "nbformat_minor": 2
}
