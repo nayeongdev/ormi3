{
 "cells": [
  {
   "cell_type": "markdown",
   "metadata": {},
   "source": [
    "# 함수"
   ]
  },
  {
   "cell_type": "markdown",
   "metadata": {},
   "source": [
    "함수를 사용하면 복잡한 코드를 단순화시키고, 반복되는 코드를 줄일 수 있습니다. 이로 인해 전체적인 코드가 더 깔끔해지고 관리하기 쉬워집니다. 또한, 이러한 접근법은 코딩 오류를 줄이고 프로그램의 효율성을 향상시킬 수 있습니다."
   ]
  },
  {
   "cell_type": "markdown",
   "metadata": {},
   "source": [
    "- 함수를 만들때는 “def” 키워드를 사용\n",
    "- 함수의 이름을 적고, 괄호를 적고, 콜론(:) 을 붙인다\n",
    "- 함수 종료 구분은 들여쓰기 기준이며 return으로도 구분이 된다."
   ]
  },
  {
   "cell_type": "code",
   "execution_count": null,
   "metadata": {},
   "outputs": [],
   "source": [
    "def 부지매입():\n",
    "    pass\n",
    "\n",
    "def 설계도면작성():\n",
    "    pass\n",
    "\n",
    "def 인력모집():\n",
    "    pass\n",
    "\n",
    "def 벽돌쌓기():\n",
    "    pass\n",
    "\n",
    "def 지붕올리기():\n",
    "    pass\n",
    "\n",
    "부지매입()\n",
    "설계도면작성()\n",
    "인력모집()\n",
    "벽돌쌓기()\n",
    "지붕올리기()"
   ]
  },
  {
   "cell_type": "code",
   "execution_count": null,
   "metadata": {},
   "outputs": [
    {
     "name": "stdout",
     "output_type": "stream",
     "text": [
      "1\n",
      "2\n",
      "3\n"
     ]
    }
   ],
   "source": [
    "#들여쓰기\n",
    "def printnum(): #함수의 정의\n",
    "    print('1')\n",
    "    print('2')\n",
    "    print('3')\n",
    "printnum() #함수의 호출"
   ]
  },
  {
   "cell_type": "code",
   "execution_count": null,
   "metadata": {},
   "outputs": [
    {
     "name": "stdout",
     "output_type": "stream",
     "text": [
      "1\n",
      "2\n",
      "3\n",
      "None\n"
     ]
    }
   ],
   "source": [
    "# 들여쓰기\n",
    "# print와 return은 헷갈리시면 X\n",
    "def printnum(): # 함수의 정의\n",
    "    print('1')\n",
    "    print('2')\n",
    "    print('3')\n",
    "    return None\n",
    "\n",
    "a = printnum() # 함수의 호출\n",
    "print(a)"
   ]
  },
  {
   "cell_type": "code",
   "execution_count": null,
   "metadata": {},
   "outputs": [
    {
     "name": "stdout",
     "output_type": "stream",
     "text": [
      "3\n",
      "1\n",
      "2\n"
     ]
    }
   ],
   "source": [
    "def printnum():\n",
    "    print('1')\n",
    "    print('2')\n",
    "\n",
    "print('3')\n",
    "printnum()"
   ]
  },
  {
   "cell_type": "code",
   "execution_count": null,
   "metadata": {},
   "outputs": [
    {
     "name": "stdout",
     "output_type": "stream",
     "text": [
      "<class 'function'>\n"
     ]
    },
    {
     "data": {
      "text/plain": [
       "function"
      ]
     },
     "metadata": {},
     "output_type": "display_data"
    }
   ],
   "source": [
    "# 출력값이 다르다는 것은 꼭 기억해주세요!\n",
    "print(type(printnum))  # __str__\n",
    "type(printnum)  # __repr__\n",
    "\n",
    "# dir(printnum)"
   ]
  },
  {
   "cell_type": "code",
   "execution_count": null,
   "metadata": {},
   "outputs": [
    {
     "name": "stdout",
     "output_type": "stream",
     "text": [
      "function(5, 7)= 12\n"
     ]
    }
   ],
   "source": [
    "# 파선아실 (파라미터 선언, 아규먼트 실제값)\n",
    "def function(x, y):\n",
    "    z = x + y\n",
    "    return z\n",
    "\n",
    "\n",
    "print('function(5, 7)=', function(5, 7))"
   ]
  },
  {
   "cell_type": "code",
   "execution_count": null,
   "metadata": {},
   "outputs": [],
   "source": [
    "# 함수 안에 함수\n",
    "def f():\n",
    "    def ff():\n",
    "        return 100\n",
    "    x=ff()\n",
    "    return x\n",
    "\n",
    "f()\n",
    "# ff() # 함수 내부에서 선언한 변수와 함수는 밖에서 호출할 수 없다."
   ]
  },
  {
   "cell_type": "code",
   "execution_count": null,
   "metadata": {},
   "outputs": [
    {
     "data": {
      "text/plain": [
       "30"
      ]
     },
     "metadata": {},
     "output_type": "display_data"
    }
   ],
   "source": [
    "# 함수를 아규먼트로 전달\n",
    "def f(a, b):\n",
    "    return a+b\n",
    "\n",
    "\n",
    "def ff(a):\n",
    "    return a(10, 20)\n",
    "\n",
    "\n",
    "ff(f)"
   ]
  },
  {
   "cell_type": "code",
   "execution_count": 2,
   "metadata": {},
   "outputs": [
    {
     "name": "stdout",
     "output_type": "stream",
     "text": [
      "-5\n"
     ]
    }
   ],
   "source": [
    "def add(x=0, y=0):\n",
    "    return x+y\n",
    "\n",
    "\n",
    "def sub(x=0, y=0):\n",
    "    return x-y\n",
    "\n",
    "\n",
    "def mul(x=0, y=0):\n",
    "    return x*y\n",
    "\n",
    "\n",
    "a = 2\n",
    "b = 3\n",
    "print(mul(add(a, b),sub(a,b)))\n"
   ]
  },
  {
   "cell_type": "markdown",
   "metadata": {},
   "source": [
    "## 지역변수, 전역변수"
   ]
  },
  {
   "cell_type": "code",
   "execution_count": 3,
   "metadata": {},
   "outputs": [
    {
     "name": "stdout",
     "output_type": "stream",
     "text": [
      "100\n",
      "1000\n",
      "10000\n",
      "10\n"
     ]
    }
   ],
   "source": [
    "# global을 하면 함수가 얼만큼 중첩되어 있든 \n",
    "# 최상단에 있는 a를 바라본다.\n",
    "a = 10\n",
    "\n",
    "\n",
    "def f():\n",
    "    a = 100\n",
    "    print(a)\n",
    "\n",
    "    def ff():\n",
    "        a = 1000\n",
    "        print(a)\n",
    "\n",
    "        def fff():\n",
    "            global a\n",
    "            print(a)\n",
    "        fff()\n",
    "    ff()\n",
    "\n",
    "\n",
    "f()\n",
    "print(a)"
   ]
  },
  {
   "cell_type": "code",
   "execution_count": 4,
   "metadata": {},
   "outputs": [
    {
     "name": "stdout",
     "output_type": "stream",
     "text": [
      "100\n",
      "1000\n",
      "1000\n",
      "10\n"
     ]
    }
   ],
   "source": [
    "# global을 사용하지 않고 중첩된 함수 내에서 a를 출력하게 되면 \n",
    "# 바로 위 함수의 a를 출력합니다.\n",
    "a = 10\n",
    "\n",
    "\n",
    "def f():\n",
    "    a = 100\n",
    "    print(a)\n",
    "\n",
    "    def ff():\n",
    "        a = 1000\n",
    "        print(a)\n",
    "\n",
    "        def fff():\n",
    "            print(a)\n",
    "        fff()\n",
    "    ff()\n",
    "\n",
    "\n",
    "f()\n",
    "print(a)"
   ]
  },
  {
   "cell_type": "markdown",
   "metadata": {},
   "source": [
    "## 재귀 함수"
   ]
  },
  {
   "cell_type": "markdown",
   "metadata": {},
   "source": [
    "- 재귀함수는 사용하지 마세요!(주니어때)\n",
    "- 위험하고 일부 효율이 좋지 않습니다.\n",
    "- 반복문 <-> 재귀는 서로 상호 호환이 가능합니다.\n",
    "- 반복문 사용하세요!\n",
    "\n",
    "- 상식 수준에서 다음 재귀는 외우셨으면 좋겠습니다.\n",
    "  1. 팩토리얼\n",
    "  2. 문자열 뒤집기"
   ]
  },
  {
   "cell_type": "code",
   "execution_count": 18,
   "metadata": {},
   "outputs": [
    {
     "name": "stdout",
     "output_type": "stream",
     "text": [
      "1\n",
      "2\n",
      "3\n",
      "4\n",
      "5\n"
     ]
    }
   ],
   "source": [
    "# sys.setrecursionlimit -> 제한을 늘릴 수 있음\n",
    "\n",
    "\"\"\" \n",
    "실행하지 마세요!\n",
    "def 숫자출력():\n",
    "    print(1)\n",
    "    return 숫자출력()\n",
    "\n",
    "\n",
    "숫자출력()\n",
    "\"\"\"\n",
    "\n",
    "\n",
    "def 숫자출력(count):\n",
    "    if count > 5:\n",
    "        return\n",
    "    print(count)\n",
    "    return 숫자출력(count+1)  # 값을 1부터 반복횟수 까지의 값을 출력\n",
    "\n",
    "\n",
    "숫자출력(1)"
   ]
  },
  {
   "cell_type": "code",
   "execution_count": 19,
   "metadata": {},
   "outputs": [
    {
     "data": {
      "text/plain": [
       "120"
      ]
     },
     "execution_count": 19,
     "metadata": {},
     "output_type": "execute_result"
    }
   ],
   "source": [
    "# 팩토리얼\n",
    "def factorial(n):\n",
    "    if n <= 1:\n",
    "        return 1\n",
    "    return n * factorial(n-1)\n",
    "\n",
    "\n",
    "factorial(5)\n",
    "\n",
    "# 함수 호출        return\n",
    "# factorial(n)    n * factorial(n-1)\n",
    "# factorial(5)    5 * factorial(4)      == 5 * 24\n",
    "# factorial(4)    4 * factorial(3)      == 4 * 6\n",
    "# factorial(3)    3 * factorial(2)      == 3 * 2\n",
    "# factorial(2)    2 * factorial(1)      == 2 * 1\n",
    "# factorial(1)    1\n"
   ]
  },
  {
   "cell_type": "code",
   "execution_count": 16,
   "metadata": {},
   "outputs": [
    {
     "data": {
      "text/plain": [
       "120"
      ]
     },
     "execution_count": 16,
     "metadata": {},
     "output_type": "execute_result"
    }
   ],
   "source": [
    "n = 5\n",
    "result = 1\n",
    "for i in range(1, n+1):\n",
    "    result *= i\n",
    "\n",
    "result"
   ]
  },
  {
   "cell_type": "code",
   "execution_count": 15,
   "metadata": {},
   "outputs": [
    {
     "data": {
      "text/plain": [
       "'olleh'"
      ]
     },
     "execution_count": 15,
     "metadata": {},
     "output_type": "execute_result"
    }
   ],
   "source": [
    "def reversed_str(s):\n",
    "    if len(s) <= 1:\n",
    "        return s\n",
    "    return reversed_str(s[1:]) + s[0]\n",
    "\n",
    "\n",
    "reversed_str('hello')\n",
    "\n",
    "\n",
    "# 함수 호출               return\n",
    "# reversed_str(n)        reversed_str(s[1:]) + s[0]\n",
    "# reversed_str('hello')  reversed_str('ello') + 'h'   == 'olle' + 'h'\n",
    "# reversed_str('ello')   reversed_str('llo') + 'e'    == 'oll' + 'e'\n",
    "# reversed_str('llo')    reversed_str('lo') + 'l'     == 'ol' + 'l'\n",
    "# reversed_str('lo')     reversed_str('o') + 'l'      == 'o' + 'l'\n",
    "# reversed_str('o')      'o'                          == 'o'"
   ]
  },
  {
   "cell_type": "code",
   "execution_count": 22,
   "metadata": {},
   "outputs": [
    {
     "name": "stdout",
     "output_type": "stream",
     "text": [
      "h\n",
      "eh\n",
      "leh\n",
      "lleh\n",
      "olleh\n"
     ]
    },
    {
     "data": {
      "text/plain": [
       "'olleh'"
      ]
     },
     "execution_count": 22,
     "metadata": {},
     "output_type": "execute_result"
    }
   ],
   "source": [
    "s = 'hello'\n",
    "result = ''\n",
    "\n",
    "for i in s:\n",
    "    result = i + result\n",
    "    print(result)\n",
    "\n",
    "result"
   ]
  },
  {
   "cell_type": "markdown",
   "metadata": {},
   "source": [
    "### 연습문제"
   ]
  },
  {
   "cell_type": "code",
   "execution_count": 196,
   "metadata": {},
   "outputs": [
    {
     "name": "stdout",
     "output_type": "stream",
     "text": [
      "True\n",
      "False\n"
     ]
    }
   ],
   "source": [
    "# 문제1: 다음 함수 is_palindrome를 완성하시오.이 함수는 하나의 문자열을 인자로 받아, \n",
    "# 해당 문자열이 팰린드롬(앞으로 읽으나 뒤로 읽으나 같은 단어나 구)이면 True를, \n",
    "# 아니면 False를 반환해야 합니다.\n",
    "\n",
    "def is_palindrome(s):\n",
    "    if len(s)<=1:\n",
    "        return True\n",
    "    elif s[0]==s[-1]:\n",
    "        return is_palindrome(s[1:-1])\n",
    "    return False\n",
    "\n",
    "\n",
    "print(is_palindrome(\"level\"))  # 결과: True\n",
    "print(is_palindrome(\"python\"))  # 결과: False"
   ]
  },
  {
   "cell_type": "markdown",
   "metadata": {},
   "source": [
    "## 더 나아가기"
   ]
  },
  {
   "cell_type": "code",
   "execution_count": 23,
   "metadata": {},
   "outputs": [
    {
     "data": {
      "text/plain": [
       "(10, 20, 30)"
      ]
     },
     "execution_count": 23,
     "metadata": {},
     "output_type": "execute_result"
    }
   ],
   "source": [
    "# 여러개의 값 반환하기\n",
    "\n",
    "def f():\n",
    "    a = 10\n",
    "    b = 20\n",
    "    c = 30\n",
    "    return a, b, c\n",
    "\n",
    "\n",
    "f()"
   ]
  },
  {
   "cell_type": "code",
   "execution_count": null,
   "metadata": {},
   "outputs": [],
   "source": [
    "print()  # built-in function\n",
    "\n",
    "\n",
    "def f():  # function\n",
    "    pass\n",
    "\n",
    "\n",
    "# 여기서 print와 f는 변수입니다.\n",
    "# 변수는 가리키는 것입니다.\n",
    "leehojun = print\n",
    "leehojun('hello world')"
   ]
  },
  {
   "cell_type": "code",
   "execution_count": null,
   "metadata": {},
   "outputs": [],
   "source": [
    "# 변수처럼 아래와 같이 관리할 수 있습니다.\n",
    "x = 10\n",
    "y = 20\n",
    "l = [x, y]\n",
    "\n",
    "\n",
    "def add(x, y):\n",
    "    return x+y\n",
    "\n",
    "\n",
    "def sub(x, y):\n",
    "    return x-y\n",
    "\n",
    "\n",
    "li = [add, sub]\n",
    "li[0](10, 20)  # add(10,20)과 같다."
   ]
  },
  {
   "cell_type": "code",
   "execution_count": null,
   "metadata": {},
   "outputs": [],
   "source": [
    "# 매우 중요!!\n",
    "# lambda 파라미터:리턴값\n",
    "# 함수를 한줄로 선언하고 싶을 때, 재사용 하고 싶지 않은 함수 e.g. map함수\n",
    "add2 = lambda x, y:x+y\n",
    "sub2 = lambda x, y:x-y\n",
    "\n",
    "add2(10,20)"
   ]
  },
  {
   "cell_type": "code",
   "execution_count": 27,
   "metadata": {},
   "outputs": [
    {
     "data": {
      "text/plain": [
       "[1, 2, 3, 4]"
      ]
     },
     "execution_count": 27,
     "metadata": {},
     "output_type": "execute_result"
    }
   ],
   "source": [
    "list(map(int, '1234'))"
   ]
  },
  {
   "cell_type": "code",
   "execution_count": null,
   "metadata": {},
   "outputs": [],
   "source": [
    "def f(x):\n",
    "    return x * 2\n",
    "\n",
    "\n",
    "list(map(f, '1234'))\n",
    "\n",
    "list(map(lambda x: x*2, '1234'))"
   ]
  },
  {
   "cell_type": "markdown",
   "metadata": {},
   "source": [
    "## built-in function 총집합"
   ]
  },
  {
   "cell_type": "markdown",
   "metadata": {},
   "source": [
    "-  \n",
    "  - all\n",
    "  - any\n",
    "-  \n",
    "  - chr\n",
    "  - ord\n",
    "-  \n",
    "  - map\n",
    "  - filter\n",
    "  - zip\n",
    "-  \n",
    "  - format\n",
    "-  \n",
    "  - len\n",
    "-  \n",
    "  - max\n",
    "  - min\n",
    "  - sum\n",
    "-  \n",
    "  - repr\n",
    "  - print\n",
    "-  \n",
    "  - enumerate\n",
    "  - range\n",
    "-  \n",
    "  - reversed\n",
    "  - sorted"
   ]
  },
  {
   "cell_type": "code",
   "execution_count": 29,
   "metadata": {},
   "outputs": [
    {
     "data": {
      "text/plain": [
       "False"
      ]
     },
     "execution_count": 29,
     "metadata": {},
     "output_type": "execute_result"
    }
   ],
   "source": [
    "# 모두 다 True여야 True (AND)\n",
    "all([True,False,True])\n",
    "\n",
    "# 하나라도 True면 True (OR)\n",
    "any([True,False,True])"
   ]
  },
  {
   "cell_type": "code",
   "execution_count": 43,
   "metadata": {},
   "outputs": [
    {
     "data": {
      "text/plain": [
       "'하'"
      ]
     },
     "execution_count": 43,
     "metadata": {},
     "output_type": "execute_result"
    }
   ],
   "source": [
    "# 10진수로 유니코드표에서 찾아 대응되는 값을 줍니다.\n",
    "chr(48)\n",
    "chr(65)\n",
    "chr(97)\n",
    "chr(54616)\n",
    "\n",
    "# 문자를 입력하면 유니코드에서 숫자로 출력합니다.\n",
    "ord('1')\n",
    "ord('A')\n",
    "ord('a')\n",
    "ord('하')\n",
    "\n",
    "# 유니코드 표에서 값 확인\n",
    "int('D558', 16)"
   ]
  },
  {
   "cell_type": "code",
   "execution_count": 44,
   "metadata": {},
   "outputs": [
    {
     "data": {
      "text/plain": [
       "[1, 4, 9, 16]"
      ]
     },
     "execution_count": 44,
     "metadata": {},
     "output_type": "execute_result"
    }
   ],
   "source": [
    "map(lambda x: x**2, [1, 2, 3, 4])  # 계산되기 전 object\n",
    "list(map(lambda x: x**2, [1, 2, 3, 4]))  # 계산된 후 object"
   ]
  },
  {
   "cell_type": "code",
   "execution_count": 45,
   "metadata": {},
   "outputs": [
    {
     "data": {
      "text/plain": [
       "[19, 18]"
      ]
     },
     "execution_count": 45,
     "metadata": {},
     "output_type": "execute_result"
    }
   ],
   "source": [
    "list(filter(lambda x: x > 10, [1, 2, 3, 4, 23]))\n",
    "\n",
    "\n",
    "def filter_function(x):\n",
    "    return x > 10\n",
    "\n",
    "list(filter(filter_function,[1,2,3,19,18]))"
   ]
  },
  {
   "cell_type": "code",
   "execution_count": 49,
   "metadata": {},
   "outputs": [
    {
     "data": {
      "text/plain": [
       "[('a', '1', 10), ('b', '2', 20), ('c', '3', 30)]"
      ]
     },
     "execution_count": 49,
     "metadata": {},
     "output_type": "execute_result"
    }
   ],
   "source": [
    "list(zip('abc', '123'))\n",
    "list(zip('abc', '123', [10, 20, 30]))\n",
    "list(zip('abc','12345667',[10,20,30,40]))"
   ]
  },
  {
   "cell_type": "code",
   "execution_count": 50,
   "metadata": {},
   "outputs": [
    {
     "data": {
      "text/plain": [
       "[(1, 3), (3, 4), (4, 8), (8, 13), (13, 17), (17, 20)]"
      ]
     },
     "execution_count": 50,
     "metadata": {},
     "output_type": "execute_result"
    }
   ],
   "source": [
    "# https: // codingdojang.com/scode/408?answer_mode = hide\n",
    "\n",
    "s = [1, 3, 4, 8, 13, 17, 20]\n",
    "list(zip(s,s[1:]))\n",
    "\n",
    "# sorted(zip(s, s[1:]), key=lambda x: x[1]-x[0])\n",
    "# sorted(zip(s, s[1:]), key=lambda x:x[1]-x[0])[0] # 정답 코드"
   ]
  },
  {
   "cell_type": "code",
   "execution_count": 51,
   "metadata": {},
   "outputs": [
    {
     "data": {
      "text/plain": [
       "'1,000,000,000,000'"
      ]
     },
     "execution_count": 51,
     "metadata": {},
     "output_type": "execute_result"
    }
   ],
   "source": [
    "format(1000000000000,',')"
   ]
  },
  {
   "cell_type": "code",
   "execution_count": 52,
   "metadata": {},
   "outputs": [
    {
     "data": {
      "text/plain": [
       "11"
      ]
     },
     "execution_count": 52,
     "metadata": {},
     "output_type": "execute_result"
    }
   ],
   "source": [
    "len('hello world')"
   ]
  },
  {
   "cell_type": "code",
   "execution_count": 57,
   "metadata": {},
   "outputs": [
    {
     "data": {
      "text/plain": [
       "'world!'"
      ]
     },
     "execution_count": 57,
     "metadata": {},
     "output_type": "execute_result"
    }
   ],
   "source": [
    "max([1,2,3,4,5])\n",
    "\n",
    "max([(1,2),(3,101),(1,20),(3,100)])\n",
    "max(['hello','world','world!'])"
   ]
  },
  {
   "cell_type": "code",
   "execution_count": 54,
   "metadata": {},
   "outputs": [
    {
     "data": {
      "text/plain": [
       "1"
      ]
     },
     "execution_count": 54,
     "metadata": {},
     "output_type": "execute_result"
    }
   ],
   "source": [
    "min([1,2,3,4,5])"
   ]
  },
  {
   "cell_type": "code",
   "execution_count": 60,
   "metadata": {},
   "outputs": [
    {
     "data": {
      "text/plain": [
       "[1, 2, 3, 101, 1, 20, 3, 100]"
      ]
     },
     "execution_count": 60,
     "metadata": {},
     "output_type": "execute_result"
    }
   ],
   "source": [
    "sum([1, 2, 3, 4, 5])\n",
    "sum([1, 2, 3, 4, 5], 10)\n",
    "\n",
    "sum([[1, 2],[ 3, 101], [1, 20], [3, 100]], [])\n",
    "# [] + [1, 2]\n",
    "# [1, 2] + [3, 101]\n",
    "# [1, 2, 3, 101] + [1, 20]\n",
    "# [1, 2, 3, 101, 1, 20] + [3, 100]"
   ]
  },
  {
   "cell_type": "code",
   "execution_count": 61,
   "metadata": {},
   "outputs": [
    {
     "name": "stdout",
     "output_type": "stream",
     "text": [
      "world\n"
     ]
    },
    {
     "data": {
      "text/plain": [
       "hello"
      ]
     },
     "execution_count": 61,
     "metadata": {},
     "output_type": "execute_result"
    }
   ],
   "source": [
    "class Charactor:\n",
    "    def __repr__(self):\n",
    "        return 'hello'\n",
    "\n",
    "    def __str__(self):\n",
    "        return 'world'\n",
    "\n",
    "\n",
    "hero = Charactor()\n",
    "print(hero)\n",
    "hero\n"
   ]
  },
  {
   "cell_type": "code",
   "execution_count": 62,
   "metadata": {},
   "outputs": [
    {
     "data": {
      "text/plain": [
       "'hello'"
      ]
     },
     "execution_count": 62,
     "metadata": {},
     "output_type": "execute_result"
    }
   ],
   "source": [
    "repr(hero)"
   ]
  },
  {
   "cell_type": "code",
   "execution_count": 63,
   "metadata": {},
   "outputs": [
    {
     "name": "stdout",
     "output_type": "stream",
     "text": [
      "[(0, '뉴진스'), (1, '르세라핌'), (2, '에스파'), (3, '아이브')]\n",
      "[(1, '뉴진스'), (2, '르세라핌'), (3, '에스파'), (4, '아이브')]\n",
      "[(100, '뉴진스'), (101, '르세라핌'), (102, '에스파'), (103, '아이브')]\n",
      "1 뉴진스\n",
      "2 르세라핌\n",
      "3 에스파\n",
      "4 아이브\n"
     ]
    }
   ],
   "source": [
    "가수 = ['뉴진스', '르세라핌', '에스파', '아이브']\n",
    "print(list(enumerate(가수)))\n",
    "print(list(enumerate(가수, 1)))\n",
    "print(list(enumerate(가수, 100)))\n",
    "\n",
    "for i, j in enumerate(가수, 1):\n",
    "    print(i, j)"
   ]
  },
  {
   "cell_type": "code",
   "execution_count": 65,
   "metadata": {},
   "outputs": [
    {
     "name": "stdout",
     "output_type": "stream",
     "text": [
      "range(0, 10)\n",
      "[0, 1, 2, 3, 4, 5, 6, 7, 8, 9]\n",
      "<class 'range'>\n",
      "[0, 2, 4, 6, 8]\n",
      "[10, 8, 6, 4, 2]\n"
     ]
    }
   ],
   "source": [
    "# range(start,stop,step)  # 슬라이싱과 비슷한 형태를 지나고 잇다.\n",
    "print(range(10))  # 값을 가지고 있지 않다.\n",
    "print(list(range(10)))\n",
    "x = range(10)\n",
    "print(type(x))\n",
    "print(list(range(0, 10, 2)))\n",
    "print(list(range(10, 0, -2)))"
   ]
  },
  {
   "cell_type": "code",
   "execution_count": null,
   "metadata": {},
   "outputs": [],
   "source": [
    "# 2.x에서 range와 그 외 값들에 대한 히스토리\n",
    "# print(range(10)) # [0, 1, 2, 3, 4, 5, 6, 7, 8, 9]\n",
    "# 메모리를 모두 차지해야 한다.\n",
    "\n",
    "# print(range(100000000000000000000000000000000000000))\n",
    "# 메모리의 효율이 극도로 안좋아짐\n",
    "\n",
    "# 그런데 3.x에서 range(10000000000000000000000000000)는 메모리 효율이 좋아졌다.\n",
    "# 시작과, 끝, 스텝값만 가지고 있기 때문에 메모리 낭비가 전혀 없게 되었다.\n",
    "\n",
    "# 2.x에서도 3.x와 같은 range타입이 있다. xrange이다.\n",
    "# xrange문법이 3.x되면서 range가 되었다.\n",
    "# 2.x에서 사용가능 문법\n",
    "# print(xrange(10)) #출력:xrange(10)\n",
    "# for i in xrange(10): #출력:순회가능\n",
    "#   print(i)"
   ]
  },
  {
   "cell_type": "code",
   "execution_count": 66,
   "metadata": {},
   "outputs": [
    {
     "data": {
      "text/plain": [
       "[5, 4, 13, 2, 1]"
      ]
     },
     "execution_count": 66,
     "metadata": {},
     "output_type": "execute_result"
    }
   ],
   "source": [
    "list(reversed('hello world'))\n",
    "list(reversed([1,2,13,4,5])) # 역 정렬이 아니다. 역순이다."
   ]
  },
  {
   "cell_type": "code",
   "execution_count": 67,
   "metadata": {},
   "outputs": [
    {
     "data": {
      "text/plain": [
       "[13, 5, 4, 2, 1]"
      ]
     },
     "execution_count": 67,
     "metadata": {},
     "output_type": "execute_result"
    }
   ],
   "source": [
    "list(reversed(sorted([1,2,13,4,5])))"
   ]
  },
  {
   "cell_type": "code",
   "execution_count": 69,
   "metadata": {},
   "outputs": [
    {
     "data": {
      "text/plain": [
       "[200, 100, 20, 10, 4, 3, 2, 1]"
      ]
     },
     "execution_count": 69,
     "metadata": {},
     "output_type": "execute_result"
    }
   ],
   "source": [
    "# 매우 중요!!\n",
    "# 알고리즘 문제에 단골 built-in function\n",
    "sorted([1,2,100,200,3,4,10,20])\n",
    "sorted([1,2,100,200,3,4,10,20],reverse=True)"
   ]
  },
  {
   "cell_type": "code",
   "execution_count": 73,
   "metadata": {},
   "outputs": [
    {
     "data": {
      "text/plain": [
       "['l', 'a', 'hllo', 'help', 'hello']"
      ]
     },
     "execution_count": 73,
     "metadata": {},
     "output_type": "execute_result"
    }
   ],
   "source": [
    "sorted(['hello','l','hllo','help','a'])\n",
    "sorted(['hello','l','hllo','help','a'],key=len)"
   ]
  },
  {
   "cell_type": "code",
   "execution_count": 82,
   "metadata": {},
   "outputs": [
    {
     "data": {
      "text/plain": [
       "[[5, 'horld', 39],\n",
       " [2, 'hello world', 33],\n",
       " [3, 'heworld', 34],\n",
       " [4, 'held', 31],\n",
       " [6, 'hellld', 30]]"
      ]
     },
     "execution_count": 82,
     "metadata": {},
     "output_type": "execute_result"
    }
   ],
   "source": [
    "data = [\n",
    "    [2, 'hello world', 33],\n",
    "    [3, 'heworld', 34],\n",
    "    [4, 'held', 31],\n",
    "    [5, 'horld', 39],\n",
    "    [6, 'hellld', 30]\n",
    "]\n",
    "\n",
    "# 1번 : 첫 번째 요소의 값을 정렬하세요\n",
    "sorted(data)\n",
    "\n",
    "# 2번 : 두 번째 요소의 문자열 길이를 정렬하세요\n",
    "sorted(data, key=lambda x: len(x[1]))\n",
    "# sorted([11,6,4,5,6])를 정렬하는 것과 같다.\n",
    "# 다만, 숫자 값으로 반환하는 것이 아니라 오브젝트로 반환한다.\n",
    "\n",
    "# 3번 : 세번째 요소 기준으로 정렬하세요.\n",
    "sorted(data,key=lambda x:x[2])\n",
    "\n",
    "# 4번 : 첫번째 요소와 세번째 요소의 차가 큰 순으로 정렬하세요.\n",
    "sorted(data,key=lambda x:x[0]-x[2])"
   ]
  },
  {
   "cell_type": "markdown",
   "metadata": {},
   "source": [
    "# 리스트"
   ]
  },
  {
   "cell_type": "code",
   "execution_count": 85,
   "metadata": {},
   "outputs": [
    {
     "data": {
      "text/plain": [
       "'hello'"
      ]
     },
     "execution_count": 85,
     "metadata": {},
     "output_type": "execute_result"
    }
   ],
   "source": [
    "# 시퀀스 자료형\n",
    "a = 'hello world'\n",
    "\n",
    "a[0]\n",
    "a[:5]"
   ]
  },
  {
   "cell_type": "code",
   "execution_count": 92,
   "metadata": {},
   "outputs": [
    {
     "data": {
      "text/plain": [
       "range(0, 5)"
      ]
     },
     "execution_count": 92,
     "metadata": {},
     "output_type": "execute_result"
    }
   ],
   "source": [
    "range(10)[3]\n",
    "\n",
    "range(100)[::10]\n",
    "\n",
    "range(10)[:5]"
   ]
  },
  {
   "cell_type": "code",
   "execution_count": 95,
   "metadata": {},
   "outputs": [
    {
     "ename": "TypeError",
     "evalue": "'enumerate' object is not subscriptable",
     "output_type": "error",
     "traceback": [
      "\u001b[1;31m---------------------------------------------------------------------------\u001b[0m",
      "\u001b[1;31mTypeError\u001b[0m                                 Traceback (most recent call last)",
      "\u001b[1;32mc:\\Users\\user\\BackendOrmi3\\Python\\기본.ipynb Cell 56\u001b[0m line \u001b[0;36m1\n\u001b[1;32m----> <a href='vscode-notebook-cell:/c%3A/Users/user/BackendOrmi3/Python/%EA%B8%B0%EB%B3%B8.ipynb#Y112sZmlsZQ%3D%3D?line=0'>1</a>\u001b[0m \u001b[39menumerate\u001b[39;49m([\u001b[39m0\u001b[39;49m, \u001b[39m1\u001b[39;49m, \u001b[39m2\u001b[39;49m, \u001b[39m3\u001b[39;49m, \u001b[39m4\u001b[39;49m, \u001b[39m5\u001b[39;49m, \u001b[39m6\u001b[39;49m, \u001b[39m7\u001b[39;49m, \u001b[39m8\u001b[39;49m, \u001b[39m9\u001b[39;49m], \u001b[39m100\u001b[39;49m)[\u001b[39m2\u001b[39;49m]\n\u001b[0;32m      <a href='vscode-notebook-cell:/c%3A/Users/user/BackendOrmi3/Python/%EA%B8%B0%EB%B3%B8.ipynb#Y112sZmlsZQ%3D%3D?line=1'>2</a>\u001b[0m \u001b[39menumerate\u001b[39m([\u001b[39m0\u001b[39m, \u001b[39m1\u001b[39m, \u001b[39m2\u001b[39m, \u001b[39m3\u001b[39m, \u001b[39m4\u001b[39m, \u001b[39m5\u001b[39m, \u001b[39m6\u001b[39m, \u001b[39m7\u001b[39m, \u001b[39m8\u001b[39m, \u001b[39m9\u001b[39m], \u001b[39m100\u001b[39m)[\u001b[39m2\u001b[39m:]\n",
      "\u001b[1;31mTypeError\u001b[0m: 'enumerate' object is not subscriptable"
     ]
    }
   ],
   "source": [
    "# enumerate([0, 1, 2, 3, 4, 5, 6, 7, 8, 9], 100)[2]\n",
    "# enumerate([0, 1, 2, 3, 4, 5, 6, 7, 8, 9], 100)[2:]"
   ]
  },
  {
   "cell_type": "code",
   "execution_count": 99,
   "metadata": {},
   "outputs": [
    {
     "name": "stdout",
     "output_type": "stream",
     "text": [
      "[1, 2, 3, 4, 5, 1, 2, 3, 4, 5, 1, 2, 3, 4, 5]\n",
      "2631374760304 2631374760304\n"
     ]
    }
   ],
   "source": [
    "# 덧셈과 곱셈\n",
    "a = [1, 2, 3, 4, 5]\n",
    "b = [6, 7, 8]\n",
    "\n",
    "print(a + b) # 출력: [1, 2, 3, 4, 5, 6, 7, 8]\n",
    "\n",
    "a=[1,2,3,4,5]\n",
    "\n",
    "print(a*3)  # [1,2,3,4,5,1,2,3,4,5,1,2,3,4,5]\n",
    "\n",
    "a = a*3\n",
    "print(id(a[2]), id(a[7]))\n"
   ]
  },
  {
   "cell_type": "code",
   "execution_count": 101,
   "metadata": {},
   "outputs": [
    {
     "name": "stdout",
     "output_type": "stream",
     "text": [
      "[[1, 2, 3, 1, 2, 3], [1, 2, 3, 1, 2, 3]]\n",
      "2631476894976 2631476894976\n",
      "[[1000, 2, 3, 1, 2, 3], [1000, 2, 3, 1, 2, 3]]\n"
     ]
    }
   ],
   "source": [
    "a=[1,2,3]\n",
    "a=[a*2]*2 #리스트 컴프리헨션 사용하는 것을 권장\n",
    "\n",
    "print(a)\n",
    "print(id(a[0]), id(a[1]))\n",
    "a[0][0] =1000\n",
    "print(a)"
   ]
  },
  {
   "cell_type": "code",
   "execution_count": 102,
   "metadata": {},
   "outputs": [
    {
     "name": "stdout",
     "output_type": "stream",
     "text": [
      "1\n",
      "4\n",
      "5\n",
      "3\n"
     ]
    }
   ],
   "source": [
    "l = [1, 2, 3, 4, 5]\n",
    "print(l[0])  # 출력: 1\n",
    "print(l[3])  # 출력: 4\n",
    "print(l[-1])  # 출력: 5\n",
    "print(l[-3])  # 출력: 3"
   ]
  },
  {
   "cell_type": "code",
   "execution_count": 103,
   "metadata": {},
   "outputs": [
    {
     "name": "stdout",
     "output_type": "stream",
     "text": [
      "<class 'list'>\n",
      "['__add__', '__class__', '__class_getitem__', '__contains__', '__delattr__', '__delitem__', '__dir__', '__doc__', '__eq__', '__format__', '__ge__', '__getattribute__', '__getitem__', '__gt__', '__hash__', '__iadd__', '__imul__', '__init__', '__init_subclass__', '__iter__', '__le__', '__len__', '__lt__', '__mul__', '__ne__', '__new__', '__reduce__', '__reduce_ex__', '__repr__', '__reversed__', '__rmul__', '__setattr__', '__setitem__', '__sizeof__', '__str__', '__subclasshook__', 'append', 'clear', 'copy', 'count', 'extend', 'index', 'insert', 'pop', 'remove', 'reverse', 'sort']\n"
     ]
    }
   ],
   "source": [
    "l = [1,2,3]\n",
    "print(type(l))\n",
    "print(dir(l))"
   ]
  },
  {
   "cell_type": "code",
   "execution_count": null,
   "metadata": {},
   "outputs": [],
   "source": [
    "# [1,2,3] + [1,2,3] = [1,2,3,1,2,3]\n",
    "# [2,4,6] 요소마다 더해지는 것이 아니다. 이런 코드는 __add__에 구현되어 있다.\n",
    "# __add__에 요소마다 더하는 것으로 구현이 되어 있었다면 [2, 4, 6]을 출력했을 것이다."
   ]
  },
  {
   "cell_type": "code",
   "execution_count": null,
   "metadata": {},
   "outputs": [],
   "source": [
    "import numpy as np\n",
    "\n",
    "l = [1, 2, 3]\n",
    "l = np.array(l)\n",
    "l * 3\n",
    "l + l\n",
    "# 너무 당연하게 요소를 붙이는 것이다라고 생각 말기"
   ]
  },
  {
   "cell_type": "markdown",
   "metadata": {},
   "source": [
    "### 연습문제"
   ]
  },
  {
   "cell_type": "code",
   "execution_count": 208,
   "metadata": {},
   "outputs": [
    {
     "name": "stdout",
     "output_type": "stream",
     "text": [
      "licat\n"
     ]
    }
   ],
   "source": [
    "# 문제: 이 데이터에서 licat을 출력해주세요.\n",
    "# 단, 직접 접근은 안됩니다. data[1]로 접근하는 것은 안됩니다.\n",
    "data = [['weniv CTO binky', 2], ['weniv CEO licat', 1], ['weniv COO mura', 2]]\n",
    "s = sorted(data,key=lambda x:x[1])[0][0]\n",
    "s=s[s.find('licat'):]\n",
    "print(s)"
   ]
  },
  {
   "cell_type": "code",
   "execution_count": 194,
   "metadata": {},
   "outputs": [
    {
     "name": "stdout",
     "output_type": "stream",
     "text": [
      "[3, 5, 7, 9]\n"
     ]
    }
   ],
   "source": [
    "# 문제2: 리스트 numbers가 주어졌을 때, 이 리스트 내의 모든 짝수를 제거하는 코드를 작성하시오.\n",
    "numbers = [2, 3, 4, 5, 6, 7, 8, 9, 10]\n",
    "\n",
    "numbers = list(filter(lambda x: x % 2 == 1, numbers))\n",
    "\n",
    "print(numbers)  # 결과: [3, 5, 7, 9]"
   ]
  }
 ],
 "metadata": {
  "kernelspec": {
   "display_name": "Python 3",
   "language": "python",
   "name": "python3"
  },
  "language_info": {
   "codemirror_mode": {
    "name": "ipython",
    "version": 3
   },
   "file_extension": ".py",
   "mimetype": "text/x-python",
   "name": "python",
   "nbconvert_exporter": "python",
   "pygments_lexer": "ipython3",
   "version": "3.9.2"
  },
  "orig_nbformat": 4
 },
 "nbformat": 4,
 "nbformat_minor": 2
}
