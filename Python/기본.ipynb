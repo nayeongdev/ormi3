{
 "cells": [
  {
   "cell_type": "markdown",
   "metadata": {},
   "source": [
    "# 함수"
   ]
  },
  {
   "cell_type": "markdown",
   "metadata": {},
   "source": [
    "함수를 사용하면 복잡한 코드를 단순화시키고, 반복되는 코드를 줄일 수 있습니다. 이로 인해 전체적인 코드가 더 깔끔해지고 관리하기 쉬워집니다. 또한, 이러한 접근법은 코딩 오류를 줄이고 프로그램의 효율성을 향상시킬 수 있습니다."
   ]
  },
  {
   "cell_type": "markdown",
   "metadata": {},
   "source": [
    "- 함수를 만들때는 “def” 키워드를 사용\n",
    "- 함수의 이름을 적고, 괄호를 적고, 콜론(:) 을 붙인다\n",
    "- 함수 종료 구분은 들여쓰기 기준이며 return으로도 구분이 된다."
   ]
  },
  {
   "cell_type": "code",
   "execution_count": null,
   "metadata": {},
   "outputs": [],
   "source": [
    "def 부지매입():\n",
    "    pass\n",
    "\n",
    "def 설계도면작성():\n",
    "    pass\n",
    "\n",
    "def 인력모집():\n",
    "    pass\n",
    "\n",
    "def 벽돌쌓기():\n",
    "    pass\n",
    "\n",
    "def 지붕올리기():\n",
    "    pass\n",
    "\n",
    "부지매입()\n",
    "설계도면작성()\n",
    "인력모집()\n",
    "벽돌쌓기()\n",
    "지붕올리기()"
   ]
  },
  {
   "cell_type": "code",
   "execution_count": null,
   "metadata": {},
   "outputs": [
    {
     "name": "stdout",
     "output_type": "stream",
     "text": [
      "1\n",
      "2\n",
      "3\n"
     ]
    }
   ],
   "source": [
    "#들여쓰기\n",
    "def printnum(): #함수의 정의\n",
    "    print('1')\n",
    "    print('2')\n",
    "    print('3')\n",
    "printnum() #함수의 호출"
   ]
  },
  {
   "cell_type": "code",
   "execution_count": null,
   "metadata": {},
   "outputs": [
    {
     "name": "stdout",
     "output_type": "stream",
     "text": [
      "1\n",
      "2\n",
      "3\n",
      "None\n"
     ]
    }
   ],
   "source": [
    "# 들여쓰기\n",
    "# print와 return은 헷갈리시면 X\n",
    "def printnum(): # 함수의 정의\n",
    "    print('1')\n",
    "    print('2')\n",
    "    print('3')\n",
    "    return None\n",
    "\n",
    "a = printnum() # 함수의 호출\n",
    "print(a)"
   ]
  },
  {
   "cell_type": "code",
   "execution_count": null,
   "metadata": {},
   "outputs": [
    {
     "name": "stdout",
     "output_type": "stream",
     "text": [
      "3\n",
      "1\n",
      "2\n"
     ]
    }
   ],
   "source": [
    "def printnum():\n",
    "    print('1')\n",
    "    print('2')\n",
    "\n",
    "print('3')\n",
    "printnum()"
   ]
  },
  {
   "cell_type": "code",
   "execution_count": null,
   "metadata": {},
   "outputs": [
    {
     "name": "stdout",
     "output_type": "stream",
     "text": [
      "<class 'function'>\n"
     ]
    },
    {
     "data": {
      "text/plain": [
       "function"
      ]
     },
     "metadata": {},
     "output_type": "display_data"
    }
   ],
   "source": [
    "# 출력값이 다르다는 것은 꼭 기억해주세요!\n",
    "print(type(printnum))  # __str__\n",
    "type(printnum)  # __repr__\n",
    "\n",
    "# dir(printnum)"
   ]
  },
  {
   "cell_type": "code",
   "execution_count": null,
   "metadata": {},
   "outputs": [
    {
     "name": "stdout",
     "output_type": "stream",
     "text": [
      "function(5, 7)= 12\n"
     ]
    }
   ],
   "source": [
    "# 파선아실 (파라미터 선언, 아규먼트 실제값)\n",
    "def function(x, y):\n",
    "    z = x + y\n",
    "    return z\n",
    "\n",
    "\n",
    "print('function(5, 7)=', function(5, 7))"
   ]
  },
  {
   "cell_type": "code",
   "execution_count": null,
   "metadata": {},
   "outputs": [],
   "source": [
    "# 함수 안에 함수\n",
    "def f():\n",
    "    def ff():\n",
    "        return 100\n",
    "    x=ff()\n",
    "    return x\n",
    "\n",
    "f()\n",
    "# ff() # 함수 내부에서 선언한 변수와 함수는 밖에서 호출할 수 없다."
   ]
  },
  {
   "cell_type": "code",
   "execution_count": null,
   "metadata": {},
   "outputs": [
    {
     "data": {
      "text/plain": [
       "30"
      ]
     },
     "metadata": {},
     "output_type": "display_data"
    }
   ],
   "source": [
    "# 함수를 아규먼트로 전달\n",
    "def f(a, b):\n",
    "    return a+b\n",
    "\n",
    "\n",
    "def ff(a):\n",
    "    return a(10, 20)\n",
    "\n",
    "\n",
    "ff(f)"
   ]
  },
  {
   "cell_type": "code",
   "execution_count": 2,
   "metadata": {},
   "outputs": [
    {
     "name": "stdout",
     "output_type": "stream",
     "text": [
      "-5\n"
     ]
    }
   ],
   "source": [
    "def add(x=0, y=0):\n",
    "    return x+y\n",
    "\n",
    "\n",
    "def sub(x=0, y=0):\n",
    "    return x-y\n",
    "\n",
    "\n",
    "def mul(x=0, y=0):\n",
    "    return x*y\n",
    "\n",
    "\n",
    "a = 2\n",
    "b = 3\n",
    "print(mul(add(a, b),sub(a,b)))\n"
   ]
  },
  {
   "cell_type": "markdown",
   "metadata": {},
   "source": [
    "## 지역변수, 전역변수"
   ]
  },
  {
   "cell_type": "code",
   "execution_count": 3,
   "metadata": {},
   "outputs": [
    {
     "name": "stdout",
     "output_type": "stream",
     "text": [
      "100\n",
      "1000\n",
      "10000\n",
      "10\n"
     ]
    }
   ],
   "source": [
    "# global을 하면 함수가 얼만큼 중첩되어 있든 \n",
    "# 최상단에 있는 a를 바라본다.\n",
    "a = 10\n",
    "\n",
    "\n",
    "def f():\n",
    "    a = 100\n",
    "    print(a)\n",
    "\n",
    "    def ff():\n",
    "        a = 1000\n",
    "        print(a)\n",
    "\n",
    "        def fff():\n",
    "            global a\n",
    "            print(a)\n",
    "        fff()\n",
    "    ff()\n",
    "\n",
    "\n",
    "f()\n",
    "print(a)"
   ]
  },
  {
   "cell_type": "code",
   "execution_count": 4,
   "metadata": {},
   "outputs": [
    {
     "name": "stdout",
     "output_type": "stream",
     "text": [
      "100\n",
      "1000\n",
      "1000\n",
      "10\n"
     ]
    }
   ],
   "source": [
    "# global을 사용하지 않고 중첩된 함수 내에서 a를 출력하게 되면 \n",
    "# 바로 위 함수의 a를 출력합니다.\n",
    "a = 10\n",
    "\n",
    "\n",
    "def f():\n",
    "    a = 100\n",
    "    print(a)\n",
    "\n",
    "    def ff():\n",
    "        a = 1000\n",
    "        print(a)\n",
    "\n",
    "        def fff():\n",
    "            print(a)\n",
    "        fff()\n",
    "    ff()\n",
    "\n",
    "\n",
    "f()\n",
    "print(a)"
   ]
  },
  {
   "cell_type": "markdown",
   "metadata": {},
   "source": [
    "## 재귀 함수"
   ]
  },
  {
   "cell_type": "markdown",
   "metadata": {},
   "source": [
    "- 재귀함수는 사용하지 마세요!(주니어때)\n",
    "- 위험하고 일부 효율이 좋지 않습니다.\n",
    "- 반복문 <-> 재귀는 서로 상호 호환이 가능합니다.\n",
    "- 반복문 사용하세요!\n",
    "\n",
    "- 상식 수준에서 다음 재귀는 외우셨으면 좋겠습니다.\n",
    "  1. 팩토리얼\n",
    "  2. 문자열 뒤집기"
   ]
  },
  {
   "cell_type": "code",
   "execution_count": 18,
   "metadata": {},
   "outputs": [
    {
     "name": "stdout",
     "output_type": "stream",
     "text": [
      "1\n",
      "2\n",
      "3\n",
      "4\n",
      "5\n"
     ]
    }
   ],
   "source": [
    "# sys.setrecursionlimit -> 제한을 늘릴 수 있음\n",
    "\n",
    "\"\"\" \n",
    "실행하지 마세요!\n",
    "def 숫자출력():\n",
    "    print(1)\n",
    "    return 숫자출력()\n",
    "\n",
    "\n",
    "숫자출력()\n",
    "\"\"\"\n",
    "\n",
    "\n",
    "def 숫자출력(count):\n",
    "    if count > 5:\n",
    "        return\n",
    "    print(count)\n",
    "    return 숫자출력(count+1)  # 값을 1부터 반복횟수 까지의 값을 출력\n",
    "\n",
    "\n",
    "숫자출력(1)"
   ]
  },
  {
   "cell_type": "code",
   "execution_count": 19,
   "metadata": {},
   "outputs": [
    {
     "data": {
      "text/plain": [
       "120"
      ]
     },
     "execution_count": 19,
     "metadata": {},
     "output_type": "execute_result"
    }
   ],
   "source": [
    "# 팩토리얼\n",
    "def factorial(n):\n",
    "    if n <= 1:\n",
    "        return 1\n",
    "    return n * factorial(n-1)\n",
    "\n",
    "\n",
    "factorial(5)\n",
    "\n",
    "# 함수 호출        return\n",
    "# factorial(n)    n * factorial(n-1)\n",
    "# factorial(5)    5 * factorial(4)      == 5 * 24\n",
    "# factorial(4)    4 * factorial(3)      == 4 * 6\n",
    "# factorial(3)    3 * factorial(2)      == 3 * 2\n",
    "# factorial(2)    2 * factorial(1)      == 2 * 1\n",
    "# factorial(1)    1\n"
   ]
  },
  {
   "cell_type": "code",
   "execution_count": 16,
   "metadata": {},
   "outputs": [
    {
     "data": {
      "text/plain": [
       "120"
      ]
     },
     "execution_count": 16,
     "metadata": {},
     "output_type": "execute_result"
    }
   ],
   "source": [
    "n = 5\n",
    "result = 1\n",
    "for i in range(1, n+1):\n",
    "    result *= i\n",
    "\n",
    "result"
   ]
  },
  {
   "cell_type": "code",
   "execution_count": 15,
   "metadata": {},
   "outputs": [
    {
     "data": {
      "text/plain": [
       "'olleh'"
      ]
     },
     "execution_count": 15,
     "metadata": {},
     "output_type": "execute_result"
    }
   ],
   "source": [
    "def reversed_str(s):\n",
    "    if len(s) <= 1:\n",
    "        return s\n",
    "    return reversed_str(s[1:]) + s[0]\n",
    "\n",
    "\n",
    "reversed_str('hello')\n",
    "\n",
    "\n",
    "# 함수 호출               return\n",
    "# reversed_str(n)        reversed_str(s[1:]) + s[0]\n",
    "# reversed_str('hello')  reversed_str('ello') + 'h'   == 'olle' + 'h'\n",
    "# reversed_str('ello')   reversed_str('llo') + 'e'    == 'oll' + 'e'\n",
    "# reversed_str('llo')    reversed_str('lo') + 'l'     == 'ol' + 'l'\n",
    "# reversed_str('lo')     reversed_str('o') + 'l'      == 'o' + 'l'\n",
    "# reversed_str('o')      'o'                          == 'o'"
   ]
  },
  {
   "cell_type": "code",
   "execution_count": 22,
   "metadata": {},
   "outputs": [
    {
     "name": "stdout",
     "output_type": "stream",
     "text": [
      "h\n",
      "eh\n",
      "leh\n",
      "lleh\n",
      "olleh\n"
     ]
    },
    {
     "data": {
      "text/plain": [
       "'olleh'"
      ]
     },
     "execution_count": 22,
     "metadata": {},
     "output_type": "execute_result"
    }
   ],
   "source": [
    "s = 'hello'\n",
    "result = ''\n",
    "\n",
    "for i in s:\n",
    "    result = i + result\n",
    "    print(result)\n",
    "\n",
    "result"
   ]
  },
  {
   "cell_type": "markdown",
   "metadata": {},
   "source": [
    "### 연습문제"
   ]
  },
  {
   "cell_type": "code",
   "execution_count": 196,
   "metadata": {},
   "outputs": [
    {
     "name": "stdout",
     "output_type": "stream",
     "text": [
      "True\n",
      "False\n"
     ]
    }
   ],
   "source": [
    "# 문제1: 다음 함수 is_palindrome를 완성하시오.이 함수는 하나의 문자열을 인자로 받아, \n",
    "# 해당 문자열이 팰린드롬(앞으로 읽으나 뒤로 읽으나 같은 단어나 구)이면 True를, \n",
    "# 아니면 False를 반환해야 합니다.\n",
    "\n",
    "def is_palindrome(s):\n",
    "    if len(s)<=1:\n",
    "        return True\n",
    "    elif s[0]==s[-1]:\n",
    "        return is_palindrome(s[1:-1])\n",
    "    return False\n",
    "\n",
    "\n",
    "print(is_palindrome(\"level\"))  # 결과: True\n",
    "print(is_palindrome(\"python\"))  # 결과: False"
   ]
  },
  {
   "cell_type": "markdown",
   "metadata": {},
   "source": [
    "## 더 나아가기"
   ]
  },
  {
   "cell_type": "code",
   "execution_count": 23,
   "metadata": {},
   "outputs": [
    {
     "data": {
      "text/plain": [
       "(10, 20, 30)"
      ]
     },
     "execution_count": 23,
     "metadata": {},
     "output_type": "execute_result"
    }
   ],
   "source": [
    "# 여러개의 값 반환하기\n",
    "\n",
    "def f():\n",
    "    a = 10\n",
    "    b = 20\n",
    "    c = 30\n",
    "    return a, b, c\n",
    "\n",
    "\n",
    "f()"
   ]
  },
  {
   "cell_type": "code",
   "execution_count": null,
   "metadata": {},
   "outputs": [],
   "source": [
    "print()  # built-in function\n",
    "\n",
    "\n",
    "def f():  # function\n",
    "    pass\n",
    "\n",
    "\n",
    "# 여기서 print와 f는 변수입니다.\n",
    "# 변수는 가리키는 것입니다.\n",
    "leehojun = print\n",
    "leehojun('hello world')"
   ]
  },
  {
   "cell_type": "code",
   "execution_count": null,
   "metadata": {},
   "outputs": [],
   "source": [
    "# 변수처럼 아래와 같이 관리할 수 있습니다.\n",
    "x = 10\n",
    "y = 20\n",
    "l = [x, y]\n",
    "\n",
    "\n",
    "def add(x, y):\n",
    "    return x+y\n",
    "\n",
    "\n",
    "def sub(x, y):\n",
    "    return x-y\n",
    "\n",
    "\n",
    "li = [add, sub]\n",
    "li[0](10, 20)  # add(10,20)과 같다."
   ]
  },
  {
   "cell_type": "code",
   "execution_count": null,
   "metadata": {},
   "outputs": [],
   "source": [
    "# 매우 중요!!\n",
    "# lambda 파라미터:리턴값\n",
    "# 함수를 한줄로 선언하고 싶을 때, 재사용 하고 싶지 않은 함수 e.g. map함수\n",
    "add2 = lambda x, y:x+y\n",
    "sub2 = lambda x, y:x-y\n",
    "\n",
    "add2(10,20)"
   ]
  },
  {
   "cell_type": "code",
   "execution_count": 27,
   "metadata": {},
   "outputs": [
    {
     "data": {
      "text/plain": [
       "[1, 2, 3, 4]"
      ]
     },
     "execution_count": 27,
     "metadata": {},
     "output_type": "execute_result"
    }
   ],
   "source": [
    "list(map(int, '1234'))"
   ]
  },
  {
   "cell_type": "code",
   "execution_count": null,
   "metadata": {},
   "outputs": [],
   "source": [
    "def f(x):\n",
    "    return x * 2\n",
    "\n",
    "\n",
    "list(map(f, '1234'))\n",
    "\n",
    "list(map(lambda x: x*2, '1234'))"
   ]
  },
  {
   "cell_type": "markdown",
   "metadata": {},
   "source": [
    "## built-in function 총집합"
   ]
  },
  {
   "cell_type": "markdown",
   "metadata": {},
   "source": [
    "-  \n",
    "  - all\n",
    "  - any\n",
    "-  \n",
    "  - chr\n",
    "  - ord\n",
    "-  \n",
    "  - map\n",
    "  - filter\n",
    "  - zip\n",
    "-  \n",
    "  - format\n",
    "-  \n",
    "  - len\n",
    "-  \n",
    "  - max\n",
    "  - min\n",
    "  - sum\n",
    "-  \n",
    "  - repr\n",
    "  - print\n",
    "-  \n",
    "  - enumerate\n",
    "  - range\n",
    "-  \n",
    "  - reversed\n",
    "  - sorted"
   ]
  },
  {
   "cell_type": "code",
   "execution_count": 29,
   "metadata": {},
   "outputs": [
    {
     "data": {
      "text/plain": [
       "False"
      ]
     },
     "execution_count": 29,
     "metadata": {},
     "output_type": "execute_result"
    }
   ],
   "source": [
    "# 모두 다 True여야 True (AND)\n",
    "all([True,False,True])\n",
    "\n",
    "# 하나라도 True면 True (OR)\n",
    "any([True,False,True])"
   ]
  },
  {
   "cell_type": "code",
   "execution_count": 43,
   "metadata": {},
   "outputs": [
    {
     "data": {
      "text/plain": [
       "'하'"
      ]
     },
     "execution_count": 43,
     "metadata": {},
     "output_type": "execute_result"
    }
   ],
   "source": [
    "# 10진수로 유니코드표에서 찾아 대응되는 값을 줍니다.\n",
    "chr(48)\n",
    "chr(65)\n",
    "chr(97)\n",
    "chr(54616)\n",
    "\n",
    "# 문자를 입력하면 유니코드에서 숫자로 출력합니다.\n",
    "ord('1')\n",
    "ord('A')\n",
    "ord('a')\n",
    "ord('하')\n",
    "\n",
    "# 유니코드 표에서 값 확인\n",
    "int('D558', 16)"
   ]
  },
  {
   "cell_type": "code",
   "execution_count": 44,
   "metadata": {},
   "outputs": [
    {
     "data": {
      "text/plain": [
       "[1, 4, 9, 16]"
      ]
     },
     "execution_count": 44,
     "metadata": {},
     "output_type": "execute_result"
    }
   ],
   "source": [
    "map(lambda x: x**2, [1, 2, 3, 4])  # 계산되기 전 object\n",
    "list(map(lambda x: x**2, [1, 2, 3, 4]))  # 계산된 후 object"
   ]
  },
  {
   "cell_type": "code",
   "execution_count": 45,
   "metadata": {},
   "outputs": [
    {
     "data": {
      "text/plain": [
       "[19, 18]"
      ]
     },
     "execution_count": 45,
     "metadata": {},
     "output_type": "execute_result"
    }
   ],
   "source": [
    "list(filter(lambda x: x > 10, [1, 2, 3, 4, 23]))\n",
    "\n",
    "\n",
    "def filter_function(x):\n",
    "    return x > 10\n",
    "\n",
    "list(filter(filter_function,[1,2,3,19,18]))"
   ]
  },
  {
   "cell_type": "code",
   "execution_count": 49,
   "metadata": {},
   "outputs": [
    {
     "data": {
      "text/plain": [
       "[('a', '1', 10), ('b', '2', 20), ('c', '3', 30)]"
      ]
     },
     "execution_count": 49,
     "metadata": {},
     "output_type": "execute_result"
    }
   ],
   "source": [
    "list(zip('abc', '123'))\n",
    "list(zip('abc', '123', [10, 20, 30]))\n",
    "list(zip('abc','12345667',[10,20,30,40]))"
   ]
  },
  {
   "cell_type": "code",
   "execution_count": 50,
   "metadata": {},
   "outputs": [
    {
     "data": {
      "text/plain": [
       "[(1, 3), (3, 4), (4, 8), (8, 13), (13, 17), (17, 20)]"
      ]
     },
     "execution_count": 50,
     "metadata": {},
     "output_type": "execute_result"
    }
   ],
   "source": [
    "# https: // codingdojang.com/scode/408?answer_mode = hide\n",
    "\n",
    "s = [1, 3, 4, 8, 13, 17, 20]\n",
    "list(zip(s,s[1:]))\n",
    "\n",
    "# sorted(zip(s, s[1:]), key=lambda x: x[1]-x[0])\n",
    "# sorted(zip(s, s[1:]), key=lambda x:x[1]-x[0])[0] # 정답 코드"
   ]
  },
  {
   "cell_type": "code",
   "execution_count": 51,
   "metadata": {},
   "outputs": [
    {
     "data": {
      "text/plain": [
       "'1,000,000,000,000'"
      ]
     },
     "execution_count": 51,
     "metadata": {},
     "output_type": "execute_result"
    }
   ],
   "source": [
    "format(1000000000000,',')"
   ]
  },
  {
   "cell_type": "code",
   "execution_count": 52,
   "metadata": {},
   "outputs": [
    {
     "data": {
      "text/plain": [
       "11"
      ]
     },
     "execution_count": 52,
     "metadata": {},
     "output_type": "execute_result"
    }
   ],
   "source": [
    "len('hello world')"
   ]
  },
  {
   "cell_type": "code",
   "execution_count": 57,
   "metadata": {},
   "outputs": [
    {
     "data": {
      "text/plain": [
       "'world!'"
      ]
     },
     "execution_count": 57,
     "metadata": {},
     "output_type": "execute_result"
    }
   ],
   "source": [
    "max([1,2,3,4,5])\n",
    "\n",
    "max([(1,2),(3,101),(1,20),(3,100)])\n",
    "max(['hello','world','world!'])"
   ]
  },
  {
   "cell_type": "code",
   "execution_count": 54,
   "metadata": {},
   "outputs": [
    {
     "data": {
      "text/plain": [
       "1"
      ]
     },
     "execution_count": 54,
     "metadata": {},
     "output_type": "execute_result"
    }
   ],
   "source": [
    "min([1,2,3,4,5])"
   ]
  },
  {
   "cell_type": "code",
   "execution_count": 60,
   "metadata": {},
   "outputs": [
    {
     "data": {
      "text/plain": [
       "[1, 2, 3, 101, 1, 20, 3, 100]"
      ]
     },
     "execution_count": 60,
     "metadata": {},
     "output_type": "execute_result"
    }
   ],
   "source": [
    "sum([1, 2, 3, 4, 5])\n",
    "sum([1, 2, 3, 4, 5], 10)\n",
    "\n",
    "sum([[1, 2],[ 3, 101], [1, 20], [3, 100]], [])\n",
    "# [] + [1, 2]\n",
    "# [1, 2] + [3, 101]\n",
    "# [1, 2, 3, 101] + [1, 20]\n",
    "# [1, 2, 3, 101, 1, 20] + [3, 100]"
   ]
  },
  {
   "cell_type": "code",
   "execution_count": 61,
   "metadata": {},
   "outputs": [
    {
     "name": "stdout",
     "output_type": "stream",
     "text": [
      "world\n"
     ]
    },
    {
     "data": {
      "text/plain": [
       "hello"
      ]
     },
     "execution_count": 61,
     "metadata": {},
     "output_type": "execute_result"
    }
   ],
   "source": [
    "class Charactor:\n",
    "    def __repr__(self):\n",
    "        return 'hello'\n",
    "\n",
    "    def __str__(self):\n",
    "        return 'world'\n",
    "\n",
    "\n",
    "hero = Charactor()\n",
    "print(hero)\n",
    "hero\n"
   ]
  },
  {
   "cell_type": "code",
   "execution_count": 62,
   "metadata": {},
   "outputs": [
    {
     "data": {
      "text/plain": [
       "'hello'"
      ]
     },
     "execution_count": 62,
     "metadata": {},
     "output_type": "execute_result"
    }
   ],
   "source": [
    "repr(hero)"
   ]
  },
  {
   "cell_type": "code",
   "execution_count": 63,
   "metadata": {},
   "outputs": [
    {
     "name": "stdout",
     "output_type": "stream",
     "text": [
      "[(0, '뉴진스'), (1, '르세라핌'), (2, '에스파'), (3, '아이브')]\n",
      "[(1, '뉴진스'), (2, '르세라핌'), (3, '에스파'), (4, '아이브')]\n",
      "[(100, '뉴진스'), (101, '르세라핌'), (102, '에스파'), (103, '아이브')]\n",
      "1 뉴진스\n",
      "2 르세라핌\n",
      "3 에스파\n",
      "4 아이브\n"
     ]
    }
   ],
   "source": [
    "가수 = ['뉴진스', '르세라핌', '에스파', '아이브']\n",
    "print(list(enumerate(가수)))\n",
    "print(list(enumerate(가수, 1)))\n",
    "print(list(enumerate(가수, 100)))\n",
    "\n",
    "for i, j in enumerate(가수, 1):\n",
    "    print(i, j)"
   ]
  },
  {
   "cell_type": "code",
   "execution_count": 65,
   "metadata": {},
   "outputs": [
    {
     "name": "stdout",
     "output_type": "stream",
     "text": [
      "range(0, 10)\n",
      "[0, 1, 2, 3, 4, 5, 6, 7, 8, 9]\n",
      "<class 'range'>\n",
      "[0, 2, 4, 6, 8]\n",
      "[10, 8, 6, 4, 2]\n"
     ]
    }
   ],
   "source": [
    "# range(start,stop,step)  # 슬라이싱과 비슷한 형태를 지나고 잇다.\n",
    "print(range(10))  # 값을 가지고 있지 않다.\n",
    "print(list(range(10)))\n",
    "x = range(10)\n",
    "print(type(x))\n",
    "print(list(range(0, 10, 2)))\n",
    "print(list(range(10, 0, -2)))"
   ]
  },
  {
   "cell_type": "code",
   "execution_count": null,
   "metadata": {},
   "outputs": [],
   "source": [
    "# 2.x에서 range와 그 외 값들에 대한 히스토리\n",
    "# print(range(10)) # [0, 1, 2, 3, 4, 5, 6, 7, 8, 9]\n",
    "# 메모리를 모두 차지해야 한다.\n",
    "\n",
    "# print(range(100000000000000000000000000000000000000))\n",
    "# 메모리의 효율이 극도로 안좋아짐\n",
    "\n",
    "# 그런데 3.x에서 range(10000000000000000000000000000)는 메모리 효율이 좋아졌다.\n",
    "# 시작과, 끝, 스텝값만 가지고 있기 때문에 메모리 낭비가 전혀 없게 되었다.\n",
    "\n",
    "# 2.x에서도 3.x와 같은 range타입이 있다. xrange이다.\n",
    "# xrange문법이 3.x되면서 range가 되었다.\n",
    "# 2.x에서 사용가능 문법\n",
    "# print(xrange(10)) #출력:xrange(10)\n",
    "# for i in xrange(10): #출력:순회가능\n",
    "#   print(i)"
   ]
  },
  {
   "cell_type": "code",
   "execution_count": 66,
   "metadata": {},
   "outputs": [
    {
     "data": {
      "text/plain": [
       "[5, 4, 13, 2, 1]"
      ]
     },
     "execution_count": 66,
     "metadata": {},
     "output_type": "execute_result"
    }
   ],
   "source": [
    "list(reversed('hello world'))\n",
    "list(reversed([1,2,13,4,5])) # 역 정렬이 아니다. 역순이다."
   ]
  },
  {
   "cell_type": "code",
   "execution_count": 67,
   "metadata": {},
   "outputs": [
    {
     "data": {
      "text/plain": [
       "[13, 5, 4, 2, 1]"
      ]
     },
     "execution_count": 67,
     "metadata": {},
     "output_type": "execute_result"
    }
   ],
   "source": [
    "list(reversed(sorted([1,2,13,4,5])))"
   ]
  },
  {
   "cell_type": "code",
   "execution_count": 69,
   "metadata": {},
   "outputs": [
    {
     "data": {
      "text/plain": [
       "[200, 100, 20, 10, 4, 3, 2, 1]"
      ]
     },
     "execution_count": 69,
     "metadata": {},
     "output_type": "execute_result"
    }
   ],
   "source": [
    "# 매우 중요!!\n",
    "# 알고리즘 문제에 단골 built-in function\n",
    "sorted([1,2,100,200,3,4,10,20])\n",
    "sorted([1,2,100,200,3,4,10,20],reverse=True)"
   ]
  },
  {
   "cell_type": "code",
   "execution_count": 73,
   "metadata": {},
   "outputs": [
    {
     "data": {
      "text/plain": [
       "['l', 'a', 'hllo', 'help', 'hello']"
      ]
     },
     "execution_count": 73,
     "metadata": {},
     "output_type": "execute_result"
    }
   ],
   "source": [
    "sorted(['hello','l','hllo','help','a'])\n",
    "sorted(['hello','l','hllo','help','a'],key=len)"
   ]
  },
  {
   "cell_type": "code",
   "execution_count": 82,
   "metadata": {},
   "outputs": [
    {
     "data": {
      "text/plain": [
       "[[5, 'horld', 39],\n",
       " [2, 'hello world', 33],\n",
       " [3, 'heworld', 34],\n",
       " [4, 'held', 31],\n",
       " [6, 'hellld', 30]]"
      ]
     },
     "execution_count": 82,
     "metadata": {},
     "output_type": "execute_result"
    }
   ],
   "source": [
    "data = [\n",
    "    [2, 'hello world', 33],\n",
    "    [3, 'heworld', 34],\n",
    "    [4, 'held', 31],\n",
    "    [5, 'horld', 39],\n",
    "    [6, 'hellld', 30]\n",
    "]\n",
    "\n",
    "# 1번 : 첫 번째 요소의 값을 정렬하세요\n",
    "sorted(data)\n",
    "\n",
    "# 2번 : 두 번째 요소의 문자열 길이를 정렬하세요\n",
    "sorted(data, key=lambda x: len(x[1]))\n",
    "# sorted([11,6,4,5,6])를 정렬하는 것과 같다.\n",
    "# 다만, 숫자 값으로 반환하는 것이 아니라 오브젝트로 반환한다.\n",
    "\n",
    "# 3번 : 세번째 요소 기준으로 정렬하세요.\n",
    "sorted(data,key=lambda x:x[2])\n",
    "\n",
    "# 4번 : 첫번째 요소와 세번째 요소의 차가 큰 순으로 정렬하세요.\n",
    "sorted(data,key=lambda x:x[0]-x[2])"
   ]
  },
  {
   "cell_type": "markdown",
   "metadata": {},
   "source": [
    "# 리스트"
   ]
  },
  {
   "cell_type": "code",
   "execution_count": 85,
   "metadata": {},
   "outputs": [
    {
     "data": {
      "text/plain": [
       "'hello'"
      ]
     },
     "execution_count": 85,
     "metadata": {},
     "output_type": "execute_result"
    }
   ],
   "source": [
    "# 시퀀스 자료형\n",
    "a = 'hello world'\n",
    "\n",
    "a[0]\n",
    "a[:5]"
   ]
  },
  {
   "cell_type": "code",
   "execution_count": 92,
   "metadata": {},
   "outputs": [
    {
     "data": {
      "text/plain": [
       "range(0, 5)"
      ]
     },
     "execution_count": 92,
     "metadata": {},
     "output_type": "execute_result"
    }
   ],
   "source": [
    "range(10)[3]\n",
    "\n",
    "range(100)[::10]\n",
    "\n",
    "range(10)[:5]"
   ]
  },
  {
   "cell_type": "code",
   "execution_count": 95,
   "metadata": {},
   "outputs": [
    {
     "ename": "TypeError",
     "evalue": "'enumerate' object is not subscriptable",
     "output_type": "error",
     "traceback": [
      "\u001b[1;31m---------------------------------------------------------------------------\u001b[0m",
      "\u001b[1;31mTypeError\u001b[0m                                 Traceback (most recent call last)",
      "\u001b[1;32mc:\\Users\\user\\BackendOrmi3\\Python\\기본.ipynb Cell 56\u001b[0m line \u001b[0;36m1\n\u001b[1;32m----> <a href='vscode-notebook-cell:/c%3A/Users/user/BackendOrmi3/Python/%EA%B8%B0%EB%B3%B8.ipynb#Y112sZmlsZQ%3D%3D?line=0'>1</a>\u001b[0m \u001b[39menumerate\u001b[39;49m([\u001b[39m0\u001b[39;49m, \u001b[39m1\u001b[39;49m, \u001b[39m2\u001b[39;49m, \u001b[39m3\u001b[39;49m, \u001b[39m4\u001b[39;49m, \u001b[39m5\u001b[39;49m, \u001b[39m6\u001b[39;49m, \u001b[39m7\u001b[39;49m, \u001b[39m8\u001b[39;49m, \u001b[39m9\u001b[39;49m], \u001b[39m100\u001b[39;49m)[\u001b[39m2\u001b[39;49m]\n\u001b[0;32m      <a href='vscode-notebook-cell:/c%3A/Users/user/BackendOrmi3/Python/%EA%B8%B0%EB%B3%B8.ipynb#Y112sZmlsZQ%3D%3D?line=1'>2</a>\u001b[0m \u001b[39menumerate\u001b[39m([\u001b[39m0\u001b[39m, \u001b[39m1\u001b[39m, \u001b[39m2\u001b[39m, \u001b[39m3\u001b[39m, \u001b[39m4\u001b[39m, \u001b[39m5\u001b[39m, \u001b[39m6\u001b[39m, \u001b[39m7\u001b[39m, \u001b[39m8\u001b[39m, \u001b[39m9\u001b[39m], \u001b[39m100\u001b[39m)[\u001b[39m2\u001b[39m:]\n",
      "\u001b[1;31mTypeError\u001b[0m: 'enumerate' object is not subscriptable"
     ]
    }
   ],
   "source": [
    "# enumerate([0, 1, 2, 3, 4, 5, 6, 7, 8, 9], 100)[2]\n",
    "# enumerate([0, 1, 2, 3, 4, 5, 6, 7, 8, 9], 100)[2:]"
   ]
  },
  {
   "cell_type": "code",
   "execution_count": 99,
   "metadata": {},
   "outputs": [
    {
     "name": "stdout",
     "output_type": "stream",
     "text": [
      "[1, 2, 3, 4, 5, 1, 2, 3, 4, 5, 1, 2, 3, 4, 5]\n",
      "2631374760304 2631374760304\n"
     ]
    }
   ],
   "source": [
    "# 덧셈과 곱셈\n",
    "a = [1, 2, 3, 4, 5]\n",
    "b = [6, 7, 8]\n",
    "\n",
    "print(a + b) # 출력: [1, 2, 3, 4, 5, 6, 7, 8]\n",
    "\n",
    "a=[1,2,3,4,5]\n",
    "\n",
    "print(a*3)  # [1,2,3,4,5,1,2,3,4,5,1,2,3,4,5]\n",
    "\n",
    "a = a*3\n",
    "print(id(a[2]), id(a[7]))\n"
   ]
  },
  {
   "cell_type": "code",
   "execution_count": 101,
   "metadata": {},
   "outputs": [
    {
     "name": "stdout",
     "output_type": "stream",
     "text": [
      "[[1, 2, 3, 1, 2, 3], [1, 2, 3, 1, 2, 3]]\n",
      "2631476894976 2631476894976\n",
      "[[1000, 2, 3, 1, 2, 3], [1000, 2, 3, 1, 2, 3]]\n"
     ]
    }
   ],
   "source": [
    "a=[1,2,3]\n",
    "a=[a*2]*2 #리스트 컴프리헨션 사용하는 것을 권장\n",
    "\n",
    "print(a)\n",
    "print(id(a[0]), id(a[1]))\n",
    "a[0][0] =1000\n",
    "print(a)"
   ]
  },
  {
   "cell_type": "code",
   "execution_count": 102,
   "metadata": {},
   "outputs": [
    {
     "name": "stdout",
     "output_type": "stream",
     "text": [
      "1\n",
      "4\n",
      "5\n",
      "3\n"
     ]
    }
   ],
   "source": [
    "l = [1, 2, 3, 4, 5]\n",
    "print(l[0])  # 출력: 1\n",
    "print(l[3])  # 출력: 4\n",
    "print(l[-1])  # 출력: 5\n",
    "print(l[-3])  # 출력: 3\n",
    "# -3이 양의 인덱스로 바뀐다고 보고 거기서 부터 끝까지"
   ]
  },
  {
   "cell_type": "code",
   "execution_count": 103,
   "metadata": {},
   "outputs": [
    {
     "name": "stdout",
     "output_type": "stream",
     "text": [
      "<class 'list'>\n",
      "['__add__', '__class__', '__class_getitem__', '__contains__', '__delattr__', '__delitem__', '__dir__', '__doc__', '__eq__', '__format__', '__ge__', '__getattribute__', '__getitem__', '__gt__', '__hash__', '__iadd__', '__imul__', '__init__', '__init_subclass__', '__iter__', '__le__', '__len__', '__lt__', '__mul__', '__ne__', '__new__', '__reduce__', '__reduce_ex__', '__repr__', '__reversed__', '__rmul__', '__setattr__', '__setitem__', '__sizeof__', '__str__', '__subclasshook__', 'append', 'clear', 'copy', 'count', 'extend', 'index', 'insert', 'pop', 'remove', 'reverse', 'sort']\n"
     ]
    }
   ],
   "source": [
    "l = [1,2,3]\n",
    "print(type(l))\n",
    "print(dir(l))"
   ]
  },
  {
   "cell_type": "code",
   "execution_count": null,
   "metadata": {},
   "outputs": [],
   "source": [
    "# [1,2,3] + [1,2,3] = [1,2,3,1,2,3]\n",
    "# [2,4,6] 요소마다 더해지는 것이 아니다. 이런 코드는 __add__에 구현되어 있다.\n",
    "# __add__에 요소마다 더하는 것으로 구현이 되어 있었다면 [2, 4, 6]을 출력했을 것이다."
   ]
  },
  {
   "cell_type": "code",
   "execution_count": null,
   "metadata": {},
   "outputs": [],
   "source": [
    "import numpy as np\n",
    "\n",
    "l = [1, 2, 3]\n",
    "l = np.array(l)\n",
    "l * 3\n",
    "l + l\n",
    "# 너무 당연하게 요소를 붙이는 것이다라고 생각 말기"
   ]
  },
  {
   "cell_type": "code",
   "execution_count": null,
   "metadata": {},
   "outputs": [],
   "source": [
    "# b'' # 바이트\n",
    "# f'' # f-string 용법\n",
    "# r'' # raw값 출력"
   ]
  },
  {
   "cell_type": "code",
   "execution_count": null,
   "metadata": {},
   "outputs": [],
   "source": [
    "b = b'world'  # 유니코드표 X, 아스키코드표에서 찾습니다!\n",
    "b[0]"
   ]
  },
  {
   "cell_type": "code",
   "execution_count": null,
   "metadata": {},
   "outputs": [],
   "source": [
    "# elem in a\n",
    "# O(n)\n",
    "# elem 요소가 존재하는지 확인한다.\n",
    "# 처음부터 순차 탐색하므로 n만큼 시간이 소요된다."
   ]
  },
  {
   "cell_type": "markdown",
   "metadata": {},
   "source": [
    "### 연습문제"
   ]
  },
  {
   "cell_type": "code",
   "execution_count": 208,
   "metadata": {},
   "outputs": [
    {
     "name": "stdout",
     "output_type": "stream",
     "text": [
      "licat\n"
     ]
    }
   ],
   "source": [
    "# 문제: 이 데이터에서 licat을 출력해주세요.\n",
    "# 단, 직접 접근은 안됩니다. data[1]로 접근하는 것은 안됩니다.\n",
    "data = [['weniv CTO binky', 2], ['weniv CEO licat', 1], ['weniv COO mura', 2]]\n",
    "s = sorted(data,key=lambda x:x[1])[0][0]\n",
    "s=s[s.find('licat'):]\n",
    "print(s)"
   ]
  },
  {
   "cell_type": "code",
   "execution_count": 194,
   "metadata": {},
   "outputs": [
    {
     "name": "stdout",
     "output_type": "stream",
     "text": [
      "[3, 5, 7, 9]\n"
     ]
    }
   ],
   "source": [
    "# 문제2: 리스트 numbers가 주어졌을 때, 이 리스트 내의 모든 짝수를 제거하는 코드를 작성하시오.\n",
    "numbers = [2, 3, 4, 5, 6, 7, 8, 9, 10]\n",
    "\n",
    "numbers = list(filter(lambda x: x % 2 == 1, numbers))\n",
    "\n",
    "print(numbers)  # 결과: [3, 5, 7, 9]"
   ]
  },
  {
   "cell_type": "code",
   "execution_count": 225,
   "metadata": {},
   "outputs": [
    {
     "data": {
      "text/plain": [
       "2418"
      ]
     },
     "execution_count": 225,
     "metadata": {},
     "output_type": "execute_result"
    }
   ],
   "source": [
    "# list(range(101))와 슬라이싱을 사용해 아래 문제를 풀어주세요.\n",
    "\n",
    "# 문제 1: 짝수를 모두 더해주세요\n",
    "sum(list(range(101))[::2])\n",
    "# 문제 2: 3의 배수와 5의 배수를 모두 더해주세요.\n",
    "sum(list(range(101))[::3])+sum(list(range(101))[::5]) - sum(list(range(101))[::15])\n",
    "# 보너스 : 1부터 90까지의 짝수르 모두 더하기\n",
    "sum(list(range(101))[:91][::2])\n"
   ]
  },
  {
   "cell_type": "markdown",
   "metadata": {},
   "source": [
    "## 리스트 메소드"
   ]
  },
  {
   "cell_type": "code",
   "execution_count": null,
   "metadata": {},
   "outputs": [],
   "source": [
    "#  'append',\n",
    "#  'clear',\n",
    "#  'copy',\n",
    "#  'count',\n",
    "#  'extend',\n",
    "#  'index',\n",
    "#  'insert',\n",
    "#  'pop',\n",
    "#  'remove',\n",
    "#  'reverse',\n",
    "#  'sort'\n",
    "\n",
    "# append\n",
    "l = [1, 2, 3]\n",
    "l.append(100)\n",
    "l"
   ]
  },
  {
   "cell_type": "code",
   "execution_count": 243,
   "metadata": {},
   "outputs": [
    {
     "name": "stdout",
     "output_type": "stream",
     "text": [
      "[1, 2, 3, 100]\n",
      "[1, 2, 3, [10, 20]]\n",
      "[10, 20, 30, 'hello']\n",
      "[1, 2, 3, 10, 20]\n",
      "[10, 20, 30, 'h', 'e', 'l', 'l', 'o']\n",
      "[]\n"
     ]
    }
   ],
   "source": [
    "# append\n",
    "l = [1, 2, 3]\n",
    "l.append(100)\n",
    "print(l)\n",
    "\n",
    "l = [1, 2, 3]\n",
    "l.append([10, 20])\n",
    "print(l)\n",
    "\n",
    "l = [10, 20, 30]\n",
    "l.append('hello')\n",
    "print(l)\n",
    "\n",
    "#  extend\n",
    "l = [1, 2, 3]\n",
    "l.extend([10, 20])\n",
    "print(l)\n",
    "\n",
    "l = [10, 20, 30]\n",
    "l.extend('hello')\n",
    "print(l)\n",
    "\n",
    "# clear\n",
    "l = [1, 2, 3]\n",
    "l.clear()\n",
    "print(l)\n"
   ]
  },
  {
   "cell_type": "code",
   "execution_count": 244,
   "metadata": {},
   "outputs": [
    {
     "data": {
      "text/plain": [
       "[10, 20, 30, 1, 0]"
      ]
     },
     "execution_count": 244,
     "metadata": {},
     "output_type": "execute_result"
    }
   ],
   "source": [
    "# 한 자리씩 잘라서 넣는다라고 생각해볼게요.\n",
    "# 예) 자릿수 모두 더하는 문제\n",
    "userinput = input('숫자를 입력하세요:')\n",
    "l = [10, 20, 30]\n",
    "l.extend(map(int, userinput))\n",
    "l\n",
    "\n",
    "# l = [10, 20, 30]\n",
    "# l.extend(map(int, input('숫자를 입력하세요:')))\n"
   ]
  },
  {
   "cell_type": "code",
   "execution_count": 234,
   "metadata": {},
   "outputs": [
    {
     "name": "stdout",
     "output_type": "stream",
     "text": [
      "2631477852800 2631477852800\n",
      "[1000, 20, 30] [1000, 20, 30]\n",
      "2631478288320 2631476454592\n",
      "[1000, 20, 30] [10, 20, 30]\n"
     ]
    }
   ],
   "source": [
    "#  copy\n",
    "l = [10, 20, 30]\n",
    "ll = l\n",
    "l[0] = 1000\n",
    "print(id(l),id(ll))\n",
    "print(l, ll)\n",
    "\n",
    "l = [10, 20, 30]\n",
    "ll = l.copy()\n",
    "l[0] = 1000\n",
    "print(id(l),id(ll))\n",
    "print(l, ll)\n"
   ]
  },
  {
   "cell_type": "code",
   "execution_count": 235,
   "metadata": {},
   "outputs": [
    {
     "name": "stdout",
     "output_type": "stream",
     "text": [
      "2631476894976 2631476846144\n",
      "[[1000, 20], [100, 200]] [[1000, 20], [100, 200]]\n"
     ]
    }
   ],
   "source": [
    "a = [10, 20]\n",
    "b = [100, 200]\n",
    "\n",
    "l = [a, b]\n",
    "ll = l.copy()\n",
    "print(id(l),id(ll))\n",
    "l[0][0] = 1000\n",
    "print(l,ll)\n",
    "# 안에 있는 요소인 리스트는 같은 주소를 가지고 있어서 값이 동시에 바껴버린다.\n",
    "\n"
   ]
  },
  {
   "cell_type": "markdown",
   "metadata": {},
   "source": [
    "![Alt text](image.png)"
   ]
  },
  {
   "cell_type": "code",
   "execution_count": 236,
   "metadata": {},
   "outputs": [
    {
     "name": "stdout",
     "output_type": "stream",
     "text": [
      "2631476454592 2631478274624\n",
      "[[100000, 20], [100, 200]] [[10, 20], [100, 200]]\n"
     ]
    }
   ],
   "source": [
    "import copy\n",
    "\n",
    "a = [10, 20]\n",
    "b = [100, 200]\n",
    "\n",
    "l = [a, b]\n",
    "ll = copy.deepcopy(l)\n",
    "\n",
    "print(id(l), id(ll))\n",
    "l[0][0] = 100000\n",
    "print(l, ll)\n"
   ]
  },
  {
   "cell_type": "markdown",
   "metadata": {},
   "source": [
    "![Alt text](image-1.png)"
   ]
  },
  {
   "cell_type": "code",
   "execution_count": 238,
   "metadata": {},
   "outputs": [
    {
     "data": {
      "text/plain": [
       "4"
      ]
     },
     "execution_count": 238,
     "metadata": {},
     "output_type": "execute_result"
    }
   ],
   "source": [
    "#  count\n",
    "# 안에 있는 자료형에 맞춰서 카운팅을 해야한다.\n",
    "[1,2,2,1,3,1,5].count(1)\n",
    "\n",
    "list('1112341').count('1')\n"
   ]
  },
  {
   "cell_type": "code",
   "execution_count": 246,
   "metadata": {},
   "outputs": [
    {
     "data": {
      "text/plain": [
       "2"
      ]
     },
     "execution_count": 246,
     "metadata": {},
     "output_type": "execute_result"
    }
   ],
   "source": [
    "#  index\n",
    "\n",
    "l = [10, 20, 30, 40, 50]\n",
    "l.index(30)\n",
    "# l.index(60) # error\n",
    "\n",
    "# 리스트에는 find 메서드가 없다.\n",
    "# l.find(60) \n"
   ]
  },
  {
   "cell_type": "code",
   "execution_count": 247,
   "metadata": {},
   "outputs": [
    {
     "name": "stdout",
     "output_type": "stream",
     "text": [
      "[10, 20, 25, 30]\n"
     ]
    }
   ],
   "source": [
    "#  insert\n",
    "l = [10, 20, 30]\n",
    "l.insert(2, 25)\n",
    "print(l)  # 출력: [10, 20, 25, 30]"
   ]
  },
  {
   "cell_type": "code",
   "execution_count": 3,
   "metadata": {},
   "outputs": [
    {
     "name": "stdout",
     "output_type": "stream",
     "text": [
      "[1, 2] 3\n",
      "[2, 3] 1\n"
     ]
    }
   ],
   "source": [
    "#  pop\n",
    "# 마지막에서 빼는것\n",
    "l=[1,2,3]\n",
    "result = l.pop()\n",
    "print(l, result)\n",
    "\n",
    "# 첫번째에서 빼는것\n",
    "l=[1,2,3]\n",
    "result = l.pop(0)\n",
    "print(l, result)"
   ]
  },
  {
   "cell_type": "code",
   "execution_count": 5,
   "metadata": {},
   "outputs": [
    {
     "name": "stdout",
     "output_type": "stream",
     "text": [
      "54321\n",
      "12345"
     ]
    }
   ],
   "source": [
    "l = [1, 2, 3, 4, 5]\n",
    "\n",
    "while l:\n",
    "    print(l.pop(),end='')\n",
    "\n",
    "print()\n",
    "\n",
    "l = [1, 2, 3, 4, 5]\n",
    "while l:\n",
    "    print(l.pop(0),end='')"
   ]
  },
  {
   "cell_type": "code",
   "execution_count": 6,
   "metadata": {},
   "outputs": [
    {
     "name": "stdout",
     "output_type": "stream",
     "text": [
      "[1, 3, 1, 3, 2, 2, 1, 1]\n"
     ]
    }
   ],
   "source": [
    "#  remove\n",
    "# 첫번재 요소 삭제\n",
    "l=[1,2,3,1,3,2,2,1,1]\n",
    "l.remove(2)\n",
    "print(l)"
   ]
  },
  {
   "cell_type": "code",
   "execution_count": 7,
   "metadata": {},
   "outputs": [
    {
     "data": {
      "text/plain": [
       "[1, 3, 1, 3, 1, 1]"
      ]
     },
     "execution_count": 7,
     "metadata": {},
     "output_type": "execute_result"
    }
   ],
   "source": [
    "# 일치하는 요소 모두 삭제\n",
    "l=[1,2,3,1,3,2,2,1,1]\n",
    "list(filter(lambda x:x!=2,l))"
   ]
  },
  {
   "cell_type": "code",
   "execution_count": 11,
   "metadata": {},
   "outputs": [
    {
     "name": "stdout",
     "output_type": "stream",
     "text": [
      "[4, 3, 10, 2, 1]\n",
      "[1, 2, 3, 4, 10]\n"
     ]
    }
   ],
   "source": [
    "#  reverse\n",
    "l = [1, 2, 10, 3, 4]\n",
    "l.reverse()\n",
    "print(l)\n",
    "\n",
    "#  sort\n",
    "l = [1, 2, 10, 3, 4]\n",
    "l.sort()\n",
    "print(l)\n"
   ]
  },
  {
   "cell_type": "code",
   "execution_count": 9,
   "metadata": {},
   "outputs": [
    {
     "name": "stdout",
     "output_type": "stream",
     "text": [
      "[4, 3, 10, 2, 1]\n",
      "[1, 2, 10, 3, 4]\n",
      "None\n",
      "[4, 3, 10, 2, 1]\n"
     ]
    }
   ],
   "source": [
    "# reversed와 reverse 차이, sorted와 sort 차이\n",
    "# 원본 수정이 아니냐, 원본수정이냐? 입니다.\n",
    "# 메소드면 원본 훼손되고 그냥 함수면 원본 유지\n",
    "\n",
    "l = [1, 2, 10, 3, 4]\n",
    "print(list(reversed(l)))\n",
    "print(l)  # 원본은 그대로입니다.\n",
    "\n",
    "l = [1, 2, 10, 3, 4]\n",
    "print(l.reverse())  # 출력: None\n",
    "print(l)  # 출력: [4, 3, 10, 2, 1]"
   ]
  },
  {
   "cell_type": "code",
   "execution_count": 10,
   "metadata": {},
   "outputs": [
    {
     "name": "stdout",
     "output_type": "stream",
     "text": [
      "[1, 2, 3, 4, 10]\n",
      "[1, 2, 10, 3, 4]\n",
      "None\n",
      "[1, 2, 3, 4, 10]\n"
     ]
    }
   ],
   "source": [
    "# reversed와 reverse 차이, sorted와 sort 차이\n",
    "# 원본 수정이 아니냐, 원본수정이냐? 입니다.\n",
    "\n",
    "l = [1, 2, 10, 3, 4]\n",
    "print(list(sorted(l)))  # 출력: [1, 2, 3, 4, 10]\n",
    "print(l)               # 출력: [1, 2, 10, 3, 4] # 원본은 그대로입니다.\n",
    "\n",
    "l = [1, 2, 10, 3, 4]\n",
    "print(l.sort())  # 출력: None\n",
    "print(l)        # 출력: [1, 2, 3, 4, 10]"
   ]
  },
  {
   "cell_type": "code",
   "execution_count": null,
   "metadata": {},
   "outputs": [],
   "source": [
    "# 게시판 = [게시물1, 게시물2, 게시물3, 게시물4]\n",
    "# 게시물1: 오래된 게시물이 저장이 되어 있을겁니다. (append로 게시물 추가했다고 생각해볼게요.)\n",
    "# 그러면 그냥 게시판을 출력했을 때 최상단에 노출되는 게시물은 가장 오래된 게시물일겁니다.\n",
    "# 컴퓨터 입장에서는요.\n",
    "# 그래서 게시판.reverse()해서 출력합니다. 최신게시물이 상단에 오게요.\n",
    "# 그러면 게시물5는 어디에 추가 될까요? 원본을 수정했기 때문에 게시물1 다음에 게시물5가 추가되요.\n",
    "# 게시판[::-1], reversed(게시판)을 사용해서 역순으로 만들었어야 했습니다.\n",
    "# 보이는 화면 = 게시판[::-1]\n",
    "# 보이는 화면 = reversed(게시판)"
   ]
  },
  {
   "cell_type": "markdown",
   "metadata": {},
   "source": [
    "### 연습문제"
   ]
  },
  {
   "cell_type": "code",
   "execution_count": 1,
   "metadata": {},
   "outputs": [
    {
     "name": "stdout",
     "output_type": "stream",
     "text": [
      "[10, 20, 30, 40, 50]\n"
     ]
    },
    {
     "data": {
      "text/plain": [
       "[10, 20, 25, 30, 40, 50]"
      ]
     },
     "execution_count": 1,
     "metadata": {},
     "output_type": "execute_result"
    }
   ],
   "source": [
    "# [10, 20, 40, 50, 30]와 같은 리스트에서 20과 30 중간에 25라는 값을 삽입하고 싶습니다.\n",
    "# 현재 리스트는 정렬되어 있지 않은데 이 리스트를 정렬하고 20과 30에 값을 index 메서드로 찾아\n",
    "# insert로 중간에 값을 삽입해주세요.\n",
    "# * 다른 정답을 허용합니다.\n",
    "\n",
    "l=[10, 20, 40, 50, 30]\n",
    "l = sorted(l)\n",
    "print(l)\n",
    "l.insert(l.index(30),25)\n",
    "print(l)\n"
   ]
  },
  {
   "cell_type": "markdown",
   "metadata": {},
   "source": [
    "## 리스트 컴프리헨션"
   ]
  },
  {
   "cell_type": "code",
   "execution_count": 123,
   "metadata": {},
   "outputs": [
    {
     "name": "stdout",
     "output_type": "stream",
     "text": [
      "[0, 1, 2, 3, 4, 5, 6, 7, 8, 9]\n",
      "[0, 1, 2, 3, 4, 5, 6, 7, 8, 9]\n"
     ]
    }
   ],
   "source": [
    "l =[]\n",
    "for i in range(10):\n",
    "  l.append(i)\n",
    "print(l)\n",
    "\n",
    "ll = [i for i in range(10)]\n",
    "print(ll)"
   ]
  },
  {
   "cell_type": "code",
   "execution_count": 127,
   "metadata": {},
   "outputs": [
    {
     "name": "stdout",
     "output_type": "stream",
     "text": [
      "['0입니다!', '1입니다!', '2입니다!', '3입니다!', '4입니다!', '5입니다!', '6입니다!', '7입니다!', '8입니다!', '9입니다!']\n",
      "['0입니다!', '1입니다!', '2입니다!', '3입니다!', '4입니다!', '5입니다!', '6입니다!', '7입니다!', '8입니다!', '9입니다!']\n"
     ]
    }
   ],
   "source": [
    "l = []\n",
    "for i in range(10):\n",
    "    l.append(f'{i}입니다!')\n",
    "print(l)\n",
    "\n",
    "ll = [f'{i}입니다!' for i in range(10)]\n",
    "print(ll)\n"
   ]
  },
  {
   "cell_type": "code",
   "execution_count": 132,
   "metadata": {},
   "outputs": [
    {
     "name": "stdout",
     "output_type": "stream",
     "text": [
      "['2x1=2', '2x2=4', '2x3=6', '2x4=8', '2x5=10', '2x6=12', '2x7=14', '2x8=16', '2x9=18', '3x1=3', '3x2=6', '3x3=9', '3x4=12', '3x5=15', '3x6=18', '3x7=21', '3x8=24', '3x9=27', '4x1=4', '4x2=8', '4x3=12', '4x4=16', '4x5=20', '4x6=24', '4x7=28', '4x8=32', '4x9=36', '5x1=5', '5x2=10', '5x3=15', '5x4=20', '5x5=25', '5x6=30', '5x7=35', '5x8=40', '5x9=45', '6x1=6', '6x2=12', '6x3=18', '6x4=24', '6x5=30', '6x6=36', '6x7=42', '6x8=48', '6x9=54', '7x1=7', '7x2=14', '7x3=21', '7x4=28', '7x5=35', '7x6=42', '7x7=49', '7x8=56', '7x9=63', '8x1=8', '8x2=16', '8x3=24', '8x4=32', '8x5=40', '8x6=48', '8x7=56', '8x8=64', '8x9=72', '9x1=9', '9x2=18', '9x3=27', '9x4=36', '9x5=45', '9x6=54', '9x7=63', '9x8=72', '9x9=81']\n",
      "['2x1=2', '2x2=4', '2x3=6', '2x4=8', '2x5=10', '2x6=12', '2x7=14', '2x8=16', '2x9=18', '3x1=3', '3x2=6', '3x3=9', '3x4=12', '3x5=15', '3x6=18', '3x7=21', '3x8=24', '3x9=27', '4x1=4', '4x2=8', '4x3=12', '4x4=16', '4x5=20', '4x6=24', '4x7=28', '4x8=32', '4x9=36', '5x1=5', '5x2=10', '5x3=15', '5x4=20', '5x5=25', '5x6=30', '5x7=35', '5x8=40', '5x9=45', '6x1=6', '6x2=12', '6x3=18', '6x4=24', '6x5=30', '6x6=36', '6x7=42', '6x8=48', '6x9=54', '7x1=7', '7x2=14', '7x3=21', '7x4=28', '7x5=35', '7x6=42', '7x7=49', '7x8=56', '7x9=63', '8x1=8', '8x2=16', '8x3=24', '8x4=32', '8x5=40', '8x6=48', '8x7=56', '8x8=64', '8x9=72', '9x1=9', '9x2=18', '9x3=27', '9x4=36', '9x5=45', '9x6=54', '9x7=63', '9x8=72', '9x9=81']\n"
     ]
    }
   ],
   "source": [
    "l = []\n",
    "for i in range(2, 10):\n",
    "    for j in range(1, 10):\n",
    "        l.append(f'{i}x{j}={i*j}')\n",
    "\n",
    "print(l)\n",
    "\n",
    "ll = [f'{i}x{j}={i*j}' for i in range(2, 10) for j in range(1, 10)]\n",
    "print(ll)\n"
   ]
  },
  {
   "cell_type": "code",
   "execution_count": 133,
   "metadata": {},
   "outputs": [
    {
     "name": "stdout",
     "output_type": "stream",
     "text": [
      "[0, 2, 4, 6, 8]\n",
      "[0, 2, 4, 6, 8]\n"
     ]
    }
   ],
   "source": [
    "l=[]\n",
    "for i in range(10):\n",
    "  if i%2==0:\n",
    "    l.append(i)\n",
    "\n",
    "print(l)\n",
    "\n",
    "ll=[i for i in range(10) if i%2==0]\n",
    "print(ll)\n"
   ]
  },
  {
   "cell_type": "code",
   "execution_count": 136,
   "metadata": {},
   "outputs": [
    {
     "name": "stdout",
     "output_type": "stream",
     "text": [
      "[0, None, 2, None, 4, None, 6, None, 8, None]\n",
      "[0, None, 2, None, 4, None, 6, None, 8, None]\n"
     ]
    }
   ],
   "source": [
    "l=[]\n",
    "for i in range(10):\n",
    "  if i%2==0:\n",
    "    l.append(i)\n",
    "  else:\n",
    "    l.append(None)\n",
    "\n",
    "print(l)\n",
    "\n",
    "ll=[i if i%2==0 else None for i in range(10)]\n",
    "# if문은 for문 앞에 작성한다\n",
    "print(ll)"
   ]
  },
  {
   "cell_type": "markdown",
   "metadata": {},
   "source": [
    "# 튜플"
   ]
  },
  {
   "cell_type": "code",
   "execution_count": null,
   "metadata": {},
   "outputs": [],
   "source": [
    "# 튜플은 안에 있는 값이 변경 뷸가능한 자료형이 아니다.\n",
    "# 튜플은 참조 불변이다.\n",
    "# 리스트에 비해 속도가 빠르다.\n",
    "\n",
    "x=(1,2,3)\n",
    "# x[0]=1000 # error"
   ]
  },
  {
   "cell_type": "code",
   "execution_count": 13,
   "metadata": {},
   "outputs": [
    {
     "data": {
      "text/plain": [
       "(1, 2, [100, 2, 3])"
      ]
     },
     "execution_count": 13,
     "metadata": {},
     "output_type": "execute_result"
    }
   ],
   "source": [
    "# 변경가능한 자료형을 튜플과 같은 변경 불가능한 자료형 안에 넣는 것은 \n",
    "# 값에 변경이 이뤄질 수 있기 때문에 좋은 선택은 아니다.\n",
    "x=[1,2,3]\n",
    "y=(1,2,x)\n",
    "x[0]=100\n",
    "y   #(1, 2, [100, 2, 3])"
   ]
  },
  {
   "cell_type": "code",
   "execution_count": null,
   "metadata": {},
   "outputs": [],
   "source": [
    "# 데이터의 변경이 민감한 곳\n",
    "# 참조의 갯수가 변하면 안되는 곳\n",
    "s={'one':1,'two':2}\n",
    "s.items()"
   ]
  },
  {
   "cell_type": "code",
   "execution_count": 14,
   "metadata": {},
   "outputs": [
    {
     "name": "stdout",
     "output_type": "stream",
     "text": [
      "1\n",
      "(4, 5)\n"
     ]
    }
   ],
   "source": [
    "t = (1,2,3,4,5)\n",
    "\n",
    "print(t[0])\n",
    "print(t[3:])"
   ]
  },
  {
   "cell_type": "code",
   "execution_count": 15,
   "metadata": {},
   "outputs": [
    {
     "data": {
      "text/plain": [
       "3"
      ]
     },
     "execution_count": 15,
     "metadata": {},
     "output_type": "execute_result"
    }
   ],
   "source": [
    "t = (1, 1, 1, 2, 3, 4)\n",
    "t.count(1)"
   ]
  },
  {
   "cell_type": "code",
   "execution_count": 16,
   "metadata": {},
   "outputs": [
    {
     "data": {
      "text/plain": [
       "4"
      ]
     },
     "execution_count": 16,
     "metadata": {},
     "output_type": "execute_result"
    }
   ],
   "source": [
    "t.index(3)"
   ]
  },
  {
   "cell_type": "markdown",
   "metadata": {},
   "source": [
    "# 딕셔너리"
   ]
  },
  {
   "cell_type": "code",
   "execution_count": null,
   "metadata": {},
   "outputs": [],
   "source": [
    "# 파이썬 3.6 버전부터 삽입 순서 보장\n",
    "# colab에서 불과 1~2년 전만 하더라도 print로 출력한 것은 정렬 출력,\n",
    "# 맨 마지막 출력은 정렬하지 않고 출력했었다."
   ]
  },
  {
   "cell_type": "code",
   "execution_count": 17,
   "metadata": {},
   "outputs": [
    {
     "name": "stdout",
     "output_type": "stream",
     "text": [
      "{'bb': 100, 'hello': 10, 'world': 20, 'aa': 30}\n"
     ]
    },
    {
     "data": {
      "text/plain": [
       "{'bb': 100, 'hello': 10, 'world': 20, 'aa': 30}"
      ]
     },
     "execution_count": 17,
     "metadata": {},
     "output_type": "execute_result"
    }
   ],
   "source": [
    "d = {'bb': 100, 'hello': 10, 'world': 20, 'aa': 30}\n",
    "print(d)\n",
    "d"
   ]
  },
  {
   "cell_type": "code",
   "execution_count": 18,
   "metadata": {},
   "outputs": [
    {
     "name": "stdout",
     "output_type": "stream",
     "text": [
      "{'one': '하나', 'two': '둘'}\n"
     ]
    }
   ],
   "source": [
    "d = dict([('one', '하나'), ('two', '둘')])\n",
    "print(d)  # 출력: {'one' : '하나', 'two' : '둘'}\n",
    "\n",
    "d = dict([['one', '하나'], ['two', '둘']])\n",
    "print(d)  # 출력: {'one' : '하나', 'two' : '둘'}"
   ]
  },
  {
   "cell_type": "code",
   "execution_count": null,
   "metadata": {},
   "outputs": [],
   "source": [
    "d = dict([['aa'], ['bb']])\n",
    "print(d)  # error\n",
    "\n",
    "d = dict(name='licat', age=10)\n",
    "print(d)  # 출력: {'name': 'licat', 'age': 10}"
   ]
  },
  {
   "cell_type": "code",
   "execution_count": 20,
   "metadata": {},
   "outputs": [
    {
     "name": "stdout",
     "output_type": "stream",
     "text": [
      "[1, 2, 3]\n",
      "answer\n",
      "[10, 20]\n",
      "[100, 200]\n"
     ]
    }
   ],
   "source": [
    "complex_dict = {\n",
    "    \"numbers\": [1, 2, 3],\n",
    "    42: \"answer\",\n",
    "    (\"x\", \"y\"): [10, 20],\n",
    "    True : [100,200]\n",
    "}\n",
    "print(complex_dict[\"numbers\"])  # 출력: [1, 2, 3]\n",
    "print(complex_dict[42])         # 출력: answer\n",
    "print(complex_dict[(\"x\", \"y\")])  # 출력: [10, 20]\n",
    "print(complex_dict[True])  # 출력: [100, 200]\n"
   ]
  },
  {
   "cell_type": "code",
   "execution_count": 21,
   "metadata": {},
   "outputs": [
    {
     "name": "stdout",
     "output_type": "stream",
     "text": [
      "{'name': 'mura', 'city': 'Seoul'}\n"
     ]
    }
   ],
   "source": [
    "person = {'name': 'licat', 'city': 'Jeju'}\n",
    "person['name'] = 'mura'\n",
    "person['city'] = 'Seoul'\n",
    "\n",
    "print(person)"
   ]
  },
  {
   "cell_type": "code",
   "execution_count": 22,
   "metadata": {},
   "outputs": [
    {
     "name": "stdout",
     "output_type": "stream",
     "text": [
      "{'name': 'licat', 'city': 'Jeju', 'job': 'Developer'}\n"
     ]
    }
   ],
   "source": [
    "keys = [\"name\", \"city\", \"job\"]\n",
    "values = [\"licat\", \"Jeju\", \"Developer\"]\n",
    "\n",
    "new_dict = dict(zip(keys, values))\n",
    "print(new_dict)"
   ]
  },
  {
   "cell_type": "code",
   "execution_count": null,
   "metadata": {},
   "outputs": [],
   "source": [
    "hero = {'name': 'licat', 'age': 10}\n",
    "dir(hero)"
   ]
  },
  {
   "cell_type": "code",
   "execution_count": null,
   "metadata": {},
   "outputs": [],
   "source": [
    "# 'items',\n",
    "# 'keys',\n",
    "# 'values'\n",
    "# 'fromkeys',\n",
    "# 'get',\n",
    "# 'pop',\n",
    "# 'popitem',\n",
    "# 'setdefault',\n",
    "# 'update',"
   ]
  },
  {
   "cell_type": "code",
   "execution_count": 34,
   "metadata": {},
   "outputs": [
    {
     "name": "stdout",
     "output_type": "stream",
     "text": [
      "{'name': 'licat', 'age': 10}\n",
      "{'name': 'mura', 'age': 10}\n",
      "<class 'dict_items'>\n"
     ]
    },
    {
     "data": {
      "text/plain": [
       "('name', 'mura')"
      ]
     },
     "execution_count": 34,
     "metadata": {},
     "output_type": "execute_result"
    }
   ],
   "source": [
    "hero = {'name':'licat','age':10}\n",
    "hero2 = hero.copy()\n",
    "\n",
    "hero2['name'] = 'mura'\n",
    "print(hero)\n",
    "print(hero2)\n",
    "\n",
    "# hero2.items()[0] # error\n",
    "print(type(hero2.items()))\n",
    "list(hero2.items())[0]  # 출력: ('name', 'mura')\n"
   ]
  },
  {
   "cell_type": "code",
   "execution_count": 36,
   "metadata": {},
   "outputs": [
    {
     "name": "stdout",
     "output_type": "stream",
     "text": [
      "dict_keys(['name', 'age'])\n",
      "<class 'dict_keys'>\n",
      "name\n",
      "age\n"
     ]
    }
   ],
   "source": [
    "# 키만 찾기\n",
    "hero = {'name': 'licat', 'age': 10}\n",
    "print(hero.keys())\n",
    "print(type(hero.keys()))\n",
    "\n",
    "# 이렇게 많이 사용합니다.\n",
    "for i in hero.keys():\n",
    "    print(i)\n"
   ]
  },
  {
   "cell_type": "code",
   "execution_count": 40,
   "metadata": {},
   "outputs": [
    {
     "name": "stdout",
     "output_type": "stream",
     "text": [
      "dict_values(['licat', 10])\n",
      "<class 'dict_values'>\n",
      "True\n",
      "False\n"
     ]
    }
   ],
   "source": [
    "# 값만 찾기\n",
    "hero = {'name': 'licat', 'age': 10}\n",
    "print(hero.values())\n",
    "print(type(hero.values()))\n",
    "\n",
    "print('licat' in hero.values())\n",
    "print('mura' in hero.values())\n"
   ]
  },
  {
   "cell_type": "code",
   "execution_count": null,
   "metadata": {},
   "outputs": [],
   "source": [
    "hero = {'name': 'licat', 'age': 10}\n",
    "\n",
    "# 'licat' in hero # 출력: False\n",
    "# 'name' in hero # 출력: True, 키 값을 찾는 것만 됩니다.\n",
    "\n",
    "'licat' in hero.values()\n",
    "'mura' in hero.values()"
   ]
  },
  {
   "cell_type": "code",
   "execution_count": null,
   "metadata": {},
   "outputs": [],
   "source": [
    "keys = ['name', 'city', 'job']\n",
    "value = ['licat', 'Jeju', 'Developer']\n",
    "print(dict.fromkeys(keys, values))\n"
   ]
  },
  {
   "cell_type": "code",
   "execution_count": null,
   "metadata": {},
   "outputs": [],
   "source": [
    "keys = ['name', 'city', 'job']\n",
    "value = None\n",
    "print(dict.fromkeys(keys, values))\n"
   ]
  },
  {
   "cell_type": "code",
   "execution_count": null,
   "metadata": {},
   "outputs": [],
   "source": [
    "d = {'name': 'licat', 'city': 'Jeju'}\n",
    "d['name']\n",
    "d.get('name')  # 기억하고 있어야 합니다.\n"
   ]
  },
  {
   "cell_type": "code",
   "execution_count": null,
   "metadata": {},
   "outputs": [],
   "source": [
    "d = {'name': 'licat', 'city': 'Jeju'}\n",
    "# d['age'] # error, 이거 가볍게 생각하면 안됩니다! 서비스 멈춥니다!\n",
    "d.get('age', '값 없음!')\n"
   ]
  },
  {
   "cell_type": "code",
   "execution_count": null,
   "metadata": {},
   "outputs": [],
   "source": [
    "# 위험한 코드입니다!\n",
    "def 요일변경(n):\n",
    "    return {\n",
    "        1: '월요일',\n",
    "        2: '화요일',\n",
    "        3: '수요일',\n",
    "        4: '목요일',\n",
    "        5: '금요일',\n",
    "        6: '토요일',\n",
    "        7: '일요일',\n",
    "    }[n]\n",
    "\n",
    "\n",
    "요일변경(3)\n",
    "# 요일변경(8) # error, 서비스 멈춥니다!\n"
   ]
  },
  {
   "cell_type": "code",
   "execution_count": null,
   "metadata": {},
   "outputs": [],
   "source": [
    "# 아래와 같이 변경을 해주세요.\n",
    "def 요일변경(n):\n",
    "    return {\n",
    "        1: '월요일',\n",
    "        2: '화요일',\n",
    "        3: '수요일',\n",
    "        4: '목요일',\n",
    "        5: '금요일',\n",
    "        6: '토요일',\n",
    "        7: '일요일',\n",
    "    }.get(n)  # 기본이 None입니다.\n",
    "\n",
    "\n",
    "요일변경(3)\n",
    "print(요일변경(8))\n"
   ]
  },
  {
   "cell_type": "code",
   "execution_count": null,
   "metadata": {},
   "outputs": [],
   "source": [
    "numbers = {'one': '하나', 'two': '둘', 'three': '셋'}\n",
    "numbers.pop('one')\n",
    "# numbers.pop() # error\n",
    "numbers\n"
   ]
  },
  {
   "cell_type": "code",
   "execution_count": 97,
   "metadata": {},
   "outputs": [
    {
     "name": "stdout",
     "output_type": "stream",
     "text": [
      "('three', '셋')\n",
      "{'one': '하나', 'two': '둘'}\n",
      "3\n",
      "{'one': '하나', 'two': '둘', 'three': 3}\n"
     ]
    }
   ],
   "source": [
    "numbers = {'one': '하나', 'two': '둘', 'three': '셋'}\n",
    "item = numbers.popitem()\n",
    "print(item)\n",
    "print(numbers)\n"
   ]
  },
  {
   "cell_type": "code",
   "execution_count": 98,
   "metadata": {},
   "outputs": [
    {
     "name": "stdout",
     "output_type": "stream",
     "text": [
      "넷\n",
      "{'one': '하나', 'two': '둘', 'three': '셋', 'four': '넷'}\n",
      "셋\n",
      "{'one': '하나', 'two': '둘', 'three': '셋'}\n"
     ]
    }
   ],
   "source": [
    "numbers = {'one': '하나', 'two': '둘', 'three': '셋'}\n",
    "four_value = numbers.setdefault(\"four\", \"넷\")\n",
    "print(four_value)\n",
    "print(numbers)\n",
    "\n",
    "numbers = {'one': '하나', 'two': '둘', 'three': '셋'}\n",
    "four_value = numbers.setdefault(\"three\", 3)  # 3이 반영되지 않습니다.\n",
    "print(four_value)\n",
    "print(numbers)\n"
   ]
  },
  {
   "cell_type": "code",
   "execution_count": 99,
   "metadata": {},
   "outputs": [
    {
     "name": "stdout",
     "output_type": "stream",
     "text": [
      "{'one': '하나', 'two': '둘', 'three': '셋', 'four': '넷', 'five': '다섯'}\n",
      "{'one': '하나', 'two': '둘', 'three': 3, 'four': 4, 'five': '다섯'}\n"
     ]
    }
   ],
   "source": [
    "numbers = {'one': '하나', 'two': '둘', 'three': '셋'}\n",
    "numbers.update({'four': '넷', 'five': '다섯'})\n",
    "print(numbers)\n",
    "\n",
    "numbers.update({'three': 3, 'four': 4})\n",
    "print(numbers)\n"
   ]
  },
  {
   "cell_type": "markdown",
   "metadata": {},
   "source": [
    "# 연습문제"
   ]
  },
  {
   "cell_type": "code",
   "execution_count": 95,
   "metadata": {},
   "outputs": [
    {
     "name": "stdout",
     "output_type": "stream",
     "text": [
      "75.0\n",
      "76.0\n",
      "{'국어': 97, '영어': 48, '수학': 100, '사회': 70, '과학': 85}\n"
     ]
    },
    {
     "data": {
      "text/plain": [
       "'영어'"
      ]
     },
     "execution_count": 95,
     "metadata": {},
     "output_type": "execute_result"
    }
   ],
   "source": [
    "국영수 = {'국어': 97, '영어': 38, '수학': 90}\n",
    "# 문제1: 다음 국영수 dict에 점수에 평균을 구하는 코드를 작성해주세요.\n",
    "국영수_평균_점수 = sum(국영수.values())/len(국영수)\n",
    "print(국영수_평균_점수)\n",
    "\n",
    "\n",
    "# 문제2: {'사회':70, '과학':85}가 추가되었습니다. dict에 평균을 구하는 코드를 작성해주세요.\n",
    "국영수.update({'사회': 70, '과학': 85})\n",
    "국영수사과 = 국영수\n",
    "국영수사과_점수리스트 = list(국영수사과.values())\n",
    "국영수사과_평균_점수 = sum(국영수사과_점수리스트)/len(국영수사과_점수리스트)\n",
    "print(국영수사과_평균_점수)\n",
    "\n",
    "\n",
    "# 문제3: 영어와 수학점수가 각각 10점씩 올랐습니다. 점수를 10점 추가하는 코드를 작성해주세요.\n",
    "# 국영수['영어'] += 10\n",
    "# 국영수['수학'] += 10\n",
    "\n",
    "# 아래는 영어와 수학이 없어도 반환해준다.\n",
    "국영수.update({'영어':국영수.get('영어') + 10})\n",
    "국영수.update({'수학':국영수.get('수학') + 10})\n",
    "print(국영수)\n",
    "\n",
    "\n",
    "# 문제4: 최종 점수에서 가장 높은 점수를 출력하는 코드를 작성해주세요.\n",
    "max(국영수.values())\n",
    "\n",
    "\n",
    "# 문제5: 가장 높은 점수에 과목을 출력해주세요.\n",
    "#(https://school.programmers.co.kr/learn/courses/30/lessons/120835 이런문제와 유사합니다.)\n",
    "max(국영수.items(), key=lambda x: x[1])[0]\n",
    "\n",
    "max(국영수, key=국영수.get)\n",
    "\n",
    "values = list(국영수.values())\n",
    "list(국영수.keys())[values.index(max(values))]\n",
    "\n",
    "list(sorted(국영수.items(), key=lambda x:x[1], reverse=True))[0][0]\n",
    "\n",
    "for key in 국영수:\n",
    "    if(국영수.get(key) == max(국영수.values())):\n",
    "        print(key)\n",
    "\n",
    "[i for i, j in 국영수.items() if j == max(국영수.values())]"
   ]
  },
  {
   "cell_type": "code",
   "execution_count": 183,
   "metadata": {},
   "outputs": [
    {
     "data": {
      "text/plain": [
       "'서울'"
      ]
     },
     "execution_count": 183,
     "metadata": {},
     "output_type": "execute_result"
    }
   ],
   "source": [
    "# 여러개의 딕셔너리를 왔다갔다 하면서 key 값으로 value값을 비교할 때에도 사용합니다.\n",
    "\n",
    "local = {'제주': 100, '서울': 977, '부산': 500}\n",
    "강우량 = {'제주': 100, '서울': 97, '부산': 50}\n",
    "max(강우량, key=local.get)\n"
   ]
  },
  {
   "cell_type": "code",
   "execution_count": 102,
   "metadata": {},
   "outputs": [
    {
     "data": {
      "text/plain": [
       "'c'"
      ]
     },
     "execution_count": 102,
     "metadata": {},
     "output_type": "execute_result"
    }
   ],
   "source": [
    "d = {'a': 10, 'bb': 20, 'c': 30, 'd': 1}\n",
    "\n",
    "max(d)  # 유니코드가 가장 큰 key값 출력\n",
    "\n",
    "max(d, key=len)  # 길이가 가장 긴 key값 출력\n",
    "\n",
    "max(d, key=d.get)  # 길이가 가장 긴 key값 출력\n"
   ]
  },
  {
   "cell_type": "markdown",
   "metadata": {},
   "source": [
    "# 얕은 복사와 깊은 복사"
   ]
  },
  {
   "cell_type": "code",
   "execution_count": 42,
   "metadata": {},
   "outputs": [
    {
     "name": "stdout",
     "output_type": "stream",
     "text": [
      "[[100000, 2], [3, 4]]\n"
     ]
    }
   ],
   "source": [
    "import copy\n",
    "\n",
    "a=[1,2]\n",
    "b=[3,4]\n",
    "\n",
    "l=[a,b]\n",
    "ll=copy.deepcopy(l) # 깊은 복사\n",
    "\n",
    "a[0] = 100000\n",
    "\n",
    "print(l)"
   ]
  },
  {
   "cell_type": "code",
   "execution_count": 43,
   "metadata": {},
   "outputs": [
    {
     "name": "stdout",
     "output_type": "stream",
     "text": [
      "[[100, 200, [10, 20, [999, 2]]], [300, 400, [30, 40, [3, 4]]]]\n",
      "[[100, 200, [10, 20, [1, 2]]], [300, 400, [30, 40, [3, 4]]]]\n"
     ]
    }
   ],
   "source": [
    "import copy\n",
    "\n",
    "a = [1, 2]\n",
    "b = [3, 4]\n",
    "\n",
    "aa=[10,20,a]\n",
    "bb=[30,40,b]\n",
    "\n",
    "aaa=[100,200,aa]\n",
    "bbb=[300,400,bb]\n",
    "\n",
    "l = [aaa, bbb]\n",
    "ll = copy.deepcopy(l)  # 깊은 복사\n",
    "\n",
    "a[0] = 999\n",
    "\n",
    "print(l)\n",
    "print(ll)\n"
   ]
  },
  {
   "cell_type": "code",
   "execution_count": 45,
   "metadata": {},
   "outputs": [
    {
     "name": "stdout",
     "output_type": "stream",
     "text": [
      "[[1000, 2, 3], [4, 5, 6]]\n"
     ]
    }
   ],
   "source": [
    "# 리스트 컴프리헨션으로 깉은 복사 구현\n",
    "l=[[1,2,3],[4,5,6]]\n",
    "ll=[i for i in l]\n",
    "ll[0][0] = 1000\n",
    "print(l)\n",
    "print(ll)"
   ]
  },
  {
   "cell_type": "code",
   "execution_count": 47,
   "metadata": {},
   "outputs": [
    {
     "name": "stdout",
     "output_type": "stream",
     "text": [
      "[[1, 2, 3], [4, 5, 6]]\n",
      "[[1000, 2, 3], [4, 5, 6]]\n",
      "[[1, 2, [10000, 99]], [4, 5, 6]]\n",
      "[[1, 2, [10000, 99]], [4, 5, 6]]\n"
     ]
    }
   ],
   "source": [
    "# 리스트 컴프리헨션으로 깊은 복사 구현(완전하진 않습니다.)\n",
    "l = [[1, 2, 3], [4, 5, 6]]\n",
    "ll = [i[:] for i in l]\n",
    "ll[0][0] = 1000\n",
    "print(l)\n",
    "print(ll)\n",
    "\n",
    "# 위와 같은 방식으로 했을 때 완전하지 않은 코드\n",
    "a = [9, 99]\n",
    "\n",
    "l = [[1, 2, a], [4, 5, 6]]\n",
    "ll = [i[:] for i in l]\n",
    "a[0] = 10000\n",
    "print(l)\n",
    "print(ll)\n"
   ]
  },
  {
   "cell_type": "code",
   "execution_count": 50,
   "metadata": {},
   "outputs": [
    {
     "name": "stdout",
     "output_type": "stream",
     "text": [
      "[9999, 9999, 9999] [9999, 9999, 9999] [9999, 9999, 9999]\n",
      "2322847025040 2322847025040 2322847025040\n"
     ]
    },
    {
     "data": {
      "text/plain": [
       "True"
      ]
     },
     "execution_count": 50,
     "metadata": {},
     "output_type": "execute_result"
    }
   ],
   "source": [
    "a = [9999, 9999, 9999]\n",
    "b = copy.deepcopy(a)\n",
    "c = copy.deepcopy(b)\n",
    "print(a, b, c)\n",
    "\n",
    "print(id(a[0]), id(b[0]), id(c[0]))\n",
    "\n",
    "c[0] is c[1]\n"
   ]
  },
  {
   "cell_type": "code",
   "execution_count": null,
   "metadata": {},
   "outputs": [],
   "source": [
    "test = [9999, 9998, 9999]\n",
    "id(test[0]), id(test[1]), id(test[2])\n",
    "# 같은 컨벤션 내에 지정된 숫자는 동일한 메모리에 저장"
   ]
  },
  {
   "cell_type": "markdown",
   "metadata": {},
   "source": [
    "![Alt text](image-2.png)"
   ]
  },
  {
   "cell_type": "code",
   "execution_count": 51,
   "metadata": {},
   "outputs": [
    {
     "data": {
      "text/plain": [
       "(2322849283888, 2322849283568, 2322849283888)"
      ]
     },
     "execution_count": 51,
     "metadata": {},
     "output_type": "execute_result"
    }
   ],
   "source": [
    "test = {'one': 9999, 'two': 9998, 'three': 9999}\n",
    "id(test['one']), id(test['two']), id(test['three'])\n",
    "# 같은 컨벤션 내에 지정된 숫자는 동일한 메모리에 저장"
   ]
  },
  {
   "cell_type": "markdown",
   "metadata": {},
   "source": [
    "# Set(집합)"
   ]
  },
  {
   "cell_type": "markdown",
   "metadata": {},
   "source": [
    "1. 중복이 되지 않는다.\n",
    "2. 순서가 없다.\n",
    "3. 교집합, 차집합, 합집합 등이 가능하다."
   ]
  },
  {
   "cell_type": "code",
   "execution_count": 108,
   "metadata": {},
   "outputs": [
    {
     "name": "stdout",
     "output_type": "stream",
     "text": [
      "{'mura', 'bicky', 'licat'}\n"
     ]
    },
    {
     "data": {
      "text/plain": [
       "3"
      ]
     },
     "execution_count": 108,
     "metadata": {},
     "output_type": "execute_result"
    }
   ],
   "source": [
    "set('hello')\n",
    "s= set(['licat','licat','mura','bicky']) # 게시문에 글쓴이는 몇명?\n",
    "# s = {'licat', 'licat', 'mura', 'bicky'}  # 게시문에 글쓴이는 몇명?\n",
    "print(s)\n",
    "len(s)"
   ]
  },
  {
   "cell_type": "code",
   "execution_count": 109,
   "metadata": {},
   "outputs": [
    {
     "data": {
      "text/plain": [
       "set"
      ]
     },
     "execution_count": 109,
     "metadata": {},
     "output_type": "execute_result"
    }
   ],
   "source": [
    "# 주의\n",
    "t = {}  # dict\n",
    "t = ()  # tuple\n",
    "t = (0)  # int\n",
    "t = (0,)  # tuple\n",
    "t = {0}  # set\n",
    "t = set()\n",
    "type(t)\n",
    "# t = tuple()\n",
    "# type(t)\n"
   ]
  },
  {
   "cell_type": "code",
   "execution_count": 112,
   "metadata": {},
   "outputs": [
    {
     "name": "stdout",
     "output_type": "stream",
     "text": [
      "{1, 2, 3, 4, 5, 6}\n",
      "{4}\n"
     ]
    }
   ],
   "source": [
    "s = {1, 1, 1, 2, 2, 3, 4, 4}\n",
    "ss = {4, 5, 6}\n",
    "\n",
    "# 합집합\n",
    "s.union(ss)\n",
    "print(s | ss)\n",
    "\n",
    "# 교집합\n",
    "print(s & ss)\n",
    "\n",
    "# 차집합\n",
    "print(s - ss)\n"
   ]
  },
  {
   "cell_type": "code",
   "execution_count": 117,
   "metadata": {},
   "outputs": [
    {
     "data": {
      "text/plain": [
       "{1, 2, 3, 4, 100}"
      ]
     },
     "execution_count": 117,
     "metadata": {},
     "output_type": "execute_result"
    }
   ],
   "source": [
    "s.add(100)\n",
    "s"
   ]
  },
  {
   "cell_type": "code",
   "execution_count": 120,
   "metadata": {},
   "outputs": [
    {
     "data": {
      "text/plain": [
       "{1, 2, 3, 4}"
      ]
     },
     "execution_count": 120,
     "metadata": {},
     "output_type": "execute_result"
    }
   ],
   "source": [
    "# s.remove(1000)  # error, 있는 값만 해야한다.\n",
    "s.discard(1000) # error가 나지 않는다.\n",
    "s\n"
   ]
  },
  {
   "cell_type": "code",
   "execution_count": 121,
   "metadata": {},
   "outputs": [
    {
     "data": {
      "text/plain": [
       "4"
      ]
     },
     "execution_count": 121,
     "metadata": {},
     "output_type": "execute_result"
    }
   ],
   "source": [
    "자유게시판 = {'licat', 'licat', 'licat', 'mura', 'binky'}  # 게시물에 글 쓴사람은 몇 사람이죠?\n",
    "공지사항 = {'licat', 'licat'}  # 게시물에 글 쓴사람은 몇 사람이죠?\n",
    "len(s)\n"
   ]
  },
  {
   "cell_type": "markdown",
   "metadata": {},
   "source": [
    "# 연습문제"
   ]
  },
  {
   "cell_type": "code",
   "execution_count": 218,
   "metadata": {},
   "outputs": [
    {
     "name": "stdout",
     "output_type": "stream",
     "text": [
      "철수\n",
      "{'Tom': 92, 'Jerry': 100, 'Mickey': 75}\n",
      "{'Tom': 97, 'Jerry': 105, 'Mickey': 80}\n",
      "apple\n"
     ]
    },
    {
     "data": {
      "text/plain": [
       "[('apple', 3)]"
      ]
     },
     "execution_count": 218,
     "metadata": {},
     "output_type": "execute_result"
    }
   ],
   "source": [
    "# 문제 1.\n",
    "# 주어진 리스트 data = [{\"이름\": \"길동\", \"수학\": 3, \"과학\": 93}, {\"이름\": \"춘향\", \"수학\": 33, \"수학\": 11}, {\"이름\": \"철수\", \"수학\": 94, \"과학\": 67}]에서\n",
    "# 평균점수가 가장 높은 학생에 이름을 출력하세요.\n",
    "data = [\n",
    "    {\"이름\": \"길동\", \"수학\": 3, \"과학\": 93},\n",
    "    {\"이름\": \"춘향\", \"수학\": 33, \"과학\": 11},\n",
    "    {\"이름\": \"철수\", \"수학\": 94, \"과학\": 67}\n",
    "]\n",
    "\n",
    "print(max(data, key=lambda x: sum(list(x.values())[1:]))[\"이름\"])\n",
    "\n",
    "\n",
    "# 문제 2.\n",
    "# 주어진 사전 grades = {\"Tom\": 87, \"Jerry\": 95, \"Mickey\": 70}의 모든 값을 5점씩 증가시키고 결과를 출력하세요.\n",
    "grades = {\"Tom\": 87, \"Jerry\": 95, \"Mickey\": 70}\n",
    "# 방법1\n",
    "for i in grades:\n",
    "    grades.update({i: grades.get(i)+5})\n",
    "\n",
    "print(grades)\n",
    "\n",
    "\n",
    "# 방법2\n",
    "updated_grades = {name: score + 5 for name, score in grades.items()}\n",
    "print(updated_grades)\n",
    "\n",
    "# 문제 3.\n",
    "# 주어진 문자열 s = \"apple banana apple cherry banana cherry apple\"에서 가장 자주 등장하는 단어를 출력하세요.\n",
    "s = \"apple banana apple cherry banana cherry apple\"\n",
    "\n",
    "# 방법1\n",
    "lst = s.split(' ')\n",
    "max_count = max(lst, key=lst.count)\n",
    "print(max_count)\n",
    "\n",
    "\n",
    "# 방법2\n",
    "from collections import Counter\n",
    "\n",
    "result = Counter(s.split())\n",
    "# result.most_common()\n",
    "result.most_common(1)\n"
   ]
  }
 ],
 "metadata": {
  "kernelspec": {
   "display_name": "Python 3",
   "language": "python",
   "name": "python3"
  },
  "language_info": {
   "codemirror_mode": {
    "name": "ipython",
    "version": 3
   },
   "file_extension": ".py",
   "mimetype": "text/x-python",
   "name": "python",
   "nbconvert_exporter": "python",
   "pygments_lexer": "ipython3",
   "version": "3.9.2"
  },
  "orig_nbformat": 4
 },
 "nbformat": 4,
 "nbformat_minor": 2
}
