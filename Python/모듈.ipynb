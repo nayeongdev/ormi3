{
  "nbformat": 4,
  "nbformat_minor": 0,
  "metadata": {
    "colab": {
      "provenance": [],
      "authorship_tag": "ABX9TyPRCgql2oLL89X1R4pEkSl4",
      "include_colab_link": true
    },
    "kernelspec": {
      "name": "python3",
      "display_name": "Python 3"
    },
    "language_info": {
      "name": "python"
    }
  },
  "cells": [
    {
      "cell_type": "markdown",
      "metadata": {
        "id": "view-in-github",
        "colab_type": "text"
      },
      "source": [
        "<a href=\"https://colab.research.google.com/github/nayeongdev/ormi3/blob/main/Python/%EB%AA%A8%EB%93%88.ipynb\" target=\"_parent\"><img src=\"https://colab.research.google.com/assets/colab-badge.svg\" alt=\"Open In Colab\"/></a>"
      ]
    },
    {
      "cell_type": "code",
      "execution_count": null,
      "metadata": {
        "id": "dtSOijY3MEl3"
      },
      "outputs": [],
      "source": [
        "# ny.py 파일 작성 후 아래와 같이 입력"
      ]
    },
    {
      "cell_type": "code",
      "source": [
        "name = 'kimnayeong'\n",
        "age = 25\n",
        "\n",
        "def hello():\n",
        "    return 'hello world'"
      ],
      "metadata": {
        "id": "QD56Y9DwMkua"
      },
      "execution_count": 1,
      "outputs": []
    },
    {
      "cell_type": "code",
      "source": [
        "import na # 여기서 na가 모듈이다\n",
        "\n",
        "na.name # 변수를 호출할 수 있고\n",
        "na.hello() #함수를 호출할 수 있다"
      ],
      "metadata": {
        "id": "B9cvTWOtMrsD"
      },
      "execution_count": null,
      "outputs": []
    },
    {
      "cell_type": "code",
      "source": [
        "from na import name, age #이것도 많이 사용된다.\n",
        "\n",
        "print(name)\n",
        "print(age)"
      ],
      "metadata": {
        "colab": {
          "base_uri": "https://localhost:8080/"
        },
        "id": "-NIfiKhLNK9f",
        "outputId": "009919f0-adc4-46d9-c8e0-d75cdd1eaa55"
      },
      "execution_count": 1,
      "outputs": [
        {
          "output_type": "stream",
          "name": "stdout",
          "text": [
            "kimnayeong\n",
            "25\n"
          ]
        }
      ]
    },
    {
      "cell_type": "code",
      "source": [
        "from na import name as n #이것도 많이 사용된다.\n",
        "\n",
        "print(name)\n",
        "print(age)"
      ],
      "metadata": {
        "id": "Z1-uSAcSOJKK"
      },
      "execution_count": null,
      "outputs": []
    },
    {
      "cell_type": "code",
      "source": [
        "import jun as j #이렇게도 사용 가능"
      ],
      "metadata": {
        "id": "lNeypiMQONPj"
      },
      "execution_count": null,
      "outputs": []
    },
    {
      "cell_type": "markdown",
      "source": [
        "![image.png](data:image/png;base64,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)"
      ],
      "metadata": {
        "id": "5tPj7fVDPmXh"
      }
    },
    {
      "cell_type": "code",
      "source": [
        "import a # 폴더가 있기 때문에 에러가 안난다.\n",
        "\n",
        "print(a)\n",
        "print(a.b.c) # 이렇게 접근은 불가능"
      ],
      "metadata": {
        "id": "4RH4ujncO-W8"
      },
      "execution_count": null,
      "outputs": []
    },
    {
      "cell_type": "code",
      "source": [
        "import a.b.c.yeong\n",
        "\n",
        "print(a.b.c.yeong)\n",
        "print(a.b.c.yeong.name)\n",
        "print(a.b.c.yeong.age)"
      ],
      "metadata": {
        "colab": {
          "base_uri": "https://localhost:8080/"
        },
        "id": "wEELu7QiQY60",
        "outputId": "c0142271-4375-4b0d-f775-3ad03bea0f66"
      },
      "execution_count": 5,
      "outputs": [
        {
          "output_type": "stream",
          "name": "stdout",
          "text": [
            "<module 'a.b.c.yeong' from '/content/a/b/c/yeong.py'>\n",
            "licat\n",
            "3\n"
          ]
        }
      ]
    },
    {
      "cell_type": "code",
      "source": [
        "import a.b.c.yeong as cat\n",
        "\n",
        "print(cat)\n",
        "print(cat.name)\n",
        "print(cat.age)"
      ],
      "metadata": {
        "colab": {
          "base_uri": "https://localhost:8080/"
        },
        "id": "229U7_ncP34O",
        "outputId": "a9f73baf-58a2-4780-bfcf-9b2e22985912"
      },
      "execution_count": 4,
      "outputs": [
        {
          "output_type": "stream",
          "name": "stdout",
          "text": [
            "<module 'a.b.c.yeong' from '/content/a/b/c/yeong.py'>\n",
            "licat\n",
            "3\n"
          ]
        }
      ]
    },
    {
      "cell_type": "code",
      "source": [
        "# 일반적으로는 아래와 같이 사용\n",
        "# from은 폴더 import는 모듈\n",
        "from a.b.c import yeong\n",
        "\n",
        "print(yeong)\n",
        "print(yeong.name)\n",
        "print(yeong.age)"
      ],
      "metadata": {
        "colab": {
          "base_uri": "https://localhost:8080/"
        },
        "id": "Lt8boj9CQlWE",
        "outputId": "12c1a0ac-6691-4bfd-90f0-b77cda11f9f2"
      },
      "execution_count": 7,
      "outputs": [
        {
          "output_type": "stream",
          "name": "stdout",
          "text": [
            "<module 'a.b.c.yeong' from '/content/a/b/c/yeong.py'>\n",
            "licat\n",
            "3\n"
          ]
        }
      ]
    },
    {
      "cell_type": "code",
      "source": [
        "!pip list"
      ],
      "metadata": {
        "id": "N7HDUGNrSvDu"
      },
      "execution_count": null,
      "outputs": []
    },
    {
      "cell_type": "markdown",
      "source": [
        "# 연습문제"
      ],
      "metadata": {
        "id": "wzWM2TFBVG05"
      }
    },
    {
      "cell_type": "code",
      "source": [
        "# 아래와 같은 기능을 하는 모듈 또는 패키지를 만들어주세요\n",
        "# add(a,b), sub(a,b), mul(a,b), div(a,b)"
      ],
      "metadata": {
        "id": "99HieLUgVJYX"
      },
      "execution_count": null,
      "outputs": []
    },
    {
      "cell_type": "markdown",
      "source": [
        "![image.png](data:image/png;base64,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)"
      ],
      "metadata": {
        "id": "j7cuRT8DrTnC"
      }
    },
    {
      "cell_type": "code",
      "source": [
        "# 구분해서 저장하는 것이 왜 중요하냐면\n",
        "# 유지보수 좀 더 편리하게 할 수 있습니다.\n",
        "# operation > arithmetic_operation.py\n",
        "def add(a, b):\n",
        "    return a + b\n",
        "\n",
        "def sub(a, b):\n",
        "    return a - b\n",
        "\n",
        "def mul(a, b):\n",
        "    return a * b\n",
        "\n",
        "def div(a, b):\n",
        "    return a / b\n",
        "\n",
        "# operation > logical_operation.py\n",
        "def _and(a, b):\n",
        "    return a and b\n",
        "\n",
        "def _or(a, b):\n",
        "    return a or b"
      ],
      "metadata": {
        "colab": {
          "base_uri": "https://localhost:8080/"
        },
        "id": "xGZAHa0tV2mE",
        "outputId": "a881e025-d9cb-47e1-8988-c02f26d73658"
      },
      "execution_count": 9,
      "outputs": [
        {
          "output_type": "execute_result",
          "data": {
            "text/plain": [
              "3"
            ]
          },
          "metadata": {},
          "execution_count": 9
        }
      ]
    },
    {
      "cell_type": "code",
      "source": [
        "from operation import arithmetic_operation as ao, logical_operation as lo"
      ],
      "metadata": {
        "id": "rA4CGdJurif5"
      },
      "execution_count": null,
      "outputs": []
    },
    {
      "cell_type": "code",
      "source": [
        "ao.add(3, 4)"
      ],
      "metadata": {
        "id": "ZVah_Unernau"
      },
      "execution_count": null,
      "outputs": []
    },
    {
      "cell_type": "code",
      "source": [
        "lo._and(True, False)"
      ],
      "metadata": {
        "id": "-55KilAsrp7E"
      },
      "execution_count": null,
      "outputs": []
    },
    {
      "cell_type": "code",
      "source": [
        "# pythons package 확인은 pypi에서"
      ],
      "metadata": {
        "id": "gqyR53LPuRd9"
      },
      "execution_count": null,
      "outputs": []
    },
    {
      "cell_type": "code",
      "source": [
        "import sys\n",
        "\n",
        "#sys.path : 패키지 경로\n",
        "sys.path.append('/content/a/b/c')"
      ],
      "metadata": {
        "id": "JHmrGniUuZbd"
      },
      "execution_count": 1,
      "outputs": []
    },
    {
      "cell_type": "code",
      "source": [
        "import licat\n",
        "licat.name"
      ],
      "metadata": {
        "id": "GX9gwqscumJM"
      },
      "execution_count": null,
      "outputs": []
    },
    {
      "cell_type": "markdown",
      "source": [
        "## 부록 - 많이 사용하는 모듈"
      ],
      "metadata": {
        "id": "pCM35d8OwHGx"
      }
    },
    {
      "cell_type": "code",
      "source": [
        "import datetime\n",
        "\n",
        "s=datetime.datetime(2023,9,19)\n",
        "print(s)"
      ],
      "metadata": {
        "colab": {
          "base_uri": "https://localhost:8080/"
        },
        "id": "cajM7m7VvT6q",
        "outputId": "0e08e1f4-dbb9-4cd7-964d-ffb103925290"
      },
      "execution_count": 2,
      "outputs": [
        {
          "output_type": "stream",
          "name": "stdout",
          "text": [
            "2023-09-19 00:00:00\n"
          ]
        }
      ]
    },
    {
      "cell_type": "code",
      "source": [
        "s.year\n",
        "s.month\n",
        "s.day\n",
        "s.hour\n",
        "s.minute\n",
        "s.second"
      ],
      "metadata": {
        "colab": {
          "base_uri": "https://localhost:8080/"
        },
        "id": "vLsZNkYm2kv2",
        "outputId": "2628edde-2f70-417f-d984-4243a8ed5c1c"
      },
      "execution_count": 9,
      "outputs": [
        {
          "output_type": "execute_result",
          "data": {
            "text/plain": [
              "0"
            ]
          },
          "metadata": {},
          "execution_count": 9
        }
      ]
    },
    {
      "cell_type": "code",
      "source": [
        "s=datetime.datetime(2023,9,18,14,10)\n",
        "s.weekday() # 월요일0, 화요일1, 수요일2, ..."
      ],
      "metadata": {
        "colab": {
          "base_uri": "https://localhost:8080/"
        },
        "id": "myrqz6QJ3C25",
        "outputId": "670197f5-918e-4679-b7cf-238423da0bd4"
      },
      "execution_count": 10,
      "outputs": [
        {
          "output_type": "execute_result",
          "data": {
            "text/plain": [
              "0"
            ]
          },
          "metadata": {},
          "execution_count": 10
        }
      ]
    },
    {
      "cell_type": "code",
      "source": [
        "graduation_date = datetime.datetime(2023, 12, 29, 18, 00)\n",
        "today = datetime.date.today()\n",
        "days = datetime.timedelta(days=100)\n",
        "today + days"
      ],
      "metadata": {
        "colab": {
          "base_uri": "https://localhost:8080/"
        },
        "id": "FK0FSdfI4YMt",
        "outputId": "7c5e730c-05c5-4e9a-f352-3f8815853118"
      },
      "execution_count": 17,
      "outputs": [
        {
          "output_type": "execute_result",
          "data": {
            "text/plain": [
              "datetime.date(2023, 12, 28)"
            ]
          },
          "metadata": {},
          "execution_count": 17
        }
      ]
    },
    {
      "cell_type": "code",
      "source": [
        "type(today), type(graduation_date)"
      ],
      "metadata": {
        "colab": {
          "base_uri": "https://localhost:8080/"
        },
        "id": "nTgVunFy5nvs",
        "outputId": "eeb28f18-e026-40e8-89a3-3e59e63b54e4"
      },
      "execution_count": 19,
      "outputs": [
        {
          "output_type": "execute_result",
          "data": {
            "text/plain": [
              "(datetime.datetime, datetime.datetime)"
            ]
          },
          "metadata": {},
          "execution_count": 19
        }
      ]
    },
    {
      "cell_type": "code",
      "source": [
        "today = datetime.datetime.combine(datetime.date.today(), datetime.datetime.min.time())\n",
        "type(today)\n",
        "graduation_date - today"
      ],
      "metadata": {
        "colab": {
          "base_uri": "https://localhost:8080/"
        },
        "id": "--YtrBHv5ToX",
        "outputId": "cc703f84-3f28-4de5-b998-90c2dc184a2d"
      },
      "execution_count": 18,
      "outputs": [
        {
          "output_type": "execute_result",
          "data": {
            "text/plain": [
              "datetime.timedelta(days=101, seconds=64800)"
            ]
          },
          "metadata": {},
          "execution_count": 18
        }
      ]
    },
    {
      "cell_type": "code",
      "source": [
        "import os\n",
        "\n",
        "os.getcwd()\n",
        "# glob라는 모듈이 폴더 찾고, 파일찾고 하는 것에는 더 좋습니다."
      ],
      "metadata": {
        "id": "zwVNNmQiwKwj"
      },
      "execution_count": null,
      "outputs": []
    },
    {
      "cell_type": "code",
      "source": [
        "import os\n",
        "\n",
        "for curDir, dirs, files in os.walk('/content'):\n",
        "    for f in files:\n",
        "        print(os.path.join(curDir, f))"
      ],
      "metadata": {
        "id": "wN--aTWawL2X"
      },
      "execution_count": null,
      "outputs": []
    },
    {
      "cell_type": "code",
      "source": [
        "# os.mkdir()\n",
        "# os.rename()\n",
        "# os.remove()"
      ],
      "metadata": {
        "id": "Ik6C_XzHxcdl"
      },
      "execution_count": null,
      "outputs": []
    },
    {
      "cell_type": "code",
      "source": [
        "import sys\n",
        "\n",
        "a = [1, 2, 3]\n",
        "b = a\n",
        "c = a\n",
        "# sys.getsizeof()\n",
        "# sys.path\n",
        "sys.getrefcount(a)"
      ],
      "metadata": {
        "id": "pY5r4baFxn9V"
      },
      "execution_count": null,
      "outputs": []
    },
    {
      "cell_type": "code",
      "source": [
        "a = [1, 2, 3, 4]\n",
        "sys.getrefcount(a)"
      ],
      "metadata": {
        "id": "qZ1cfdA1xoyE"
      },
      "execution_count": null,
      "outputs": []
    },
    {
      "cell_type": "code",
      "source": [
        "import glob\n",
        "\n",
        "glob.glob('/content/*.py')"
      ],
      "metadata": {
        "colab": {
          "base_uri": "https://localhost:8080/"
        },
        "id": "I2DJ91CC1OCX",
        "outputId": "94229818-a59d-4c9a-bb02-4028f6d81a60"
      },
      "execution_count": 6,
      "outputs": [
        {
          "output_type": "execute_result",
          "data": {
            "text/plain": [
              "[]"
            ]
          },
          "metadata": {},
          "execution_count": 6
        }
      ]
    },
    {
      "cell_type": "code",
      "source": [
        "import json\n",
        "d ={\n",
        "    'one':1,\n",
        "    'two':2,\n",
        "    'three':3,\n",
        "}\n",
        "\n",
        "s= json.dumps(d)\n",
        "type(s)\n",
        "s[:3]"
      ],
      "metadata": {
        "colab": {
          "base_uri": "https://localhost:8080/",
          "height": 35
        },
        "id": "VgidDeQa1WO9",
        "outputId": "01013cac-359d-4801-a50f-6f5a4577c8ed"
      },
      "execution_count": 22,
      "outputs": [
        {
          "output_type": "execute_result",
          "data": {
            "text/plain": [
              "'{\"o'"
            ],
            "application/vnd.google.colaboratory.intrinsic+json": {
              "type": "string"
            }
          },
          "metadata": {},
          "execution_count": 22
        }
      ]
    },
    {
      "cell_type": "code",
      "source": [
        "dd = json.loads(s)\n",
        "type(dd)"
      ],
      "metadata": {
        "colab": {
          "base_uri": "https://localhost:8080/"
        },
        "id": "VtsAxXb-6Nux",
        "outputId": "fd8a3bc2-92a3-41ac-a03f-d03da8f5950e"
      },
      "execution_count": 24,
      "outputs": [
        {
          "output_type": "execute_result",
          "data": {
            "text/plain": [
              "dict"
            ]
          },
          "metadata": {},
          "execution_count": 24
        }
      ]
    },
    {
      "cell_type": "code",
      "source": [
        "class Human:\n",
        "    def __init__(self, x, y):\n",
        "        self.x = x\n",
        "        self.y = y\n",
        "\n",
        "jun = Human(10, 20)\n",
        "json.dumps(jun)\n",
        "\n",
        "# TypeError: Object of type Human is not JSON serializable(직렬화가 가능하지 않다!)\n",
        "# 일반 인스턴스는 직렬화가 가능하지 않습니다!\n",
        "# 직렬화: \"데이터 구조나 오브젝트 상태를 동일하거나 다른 컴퓨터 환경에 저장\n",
        "# (이를테면 파일이나 메모리 버퍼에서, 또는 네트워크 연결 링크 간 전송)하고,\n",
        "# 나중에 재구성할 수 있는 포맷으로 변환하는 과정\""
      ],
      "metadata": {
        "id": "pOe3WVF56xqw"
      },
      "execution_count": null,
      "outputs": []
    },
    {
      "cell_type": "code",
      "source": [
        "import collections\n",
        "\n",
        "d=collections.deque([1,2,3,4])\n",
        "d.rotate(1) # 회전초밥 문제\n",
        "print(d)\n",
        "d.rotate(2)\n",
        "print(d)\n",
        "d.rotate(3)\n",
        "print(d)"
      ],
      "metadata": {
        "colab": {
          "base_uri": "https://localhost:8080/"
        },
        "id": "wUffvZ5F7WkF",
        "outputId": "849858c6-f833-432e-8886-d70870e4e2b4"
      },
      "execution_count": 29,
      "outputs": [
        {
          "output_type": "stream",
          "name": "stdout",
          "text": [
            "deque([4, 1, 2, 3])\n",
            "deque([2, 3, 4, 1])\n",
            "deque([3, 4, 1, 2])\n"
          ]
        }
      ]
    },
    {
      "cell_type": "code",
      "source": [
        "c = collections.Counter('hello world')\n",
        "c"
      ],
      "metadata": {
        "colab": {
          "base_uri": "https://localhost:8080/"
        },
        "id": "Pwl09txk8Km2",
        "outputId": "7b1040ec-6bab-42e1-9a97-56df1957337d"
      },
      "execution_count": 30,
      "outputs": [
        {
          "output_type": "execute_result",
          "data": {
            "text/plain": [
              "Counter({'h': 1, 'e': 1, 'l': 3, 'o': 2, ' ': 1, 'w': 1, 'r': 1, 'd': 1})"
            ]
          },
          "metadata": {},
          "execution_count": 30
        }
      ]
    },
    {
      "cell_type": "code",
      "source": [
        "c.most_common()"
      ],
      "metadata": {
        "colab": {
          "base_uri": "https://localhost:8080/"
        },
        "id": "GfIHxbqt8Rjd",
        "outputId": "d201bf8d-360f-499e-cb33-3f4fff2967f7"
      },
      "execution_count": 31,
      "outputs": [
        {
          "output_type": "execute_result",
          "data": {
            "text/plain": [
              "[('l', 3),\n",
              " ('o', 2),\n",
              " ('h', 1),\n",
              " ('e', 1),\n",
              " (' ', 1),\n",
              " ('w', 1),\n",
              " ('r', 1),\n",
              " ('d', 1)]"
            ]
          },
          "metadata": {},
          "execution_count": 31
        }
      ]
    },
    {
      "cell_type": "code",
      "source": [
        "import requests\n",
        "from bs4 import BeautifulSoup\n",
        "\n",
        "paullab_url = 'http://paullab.co.kr/bookservice/'\n",
        "response = requests.get(paullab_url)\n",
        "response.encoding = 'utf-8'\n",
        "html = response.text\n",
        "\n",
        "soup = BeautifulSoup(html, 'html.parser')\n",
        "\n",
        "bookservices = soup.select('.col-lg-6 > h2')     # col-lg-6 클래스 안의 h2 태그 탐색\n",
        "for no, book in enumerate(bookservices, 1):\n",
        "    print(no, book.text)"
      ],
      "metadata": {
        "colab": {
          "base_uri": "https://localhost:8080/"
        },
        "id": "3cpGu2Cc8WuU",
        "outputId": "9180ce39-490f-4c1d-ec42-8d255e4584fa"
      },
      "execution_count": 32,
      "outputs": [
        {
          "output_type": "stream",
          "name": "stdout",
          "text": [
            "1 메모혁신 Notion(노션) 활용 가이드\n",
            "2 제주코딩베이스캠프 Code Festival: Python 100제 1부\n",
            "3 튜토리얼로 배우는 HTML&CSS\n",
            "4 코딩도장 튜토리얼로 배우는 Python 1편 object\n",
            "5 코딩도장 튜토리얼로 배우는 python 2편 제어문\n",
            "6 코딩도장 튜토리얼로 배우는 Python 문제풀이\n",
            "7 타노스의 건틀릿 알고리즘 With Python\n",
            "8 xlsxwriter 튜토리얼로 배우는 Python 엑셀 프로그래밍\n",
            "9 러플 튜토리얼로 배우는 Python\n",
            "10 인공지능을 활용한 업무자동화 With Google Developers Group JEJU\n",
            "11 2017 제주 코딩 해커톤 Django 트랙 상편 1권\n"
          ]
        }
      ]
    },
    {
      "cell_type": "code",
      "source": [
        "# 오류 난 곳을 찾아 유지보수하기 쉽지 않다.\n",
        "try:\n",
        "    pass  #1000줄\n",
        "except:\n",
        "    pass  #100줄"
      ],
      "metadata": {
        "id": "Y6Y6zGaCGa1D"
      },
      "execution_count": 33,
      "outputs": []
    },
    {
      "cell_type": "code",
      "source": [
        "try:\n",
        "    할인율 = 0\n",
        "    치킨값 = 30000 / 할인율\n",
        "    print('치킨주문 되었습니다!')\n",
        "except:\n",
        "    print('결제가 안되었습니다!')"
      ],
      "metadata": {
        "colab": {
          "base_uri": "https://localhost:8080/"
        },
        "id": "7eyYjbMIGeCl",
        "outputId": "4c7457d3-47b4-4b35-db28-515deecc8515"
      },
      "execution_count": 34,
      "outputs": [
        {
          "output_type": "stream",
          "name": "stdout",
          "text": [
            "결제가 안되었습니다!\n"
          ]
        }
      ]
    },
    {
      "cell_type": "code",
      "source": [
        "class Leehojun(Exception): #Exception을 상속받으면 됩니다.\n",
        "    def __init__(self):\n",
        "        super().__init__('입력된 값이 leehojun이 아닙니다.')\n",
        "\n",
        "raise Leehojun"
      ],
      "metadata": {
        "colab": {
          "base_uri": "https://localhost:8080/",
          "height": 219
        },
        "id": "bbGs2gVtJ2bx",
        "outputId": "bba1f607-f50e-42cd-8503-80351b831655"
      },
      "execution_count": 35,
      "outputs": [
        {
          "output_type": "error",
          "ename": "Leehojun",
          "evalue": "ignored",
          "traceback": [
            "\u001b[0;31m---------------------------------------------------------------------------\u001b[0m",
            "\u001b[0;31mLeehojun\u001b[0m                                  Traceback (most recent call last)",
            "\u001b[0;32m<ipython-input-35-b11d5076ad8d>\u001b[0m in \u001b[0;36m<cell line: 5>\u001b[0;34m()\u001b[0m\n\u001b[1;32m      3\u001b[0m         \u001b[0msuper\u001b[0m\u001b[0;34m(\u001b[0m\u001b[0;34m)\u001b[0m\u001b[0;34m.\u001b[0m\u001b[0m__init__\u001b[0m\u001b[0;34m(\u001b[0m\u001b[0;34m'입력된 값이 leehojun이 아닙니다.'\u001b[0m\u001b[0;34m)\u001b[0m\u001b[0;34m\u001b[0m\u001b[0;34m\u001b[0m\u001b[0m\n\u001b[1;32m      4\u001b[0m \u001b[0;34m\u001b[0m\u001b[0m\n\u001b[0;32m----> 5\u001b[0;31m \u001b[0;32mraise\u001b[0m \u001b[0mLeehojun\u001b[0m\u001b[0;34m\u001b[0m\u001b[0;34m\u001b[0m\u001b[0m\n\u001b[0m",
            "\u001b[0;31mLeehojun\u001b[0m: 입력된 값이 leehojun이 아닙니다."
          ]
        }
      ]
    }
  ]
}