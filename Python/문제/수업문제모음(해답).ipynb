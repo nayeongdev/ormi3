{
 "cells": [
  {
   "cell_type": "markdown",
   "metadata": {},
   "source": [
    "# 자료형"
   ]
  },
  {
   "cell_type": "markdown",
   "metadata": {},
   "source": [
    "#수업 #정수형 # 문제1  \n",
    "x = 100  \n",
    "y = 100  \n",
    "z = x\n",
    "\n",
    "다음 화살표를 그려보세요!"
   ]
  },
  {
   "cell_type": "code",
   "execution_count": 53,
   "metadata": {},
   "outputs": [],
   "source": [
    "# x ┐\n",
    "# y ┼> 100\n",
    "# z ┘\n"
   ]
  },
  {
   "cell_type": "markdown",
   "metadata": {},
   "source": [
    "#수업 #정수형 # 문제2  \n",
    "x = 258  \n",
    "y = 258  \n",
    "z = x\n",
    "\n",
    "다음 화살표를 그려보세요!"
   ]
  },
  {
   "cell_type": "code",
   "execution_count": 54,
   "metadata": {},
   "outputs": [],
   "source": [
    "# z ┐\n",
    "# x ┴> 258\n",
    "# y -> 258\n"
   ]
  },
  {
   "cell_type": "markdown",
   "metadata": {},
   "source": [
    "#수업 #실수형  \n",
    "0.1 + 0.2 연산을 하면 0.30000000000000004의 결과가 나옵니다.  \n",
    "왜 이런 현상이 생길까요?"
   ]
  },
  {
   "cell_type": "code",
   "execution_count": 55,
   "metadata": {},
   "outputs": [],
   "source": [
    "# 컴퓨터는 10진수가 아니라 2진수로 계산합니다.\n",
    "# 그래서 2진수 변환에서 무한수가 발생할 수 있고, 계산의 오차가 생길 수 있습니다."
   ]
  },
  {
   "cell_type": "markdown",
   "metadata": {},
   "source": [
    "#수업 #문자열 #문제1-1  \n",
    "아래와 같은 파일 이름이 있습니다.  \n",
    "s = 'python3.png'  \n",
    "  \n",
    "- 문제1-1 : 파일 이름을 출력하세요 (출력: python3)\n",
    "- 문제1-2 : 확장자를 출력하세요 (출력: png)"
   ]
  },
  {
   "cell_type": "code",
   "execution_count": 56,
   "metadata": {},
   "outputs": [
    {
     "name": "stdout",
     "output_type": "stream",
     "text": [
      "python3\n",
      "png\n"
     ]
    }
   ],
   "source": [
    "s = 'python3.png'\n",
    "\n",
    "# 문제1-1 : .png를 잘라내기\n",
    "print(s[:-4])\n",
    "\n",
    "# 문제1-2 : png만 잘라내기\n",
    "print(s[-3:])"
   ]
  },
  {
   "cell_type": "markdown",
   "metadata": {},
   "source": [
    "#수업 #문자열 #문제1-2   \n",
    "항상 확장자만 나오게 해주세요.  \n",
    "\n",
    "예시1) 'python3.png'  \n",
    "정답1) png  \n",
    "\n",
    "예시2) 'li.cat.jpeg'  \n",
    "정답2) jpeg   "
   ]
  },
  {
   "cell_type": "code",
   "execution_count": 57,
   "metadata": {},
   "outputs": [
    {
     "data": {
      "text/plain": [
       "'jpeg'"
      ]
     },
     "execution_count": 57,
     "metadata": {},
     "output_type": "execute_result"
    }
   ],
   "source": [
    "# 방법1\n",
    "s='li.cat.jpeg'\n",
    "\n",
    "s.split('.')[-1]"
   ]
  },
  {
   "cell_type": "code",
   "execution_count": 58,
   "metadata": {},
   "outputs": [
    {
     "data": {
      "text/plain": [
       "'jpeg'"
      ]
     },
     "execution_count": 58,
     "metadata": {},
     "output_type": "execute_result"
    }
   ],
   "source": [
    "# 방법2\n",
    "s = 'li.cat.jpeg'\n",
    "\n",
    "s[s.rindex('.')+1:]\n"
   ]
  },
  {
   "cell_type": "markdown",
   "metadata": {},
   "source": [
    "#수업 #문자열 #문제2  \n",
    "'010-1000-2000'을 입력받아 01010002000을 출력해주세요."
   ]
  },
  {
   "cell_type": "code",
   "execution_count": 59,
   "metadata": {},
   "outputs": [
    {
     "data": {
      "text/plain": [
       "'01010002000'"
      ]
     },
     "execution_count": 59,
     "metadata": {},
     "output_type": "execute_result"
    }
   ],
   "source": [
    "phone = '010-1000-2000'\n",
    "\n",
    "''.join(phone.split('-'))"
   ]
  },
  {
   "cell_type": "markdown",
   "metadata": {},
   "source": [
    "#수업 #문자열 #문제3 #[비밀지도](https://school.programmers.co.kr/learn/courses/30/lessons/17681)\n",
    "1. 지도는 한 변의 길이가 n인 정사각형 배열 형태로, 각 칸은 \"공백\"(\" \") 또는 \"벽\"(\"#\") 두 종류로 이루어져 있다.\n",
    "2. 전체 지도는 두 장의 지도를 겹쳐서 얻을 수 있다. 각각 \"지도 1\"과 \"지도 2\"라고 하자. 지도 1 또는 지도 2 중 어느 하나라도 벽인 부분은 전체 지도에서도 벽이다. 지도 1과 지도 2에서 모두 공백인 부분은 전체 지도에서도 공백이다.\n",
    "3. \"지도 1\"과 \"지도 2\"는 각각 정수 배열로 암호화되어 있다.\n",
    "암호화된 배열은 지도의 각 가로줄에서 벽 부분을 1, 공백 부분을 0으로 부호화했을 때 얻어지는 이진수에 해당하는 값의 배열이다.\n",
    "\n",
    "[입력형식]  \n",
    "입력으로 지도의 한 변 크기 n 과 2개의 정수 배열 arr1, arr2가 들어온다.  \n",
    "- 1 ≦ n ≦ 16\n",
    "- arr1, arr2는 길이 n인 정수 배열로 주어진다.\n",
    "- 정수 배열의 각 원소 x를 이진수로 변환했을 때의 길이는 n 이하이다. 즉, 0 ≦ x ≦ 2n - 1을 만족한다.\n",
    "\n",
    "[출력 형식]   \n",
    "원래의 비밀지도를 해독하여 '#', 공백으로 구성된 문자열 배열로 출력하라.\n",
    "\n",
    "[입출력 예제]\n",
    "매개변수\t| 값\n",
    "---|---\n",
    "n\t|5\n",
    "arr1|\t[9, 20, 28, 18, 11]\n",
    "arr2|\t[30, 1, 21, 17, 28]\n",
    "출력|\t[\"#####\",\"# # #\", \"### #\", \"# ##\", \"#####\"]"
   ]
  },
  {
   "cell_type": "code",
   "execution_count": 60,
   "metadata": {},
   "outputs": [
    {
     "data": {
      "text/plain": [
       "'   ##'"
      ]
     },
     "execution_count": 60,
     "metadata": {},
     "output_type": "execute_result"
    }
   ],
   "source": [
    "# keep해야할 포인트\n",
    "# 1. 2진수는 정수형이다\n",
    "# 2. 다만 bin()은 문자열이다\n",
    "\n",
    "n = 5\n",
    "arr1 = [9, 20, 28, 18, 11]\n",
    "arr2 = [30, 1, 21, 17, 28]\n",
    "\n",
    "# bin(arr1[0]) # 01001\n",
    "# bin(arr2[0]) # 11110\n",
    "\n",
    "bin(arr1[0] | arr2[0])\n",
    "bin(arr1[0] | arr2[0])[2:].replace('1', '#').replace('0', ' ')\n",
    "\n",
    "# 이 부분 주의!!\n",
    "bin(31)[2:].replace('1', '#').replace('0', ' ')\n",
    "bin(3)[2:].zfill(5).replace('1', '#').replace('0', ' ')"
   ]
  },
  {
   "cell_type": "code",
   "execution_count": 61,
   "metadata": {},
   "outputs": [
    {
     "data": {
      "text/plain": [
       "['#####', '# # #', '### #', '#  ##', '#####']"
      ]
     },
     "execution_count": 61,
     "metadata": {},
     "output_type": "execute_result"
    }
   ],
   "source": [
    "# 방법1\n",
    "def solution(n, arr1, arr2):\n",
    "    answer = []\n",
    "    for i in range(n):\n",
    "        secret = bin(arr1[i] | arr2[i])[2:].zfill(\n",
    "            n).replace('1', '#').replace('0', ' ')\n",
    "        answer.append(secret)\n",
    "    return answer\n",
    "\n",
    "\n",
    "n = 5\n",
    "arr1 = [9, 20, 28, 18, 11]\n",
    "arr2 = [30, 1, 21, 17, 28]\n",
    "solution(n,arr1,arr2)"
   ]
  },
  {
   "cell_type": "code",
   "execution_count": 62,
   "metadata": {},
   "outputs": [
    {
     "data": {
      "text/plain": [
       "['#####', '# # #', '### #', '#  ##', '#####']"
      ]
     },
     "execution_count": 62,
     "metadata": {},
     "output_type": "execute_result"
    }
   ],
   "source": [
    "# 방법2\n",
    "def solution(n, arr1, arr2):\n",
    "    answer = []\n",
    "    for a, b in zip(arr1,arr2):\n",
    "        secret = bin(a | b)[2:].zfill(\n",
    "            n).replace('1', '#').replace('0', ' ')\n",
    "        answer.append(secret)\n",
    "    return answer\n",
    "\n",
    "\n",
    "n = 5\n",
    "arr1 = [9, 20, 28, 18, 11]\n",
    "arr2 = [30, 1, 21, 17, 28]\n",
    "solution(n,arr1,arr2)"
   ]
  },
  {
   "cell_type": "markdown",
   "metadata": {},
   "source": [
    "#수업 #문자열 #문제4 #369게임  \n",
    "'36913699'와 같은 문자열이 입력되었을 때 박수를 몇 번 치는지 코드를 작성해주세요.  \n",
    "- '336699' => 6번\n",
    "- '123123' => 2번"
   ]
  },
  {
   "cell_type": "code",
   "execution_count": 63,
   "metadata": {},
   "outputs": [
    {
     "data": {
      "text/plain": [
       "7"
      ]
     },
     "execution_count": 63,
     "metadata": {},
     "output_type": "execute_result"
    }
   ],
   "source": [
    "s = '36913699'\n",
    "\n",
    "s.count('3') + s.count('6') + s.count('9')"
   ]
  },
  {
   "cell_type": "markdown",
   "metadata": {},
   "source": [
    "#수업 #문자열 #문제4-1 #369게임  \n",
    "'36913699'까지 오는동안 박수는 몇번 쳤을까요?  \n",
    "- 336699 => 84207113번\n",
    "- 123123 => 176889번"
   ]
  },
  {
   "cell_type": "code",
   "execution_count": 64,
   "metadata": {},
   "outputs": [
    {
     "data": {
      "text/plain": [
       "176889"
      ]
     },
     "execution_count": 64,
     "metadata": {},
     "output_type": "execute_result"
    }
   ],
   "source": [
    "s = str(list(range(123123)))\n",
    "\n",
    "s.count('3') + s.count('6') + s.count('9')"
   ]
  },
  {
   "cell_type": "markdown",
   "metadata": {},
   "source": [
    "#수업 #문자열 #문제5  \n",
    "1부터 10,000까지 8이라는 숫자가 총 몇번 나오는가?\n",
    "\n",
    "8이 포함되어 있는 숫자의 갯수를 카운팅 하는 것이 아니라 8이라는 숫자를 모두 카운팅 해야 한다.\n",
    "(※ 예를들어 8808은 3, 8888은 4로 카운팅 해야 함)"
   ]
  },
  {
   "cell_type": "code",
   "execution_count": 65,
   "metadata": {},
   "outputs": [
    {
     "data": {
      "text/plain": [
       "4000"
      ]
     },
     "execution_count": 65,
     "metadata": {},
     "output_type": "execute_result"
    }
   ],
   "source": [
    "s = str(list(range(10001)))\n",
    "\n",
    "s.count('8')"
   ]
  },
  {
   "cell_type": "markdown",
   "metadata": {},
   "source": [
    "#0908연습문제1 #문자열 #문제6  \n",
    "문자열 s에 마지막에 있는 문자열을 2번 더 붙이는 코드를 작성해주세요.  \n",
    "예) s = 'jun'   \n",
    "정답) 'junnn'"
   ]
  },
  {
   "cell_type": "code",
   "execution_count": 66,
   "metadata": {},
   "outputs": [
    {
     "name": "stdout",
     "output_type": "stream",
     "text": [
      "junnn\n"
     ]
    }
   ],
   "source": [
    "s = 'jun'\n",
    "s = s + s[-1] * 2\n",
    "print(s)"
   ]
  },
  {
   "cell_type": "markdown",
   "metadata": {},
   "source": [
    "#0908연습문제2 #문자열 #문제7  \n",
    "대문자는 소문자로 치환하는 코드를 작성해주세요.   \n",
    "예)  s = 'Jun'  \n",
    "정답) 'jun'"
   ]
  },
  {
   "cell_type": "code",
   "execution_count": 67,
   "metadata": {},
   "outputs": [
    {
     "name": "stdout",
     "output_type": "stream",
     "text": [
      "jun\n"
     ]
    }
   ],
   "source": [
    "s = 'Jun'\n",
    "s = s.lower()\n",
    "print(s)"
   ]
  },
  {
   "cell_type": "markdown",
   "metadata": {},
   "source": [
    "#0908연습문제3 #문자열 #문제8  \n",
    "'abcde', 숫자, 대쉬(-), 언더스코어(_)를 모두 제거해주세요.  \n",
    "예) s = 'hello_world123'  \n",
    "정답) 'hlloworl'"
   ]
  },
  {
   "cell_type": "code",
   "execution_count": 68,
   "metadata": {},
   "outputs": [
    {
     "data": {
      "text/plain": [
       "'hlloworl'"
      ]
     },
     "execution_count": 68,
     "metadata": {},
     "output_type": "execute_result"
    }
   ],
   "source": [
    "s = 'hello_world123'\n",
    "table = str.maketrans('', '', 'abcde0123456789-_')\n",
    "s.translate(table)"
   ]
  },
  {
   "cell_type": "markdown",
   "metadata": {},
   "source": [
    "#0911연습문제3번 #문자열 #문제9  \n",
    "어떤 이메일을 쓰고 있는지 출력하는 코드를 작성해주세요.\n",
    "\n",
    "```py\n",
    "email2 = abc@gmail.com # gmail\n",
    "email3 = abc@naver.com # naver\n",
    "email4 = abc@weniv.co.kr # weniv\n",
    "email5 = li.cat@weniv.co.kr # weniv\n",
    "```"
   ]
  },
  {
   "cell_type": "code",
   "execution_count": 69,
   "metadata": {},
   "outputs": [
    {
     "data": {
      "text/plain": [
       "'weniv'"
      ]
     },
     "execution_count": 69,
     "metadata": {},
     "output_type": "execute_result"
    }
   ],
   "source": [
    "# 방법1\n",
    "email1 = 'abc@gmail.com'  # gmail\n",
    "email2 = 'abc@naver.com'  # naver\n",
    "email3 = 'abc@weniv.co.kr'  # weniv\n",
    "email4 = 'li.cat@weniv.co.kr'  # weniv\n",
    "\n",
    "email4.split('@')[1].split('.')[0]"
   ]
  },
  {
   "cell_type": "code",
   "execution_count": 70,
   "metadata": {},
   "outputs": [
    {
     "name": "stdout",
     "output_type": "stream",
     "text": [
      "gmail\n",
      "naver\n",
      "weniv\n",
      "weniv\n"
     ]
    }
   ],
   "source": [
    "# 방법2\n",
    "email2 = \"abc@gmail.com\"  # gmail\n",
    "email3 = \"abc@naver.com\"  # naver\n",
    "email4 = \"abc@weniv.co.kr\"  # weniv\n",
    "email5 = \"li.cat@weniv.co.kr\"  # weniv\n",
    "\n",
    "\n",
    "def checkEmailName(mailAddress):\n",
    "    emailName = mailAddress.split('@')[-1].split('.')[0]\n",
    "    print(emailName)\n",
    "\n",
    "\n",
    "checkEmailName(email2)\n",
    "checkEmailName(email3)\n",
    "checkEmailName(email4)\n",
    "checkEmailName(email5)"
   ]
  },
  {
   "cell_type": "code",
   "execution_count": 71,
   "metadata": {},
   "outputs": [
    {
     "name": "stdout",
     "output_type": "stream",
     "text": [
      "gmail\n",
      "naver\n",
      "weniv\n",
      "weniv\n"
     ]
    }
   ],
   "source": [
    "# 방법3\n",
    "email2 = \"abc@gmail.com\"  # gmail\n",
    "email3 = \"abc@naver.com\"  # naver\n",
    "email4 = \"abc@weniv.co.kr\"  # weniv\n",
    "email5 = \"li.cat@weniv.co.kr\"  # weniv\n",
    "\n",
    "\n",
    "def getEmail(email: str) -> str:\n",
    "    return email.split(\"@\")[1].split(\".\")[0]\n",
    "\n",
    "\n",
    "print(getEmail(email2))\n",
    "print(getEmail(email3))\n",
    "print(getEmail(email4))\n",
    "print(getEmail(email5))"
   ]
  },
  {
   "cell_type": "markdown",
   "metadata": {},
   "source": [
    "# 연산자"
   ]
  },
  {
   "cell_type": "markdown",
   "metadata": {},
   "source": [
    "#0911연습문제1 #논리연산자  \n",
    "```py\n",
    "x = 3   \n",
    "y = 5   \n",
    "result = (isinstance(x, int) and isinstance(y, int)) # 여기에 논리연산자를 더 붙여 두 수를 더하는 코드를 만들어보세요.\n",
    "```"
   ]
  },
  {
   "cell_type": "code",
   "execution_count": 72,
   "metadata": {},
   "outputs": [
    {
     "data": {
      "text/plain": [
       "8"
      ]
     },
     "execution_count": 72,
     "metadata": {},
     "output_type": "execute_result"
    }
   ],
   "source": [
    "x = 3\n",
    "y = 5\n",
    "\n",
    "result = (isinstance(x, int) and isinstance(y, int)) and (x + y)\n",
    "result"
   ]
  },
  {
   "cell_type": "markdown",
   "metadata": {},
   "source": [
    "#0911연습문제2 #비교연산자  \n",
    "다음 각각의 출력값은 무엇일까요? 왜 그러한가요?  \n",
    "\n",
    "1. `print('hello' < 'hell o')`\n",
    "2. `print([10, 20, 30] < [10, 19, 100])`\n",
    "3. `print(10 % 3.3 == 0.1)`"
   ]
  },
  {
   "cell_type": "code",
   "execution_count": 73,
   "metadata": {},
   "outputs": [
    {
     "name": "stdout",
     "output_type": "stream",
     "text": [
      "False\n",
      "False\n",
      "False\n"
     ]
    }
   ],
   "source": [
    "print('hello' < 'hell o')\n",
    "# False\n",
    "# 'o' 와 ' '의 유니코드 비교('o' > ' ', True)\n",
    "# ('hello' < 'hell o') == False\n",
    "# True가 되기 위해서 'hello' > 'hell o'가 되어야 한다.\n",
    "\n",
    "print([10, 20, 30] < [10, 19, 100])  \n",
    "# False\n",
    "# 순서대로 비교\n",
    "# 리스트 안의 숫자들을 10부터 차례로 비교했을때 20은 19보다 크다.\n",
    "# True가 되기 위해서 [10, 20, 30] > [10, 19, 100]가 되어야 한다.\n",
    "\n",
    "print(10 % 3.3 == 0.1)  \n",
    "# False\n",
    "# 부동 소수점 문제로 정확한 값이 나오지 않는다.\n",
    "# 양쪽에 10읍 곱하고 계산 후 10을 나눠주면 해결할 수 있습니다."
   ]
  },
  {
   "cell_type": "markdown",
   "metadata": {},
   "source": [
    "#수업 #산술연산자   \n",
    "10000원짜리를 들고가서 1500원짜리 월드콘을 사먹었습니다.  \n",
    "거스름돈을 가장 적게 줄 수 있는 코드를 작성하세요.  "
   ]
  },
  {
   "cell_type": "code",
   "execution_count": 74,
   "metadata": {},
   "outputs": [
    {
     "name": "stdout",
     "output_type": "stream",
     "text": [
      "1 5000원\n",
      "3 1000원\n",
      "1 500원\n",
      "0 100원\n"
     ]
    }
   ],
   "source": [
    "# 그리디 알고리즘\n",
    "거스름돈 = 10000 - 1500\n",
    "\n",
    "print(거스름돈 // 5000, '5000원')\n",
    "거스름돈 %= 5000\n",
    "\n",
    "print(거스름돈 // 1000, '1000원')\n",
    "거스름돈 %= 1000\n",
    "\n",
    "print(거스름돈 // 500, '500원')\n",
    "거스름돈 %= 500\n",
    "\n",
    "print(거스름돈 // 100, '100원')\n",
    "거스름돈 %= 100"
   ]
  },
  {
   "cell_type": "markdown",
   "metadata": {},
   "source": [
    "# 함수"
   ]
  },
  {
   "cell_type": "markdown",
   "metadata": {},
   "source": [
    "#수업 #함수 #문제1  \n",
    "a와 b를 더한 값과 a와 b를 뺀 값을 곱하는 함수를 만들어주세요.\n",
    "```py\n",
    "a = 2\n",
    "b = 3\n",
    "```\n",
    "(2 + 3) * (2 - 3) = -5가 출력이 되어야 합니다.\n",
    "\n",
    "- 조건1: a가 입력되지 않으면 0이 입력됩니다.\n",
    "- 조건2: b가 입력되지 않으면 0이 입력됩니다."
   ]
  },
  {
   "cell_type": "code",
   "execution_count": 75,
   "metadata": {},
   "outputs": [
    {
     "data": {
      "text/plain": [
       "-5"
      ]
     },
     "execution_count": 75,
     "metadata": {},
     "output_type": "execute_result"
    }
   ],
   "source": [
    "a = 2\n",
    "b = 3\n",
    "\n",
    "def multiple (x=0, y=0):\n",
    "    return x * y\n",
    "\n",
    "def plus (x=0, y=0):\n",
    "    return x + y\n",
    "\n",
    "def minus (x=0, y=0):\n",
    "    return x - y\n",
    "\n",
    "multiple(plus(a,b), minus(a,b))"
   ]
  },
  {
   "cell_type": "markdown",
   "metadata": {},
   "source": [
    "#0912연습문제1 #함수 #문제2  \n",
    "다음 함수 is_palindrome를 완성하시오. 이 함수는 하나의 문자열을 인자로 받아, 해당 문자열이 팰린드롬(앞으로 읽으나 뒤로 읽으나 같은 단어나 구)이면 True를, 아니면 False를 반환해야 합니다."
   ]
  },
  {
   "cell_type": "code",
   "execution_count": 76,
   "metadata": {},
   "outputs": [
    {
     "name": "stdout",
     "output_type": "stream",
     "text": [
      "True\n",
      "False\n"
     ]
    }
   ],
   "source": [
    "def is_palindrome(s):\n",
    "    if s == s[::-1]:\n",
    "      return True\n",
    "    return False\n",
    "\n",
    "\n",
    "print(is_palindrome(\"level\"))  # 결과: True\n",
    "print(is_palindrome(\"python\"))  # 결과: False"
   ]
  },
  {
   "cell_type": "code",
   "execution_count": 77,
   "metadata": {},
   "outputs": [
    {
     "name": "stdout",
     "output_type": "stream",
     "text": [
      "True\n",
      "False\n"
     ]
    }
   ],
   "source": [
    "def is_palindrome(s):\n",
    "    if len(s) <= 1:\n",
    "        return True\n",
    "    elif s[0] == s[-1]:\n",
    "        return is_palindrome(s[1:-1])\n",
    "    return False\n",
    "\n",
    "\n",
    "print(is_palindrome(\"level\"))  # 결과: True\n",
    "print(is_palindrome(\"python\"))  # 결과: False"
   ]
  },
  {
   "cell_type": "code",
   "execution_count": 78,
   "metadata": {},
   "outputs": [
    {
     "name": "stdout",
     "output_type": "stream",
     "text": [
      "True\n",
      "False\n"
     ]
    }
   ],
   "source": [
    "def is_palindrome(s):\n",
    "    if list(reversed(s)) == list(s):\n",
    "      return True\n",
    "    return False\n",
    "\n",
    "\n",
    "print(is_palindrome(\"level\"))  # 결과: True\n",
    "print(is_palindrome(\"python\"))  # 결과: False"
   ]
  },
  {
   "cell_type": "markdown",
   "metadata": {},
   "source": [
    "#수업 #재귀함수 #문제1 #팩토리얼  \n",
    "다음 코드가 실행되는 순서를 나열하고 결과값을 적으세요.  \n",
    "```py\n",
    "def factorial(n):\n",
    "    if n <= 1:\n",
    "        return 1\n",
    "    return n * factorial(n-1)\n",
    "\n",
    "factorial(5)\n",
    "```"
   ]
  },
  {
   "cell_type": "code",
   "execution_count": 79,
   "metadata": {},
   "outputs": [
    {
     "data": {
      "text/plain": [
       "'\\n결과값 : 120\\n\\n함수 호출       return\\nfactorial(n)    n * factorial(n-1)\\nfactorial(5)    5 * factorial(4)    == 5 * 24\\nfactorial(4)    4 * factorial(3)    == 4 * 6\\nfactorial(3)    3 * factorial(2)    == 3 * 2\\nfactorial(2)    2 * factorial(1)    == 2 * 1\\nfactorial(1)    1\\n'"
      ]
     },
     "execution_count": 79,
     "metadata": {},
     "output_type": "execute_result"
    }
   ],
   "source": [
    "'''\n",
    "결과값 : 120\n",
    "\n",
    "함수 호출       return\n",
    "factorial(n)    n * factorial(n-1)\n",
    "factorial(5)    5 * factorial(4)    == 5 * 24\n",
    "factorial(4)    4 * factorial(3)    == 4 * 6\n",
    "factorial(3)    3 * factorial(2)    == 3 * 2\n",
    "factorial(2)    2 * factorial(1)    == 2 * 1\n",
    "factorial(1)    1\n",
    "'''"
   ]
  },
  {
   "cell_type": "markdown",
   "metadata": {},
   "source": [
    "#수업 #재귀함수 #문제2 #문자열뒤집기  \n",
    "다음 코드가 실행되는 순서를 나열하고 결과값을 적으세요.  \n",
    "```py\n",
    "def reversed_str(s):\n",
    "    if len(s) <= 1:\n",
    "        return s\n",
    "    return reversed_str(s[1:]) + s[0]\n",
    "\n",
    "\n",
    "reversed_str('hello')\n",
    "```"
   ]
  },
  {
   "cell_type": "code",
   "execution_count": 80,
   "metadata": {},
   "outputs": [
    {
     "data": {
      "text/plain": [
       "\"\\n결과값 : 'olleh'\\n\\n함수 호출               return\\nreversed_str(n)        reversed_str(s[1:]) + s[0]\\nreversed_str('hello')  reversed_str('ello') + 'h'   == 'olle' + 'h'\\nreversed_str('ello')   reversed_str('llo') + 'e'    == 'oll' + 'e'\\nreversed_str('llo')    reversed_str('lo') + 'l'     == 'ol' + 'l'\\nreversed_str('lo')     reversed_str('o') + 'l'      == 'o' + 'l'\\nreversed_str('o')      'o'                          == 'o'\\n\""
      ]
     },
     "execution_count": 80,
     "metadata": {},
     "output_type": "execute_result"
    }
   ],
   "source": [
    "'''\n",
    "결과값 : 'olleh'\n",
    "\n",
    "함수 호출               return\n",
    "reversed_str(n)        reversed_str(s[1:]) + s[0]\n",
    "reversed_str('hello')  reversed_str('ello') + 'h'   == 'olle' + 'h'\n",
    "reversed_str('ello')   reversed_str('llo') + 'e'    == 'oll' + 'e'\n",
    "reversed_str('llo')    reversed_str('lo') + 'l'     == 'ol' + 'l'\n",
    "reversed_str('lo')     reversed_str('o') + 'l'      == 'o' + 'l'\n",
    "reversed_str('o')      'o'                          == 'o'\n",
    "'''"
   ]
  },
  {
   "cell_type": "markdown",
   "metadata": {},
   "source": [
    "#수업 #내장함수  \n",
    "아래의 셀을 실행하여 다음 문제들을 풀어주세요."
   ]
  },
  {
   "cell_type": "code",
   "execution_count": 81,
   "metadata": {},
   "outputs": [],
   "source": [
    "data = [\n",
    "    [2, 'hello world', 30],\n",
    "    [3, 'hworl', 33],\n",
    "    [5, 'hello wo', 35],\n",
    "    [4, 'hello w', 31],\n",
    "    [6, 'hello w', 39]\n",
    "]"
   ]
  },
  {
   "cell_type": "markdown",
   "metadata": {},
   "source": [
    "#수업 #내장함수 #문제1  \n",
    "첫 번째 요소의 값을 정렬하세요."
   ]
  },
  {
   "cell_type": "code",
   "execution_count": 82,
   "metadata": {},
   "outputs": [
    {
     "data": {
      "text/plain": [
       "[[2, 'hello world', 30],\n",
       " [3, 'hworl', 33],\n",
       " [4, 'hello w', 31],\n",
       " [5, 'hello wo', 35],\n",
       " [6, 'hello w', 39]]"
      ]
     },
     "execution_count": 82,
     "metadata": {},
     "output_type": "execute_result"
    }
   ],
   "source": [
    "sorted(data)"
   ]
  },
  {
   "cell_type": "markdown",
   "metadata": {},
   "source": [
    "#수업 #내장함수 #문제2  \n",
    "두 번째 요소의 문자열 길이를 기준으로 정렬하세요."
   ]
  },
  {
   "cell_type": "code",
   "execution_count": 83,
   "metadata": {},
   "outputs": [
    {
     "data": {
      "text/plain": [
       "[[3, 'hworl', 33],\n",
       " [4, 'hello w', 31],\n",
       " [6, 'hello w', 39],\n",
       " [5, 'hello wo', 35],\n",
       " [2, 'hello world', 30]]"
      ]
     },
     "execution_count": 83,
     "metadata": {},
     "output_type": "execute_result"
    }
   ],
   "source": [
    "sorted(data, key=lambda x:len(x[1]))\n",
    "# sorted([11, 5, 7, 8, 7])를 정렬하는 것과 같습니다. \n",
    "# 다만 숫자 값으로 반환하는 것이 아니라 object로 반환하죠.'"
   ]
  },
  {
   "cell_type": "markdown",
   "metadata": {},
   "source": [
    "#수업 #내장함수 #문제3  \n",
    "세 번째 요소 기준으로 정렬하세요."
   ]
  },
  {
   "cell_type": "code",
   "execution_count": 84,
   "metadata": {},
   "outputs": [
    {
     "data": {
      "text/plain": [
       "[[2, 'hello world', 30],\n",
       " [4, 'hello w', 31],\n",
       " [3, 'hworl', 33],\n",
       " [5, 'hello wo', 35],\n",
       " [6, 'hello w', 39]]"
      ]
     },
     "execution_count": 84,
     "metadata": {},
     "output_type": "execute_result"
    }
   ],
   "source": [
    "sorted(data, key=lambda x:x[2])"
   ]
  },
  {
   "cell_type": "markdown",
   "metadata": {},
   "source": [
    "#수업 #내장함수 #문제4  \n",
    "첫번째 요소와 세 번째 요소의 차가 큰 순으로 출력해주세요.  \n",
    "예) [2, 'hello world', 30]의 경우 30 - 2 == 28입니다. 이런 차 순서대로 출력하시면 됩니다."
   ]
  },
  {
   "cell_type": "code",
   "execution_count": 85,
   "metadata": {},
   "outputs": [
    {
     "data": {
      "text/plain": [
       "[[6, 'hello w', 39],\n",
       " [3, 'hworl', 33],\n",
       " [5, 'hello wo', 35],\n",
       " [2, 'hello world', 30],\n",
       " [4, 'hello w', 31]]"
      ]
     },
     "execution_count": 85,
     "metadata": {},
     "output_type": "execute_result"
    }
   ],
   "source": [
    "# 방법1\n",
    "sorted(data, key=lambda x:x[0]-x[2])"
   ]
  },
  {
   "cell_type": "code",
   "execution_count": 86,
   "metadata": {},
   "outputs": [
    {
     "data": {
      "text/plain": [
       "[[6, 'hello w', 39],\n",
       " [3, 'hworl', 33],\n",
       " [5, 'hello wo', 35],\n",
       " [2, 'hello world', 30],\n",
       " [4, 'hello w', 31]]"
      ]
     },
     "execution_count": 86,
     "metadata": {},
     "output_type": "execute_result"
    }
   ],
   "source": [
    "# 방법2\n",
    "sorted(data, key=lambda x:x[2]-x[0], reverse=True)"
   ]
  },
  {
   "cell_type": "markdown",
   "metadata": {},
   "source": [
    "# 리스트"
   ]
  },
  {
   "cell_type": "markdown",
   "metadata": {},
   "source": [
    "#0912연습문제2 #리스트  \n",
    "리스트 numbers가 주어졌을 때, 이 리스트 내의 모든 짝수를 제거하는 코드를 작성하시오."
   ]
  },
  {
   "cell_type": "code",
   "execution_count": 87,
   "metadata": {},
   "outputs": [
    {
     "name": "stdout",
     "output_type": "stream",
     "text": [
      "[3, 5, 7, 9]\n"
     ]
    }
   ],
   "source": [
    "numbers = [2, 3, 4, 5, 6, 7, 8, 9, 10]\n",
    "\n",
    "numbers = list(filter(lambda x: x % 2 == 1, numbers))\n",
    "\n",
    "print(numbers)  # 결과: [3, 5, 7, 9]\n"
   ]
  },
  {
   "cell_type": "markdown",
   "metadata": {},
   "source": [
    "#수업 #리스트  \n",
    "list(range(101))와 슬라이싱을 사용해 아래 문제를 풀어주세요."
   ]
  },
  {
   "cell_type": "markdown",
   "metadata": {},
   "source": [
    "문제 1: 짝수를 모두 더해주세요"
   ]
  },
  {
   "cell_type": "code",
   "execution_count": null,
   "metadata": {},
   "outputs": [
    {
     "data": {
      "text/plain": [
       "2550"
      ]
     },
     "metadata": {},
     "output_type": "display_data"
    }
   ],
   "source": [
    "sum(list(range(101))[::2])"
   ]
  },
  {
   "cell_type": "markdown",
   "metadata": {},
   "source": [
    "문제 2: 3의 배수와 5의 배수를 모두 더해주세요."
   ]
  },
  {
   "cell_type": "code",
   "execution_count": null,
   "metadata": {},
   "outputs": [
    {
     "data": {
      "text/plain": [
       "2418"
      ]
     },
     "metadata": {},
     "output_type": "display_data"
    }
   ],
   "source": [
    "sum(list(range(101)[::3])) + sum(list(range(101)[::5])) - \\\n",
    "    sum(list(range(101)[::15]))"
   ]
  },
  {
   "cell_type": "markdown",
   "metadata": {},
   "source": [
    "보너스 : 1부터 90까지의 짝수르 모두 더하기"
   ]
  },
  {
   "cell_type": "code",
   "execution_count": null,
   "metadata": {},
   "outputs": [
    {
     "data": {
      "text/plain": [
       "2070"
      ]
     },
     "metadata": {},
     "output_type": "display_data"
    }
   ],
   "source": [
    "sum(list(range(101))[:91][::2])\n"
   ]
  },
  {
   "cell_type": "markdown",
   "metadata": {},
   "source": [
    "#수업 #연습문제 #리스트  \n",
    "[10, 20, 40, 50, 30]와 같은 리스트에서 20과 30 중간에 25라는 값을 삽입하고 싶습니다.  \n",
    "현재 리스트는 정렬되어 있지 않은데 이 리스트를 정렬하고 20과 30에 값을 index 메서드로 찾아 insert로 중간에 값을 삽입해주세요."
   ]
  },
  {
   "cell_type": "code",
   "execution_count": null,
   "metadata": {},
   "outputs": [
    {
     "data": {
      "text/plain": [
       "[10, 20, 25, 30, 40, 50]"
      ]
     },
     "metadata": {},
     "output_type": "display_data"
    }
   ],
   "source": [
    "#방법1\n",
    "s = sorted([10, 20, 40, 50, 30])\n",
    "s.insert(s.index(30), 25)\n",
    "s"
   ]
  },
  {
   "cell_type": "code",
   "execution_count": 88,
   "metadata": {},
   "outputs": [
    {
     "data": {
      "text/plain": [
       "[10, 20, 25, 30, 40, 50]"
      ]
     },
     "execution_count": 88,
     "metadata": {},
     "output_type": "execute_result"
    }
   ],
   "source": [
    "#방법2\n",
    "s = [10, 20, 40, 50, 30]\n",
    "s.append(25)\n",
    "sorted(s)"
   ]
  },
  {
   "cell_type": "markdown",
   "metadata": {},
   "source": [
    "#0913연습문제3 #문자열 #리스트  \n",
    "주어진 문자열 s = \"apple banana apple cherry banana cherry apple\"에서 가장 자주 등장하는 단어를 출력하세요."
   ]
  },
  {
   "cell_type": "code",
   "execution_count": 101,
   "metadata": {},
   "outputs": [
    {
     "name": "stdout",
     "output_type": "stream",
     "text": [
      "apple\n"
     ]
    }
   ],
   "source": [
    "s = \"apple banana apple cherry banana cherry apple\"\n",
    "\n",
    "# 방법1\n",
    "lst = s.split(' ')\n",
    "max_count = max(lst, key=lst.count)\n",
    "print(max_count)\n"
   ]
  },
  {
   "cell_type": "code",
   "execution_count": 100,
   "metadata": {},
   "outputs": [
    {
     "data": {
      "text/plain": [
       "[('apple', 3)]"
      ]
     },
     "execution_count": 100,
     "metadata": {},
     "output_type": "execute_result"
    }
   ],
   "source": [
    "from collections import Counter\n",
    "s = \"apple banana apple cherry banana cherry apple\"\n",
    "\n",
    "# 방법2\n",
    "result = Counter(s.split())\n",
    "# result.most_common()\n",
    "result.most_common(1)"
   ]
  },
  {
   "cell_type": "markdown",
   "metadata": {},
   "source": [
    "# 딕셔너리"
   ]
  },
  {
   "cell_type": "markdown",
   "metadata": {},
   "source": [
    "#수업 #딕셔너리  \n",
    "아래 코드를 실행시킨 후 문제를 풀어주세요."
   ]
  },
  {
   "cell_type": "code",
   "execution_count": 89,
   "metadata": {},
   "outputs": [],
   "source": [
    "국영수 = {'국어': 97, '영어': 38, '수학': 90}"
   ]
  },
  {
   "cell_type": "markdown",
   "metadata": {},
   "source": [
    "문제1: 다음 국영수 dict에 점수에 평균을 구하는 코드를 작성해주세요."
   ]
  },
  {
   "cell_type": "code",
   "execution_count": 90,
   "metadata": {},
   "outputs": [
    {
     "name": "stdout",
     "output_type": "stream",
     "text": [
      "75.0\n"
     ]
    }
   ],
   "source": [
    "국영수_평균_점수 = sum(국영수.values())/len(국영수)\n",
    "print(국영수_평균_점수)"
   ]
  },
  {
   "cell_type": "markdown",
   "metadata": {},
   "source": [
    "문제2: {'사회':70, '과학':85}가 추가되었습니다. dict에 평균을 구하는 코드를 작성해주세요."
   ]
  },
  {
   "cell_type": "code",
   "execution_count": null,
   "metadata": {},
   "outputs": [],
   "source": [
    "국영수.update({'사회': 70, '과학': 85})\n",
    "국영수사과 = 국영수\n",
    "국영수사과_점수리스트 = list(국영수사과.values())\n",
    "국영수사과_평균_점수 = sum(국영수사과_점수리스트)/len(국영수사과_점수리스트)\n",
    "print(국영수사과_평균_점수)\n"
   ]
  },
  {
   "cell_type": "markdown",
   "metadata": {},
   "source": [
    "문제3: 영어와 수학점수가 각각 10점씩 올랐습니다. 점수를 10점 추가하는 코드를 작성해주세요."
   ]
  },
  {
   "cell_type": "code",
   "execution_count": null,
   "metadata": {},
   "outputs": [],
   "source": [
    "# 국영수['영어'] += 10\n",
    "# 국영수['수학'] += 10\n",
    "\n",
    "# 아래는 영어와 수학이 없어도 반환해준다.\n",
    "국영수.update({'영어': 국영수.get('영어') + 10})\n",
    "국영수.update({'수학': 국영수.get('수학') + 10})\n",
    "print(국영수)"
   ]
  },
  {
   "cell_type": "markdown",
   "metadata": {},
   "source": [
    "문제4: 최종 점수에서 가장 높은 점수를 출력하는 코드를 작성해주세요."
   ]
  },
  {
   "cell_type": "code",
   "execution_count": null,
   "metadata": {},
   "outputs": [],
   "source": [
    "max(국영수.values())"
   ]
  },
  {
   "cell_type": "markdown",
   "metadata": {},
   "source": [
    "문제5: 가장 높은 점수의 과목을 출력해주세요.  \n",
    "[순서정하기](https://school.programmers.co.kr/learn/courses/30/lessons/120835) 문제와 유사합니다."
   ]
  },
  {
   "cell_type": "code",
   "execution_count": 92,
   "metadata": {},
   "outputs": [
    {
     "data": {
      "text/plain": [
       "'국어'"
      ]
     },
     "execution_count": 92,
     "metadata": {},
     "output_type": "execute_result"
    }
   ],
   "source": [
    "# 방법1\n",
    "max(국영수.items(), key=lambda x: x[1])[0]"
   ]
  },
  {
   "cell_type": "code",
   "execution_count": 93,
   "metadata": {},
   "outputs": [
    {
     "data": {
      "text/plain": [
       "'국어'"
      ]
     },
     "execution_count": 93,
     "metadata": {},
     "output_type": "execute_result"
    }
   ],
   "source": [
    "# 방법2\n",
    "max(국영수, key=국영수.get)"
   ]
  },
  {
   "cell_type": "code",
   "execution_count": 94,
   "metadata": {},
   "outputs": [
    {
     "data": {
      "text/plain": [
       "'국어'"
      ]
     },
     "execution_count": 94,
     "metadata": {},
     "output_type": "execute_result"
    }
   ],
   "source": [
    "# 방법3\n",
    "list(sorted(국영수.items(), key=lambda x: x[1], reverse=True))[0][0]"
   ]
  },
  {
   "cell_type": "code",
   "execution_count": 97,
   "metadata": {},
   "outputs": [
    {
     "data": {
      "text/plain": [
       "'국어'"
      ]
     },
     "execution_count": 97,
     "metadata": {},
     "output_type": "execute_result"
    }
   ],
   "source": [
    "# 방법4\n",
    "values = list(국영수.values())\n",
    "list(국영수.keys())[values.index(max(values))]"
   ]
  },
  {
   "cell_type": "markdown",
   "metadata": {},
   "source": [
    "#0913연습문제1 #딕셔너리 #리스트  \n",
    "주어진 리스트 \n",
    "```py\n",
    "data = [\n",
    "  {\"이름\": \"길동\", \"수학\": 3, \"과학\": 93}, \n",
    "  {\"이름\": \"춘향\", \"수학\": 33, \"수학\": 11}, \n",
    "  {\"이름\": \"철수\", \"수학\": 94, \"과학\": 67}\n",
    "]\n",
    "```\n",
    "에서 평균점수가 가장 높은 학생에 이름을 출력하세요."
   ]
  },
  {
   "cell_type": "code",
   "execution_count": 104,
   "metadata": {},
   "outputs": [
    {
     "name": "stdout",
     "output_type": "stream",
     "text": [
      "철수\n"
     ]
    }
   ],
   "source": [
    "data = [\n",
    "    {\"이름\": \"길동\", \"수학\": 3, \"과학\": 93},\n",
    "    {\"이름\": \"춘향\", \"수학\": 33, \"과학\": 11},\n",
    "    {\"이름\": \"철수\", \"수학\": 94, \"과학\": 67}\n",
    "]\n",
    "\n",
    "print(max(data, key=lambda x: sum(list(x.values())[1:]))[\"이름\"])\n"
   ]
  },
  {
   "cell_type": "markdown",
   "metadata": {},
   "source": [
    "#0913연습문제2 #딕셔너리  \n",
    "주어진 사전 `grades = {\"Tom\": 87, \"Jerry\": 95, \"Mickey\": 70}`의 모든 값을 5점씩 증가시키고 결과를 출력하세요."
   ]
  },
  {
   "cell_type": "code",
   "execution_count": 102,
   "metadata": {},
   "outputs": [
    {
     "name": "stdout",
     "output_type": "stream",
     "text": [
      "{'Tom': 92, 'Jerry': 100, 'Mickey': 75}\n"
     ]
    }
   ],
   "source": [
    "# 방법1\n",
    "grades = {\"Tom\": 87, \"Jerry\": 95, \"Mickey\": 70}\n",
    "\n",
    "for i in grades:\n",
    "    grades.update({i: grades.get(i)+5})\n",
    "\n",
    "print(grades)"
   ]
  },
  {
   "cell_type": "code",
   "execution_count": 103,
   "metadata": {},
   "outputs": [
    {
     "name": "stdout",
     "output_type": "stream",
     "text": [
      "{'Tom': 92, 'Jerry': 100, 'Mickey': 75}\n"
     ]
    }
   ],
   "source": [
    "# 방법2\n",
    "grades = {\"Tom\": 87, \"Jerry\": 95, \"Mickey\": 70}\n",
    "\n",
    "updated_grades = {name: score + 5 for name, score in grades.items()}\n",
    "print(updated_grades)"
   ]
  }
 ],
 "metadata": {
  "kernelspec": {
   "display_name": "Python 3",
   "language": "python",
   "name": "python3"
  },
  "language_info": {
   "codemirror_mode": {
    "name": "ipython",
    "version": 3
   },
   "file_extension": ".py",
   "mimetype": "text/x-python",
   "name": "python",
   "nbconvert_exporter": "python",
   "pygments_lexer": "ipython3",
   "version": "3.9.2"
  },
  "orig_nbformat": 4
 },
 "nbformat": 4,
 "nbformat_minor": 2
}
