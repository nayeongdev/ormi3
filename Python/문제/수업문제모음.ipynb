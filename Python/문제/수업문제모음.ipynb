{
 "cells": [
  {
   "cell_type": "markdown",
   "metadata": {},
   "source": [
    "#수업 #정수형 # 문제1  \n",
    "x = 100  \n",
    "y = 100  \n",
    "z = x\n",
    "\n",
    "다음 화살표를 그려보세요!"
   ]
  },
  {
   "cell_type": "code",
   "execution_count": null,
   "metadata": {},
   "outputs": [],
   "source": []
  },
  {
   "cell_type": "markdown",
   "metadata": {},
   "source": [
    "#수업 #정수형 # 문제2  \n",
    "x = 258  \n",
    "y = 258  \n",
    "z = x\n",
    "\n",
    "다음 화살표를 그려보세요!"
   ]
  },
  {
   "cell_type": "code",
   "execution_count": null,
   "metadata": {},
   "outputs": [],
   "source": []
  },
  {
   "cell_type": "markdown",
   "metadata": {},
   "source": [
    "#수업 #실수형  \n",
    "0.1 + 0.2 연산을 하면 0.30000000000000004의 결과가 나옵니다.  \n",
    "왜 이런 현상이 생길까요?"
   ]
  },
  {
   "cell_type": "code",
   "execution_count": null,
   "metadata": {},
   "outputs": [],
   "source": []
  },
  {
   "cell_type": "markdown",
   "metadata": {},
   "source": [
    "#수업 #문자열 #문제1  \n",
    "아래와 같은 파일 이름이 있습니다.  \n",
    "s = 'python3.png'  \n",
    "  \n",
    "- 문제1-1 : 파일 이름을 출력하세요 (출력: python3)\n",
    "- 문제1-2 : 확장자를 출력하세요 (출력: png)"
   ]
  },
  {
   "cell_type": "code",
   "execution_count": null,
   "metadata": {},
   "outputs": [],
   "source": []
  },
  {
   "cell_type": "markdown",
   "metadata": {},
   "source": [
    "#수업 #문자열 #문제1-2   \n",
    "항상 확장자만 나오게 해주세요.  \n",
    "\n",
    "예시1) 'python3.png'  \n",
    "정답1) png  \n",
    "\n",
    "예시2) 'li.cat.jpeg'  \n",
    "정답2) jpeg   "
   ]
  },
  {
   "cell_type": "code",
   "execution_count": null,
   "metadata": {},
   "outputs": [],
   "source": []
  },
  {
   "cell_type": "markdown",
   "metadata": {},
   "source": [
    "#수업 #문자열 #문제2  \n",
    "'010-1000-2000'을 입력받아 01010002000을 출력해주세요."
   ]
  },
  {
   "cell_type": "code",
   "execution_count": null,
   "metadata": {},
   "outputs": [],
   "source": []
  },
  {
   "cell_type": "markdown",
   "metadata": {},
   "source": [
    "#수업 #문자열 #문제3 #[비밀지도](https://school.programmers.co.kr/learn/courses/30/lessons/17681)\n",
    "1. 지도는 한 변의 길이가 n인 정사각형 배열 형태로, 각 칸은 \"공백\"(\" \") 또는 \"벽\"(\"#\") 두 종류로 이루어져 있다.\n",
    "2. 전체 지도는 두 장의 지도를 겹쳐서 얻을 수 있다. 각각 \"지도 1\"과 \"지도 2\"라고 하자. 지도 1 또는 지도 2 중 어느 하나라도 벽인 부분은 전체 지도에서도 벽이다. 지도 1과 지도 2에서 모두 공백인 부분은 전체 지도에서도 공백이다.\n",
    "3. \"지도 1\"과 \"지도 2\"는 각각 정수 배열로 암호화되어 있다.\n",
    "암호화된 배열은 지도의 각 가로줄에서 벽 부분을 1, 공백 부분을 0으로 부호화했을 때 얻어지는 이진수에 해당하는 값의 배열이다.\n",
    "\n",
    "[입력형식]  \n",
    "입력으로 지도의 한 변 크기 n 과 2개의 정수 배열 arr1, arr2가 들어온다.  \n",
    "- 1 ≦ n ≦ 16\n",
    "- arr1, arr2는 길이 n인 정수 배열로 주어진다.\n",
    "- 정수 배열의 각 원소 x를 이진수로 변환했을 때의 길이는 n 이하이다. 즉, 0 ≦ x ≦ 2n - 1을 만족한다.\n",
    "\n",
    "[출력 형식]   \n",
    "원래의 비밀지도를 해독하여 '#', 공백으로 구성된 문자열 배열로 출력하라.\n",
    "\n",
    "[입출력 예제]\n",
    "매개변수\t| 값\n",
    "---|---\n",
    "n\t|5\n",
    "arr1|\t[9, 20, 28, 18, 11]\n",
    "arr2|\t[30, 1, 21, 17, 28]\n",
    "출력|\t[\"#####\",\"# # #\", \"### #\", \"# ##\", \"#####\"]"
   ]
  },
  {
   "cell_type": "code",
   "execution_count": null,
   "metadata": {},
   "outputs": [],
   "source": [
    "n = 5\n",
    "a1 = [9, 20, 28, 18, 11]\n",
    "a2 = [30, 1, 21, 17, 28]\n",
    "\n",
    "# 답을 여기에 작성해주세요"
   ]
  },
  {
   "cell_type": "markdown",
   "metadata": {},
   "source": [
    "#수업 #문자열 #문제4 #369게임  \n",
    "'36913699'와 같은 문자열이 입력되었을 때 박수를 몇 번 치는지 코드를 작성해주세요.  \n",
    "- '336699' => 6번\n",
    "- '123123' => 2번"
   ]
  },
  {
   "cell_type": "code",
   "execution_count": null,
   "metadata": {},
   "outputs": [],
   "source": []
  },
  {
   "cell_type": "markdown",
   "metadata": {},
   "source": [
    "#수업 #문자열 #문제4-1 #369게임  \n",
    "'36913699'까지 오는동안 박수는 몇번 쳤을까요?\n",
    "- 336699 => 84207113번\n",
    "- 123123 => 176889번"
   ]
  },
  {
   "cell_type": "code",
   "execution_count": null,
   "metadata": {},
   "outputs": [],
   "source": []
  },
  {
   "cell_type": "markdown",
   "metadata": {},
   "source": [
    "#수업 #문자열 #문제5  \n",
    "1부터 10,000까지 8이라는 숫자가 총 몇번 나오는가?\n",
    "\n",
    "8이 포함되어 있는 숫자의 갯수를 카운팅 하는 것이 아니라 8이라는 숫자를 모두 카운팅 해야 한다.\n",
    "(※ 예를들어 8808은 3, 8888은 4로 카운팅 해야 함)"
   ]
  },
  {
   "cell_type": "code",
   "execution_count": null,
   "metadata": {},
   "outputs": [],
   "source": []
  },
  {
   "cell_type": "markdown",
   "metadata": {},
   "source": [
    "#0908연습문제1 #문자열 #문제6  \n",
    "문자열 s에 마지막에 있는 문자열을 2번 더 붙이는 코드를 작성해주세요.  \n",
    "예) s = 'jun'   \n",
    "정답) 'junnn'"
   ]
  },
  {
   "cell_type": "code",
   "execution_count": null,
   "metadata": {},
   "outputs": [],
   "source": []
  },
  {
   "cell_type": "markdown",
   "metadata": {},
   "source": [
    "#0908연습문제2 #문자열 #문제7  \n",
    "대문자는 소문자로 치환하는 코드를 작성해주세요.   \n",
    "예)  s = 'Jun'  \n",
    "정답) 'jun'"
   ]
  },
  {
   "cell_type": "code",
   "execution_count": null,
   "metadata": {},
   "outputs": [],
   "source": []
  },
  {
   "cell_type": "markdown",
   "metadata": {},
   "source": [
    "#0908연습문제3 #문자열 #문제8  \n",
    "'abcde', 숫자, 대쉬(-), 언더스코어(_)를 모두 제거해주세요.  \n",
    "예) s = 'hello_world123'  \n",
    "정답) 'hlloworl'"
   ]
  },
  {
   "cell_type": "code",
   "execution_count": null,
   "metadata": {},
   "outputs": [],
   "source": []
  },
  {
   "cell_type": "markdown",
   "metadata": {},
   "source": []
  },
  {
   "cell_type": "code",
   "execution_count": null,
   "metadata": {},
   "outputs": [],
   "source": []
  }
 ],
 "metadata": {
  "language_info": {
   "name": "python"
  },
  "orig_nbformat": 4
 },
 "nbformat": 4,
 "nbformat_minor": 2
}
