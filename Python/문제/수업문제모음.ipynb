{
 "cells": [
  {
   "cell_type": "markdown",
   "metadata": {},
   "source": [
    "# 자료형"
   ]
  },
  {
   "cell_type": "markdown",
   "metadata": {},
   "source": [
    "#수업 #정수형 # 문제1  \n",
    "x = 100  \n",
    "y = 100  \n",
    "z = x\n",
    "\n",
    "다음 화살표를 그려보세요!"
   ]
  },
  {
   "cell_type": "code",
   "execution_count": null,
   "metadata": {},
   "outputs": [],
   "source": []
  },
  {
   "cell_type": "markdown",
   "metadata": {},
   "source": [
    "#수업 #정수형 # 문제2  \n",
    "x = 258  \n",
    "y = 258  \n",
    "z = x\n",
    "\n",
    "다음 화살표를 그려보세요!"
   ]
  },
  {
   "cell_type": "code",
   "execution_count": null,
   "metadata": {},
   "outputs": [],
   "source": []
  },
  {
   "cell_type": "markdown",
   "metadata": {},
   "source": [
    "#수업 #실수형  \n",
    "0.1 + 0.2 연산을 하면 0.30000000000000004의 결과가 나옵니다.  \n",
    "왜 이런 현상이 생길까요?"
   ]
  },
  {
   "cell_type": "code",
   "execution_count": null,
   "metadata": {},
   "outputs": [],
   "source": []
  },
  {
   "cell_type": "markdown",
   "metadata": {},
   "source": [
    "#수업 #문자열 #문제1  \n",
    "아래와 같은 파일 이름이 있습니다.  \n",
    "s = 'python3.png'  \n",
    "  \n",
    "- 문제1-1 : 파일 이름을 출력하세요 (출력: python3)\n",
    "- 문제1-2 : 확장자를 출력하세요 (출력: png)"
   ]
  },
  {
   "cell_type": "code",
   "execution_count": null,
   "metadata": {},
   "outputs": [],
   "source": []
  },
  {
   "cell_type": "markdown",
   "metadata": {},
   "source": [
    "#수업 #문자열 #문제1-2   \n",
    "항상 확장자만 나오게 해주세요.  \n",
    "\n",
    "예시1) 'python3.png'  \n",
    "정답1) png  \n",
    "\n",
    "예시2) 'li.cat.jpeg'  \n",
    "정답2) jpeg   "
   ]
  },
  {
   "cell_type": "code",
   "execution_count": null,
   "metadata": {},
   "outputs": [],
   "source": []
  },
  {
   "cell_type": "markdown",
   "metadata": {},
   "source": [
    "#수업 #문자열 #문제2  \n",
    "'010-1000-2000'을 입력받아 01010002000을 출력해주세요."
   ]
  },
  {
   "cell_type": "code",
   "execution_count": null,
   "metadata": {},
   "outputs": [],
   "source": []
  },
  {
   "cell_type": "markdown",
   "metadata": {},
   "source": [
    "#수업 #문자열 #문제3 #[비밀지도](https://school.programmers.co.kr/learn/courses/30/lessons/17681)\n",
    "1. 지도는 한 변의 길이가 n인 정사각형 배열 형태로, 각 칸은 \"공백\"(\" \") 또는 \"벽\"(\"#\") 두 종류로 이루어져 있다.\n",
    "2. 전체 지도는 두 장의 지도를 겹쳐서 얻을 수 있다. 각각 \"지도 1\"과 \"지도 2\"라고 하자. 지도 1 또는 지도 2 중 어느 하나라도 벽인 부분은 전체 지도에서도 벽이다. 지도 1과 지도 2에서 모두 공백인 부분은 전체 지도에서도 공백이다.\n",
    "3. \"지도 1\"과 \"지도 2\"는 각각 정수 배열로 암호화되어 있다.\n",
    "암호화된 배열은 지도의 각 가로줄에서 벽 부분을 1, 공백 부분을 0으로 부호화했을 때 얻어지는 이진수에 해당하는 값의 배열이다.\n",
    "\n",
    "[입력형식]  \n",
    "입력으로 지도의 한 변 크기 n 과 2개의 정수 배열 arr1, arr2가 들어온다.  \n",
    "- 1 ≦ n ≦ 16\n",
    "- arr1, arr2는 길이 n인 정수 배열로 주어진다.\n",
    "- 정수 배열의 각 원소 x를 이진수로 변환했을 때의 길이는 n 이하이다. 즉, 0 ≦ x ≦ 2n - 1을 만족한다.\n",
    "\n",
    "[출력 형식]   \n",
    "원래의 비밀지도를 해독하여 '#', 공백으로 구성된 문자열 배열로 출력하라.\n",
    "\n",
    "[입출력 예제]\n",
    "매개변수\t| 값\n",
    "---|---\n",
    "n\t|5\n",
    "arr1|\t[9, 20, 28, 18, 11]\n",
    "arr2|\t[30, 1, 21, 17, 28]\n",
    "출력|\t[\"#####\",\"# # #\", \"### #\", \"# ##\", \"#####\"]"
   ]
  },
  {
   "cell_type": "code",
   "execution_count": null,
   "metadata": {},
   "outputs": [],
   "source": [
    "n = 5\n",
    "a1 = [9, 20, 28, 18, 11]\n",
    "a2 = [30, 1, 21, 17, 28]\n",
    "\n",
    "# 답을 여기에 작성해주세요"
   ]
  },
  {
   "cell_type": "markdown",
   "metadata": {},
   "source": [
    "#수업 #문자열 #문제4 #369게임  \n",
    "'36913699'와 같은 문자열이 입력되었을 때 박수를 몇 번 치는지 코드를 작성해주세요.  \n",
    "- '336699' => 6번\n",
    "- '123123' => 2번"
   ]
  },
  {
   "cell_type": "code",
   "execution_count": null,
   "metadata": {},
   "outputs": [],
   "source": []
  },
  {
   "cell_type": "markdown",
   "metadata": {},
   "source": [
    "#수업 #문자열 #문제4-1 #369게임  \n",
    "'36913699'까지 오는동안 박수는 몇번 쳤을까요?\n",
    "- 336699 => 84207113번\n",
    "- 123123 => 176889번"
   ]
  },
  {
   "cell_type": "code",
   "execution_count": null,
   "metadata": {},
   "outputs": [],
   "source": []
  },
  {
   "cell_type": "markdown",
   "metadata": {},
   "source": [
    "#수업 #문자열 #문제5  \n",
    "1부터 10,000까지 8이라는 숫자가 총 몇번 나오는가?\n",
    "\n",
    "8이 포함되어 있는 숫자의 갯수를 카운팅 하는 것이 아니라 8이라는 숫자를 모두 카운팅 해야 한다.\n",
    "(※ 예를들어 8808은 3, 8888은 4로 카운팅 해야 함)"
   ]
  },
  {
   "cell_type": "code",
   "execution_count": null,
   "metadata": {},
   "outputs": [],
   "source": []
  },
  {
   "cell_type": "markdown",
   "metadata": {},
   "source": [
    "#0908연습문제1 #문자열 #문제6  \n",
    "문자열 s에 마지막에 있는 문자열을 2번 더 붙이는 코드를 작성해주세요.  \n",
    "예) s = 'jun'   \n",
    "정답) 'junnn'"
   ]
  },
  {
   "cell_type": "code",
   "execution_count": null,
   "metadata": {},
   "outputs": [],
   "source": []
  },
  {
   "cell_type": "markdown",
   "metadata": {},
   "source": [
    "#0908연습문제2 #문자열 #문제7  \n",
    "대문자는 소문자로 치환하는 코드를 작성해주세요.   \n",
    "예)  s = 'Jun'  \n",
    "정답) 'jun'"
   ]
  },
  {
   "cell_type": "code",
   "execution_count": null,
   "metadata": {},
   "outputs": [],
   "source": []
  },
  {
   "cell_type": "markdown",
   "metadata": {},
   "source": [
    "#0908연습문제3 #문자열 #문제8  \n",
    "'abcde', 숫자, 대쉬(-), 언더스코어(_)를 모두 제거해주세요.  \n",
    "예) s = 'hello_world123'  \n",
    "정답) 'hlloworl'"
   ]
  },
  {
   "cell_type": "code",
   "execution_count": null,
   "metadata": {},
   "outputs": [],
   "source": []
  },
  {
   "cell_type": "markdown",
   "metadata": {},
   "source": [
    "#0911연습문제3번 #문자열 #문제9  \n",
    "어떤 이메일을 쓰고 있는지 출력하는 코드를 작성해주세요.\n",
    "\n",
    "```py\n",
    "email2 = abc@gmail.com # gmail\n",
    "email3 = abc@naver.com # naver\n",
    "email4 = abc@weniv.co.kr # weniv\n",
    "email5 = li.cat@weniv.co.kr # weniv\n",
    "```"
   ]
  },
  {
   "cell_type": "code",
   "execution_count": null,
   "metadata": {},
   "outputs": [],
   "source": []
  },
  {
   "cell_type": "markdown",
   "metadata": {},
   "source": [
    "# 연산자"
   ]
  },
  {
   "cell_type": "markdown",
   "metadata": {},
   "source": [
    "#0911연습문제1 #논리연산자  \n",
    "```py\n",
    "x = 3   \n",
    "y = 5   \n",
    "result = (isinstance(x, int) and isinstance(y, int)) # 여기에 논리연산자를 더 붙여 두 수를 더하는 코드를 만들어보세요.\n",
    "```"
   ]
  },
  {
   "cell_type": "code",
   "execution_count": null,
   "metadata": {},
   "outputs": [],
   "source": [
    "x = 3\n",
    "y = 5\n",
    "result = (isinstance(x, int) and isinstance(y, int)) # 여기에 논리연산자를 더 붙여 두 수를 더하는 코드를 만들어보세요."
   ]
  },
  {
   "cell_type": "markdown",
   "metadata": {},
   "source": [
    "#0911연습문제2 #비교연산자  \n",
    "다음 각각의 출력값은 무엇일까요? 왜 그러한가요?  \n",
    "\n",
    "1. `print('hello' < 'hell o')`\n",
    "2. `print([10, 20, 30] < [10, 19, 100])`\n",
    "3. `print(10 % 3.3 == 0.1)`"
   ]
  },
  {
   "cell_type": "code",
   "execution_count": null,
   "metadata": {},
   "outputs": [],
   "source": []
  },
  {
   "cell_type": "markdown",
   "metadata": {},
   "source": [
    "#수업 #산술연산자   \n",
    "10000원짜리를 들고가서 1500원짜리 월드콘을 사먹었습니다.  \n",
    "거스름돈을 가장 적게 줄 수 있는 코드를 작성하세요.  "
   ]
  },
  {
   "cell_type": "code",
   "execution_count": null,
   "metadata": {},
   "outputs": [],
   "source": []
  },
  {
   "cell_type": "markdown",
   "metadata": {},
   "source": [
    "# 함수"
   ]
  },
  {
   "cell_type": "markdown",
   "metadata": {},
   "source": [
    "#수업 #함수 #문제1  \n",
    "a와 b를 더한 값과 a와 b를 뺀 값을 곱하는 함수를 만들어주세요.\n",
    "```py\n",
    "a = 2\n",
    "b = 3\n",
    "```\n",
    "(2 + 3) * (2 - 3) = -5가 출력이 되어야 합니다.\n",
    "\n",
    "- 조건1: a가 입력되지 않으면 0이 입력됩니다.\n",
    "- 조건2: b가 입력되지 않으면 0이 입력됩니다."
   ]
  },
  {
   "cell_type": "code",
   "execution_count": null,
   "metadata": {},
   "outputs": [],
   "source": [
    "a = 2\n",
    "b = 3\n",
    "\n",
    "# 여기에 답을 작성해주세요"
   ]
  },
  {
   "cell_type": "markdown",
   "metadata": {},
   "source": [
    "#0912연습문제1 #함수 #문제2  \n",
    "다음 함수 is_palindrome를 완성하시오. 이 함수는 하나의 문자열을 인자로 받아, 해당 문자열이 팰린드롬(앞으로 읽으나 뒤로 읽으나 같은 단어나 구)이면 True를, 아니면 False를 반환해야 합니다."
   ]
  },
  {
   "cell_type": "code",
   "execution_count": null,
   "metadata": {},
   "outputs": [],
   "source": [
    "def is_palindrome(s):\n",
    "    # 아래 pass를 지우고 여기에 답을 작성해주세요\n",
    "    pass\n",
    "\n",
    "\n",
    "print(is_palindrome(\"level\"))  # 결과: True\n",
    "print(is_palindrome(\"python\"))  # 결과: False"
   ]
  },
  {
   "cell_type": "markdown",
   "metadata": {},
   "source": [
    "#수업 #재귀함수 #문제1 #팩토리얼  \n",
    "다음 코드가 실행되는 순서를 나열하고 결과값을 적으세요.  \n",
    "```py\n",
    "def factorial(n):\n",
    "    if n <= 1:\n",
    "        return 1\n",
    "    return n * factorial(n-1)\n",
    "\n",
    "factorial(5)\n",
    "```"
   ]
  },
  {
   "cell_type": "code",
   "execution_count": null,
   "metadata": {},
   "outputs": [],
   "source": [
    "'''\n",
    "결과값 :     # 여기에 답을 작성해주세요\n",
    "\n",
    "\n",
    "함수 호출       return\n",
    "# 여기에 답을 작성해주세요\n",
    "\n",
    "'''"
   ]
  },
  {
   "cell_type": "markdown",
   "metadata": {},
   "source": [
    "#수업 #재귀함수 #문제2 #문자열뒤집기  \n",
    "다음 코드가 실행되는 순서를 나열하고 결과값을 적으세요.  \n",
    "```py\n",
    "def reversed_str(s):\n",
    "    if len(s) <= 1:\n",
    "        return s\n",
    "    return reversed_str(s[1:]) + s[0]\n",
    "\n",
    "\n",
    "reversed_str('hello')\n",
    "```"
   ]
  },
  {
   "cell_type": "code",
   "execution_count": null,
   "metadata": {},
   "outputs": [],
   "source": [
    "'''\n",
    "결과값 : # 여기에 답을 작성해주세요\n",
    "\n",
    "함수 호출               return\n",
    "# 여기에 답을 작성해주세요\n",
    "'''"
   ]
  },
  {
   "cell_type": "markdown",
   "metadata": {},
   "source": [
    "#수업 #내장함수  \n",
    "아래의 셀을 실행하여 다음 문제들을 풀어주세요."
   ]
  },
  {
   "cell_type": "code",
   "execution_count": null,
   "metadata": {},
   "outputs": [],
   "source": [
    "data = [\n",
    "    [2, 'hello world', 30],\n",
    "    [3, 'hworl', 33],\n",
    "    [5, 'hello wo', 35],\n",
    "    [4, 'hello w', 31],\n",
    "    [6, 'hello w', 39]\n",
    "]"
   ]
  },
  {
   "cell_type": "markdown",
   "metadata": {},
   "source": [
    "#수업 #내장함수 #문제1  \n",
    "첫 번째 요소의 값을 정렬하세요."
   ]
  },
  {
   "cell_type": "code",
   "execution_count": null,
   "metadata": {},
   "outputs": [],
   "source": []
  },
  {
   "cell_type": "markdown",
   "metadata": {},
   "source": [
    "#수업 #내장함수 #문제2  \n",
    "두 번째 요소의 문자열 길이를 기준으로 정렬하세요."
   ]
  },
  {
   "cell_type": "code",
   "execution_count": null,
   "metadata": {},
   "outputs": [],
   "source": []
  },
  {
   "cell_type": "markdown",
   "metadata": {},
   "source": [
    "#수업 #내장함수 #문제3  \n",
    "세 번째 요소 기준으로 정렬하세요."
   ]
  },
  {
   "cell_type": "code",
   "execution_count": null,
   "metadata": {},
   "outputs": [],
   "source": []
  },
  {
   "cell_type": "markdown",
   "metadata": {},
   "source": [
    "#수업 #내장함수 #문제4  \n",
    "첫번째 요소와 세 번째 요소의 차가 큰 순으로 출력해주세요.  \n",
    "예) [2, 'hello world', 30]의 경우 30 - 2 == 28입니다. 이런 차 순서대로 출력하시면 됩니다."
   ]
  },
  {
   "cell_type": "code",
   "execution_count": null,
   "metadata": {},
   "outputs": [],
   "source": []
  },
  {
   "cell_type": "markdown",
   "metadata": {},
   "source": [
    "# 리스트"
   ]
  },
  {
   "cell_type": "markdown",
   "metadata": {},
   "source": [
    "#0912연습문제2 #리스트 #내장함수  \n",
    "리스트 numbers가 주어졌을 때, 이 리스트 내의 모든 짝수를 제거하는 코드를 작성하시오."
   ]
  },
  {
   "cell_type": "code",
   "execution_count": null,
   "metadata": {},
   "outputs": [],
   "source": [
    "numbers = [2, 3, 4, 5, 6, 7, 8, 9, 10]\n",
    "\n",
    "# 여기에 답을 작성해주세요\n",
    "\n",
    "print(numbers)  # 결과: [3, 5, 7, 9]"
   ]
  },
  {
   "cell_type": "markdown",
   "metadata": {},
   "source": [
    "#수업 #리스트  \n",
    "list(range(101))와 슬라이싱을 사용해 아래 문제를 풀어주세요."
   ]
  },
  {
   "cell_type": "markdown",
   "metadata": {},
   "source": [
    "문제 1: 짝수를 모두 더해주세요"
   ]
  },
  {
   "cell_type": "code",
   "execution_count": null,
   "metadata": {},
   "outputs": [],
   "source": []
  },
  {
   "cell_type": "markdown",
   "metadata": {},
   "source": [
    "문제 2: 3의 배수와 5의 배수를 모두 더해주세요."
   ]
  },
  {
   "cell_type": "code",
   "execution_count": null,
   "metadata": {},
   "outputs": [],
   "source": []
  },
  {
   "cell_type": "markdown",
   "metadata": {},
   "source": [
    "보너스 : 1부터 90까지의 짝수르 모두 더하기"
   ]
  },
  {
   "cell_type": "code",
   "execution_count": null,
   "metadata": {},
   "outputs": [],
   "source": []
  },
  {
   "cell_type": "markdown",
   "metadata": {},
   "source": [
    "#수업 #연습문제 #리스트  \n",
    "[10, 20, 40, 50, 30]와 같은 리스트에서 20과 30 중간에 25라는 값을 삽입하고 싶습니다.  \n",
    "현재 리스트는 정렬되어 있지 않은데 이 리스트를 정렬하고 20과 30에 값을 index 메서드로 찾아 insert로 중간에 값을 삽입해주세요."
   ]
  },
  {
   "cell_type": "code",
   "execution_count": null,
   "metadata": {},
   "outputs": [],
   "source": []
  },
  {
   "cell_type": "markdown",
   "metadata": {},
   "source": [
    "#0913연습문제3 #문자열 #리스트  \n",
    "주어진 문자열 s = \"apple banana apple cherry banana cherry apple\"에서 가장 자주 등장하는 단어를 출력하세요."
   ]
  },
  {
   "cell_type": "code",
   "execution_count": null,
   "metadata": {},
   "outputs": [],
   "source": []
  },
  {
   "cell_type": "markdown",
   "metadata": {},
   "source": [
    "# 딕셔너리"
   ]
  },
  {
   "cell_type": "markdown",
   "metadata": {},
   "source": [
    "#수업 #딕셔너리  \n",
    "아래 코드를 실행시킨 후 문제를 풀어주세요."
   ]
  },
  {
   "cell_type": "code",
   "execution_count": null,
   "metadata": {},
   "outputs": [],
   "source": [
    "국영수 = {'국어': 97, '영어': 38, '수학': 90}"
   ]
  },
  {
   "cell_type": "markdown",
   "metadata": {},
   "source": [
    "문제1: 다음 국영수 dict에 점수에 평균을 구하는 코드를 작성해주세요."
   ]
  },
  {
   "cell_type": "code",
   "execution_count": null,
   "metadata": {},
   "outputs": [],
   "source": []
  },
  {
   "cell_type": "markdown",
   "metadata": {},
   "source": [
    "문제2: {'사회':70, '과학':85}가 추가되었습니다. dict에 평균을 구하는 코드를 작성해주세요."
   ]
  },
  {
   "cell_type": "code",
   "execution_count": null,
   "metadata": {},
   "outputs": [],
   "source": []
  },
  {
   "cell_type": "markdown",
   "metadata": {},
   "source": [
    "문제3: 영어와 수학점수가 각각 10점씩 올랐습니다. 점수를 10점 추가하는 코드를 작성해주세요."
   ]
  },
  {
   "cell_type": "code",
   "execution_count": null,
   "metadata": {},
   "outputs": [],
   "source": []
  },
  {
   "cell_type": "markdown",
   "metadata": {},
   "source": [
    "문제4: 최종 점수에서 가장 높은 점수를 출력하는 코드를 작성해주세요."
   ]
  },
  {
   "cell_type": "code",
   "execution_count": null,
   "metadata": {},
   "outputs": [],
   "source": []
  },
  {
   "cell_type": "markdown",
   "metadata": {},
   "source": [
    "문제5: 가장 높은 점수의 과목을 출력해주세요.  \n",
    "[순서정하기](https://school.programmers.co.kr/learn/courses/30/lessons/120835) 문제와 유사합니다."
   ]
  },
  {
   "cell_type": "code",
   "execution_count": null,
   "metadata": {},
   "outputs": [],
   "source": []
  },
  {
   "cell_type": "markdown",
   "metadata": {},
   "source": [
    "#0913연습문제1 #딕셔너리 #리스트  \n",
    "주어진 리스트 \n",
    "```py\n",
    "data = [\n",
    "  {\"이름\": \"길동\", \"수학\": 3, \"과학\": 93}, \n",
    "  {\"이름\": \"춘향\", \"수학\": 33, \"수학\": 11}, \n",
    "  {\"이름\": \"철수\", \"수학\": 94, \"과학\": 67}\n",
    "]\n",
    "```\n",
    "에서 평균점수가 가장 높은 학생에 이름을 출력하세요."
   ]
  },
  {
   "cell_type": "code",
   "execution_count": null,
   "metadata": {},
   "outputs": [],
   "source": []
  },
  {
   "cell_type": "markdown",
   "metadata": {},
   "source": [
    "#0913연습문제2 #딕셔너리  \n",
    "주어진 사전 `grades = {\"Tom\": 87, \"Jerry\": 95, \"Mickey\": 70}`의 모든 값을 5점씩 증가시키고 결과를 출력하세요."
   ]
  },
  {
   "cell_type": "code",
   "execution_count": null,
   "metadata": {},
   "outputs": [],
   "source": []
  }
 ],
 "metadata": {
  "kernelspec": {
   "display_name": "Python 3",
   "language": "python",
   "name": "python3"
  },
  "language_info": {
   "codemirror_mode": {
    "name": "ipython",
    "version": 3
   },
   "file_extension": ".py",
   "mimetype": "text/x-python",
   "name": "python",
   "nbconvert_exporter": "python",
   "pygments_lexer": "ipython3",
   "version": "3.9.2"
  },
  "orig_nbformat": 4
 },
 "nbformat": 4,
 "nbformat_minor": 2
}
