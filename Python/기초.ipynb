{
 "cells": [
  {
   "cell_type": "markdown",
   "metadata": {},
   "source": [
    "# 주석"
   ]
  },
  {
   "cell_type": "code",
   "execution_count": null,
   "metadata": {},
   "outputs": [],
   "source": [
    "# 주석입니다.\n",
    "\n",
    "'''\n",
    "여러줄\n",
    "주석\n",
    "'''\n",
    "\n",
    "\"\"\"\n",
    "여러줄\n",
    "주석\n",
    "\"\"\""
   ]
  },
  {
   "cell_type": "markdown",
   "metadata": {},
   "source": [
    "# 입출력"
   ]
  },
  {
   "cell_type": "code",
   "execution_count": null,
   "metadata": {},
   "outputs": [],
   "source": [
    "x = input('입력 : ') # 값을 문자열로 받는다."
   ]
  },
  {
   "cell_type": "code",
   "execution_count": null,
   "metadata": {},
   "outputs": [],
   "source": [
    "print(x)"
   ]
  },
  {
   "cell_type": "code",
   "execution_count": 1,
   "metadata": {},
   "outputs": [
    {
     "name": "stdout",
     "output_type": "stream",
     "text": [
      "010-0000-0000\n"
     ]
    }
   ],
   "source": [
    "print('010','0000','0000',sep='-')"
   ]
  },
  {
   "cell_type": "code",
   "execution_count": 3,
   "metadata": {},
   "outputs": [
    {
     "name": "stdout",
     "output_type": "stream",
     "text": [
      "hello world\n"
     ]
    }
   ],
   "source": [
    "print('hello',end=' ')\n",
    "print('world')"
   ]
  },
  {
   "cell_type": "markdown",
   "metadata": {},
   "source": [
    "# 변수"
   ]
  },
  {
   "cell_type": "code",
   "execution_count": null,
   "metadata": {},
   "outputs": [],
   "source": [
    "# 파이썬에서 변수는 포스트잇이다. 값을 담는 것이아니라 가르킨다.\n",
    "x = 10\n",
    "y = x\n",
    "z = y\n",
    "\n",
    "# 오답\n",
    "# z -> y -> x -> 10\n",
    "\n",
    "# 정답\n",
    "# x ┐\n",
    "# y ┼> 10\n",
    "# z ┘"
   ]
  },
  {
   "cell_type": "code",
   "execution_count": null,
   "metadata": {},
   "outputs": [],
   "source": [
    "x = 10\n",
    "y = x\n",
    "z = y\n",
    "y = 20\n",
    "\n",
    "# 오답\n",
    "# x -> 10\n",
    "# z -> y -> 20\n",
    "\n",
    "# 정답\n",
    "# x ┬> 10\n",
    "# z ┘\n",
    "# y -> 20"
   ]
  },
  {
   "cell_type": "code",
   "execution_count": 4,
   "metadata": {},
   "outputs": [
    {
     "name": "stdout",
     "output_type": "stream",
     "text": [
      "1493199317584 1493199317584 1493199317584\n"
     ]
    }
   ],
   "source": [
    "x = 10\n",
    "y = x\n",
    "z = y\n",
    "\n",
    "print(id(x), id(y), id(z))"
   ]
  },
  {
   "cell_type": "markdown",
   "metadata": {},
   "source": [
    "## 변수이름\n",
    "- 파이썬은 보통 스네이크표기법을 사용한다.\n",
    "- _는 사용하지 않는 변수에 사용한다."
   ]
  },
  {
   "cell_type": "code",
   "execution_count": null,
   "metadata": {},
   "outputs": [],
   "source": [
    "# 스네이크 표기법\n",
    "col_sum = 10\n",
    "\n",
    "# _는 사용하지 않는 변수를 표기\n",
    "for _ in range(5): # 코드의 가독성을 올려줍니다.\n",
    "    print('hello') # _가 for문 안에서 사용이 안됩니다."
   ]
  },
  {
   "cell_type": "markdown",
   "metadata": {},
   "source": [
    "## 변수 타입\n",
    "- 변수들을 어떻게 관리하고 처리할지에 대한 '코드'\n",
    "- 이 코드는 우리가 재정의 할 수도 있다!"
   ]
  },
  {
   "cell_type": "code",
   "execution_count": 6,
   "metadata": {},
   "outputs": [
    {
     "data": {
      "text/plain": [
       "'1010'"
      ]
     },
     "execution_count": 6,
     "metadata": {},
     "output_type": "execute_result"
    }
   ],
   "source": [
    "x = 10\n",
    "x + x  # 컴퓨터 입장에서는 10도 숫자입니다.\n",
    "\n",
    "y = '10'\n",
    "y + y  # 컴퓨터 입장에서는 '10'도 숫자입니다."
   ]
  },
  {
   "cell_type": "code",
   "execution_count": 7,
   "metadata": {},
   "outputs": [
    {
     "name": "stdout",
     "output_type": "stream",
     "text": [
      "<class 'int'>\n",
      "<class 'str'>\n"
     ]
    }
   ],
   "source": [
    "print(type(x))\n",
    "print(type(y))"
   ]
  },
  {
   "cell_type": "code",
   "execution_count": 8,
   "metadata": {},
   "outputs": [
    {
     "data": {
      "text/plain": [
       "'1010'"
      ]
     },
     "execution_count": 8,
     "metadata": {},
     "output_type": "execute_result"
    }
   ],
   "source": [
    "str(10) + str(10)"
   ]
  },
  {
   "cell_type": "code",
   "execution_count": 9,
   "metadata": {},
   "outputs": [],
   "source": [
    "# +도 어딘가에 '정의'되어 있다\n",
    "class str(str):\n",
    "    def __add__(self, other):\n",
    "        return 'hello'"
   ]
  },
  {
   "cell_type": "code",
   "execution_count": 10,
   "metadata": {},
   "outputs": [
    {
     "data": {
      "text/plain": [
       "'hello'"
      ]
     },
     "execution_count": 10,
     "metadata": {},
     "output_type": "execute_result"
    }
   ],
   "source": [
    "str(10) + str(10)"
   ]
  },
  {
   "cell_type": "markdown",
   "metadata": {},
   "source": [
    "## 변수 삭제"
   ]
  },
  {
   "cell_type": "code",
   "execution_count": null,
   "metadata": {},
   "outputs": [],
   "source": [
    "del x"
   ]
  },
  {
   "cell_type": "markdown",
   "metadata": {},
   "source": [
    "# 자료형"
   ]
  },
  {
   "cell_type": "code",
   "execution_count": 20,
   "metadata": {},
   "outputs": [
    {
     "name": "stdout",
     "output_type": "stream",
     "text": [
      "<class 'float'>\n",
      "['__abs__', '__add__', '__bool__', '__ceil__', '__class__', '__delattr__', '__dir__', '__divmod__', '__doc__', '__eq__', '__float__', '__floor__', '__floordiv__', '__format__', '__ge__', '__getattribute__', '__getformat__', '__getnewargs__', '__gt__', '__hash__', '__init__', '__init_subclass__', '__int__', '__le__', '__lt__', '__mod__', '__mul__', '__ne__', '__neg__', '__new__', '__pos__', '__pow__', '__radd__', '__rdivmod__', '__reduce__', '__reduce_ex__', '__repr__', '__rfloordiv__', '__rmod__', '__rmul__', '__round__', '__rpow__', '__rsub__', '__rtruediv__', '__set_format__', '__setattr__', '__sizeof__', '__str__', '__sub__', '__subclasshook__', '__truediv__', '__trunc__', 'as_integer_ratio', 'conjugate', 'fromhex', 'hex', 'imag', 'is_integer', 'real']\n"
     ]
    }
   ],
   "source": [
    "# 새로운 자료형을 만났을 때 해야할 것\n",
    "x = 3.5\n",
    "print(type(x)) # 검색 키워드\n",
    "print(dir(x)) # 대략적인 속성 확인 가능"
   ]
  },
  {
   "cell_type": "code",
   "execution_count": 22,
   "metadata": {},
   "outputs": [
    {
     "data": {
      "text/plain": [
       "True"
      ]
     },
     "execution_count": 22,
     "metadata": {},
     "output_type": "execute_result"
    }
   ],
   "source": [
    "# 매직 메소드 : __로 시작해서 __로 끝나는 메소드, 해당 타입에 속성 정의\n",
    "abs(-5)  # '__abs__'\n",
    "5+5  # '__add__'\n",
    "5 and 5  # '__and__'\n",
    "bool(5)  # '__bool__'\n",
    "5 == 5  # '__eq__'\n",
    "\n",
    "# 메서드 : 해당 타입에서 변수를 다룰 수 있는 여러 기능 제공\n",
    "# 'as_integer_ratio', 'conjugate', 'fromhex', 'hex', 'imag', 'is_integer', 'real'"
   ]
  },
  {
   "cell_type": "markdown",
   "metadata": {},
   "source": [
    "## 정수형(int)"
   ]
  },
  {
   "cell_type": "code",
   "execution_count": 187,
   "metadata": {},
   "outputs": [
    {
     "name": "stdout",
     "output_type": "stream",
     "text": [
      "<class 'int'> <class 'int'> <class 'int'>\n"
     ]
    }
   ],
   "source": [
    "x=10\n",
    "y=-5\n",
    "z=0\n",
    "print(type(x),type(y),type(z))"
   ]
  },
  {
   "cell_type": "markdown",
   "metadata": {},
   "source": [
    "### 진수"
   ]
  },
  {
   "cell_type": "markdown",
   "metadata": {},
   "source": [
    "수를 표현하는 방법\n",
    "- 2진수 : 0 1\n",
    "- 8진수 : 0 1 2 3 4 5 6 7\n",
    "- 16진수: 0 1 2 3 4 5 6 7 8 9 a b c d e f\n",
    "\n",
    "- 10진수 731 = 7 * 10^2 + 3 * 10^1 + 1 * 10^0\n",
    "- 2진수  110 = 1 * 2^2 + 1 * 2^1 + 0 * 2^0\n",
    "\n",
    "쉽게 계산하는 법\n",
    "- 10진수 15를 2진수로 표현하면?\n",
    "- 10000 - 1 == 1111"
   ]
  },
  {
   "cell_type": "code",
   "execution_count": 3,
   "metadata": {},
   "outputs": [
    {
     "name": "stdout",
     "output_type": "stream",
     "text": [
      "6 Type: <class 'int'>\n",
      "72 Type: <class 'int'>\n",
      "272 Type: <class 'int'>\n"
     ]
    }
   ],
   "source": [
    "# 2진수\n",
    "x = 0b110\n",
    "print(x,end=' Type: ')\n",
    "print(type(x))\n",
    "\n",
    "# 8진수\n",
    "x = 0o110\n",
    "print(x, end=' Type: ')\n",
    "print(type(x))\n",
    "\n",
    "# 16진수\n",
    "x = 0x110\n",
    "print(x, end=' Type: ')\n",
    "print(type(x))"
   ]
  },
  {
   "cell_type": "code",
   "execution_count": 185,
   "metadata": {},
   "outputs": [
    {
     "data": {
      "text/plain": [
       "'0xf'"
      ]
     },
     "execution_count": 185,
     "metadata": {},
     "output_type": "execute_result"
    }
   ],
   "source": [
    "bin(15) #0b1111\n",
    "oct(15) #0o17\n",
    "hex(15) #0xf"
   ]
  },
  {
   "cell_type": "code",
   "execution_count": 186,
   "metadata": {},
   "outputs": [
    {
     "data": {
      "text/plain": [
       "(60, 60, 60)"
      ]
     },
     "execution_count": 186,
     "metadata": {},
     "output_type": "execute_result"
    }
   ],
   "source": [
    "binary = int('0b111100',2)\n",
    "octal = int('0o74',8)\n",
    "hexdemical = int('0x3c',16)\n",
    "binary, octal, hexdemical"
   ]
  },
  {
   "cell_type": "markdown",
   "metadata": {},
   "source": [
    "### 정수의 메모리 미리 적재\n",
    "파이썬은 -5 ~ 256을 미리 메모리에 넣어 놓는다"
   ]
  },
  {
   "cell_type": "code",
   "execution_count": 188,
   "metadata": {},
   "outputs": [
    {
     "name": "stdout",
     "output_type": "stream",
     "text": [
      "2626230708624 2626230708624\n"
     ]
    }
   ],
   "source": [
    "x=256\n",
    "y=256\n",
    "\n",
    "print(id(x),id(y))"
   ]
  },
  {
   "cell_type": "code",
   "execution_count": 189,
   "metadata": {},
   "outputs": [
    {
     "name": "stdout",
     "output_type": "stream",
     "text": [
      "2626336753040 2626336754352\n"
     ]
    }
   ],
   "source": [
    "x=257\n",
    "y=257\n",
    "\n",
    "print(id(x),id(y))"
   ]
  },
  {
   "cell_type": "code",
   "execution_count": 190,
   "metadata": {},
   "outputs": [],
   "source": [
    "# 문제1\n",
    "x = 100\n",
    "y = 100\n",
    "z = x\n",
    "\n",
    "# 다음 화살표를 그려보세요!\n",
    "# z ┐\n",
    "# x ┼> 100\n",
    "# y ┘"
   ]
  },
  {
   "cell_type": "code",
   "execution_count": 191,
   "metadata": {},
   "outputs": [],
   "source": [
    "# 문제1\n",
    "x = 258\n",
    "y = 258\n",
    "z = x\n",
    "\n",
    "# 다음 화살표를 그려보세요!\n",
    "# z ┐\n",
    "# x ┴> 258\n",
    "# y -> 258"
   ]
  },
  {
   "cell_type": "markdown",
   "metadata": {},
   "source": [
    "## 실수형(float)"
   ]
  },
  {
   "cell_type": "code",
   "execution_count": 192,
   "metadata": {},
   "outputs": [
    {
     "name": "stdout",
     "output_type": "stream",
     "text": [
      "x : <class 'float'> y : <class 'int'>\n"
     ]
    }
   ],
   "source": [
    "x =10.0\n",
    "y = 10\n",
    "print(f\"x : {type(x)} y : {type(y)}\")"
   ]
  },
  {
   "cell_type": "code",
   "execution_count": 193,
   "metadata": {},
   "outputs": [
    {
     "name": "stdout",
     "output_type": "stream",
     "text": [
      "20.0 -> <class 'float'>\n"
     ]
    }
   ],
   "source": [
    "# 산술 연산\n",
    "x = 10.0\n",
    "y = 2\n",
    "result = x * y\n",
    "\n",
    "print(f\"{result} -> {type(result)}\")"
   ]
  },
  {
   "cell_type": "code",
   "execution_count": 194,
   "metadata": {},
   "outputs": [
    {
     "data": {
      "text/plain": [
       "True"
      ]
     },
     "execution_count": 194,
     "metadata": {},
     "output_type": "execute_result"
    }
   ],
   "source": [
    "# float의 특수값 inf\n",
    "# 정렬 파트에서 초기값으로 많이 사용\n",
    "float('inf') > 10000000000000000000000000000\n",
    "float('-inf') < -999999999999999"
   ]
  },
  {
   "cell_type": "code",
   "execution_count": 195,
   "metadata": {},
   "outputs": [
    {
     "data": {
      "text/plain": [
       "0.30000000000000004"
      ]
     },
     "execution_count": 195,
     "metadata": {},
     "output_type": "execute_result"
    }
   ],
   "source": [
    "# 부동소수점 문제\n",
    "0.1 + 0.2\n",
    "# 컴퓨터는 10진수가 아니라 2진수로 계산한다.\n",
    "# 그래서 2진수 변환에서 무한수가 발생할 수 있고, 계산의 오차가 생길 수 있다."
   ]
  },
  {
   "cell_type": "markdown",
   "metadata": {},
   "source": [
    "## 복소수(complex)"
   ]
  },
  {
   "cell_type": "code",
   "execution_count": 196,
   "metadata": {},
   "outputs": [
    {
     "name": "stdout",
     "output_type": "stream",
     "text": [
      "(3+4j)\n",
      "<class 'complex'>\n"
     ]
    },
    {
     "data": {
      "text/plain": [
       "['__abs__',\n",
       " '__add__',\n",
       " '__bool__',\n",
       " '__class__',\n",
       " '__delattr__',\n",
       " '__dir__',\n",
       " '__divmod__',\n",
       " '__doc__',\n",
       " '__eq__',\n",
       " '__float__',\n",
       " '__floordiv__',\n",
       " '__format__',\n",
       " '__ge__',\n",
       " '__getattribute__',\n",
       " '__getnewargs__',\n",
       " '__gt__',\n",
       " '__hash__',\n",
       " '__init__',\n",
       " '__init_subclass__',\n",
       " '__int__',\n",
       " '__le__',\n",
       " '__lt__',\n",
       " '__mod__',\n",
       " '__mul__',\n",
       " '__ne__',\n",
       " '__neg__',\n",
       " '__new__',\n",
       " '__pos__',\n",
       " '__pow__',\n",
       " '__radd__',\n",
       " '__rdivmod__',\n",
       " '__reduce__',\n",
       " '__reduce_ex__',\n",
       " '__repr__',\n",
       " '__rfloordiv__',\n",
       " '__rmod__',\n",
       " '__rmul__',\n",
       " '__rpow__',\n",
       " '__rsub__',\n",
       " '__rtruediv__',\n",
       " '__setattr__',\n",
       " '__sizeof__',\n",
       " '__str__',\n",
       " '__sub__',\n",
       " '__subclasshook__',\n",
       " '__truediv__',\n",
       " 'conjugate',\n",
       " 'imag',\n",
       " 'real']"
      ]
     },
     "execution_count": 196,
     "metadata": {},
     "output_type": "execute_result"
    }
   ],
   "source": [
    "x = 3+4j\n",
    "print(x)\n",
    "\n",
    "print(type(x))\n",
    "dir(x)"
   ]
  },
  {
   "cell_type": "code",
   "execution_count": 197,
   "metadata": {},
   "outputs": [
    {
     "name": "stdout",
     "output_type": "stream",
     "text": [
      "3.0\n",
      "4.0\n"
     ]
    }
   ],
   "source": [
    "x = 3+4j\n",
    "print(x.real)  # 실수 3.0 <float>\n",
    "print(x.imag)  # 허수 4.0 <float>"
   ]
  },
  {
   "cell_type": "markdown",
   "metadata": {},
   "source": [
    "## 문자형"
   ]
  },
  {
   "cell_type": "code",
   "execution_count": 198,
   "metadata": {},
   "outputs": [],
   "source": [
    "x = 'hello world'\n",
    "y = \"hello world\"\n",
    "z = '''hello world'''  # 여러줄 가능\n",
    "k = \"\"\"hello world\"\"\"  # 여러줄 가능"
   ]
  },
  {
   "cell_type": "code",
   "execution_count": 199,
   "metadata": {},
   "outputs": [
    {
     "name": "stdout",
     "output_type": "stream",
     "text": [
      "hello \\n world\n"
     ]
    }
   ],
   "source": [
    "# 참고\n",
    "# r표기는 Django 2.x에서 url이 정규표현식을 쓰기 때문에\n",
    "# 자주 볼 수도 있다. 3.x에서는 사라졌다.\n",
    "a = r'hello \\n world'  # r은 raw 날것에 의미를 지니고 있습니다.\n",
    "print(a)"
   ]
  },
  {
   "cell_type": "code",
   "execution_count": 200,
   "metadata": {},
   "outputs": [
    {
     "name": "stdout",
     "output_type": "stream",
     "text": [
      "안녕하세요.\n",
      "반갑습니다.\n",
      "파이썬 좋네요!\n",
      "\n"
     ]
    },
    {
     "data": {
      "text/plain": [
       "'안녕하세요.\\n반갑습니다.\\n파이썬 좋네요!\\n'"
      ]
     },
     "execution_count": 200,
     "metadata": {},
     "output_type": "execute_result"
    }
   ],
   "source": [
    "i = '''안녕하세요.\n",
    "반갑습니다.\n",
    "파이썬 좋네요!\n",
    "'''\n",
    "\n",
    "print(i) # 이스케이프 문자가 처리되어 출력\n",
    "i # 이스케이프 문자가 처리안되어 출력"
   ]
  },
  {
   "cell_type": "code",
   "execution_count": 201,
   "metadata": {},
   "outputs": [
    {
     "name": "stdout",
     "output_type": "stream",
     "text": [
      "helloworld\n",
      "hellohellohello\n"
     ]
    }
   ],
   "source": [
    "# 문자열 연산\n",
    "x = 'hello'\n",
    "y = 'world'\n",
    "\n",
    "print(x + y)\n",
    "print(x * 3)"
   ]
  },
  {
   "cell_type": "markdown",
   "metadata": {},
   "source": [
    "### 문자열 인덱싱"
   ]
  },
  {
   "cell_type": "code",
   "execution_count": 202,
   "metadata": {},
   "outputs": [
    {
     "data": {
      "text/plain": [
       "'dlrow olleh'"
      ]
     },
     "execution_count": 202,
     "metadata": {},
     "output_type": "execute_result"
    }
   ],
   "source": [
    "s = 'hello world'\n",
    "\n",
    "s[0] # 'h'\n",
    "s[-1] # 'd'\n",
    "s[-11] # 'h'\n",
    "\n",
    "# s[start:stop:step]\n",
    "# ':step'은 통으로 생략이 가능\n",
    "# start와 stop은 숫자만 생략 가능\n",
    "s[:5]\n",
    "s[6:]\n",
    "s[0:5:2]\n",
    "s[::-1]"
   ]
  },
  {
   "cell_type": "code",
   "execution_count": 203,
   "metadata": {},
   "outputs": [
    {
     "data": {
      "text/plain": [
       "'png'"
      ]
     },
     "execution_count": 203,
     "metadata": {},
     "output_type": "execute_result"
    }
   ],
   "source": [
    "# 응용\n",
    "s = 'python3.png'\n",
    "\n",
    "# 문제1 : .png를 잘라내기\n",
    "s[:-4]\n",
    "\n",
    "# 문제2 : png만 잘라내기\n",
    "s[-3:]"
   ]
  },
  {
   "cell_type": "code",
   "execution_count": 204,
   "metadata": {},
   "outputs": [
    {
     "name": "stdout",
     "output_type": "stream",
     "text": [
      "2626336459904 2626336459904\n",
      "2626335639488 2626336598272\n"
     ]
    }
   ],
   "source": [
    "# 다음경우는 x와 y가 같은 곳을 가르킨다.\n",
    "x = [10, 20, 30]\n",
    "y = x\n",
    "print(id(x), id(y))\n",
    "\n",
    "# 하지만 아래같은 경우는 x와 y가 가르키는 곳이 다르다.\n",
    "x = [10, 20, 30]\n",
    "y = x[:]\n",
    "print(id(x), id(y))"
   ]
  },
  {
   "cell_type": "markdown",
   "metadata": {},
   "source": [
    "### 문자열 메소드"
   ]
  },
  {
   "cell_type": "code",
   "execution_count": 205,
   "metadata": {},
   "outputs": [
    {
     "data": {
      "text/plain": [
       "'HELLO WORLD!'"
      ]
     },
     "execution_count": 205,
     "metadata": {},
     "output_type": "execute_result"
    }
   ],
   "source": [
    "s = 'Hello World!'\n",
    "\n",
    "s.lower() #전체를 소문자로 바꿔주는 method\n",
    "s.upper() #전체를 대문자로 바꿔주는 method"
   ]
  },
  {
   "cell_type": "code",
   "execution_count": 206,
   "metadata": {},
   "outputs": [
    {
     "data": {
      "text/plain": [
       "-1"
      ]
     },
     "execution_count": 206,
     "metadata": {},
     "output_type": "execute_result"
    }
   ],
   "source": [
    "s = 'Hello World!'\n",
    "s.find('world') # 1"
   ]
  },
  {
   "cell_type": "code",
   "execution_count": 207,
   "metadata": {},
   "outputs": [
    {
     "ename": "ValueError",
     "evalue": "substring not found",
     "output_type": "error",
     "traceback": [
      "\u001b[1;31m---------------------------------------------------------------------------\u001b[0m",
      "\u001b[1;31mValueError\u001b[0m                                Traceback (most recent call last)",
      "Cell \u001b[1;32mIn[207], line 2\u001b[0m\n\u001b[0;32m      1\u001b[0m s \u001b[39m=\u001b[39m \u001b[39m'\u001b[39m\u001b[39mHello World!\u001b[39m\u001b[39m'\u001b[39m\n\u001b[1;32m----> 2\u001b[0m s\u001b[39m.\u001b[39;49mindex(\u001b[39m'\u001b[39;49m\u001b[39mworld\u001b[39;49m\u001b[39m'\u001b[39;49m) \u001b[39m# ValueError\u001b[39;00m\n",
      "\u001b[1;31mValueError\u001b[0m: substring not found"
     ]
    }
   ],
   "source": [
    "s = 'Hello World!'\n",
    "s.index('world') # ValueError"
   ]
  },
  {
   "cell_type": "code",
   "execution_count": null,
   "metadata": {},
   "outputs": [],
   "source": [
    "# 의도에 맞게 둘 다 사용\n",
    "s = 'Hello World!'\n",
    "\n",
    "bool(s.find('world'))  # 또 -1이 python에서는 index도 있기 때문에 주의\n",
    "bool(s.find('world') == -1)\n",
    "\n",
    "# 애러가 나지 않는 코드가 좋은 코드다? X\n",
    "# 애러가 적절한 곳에서 나고, 예외처리가 견고히 되어있는 코드가 좋은 코드다.\n"
   ]
  },
  {
   "cell_type": "code",
   "execution_count": null,
   "metadata": {},
   "outputs": [
    {
     "data": {
      "text/plain": [
       "3"
      ]
     },
     "execution_count": 158,
     "metadata": {},
     "output_type": "execute_result"
    }
   ],
   "source": [
    "s = 'Hello World!'\n",
    "s.count('l')"
   ]
  },
  {
   "cell_type": "code",
   "execution_count": null,
   "metadata": {},
   "outputs": [
    {
     "data": {
      "text/plain": [
       "4"
      ]
     },
     "execution_count": 159,
     "metadata": {},
     "output_type": "execute_result"
    }
   ],
   "source": [
    "'[1, 2, 3, 4, 5, 6, 7, 8, 9, 10, 11]'.count('1')"
   ]
  },
  {
   "cell_type": "code",
   "execution_count": null,
   "metadata": {},
   "outputs": [
    {
     "data": {
      "text/plain": [
       "'hello world'"
      ]
     },
     "execution_count": 161,
     "metadata": {},
     "output_type": "execute_result"
    }
   ],
   "source": [
    "s = '    Hello World!     '\n",
    "\n",
    "s.strip() # 양쪽 공백을 제거하는 메소드\n",
    "# 양쪽의 공백과 ',!'을 제거해주는 method\n",
    "'    ,!!  hello world!   '.strip(' ,!')  # 'hello world'\n"
   ]
  },
  {
   "cell_type": "code",
   "execution_count": null,
   "metadata": {},
   "outputs": [
    {
     "data": {
      "text/plain": [
       "'Hi World!'"
      ]
     },
     "execution_count": 162,
     "metadata": {},
     "output_type": "execute_result"
    }
   ],
   "source": [
    "s = 'Hello World!'\n",
    "\n",
    "# 원하는 문자열을 다른 문자열로 대체할 때 사용하는 method\n",
    "s.replace('Hello','Hi')\n",
    "\n",
    "# JavaScript와 다른 점\n",
    "# 1. 정규표현식 X\n",
    "# 2. replaceAll과 같다"
   ]
  },
  {
   "cell_type": "code",
   "execution_count": null,
   "metadata": {},
   "outputs": [
    {
     "data": {
      "text/plain": [
       "'01010002000'"
      ]
     },
     "execution_count": 163,
     "metadata": {},
     "output_type": "execute_result"
    }
   ],
   "source": [
    "'hello world'.split(' ')\n",
    "\n",
    "# 문제: '010-1000-2000'을 입력받아 01010002000 출력해주세요.\n",
    "'010-1000-2000'.split('-')  # ['010', '1000', '2000']\n",
    "''.join('010-1000-2000'.split('-'))  # 01010002000"
   ]
  },
  {
   "cell_type": "code",
   "execution_count": null,
   "metadata": {},
   "outputs": [],
   "source": [
    "name = 'nayeong'\n",
    "age = 10\n",
    "\n",
    "print('제 이름은', name, '제 나이는', age)\n",
    "print('제 이름은 {} 제 나이는 {}'.format(name, age))  # format은 str 메서드!\n",
    "print(f'제 이름은 {name} 제 나이는 {age}')  # 권고"
   ]
  },
  {
   "cell_type": "code",
   "execution_count": null,
   "metadata": {},
   "outputs": [
    {
     "data": {
      "text/plain": [
       "True"
      ]
     },
     "execution_count": 169,
     "metadata": {},
     "output_type": "execute_result"
    }
   ],
   "source": [
    "# 문자열에 특수문자가 들어가 있으면 False\n",
    "'abcd1234'.isalnum()\n",
    "'안녕'.isalnum()  # 유니코드에도 적용"
   ]
  },
  {
   "cell_type": "code",
   "execution_count": null,
   "metadata": {},
   "outputs": [
    {
     "data": {
      "text/plain": [
       "True"
      ]
     },
     "execution_count": 170,
     "metadata": {},
     "output_type": "execute_result"
    }
   ],
   "source": [
    "# 문자열이 숫자로만 이루어져 있으면 True\n",
    "'hello world'.isdigit()\n",
    "'안녕'.isdigit()\n",
    "'12.3'.isdigit()  # 점을 찍으면 문자라고 인식합니다.\n",
    "'10e10'.isdigit()  # 지수표현 안됩니다.\n",
    "'123'.isdigit()"
   ]
  },
  {
   "cell_type": "code",
   "execution_count": null,
   "metadata": {},
   "outputs": [
    {
     "name": "stdout",
     "output_type": "stream",
     "text": [
      "False\n",
      "True\n"
     ]
    }
   ],
   "source": [
    "# 모든 문자가 알파벳으로 이루어져 있으면 True\n",
    "# 알파벳 : 유니코드 문자 데이터베이스에서 \"Letter\"로 정의된 문자\n",
    "# 띄어쓰기는 알파벳으로 취급하지 않는다\n",
    "print('abcd1234'.isalpha())\n",
    "print('안녕하세요'.isalpha())"
   ]
  },
  {
   "cell_type": "code",
   "execution_count": null,
   "metadata": {},
   "outputs": [
    {
     "data": {
      "text/plain": [
       "'----center----'"
      ]
     },
     "execution_count": 176,
     "metadata": {},
     "output_type": "execute_result"
    }
   ],
   "source": [
    "# 문자열을 지정한 길이로 맞추고, 양쪽을 '-'로 채우는 method\n",
    "s = 'center'\n",
    "\n",
    "s.center(14, '-')"
   ]
  },
  {
   "cell_type": "code",
   "execution_count": null,
   "metadata": {},
   "outputs": [
    {
     "name": "stdout",
     "output_type": "stream",
     "text": [
      "00042\n",
      "001.jpg\n"
     ]
    }
   ],
   "source": [
    "x = \"42\"\n",
    "result = x.zfill(5)\n",
    "print(result)  # 00042\n",
    "\n",
    "filename = '1'.zfill(3) + \".jpg\"\n",
    "print(filename)"
   ]
  },
  {
   "cell_type": "code",
   "execution_count": null,
   "metadata": {},
   "outputs": [
    {
     "name": "stdout",
     "output_type": "stream",
     "text": [
      "23/9/8\n",
      "23/09/08\n"
     ]
    }
   ],
   "source": [
    "년 = '23'\n",
    "월 = '9'\n",
    "일 = '8'\n",
    "\n",
    "오늘날짜 = f'{년}/{월}/{일}'\n",
    "print(오늘날짜)\n",
    "\n",
    "오늘날짜 = f'{년}/{월.zfill(2)}/{일.zfill(2)}'  # 원하는 양식 23/09/08\n",
    "print(오늘날짜)"
   ]
  },
  {
   "cell_type": "code",
   "execution_count": null,
   "metadata": {},
   "outputs": [
    {
     "data": {
      "text/plain": [
       "'1k2k3kdkek'"
      ]
     },
     "execution_count": 180,
     "metadata": {},
     "output_type": "execute_result"
    }
   ],
   "source": [
    "# str.maketrans(x[, y[, z]])\n",
    "# x - 대체 할 문자열\n",
    "# y - x에 정의된 문자를 순서대로 1: 1 대응하여 대체\n",
    "# z - 제거할 문자열\n",
    "\n",
    "#  maketrans() 메서드 자체는 대체 설명하는 Dictionary 반환\n",
    "table = str.maketrans(\"abc\", \"123\")\n",
    "# translate는 문자열 안의 문자를 다른 문자로 바꿈\n",
    "'akbkckdkek'.translate(table)"
   ]
  },
  {
   "cell_type": "code",
   "execution_count": null,
   "metadata": {},
   "outputs": [
    {
     "data": {
      "text/plain": [
       "'weniv     CEO     licat'"
      ]
     },
     "execution_count": 181,
     "metadata": {},
     "output_type": "execute_result"
    }
   ],
   "source": [
    "table = str.maketrans('\\n\\t', '  ')  # 똑같은 길이를 가지고 있어야 함\n",
    "'weniv \\n\\n\\n CEO \\t\\t\\t licat'.translate(table)"
   ]
  },
  {
   "cell_type": "markdown",
   "metadata": {},
   "source": [
    "### 문제풀이"
   ]
  },
  {
   "cell_type": "markdown",
   "metadata": {},
   "source": [
    "#### 카카오 코딩테스트 비밀지도"
   ]
  },
  {
   "cell_type": "code",
   "execution_count": null,
   "metadata": {},
   "outputs": [],
   "source": [
    "n = 5\n",
    "a1 = [9, 20, 28, 18, 11]\n",
    "a2 = [30, 1, 21, 17, 28]"
   ]
  },
  {
   "cell_type": "code",
   "execution_count": null,
   "metadata": {},
   "outputs": [
    {
     "data": {
      "text/plain": [
       "'#####'"
      ]
     },
     "execution_count": 183,
     "metadata": {},
     "output_type": "execute_result"
    }
   ],
   "source": [
    "# bin(a1[0]) # 01001\n",
    "# bin(a2[0]) # 11110\n",
    "\n",
    "bin(a1[0] | a2[0])\n",
    "bin(a1[0] | a2[0])[2:].replace('1', '#').replace('0', ' ')"
   ]
  },
  {
   "cell_type": "code",
   "execution_count": null,
   "metadata": {},
   "outputs": [
    {
     "data": {
      "text/plain": [
       "'   ##'"
      ]
     },
     "execution_count": 40,
     "metadata": {},
     "output_type": "execute_result"
    }
   ],
   "source": [
    "bin(3)[2:].zfill(5).replace('1','#').replace('0',' ')"
   ]
  },
  {
   "cell_type": "markdown",
   "metadata": {},
   "source": [
    "#### 369 게임"
   ]
  },
  {
   "cell_type": "code",
   "execution_count": null,
   "metadata": {},
   "outputs": [
    {
     "data": {
      "text/plain": [
       "7"
      ]
     },
     "execution_count": 34,
     "metadata": {},
     "output_type": "execute_result"
    }
   ],
   "source": [
    "# '36913699'와 같은 문자열이 입력되었을 때 박수를 몇 번 치는지 코드를 작성해주세요.\n",
    "s = '36913699'\n",
    "\n",
    "s.count('3') + s.count('6') + s.count('9')"
   ]
  },
  {
   "cell_type": "code",
   "execution_count": null,
   "metadata": {},
   "outputs": [
    {
     "data": {
      "text/plain": [
       "4000"
      ]
     },
     "execution_count": 45,
     "metadata": {},
     "output_type": "execute_result"
    }
   ],
   "source": [
    "# 응용\n",
    "# 10000까지 8이 나타나는 횟수?\n",
    "s = str(list(range(10001)))\n",
    "s.count('8')"
   ]
  },
  {
   "cell_type": "markdown",
   "metadata": {},
   "source": [
    "#### 연습문제"
   ]
  },
  {
   "cell_type": "raw",
   "metadata": {},
   "source": [
    "문제1 문자열 s에 마지막에 있는 문자열을 2번 더 붙이는 코드를 작성해주세요.\n",
    "예) s = 'jun'\n",
    "정답) s = 'junnn'\n",
    "\n",
    "문제2 대문자는 소문자로 치환하는 코드를 작성해주세요.\n",
    "예)  s = 'Jun'\n",
    "정답) s = 'jun'\n",
    "\n",
    "문제3 'abcde', 숫자, 대쉬(-), 언더스코어(_)를 모두 제거해주세요.\n",
    "얘) s = 'hello_world123'\n",
    "정답 s = 'hlloworl'"
   ]
  },
  {
   "cell_type": "code",
   "execution_count": null,
   "metadata": {},
   "outputs": [
    {
     "name": "stdout",
     "output_type": "stream",
     "text": [
      "junnn\n",
      "jun\n"
     ]
    },
    {
     "data": {
      "text/plain": [
       "'hlloworl'"
      ]
     },
     "execution_count": 184,
     "metadata": {},
     "output_type": "execute_result"
    }
   ],
   "source": [
    "# 문제1\n",
    "s = 'jun'\n",
    "s += s[-1:]*2\n",
    "print(s)\n",
    "\n",
    "# 문제2\n",
    "s = 'Jun'\n",
    "s = s.lower()\n",
    "print(s)\n",
    "\n",
    "# 문제3\n",
    "s = 'hello_world123'\n",
    "\n",
    "# exStr = '_-0123456789abcde'\n",
    "# table = str.maketrans(exStr, ' ' * len(exStr))\n",
    "\n",
    "# s.translate(table).replace(' ','')\n",
    "\n",
    "table = str.maketrans('', '', 'abcde0123456789-_')\n",
    "s.translate(table)\n"
   ]
  }
 ],
 "metadata": {
  "kernelspec": {
   "display_name": "Python 3",
   "language": "python",
   "name": "python3"
  },
  "language_info": {
   "codemirror_mode": {
    "name": "ipython",
    "version": 3
   },
   "file_extension": ".py",
   "mimetype": "text/x-python",
   "name": "python",
   "nbconvert_exporter": "python",
   "pygments_lexer": "ipython3",
   "version": "3.9.2"
  },
  "orig_nbformat": 4
 },
 "nbformat": 4,
 "nbformat_minor": 2
}
