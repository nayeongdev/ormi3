{
 "cells": [
  {
   "cell_type": "markdown",
   "metadata": {},
   "source": [
    "# 조건문"
   ]
  },
  {
   "cell_type": "markdown",
   "metadata": {},
   "source": [
    "## if"
   ]
  },
  {
   "cell_type": "code",
   "execution_count": null,
   "metadata": {},
   "outputs": [],
   "source": [
    "if True:\n",
    "    print('hello')\n",
    "\n",
    "if (True):  # 이렇게 괄호를 안해도 된다!\n",
    "    print('hello')\n"
   ]
  },
  {
   "cell_type": "code",
   "execution_count": 2,
   "metadata": {},
   "outputs": [
    {
     "name": "stdout",
     "output_type": "stream",
     "text": [
      "hello\n",
      "hello\n"
     ]
    }
   ],
   "source": [
    "if 10 and 9: #True나 False가 아니라 단락평가에 의해 9\n",
    "  print('hello')\n",
    "\n",
    "if 10:\n",
    "  print('hello')"
   ]
  },
  {
   "cell_type": "code",
   "execution_count": null,
   "metadata": {},
   "outputs": [],
   "source": [
    "''\n",
    "0\n",
    "[]\n",
    "{}\n",
    "()\n",
    "set()\n",
    "False\n",
    "\n",
    "#=========\n",
    "\n",
    "1\n",
    "-1\n",
    "' '\n",
    "[10,20]\n",
    "True"
   ]
  },
  {
   "cell_type": "code",
   "execution_count": null,
   "metadata": {},
   "outputs": [],
   "source": [
    "# 삼항 연산자\n",
    "x = 5\n",
    "y = 10\n",
    "result = 'x is greater' if x > y else 'y is greater or equal'\n",
    "print(result)  # 출력: 'y is greater or equal'"
   ]
  },
  {
   "cell_type": "code",
   "execution_count": 1,
   "metadata": {},
   "outputs": [
    {
     "data": {
      "text/plain": [
       "[0, None, 2, None, 4, None, 6, None, 8, None]"
      ]
     },
     "execution_count": 1,
     "metadata": {},
     "output_type": "execute_result"
    }
   ],
   "source": [
    "[i if i % 2 == 0 else None for i in range(10)]"
   ]
  },
  {
   "cell_type": "code",
   "execution_count": 2,
   "metadata": {},
   "outputs": [
    {
     "data": {
      "text/plain": [
       "[0, 2, 4, 6, 8]"
      ]
     },
     "execution_count": 2,
     "metadata": {},
     "output_type": "execute_result"
    }
   ],
   "source": [
    "[i for i in range(10) if i % 2 == 0]"
   ]
  },
  {
   "cell_type": "code",
   "execution_count": 3,
   "metadata": {},
   "outputs": [
    {
     "name": "stdout",
     "output_type": "stream",
     "text": [
      "hello\n"
     ]
    }
   ],
   "source": [
    "def f():\n",
    "    return True\n",
    "\n",
    "\n",
    "if f():\n",
    "    print('hello')\n"
   ]
  },
  {
   "cell_type": "code",
   "execution_count": 6,
   "metadata": {},
   "outputs": [
    {
     "name": "stdout",
     "output_type": "stream",
     "text": [
      "hello\n"
     ]
    }
   ],
   "source": [
    "def f():\n",
    "    return True\n",
    "\n",
    "\n",
    "def ff():\n",
    "    return 'hello'\n",
    "\n",
    "if f() and ff():\n",
    "    print('hello')\n"
   ]
  },
  {
   "cell_type": "code",
   "execution_count": 10,
   "metadata": {},
   "outputs": [
    {
     "name": "stdout",
     "output_type": "stream",
     "text": [
      "hello\n"
     ]
    }
   ],
   "source": [
    "# 성능에 영향을 끼칩니다!\n",
    "def f():\n",
    "    return True\n",
    "\n",
    "\n",
    "def ff():\n",
    "    x = 100 / 0  # error\n",
    "    return 'hello'\n",
    "\n",
    "\n",
    "if f() or ff():\n",
    "    print('hello')\n",
    "\n",
    "# # error가 나는 코드\n",
    "# if ff() or f():\n",
    "#     print('hello')\n"
   ]
  },
  {
   "cell_type": "code",
   "execution_count": 7,
   "metadata": {},
   "outputs": [
    {
     "data": {
      "text/plain": [
       "'짝수'"
      ]
     },
     "execution_count": 7,
     "metadata": {},
     "output_type": "execute_result"
    }
   ],
   "source": [
    "def my_function(x): return '짝수' if x % 2 == 0 else '홀수'\n",
    "\n",
    "\n",
    "my_function(10)"
   ]
  },
  {
   "cell_type": "code",
   "execution_count": null,
   "metadata": {},
   "outputs": [],
   "source": [
    "# error\n",
    "x = -1\n",
    "assert x > 0, '양수여야 한다!'"
   ]
  },
  {
   "cell_type": "code",
   "execution_count": null,
   "metadata": {},
   "outputs": [],
   "source": [
    "x = 10\n",
    "assert x > 0, '양수여야 한다!'"
   ]
  },
  {
   "cell_type": "code",
   "execution_count": null,
   "metadata": {},
   "outputs": [],
   "source": [
    "score = 81\n",
    "money = 0\n",
    "\n",
    "if score >= 90:\n",
    "    print('mom : i\\'m so happy!')\n",
    "    money += 1000000\n",
    "elif score >= 80:  # 어떤 의미가 내포되어 있나요? 90미만이라는 얘기가 하나 더 있는겁니다!\n",
    "    print('mom : i\\'m happy!')\n",
    "    money += 100000\n",
    "elif score >= 70 and score < 80:\n",
    "    print('mom : i\\'m so...!')\n",
    "    money += 10000\n",
    "elif score >= 60 and score < 70:\n",
    "    print('mom : i\\'m so...!')\n",
    "    money += 1000\n",
    "else:\n",
    "    print('mom : i\\'m...!')\n",
    "print(money)"
   ]
  },
  {
   "cell_type": "code",
   "execution_count": null,
   "metadata": {},
   "outputs": [],
   "source": [
    "score = 81\n",
    "money = 0\n",
    "\n",
    "if score >= 90:\n",
    "    print('mom : i\\'m so happy!')\n",
    "    money += 1000000\n",
    "if 90 > score >= 80:  # 어떤 의미가 내포되어 있나요? 90미만이라는 얘기가 하나 더 있는겁니다!\n",
    "    print('mom : i\\'m happy!')\n",
    "    money += 100000\n",
    "if 80 > score >= 70 and score < 80:\n",
    "    print('mom : i\\'m so...!')\n",
    "    money += 10000\n",
    "if 70 > score >= 60 and score < 70:\n",
    "    print('mom : i\\'m so...!')\n",
    "    money += 1000\n",
    "else:\n",
    "    print('mom : i\\'m...!')\n",
    "print(money)\n",
    "\n",
    "# if, elif, else는 한 묶음으로 만들어줍니다!"
   ]
  },
  {
   "cell_type": "code",
   "execution_count": null,
   "metadata": {},
   "outputs": [],
   "source": [
    "# 아래와 같이 하더라도 실행이 같지 않고 또 성능도 안좋다!!\n",
    "# 성능이 왜 안좋나요?\n",
    "# if 뒤를 다 검사해야 하기 때문에 그렇다.\n",
    "# 적절하게 묶는 것은 매우 중요한 포인트입니다.\n",
    "score = 81\n",
    "money = 0\n",
    "\n",
    "if score >= 90:\n",
    "    print('mom : i\\'m so happy!')\n",
    "    money += 1000000\n",
    "if 90 > score >= 80:\n",
    "    print('mom : i\\'m happy!')\n",
    "    money += 100000\n",
    "if 80 > score >= 70:\n",
    "    print('mom : i\\'m so...!')\n",
    "    money += 10000\n",
    "if 70 > score >= 60:\n",
    "    print('mom : i\\'m so...!')\n",
    "    money += 1000\n",
    "else:\n",
    "    print('mom : i\\'m...!')\n",
    "print(money)"
   ]
  },
  {
   "cell_type": "code",
   "execution_count": null,
   "metadata": {},
   "outputs": [],
   "source": [
    "# if를 중첩\n",
    "movie = {\n",
    "    '영화': '무빙',\n",
    "    '장르': 'SF',\n",
    "    '서비스': '디즈니',\n",
    "    '비용': 15000,\n",
    "    '평점': 4.9\n",
    "}\n",
    "\n",
    "if movie['장르'] == 'SF':\n",
    "    if movie['서비스'] == '디즈니' or movie['서비스'] == '넷플릭스':\n",
    "        if movie['평점'] >= 4.5:\n",
    "            if movie['비용'] <= 10000:\n",
    "                print('영화시청')\n",
    "\n",
    "if movie['장르'] == 'SF' and (movie['서비스'] == '디즈니' or movie['서비스'] == '넷플릭스') and movie['평점'] >= 4.5 and movie['비용'] <= 20000:\n",
    "    print('영화시청')"
   ]
  },
  {
   "cell_type": "code",
   "execution_count": null,
   "metadata": {},
   "outputs": [],
   "source": [
    "# 지금 이 코드에서는 동일하게 작동하지만\n",
    "# 아래와 같이 했을 때에는 문제가 발생합니다.\n",
    "movie = {\n",
    "    '영화': '무빙',\n",
    "    '장르': 'SF',\n",
    "    '서비스': '디즈니',\n",
    "    '비용': 15000,\n",
    "    '평점': 4.1  # 변경\n",
    "}\n",
    "\n",
    "\n",
    "def 구독중인ott():\n",
    "    # 사용자에게 문자 알림을 준다던지 하는 엑션이 있었다?\n",
    "    return movie['서비스'] == '디즈니' or movie['서비스'] == '넷플릭스'\n",
    "\n",
    "\n",
    "if movie['장르'] == 'SF':\n",
    "    if movie['평점'] >= 4.5:\n",
    "        if movie['비용'] <= 20000:\n",
    "            if 구독중인ott():\n",
    "                print('영화시청')\n"
   ]
  },
  {
   "cell_type": "code",
   "execution_count": 11,
   "metadata": {},
   "outputs": [
    {
     "name": "stdout",
     "output_type": "stream",
     "text": [
      "왓챠 구독하기!\n"
     ]
    }
   ],
   "source": [
    "# if 중첩, 깔끔하게 다듬어진 것\n",
    "movie = {\n",
    "    '영화': '무빙',\n",
    "    '장르': 'SF',\n",
    "    '서비스': '왓챠',\n",
    "    '비용': 15000,\n",
    "    '평점': 4.9\n",
    "}\n",
    "\n",
    "if movie['장르'] == 'SF':\n",
    "    if movie['서비스'] == '디즈니' or movie['서비스'] == '넷플릭스':\n",
    "        if movie['평점'] >= 4.5 and movie['비용'] <= 20000:\n",
    "            print('영화시청')\n",
    "    else:\n",
    "        print(movie['서비스'] + ' 구독하기!')"
   ]
  },
  {
   "cell_type": "markdown",
   "metadata": {},
   "source": [
    "## Match"
   ]
  },
  {
   "cell_type": "code",
   "execution_count": 12,
   "metadata": {},
   "outputs": [
    {
     "ename": "SyntaxError",
     "evalue": "invalid syntax (856888904.py, line 3)",
     "output_type": "error",
     "traceback": [
      "\u001b[1;36m  Cell \u001b[1;32mIn[12], line 3\u001b[1;36m\u001b[0m\n\u001b[1;33m    match text:\u001b[0m\n\u001b[1;37m          ^\u001b[0m\n\u001b[1;31mSyntaxError\u001b[0m\u001b[1;31m:\u001b[0m invalid syntax\n"
     ]
    }
   ],
   "source": [
    "# 3.10버전 이상..!!\n",
    "text = 'Hello World'\n",
    "\n",
    "match text:\n",
    "    case 'Hello':\n",
    "        print('Hello')\n",
    "    case 'World':\n",
    "        print('World')\n",
    "    case _:\n",
    "        print('No Match')  # 결과 'No Match'"
   ]
  },
  {
   "cell_type": "code",
   "execution_count": 13,
   "metadata": {},
   "outputs": [
    {
     "ename": "SyntaxError",
     "evalue": "invalid syntax (3483516965.py, line 2)",
     "output_type": "error",
     "traceback": [
      "\u001b[1;36m  Cell \u001b[1;32mIn[13], line 2\u001b[1;36m\u001b[0m\n\u001b[1;33m    match text:\u001b[0m\n\u001b[1;37m          ^\u001b[0m\n\u001b[1;31mSyntaxError\u001b[0m\u001b[1;31m:\u001b[0m invalid syntax\n"
     ]
    }
   ],
   "source": [
    "# 3.10버전 이상..!!\n",
    "text = 'Hello'\n",
    "match text:\n",
    "    case 'Hello':\n",
    "        print('Hello')\n",
    "    case 'World':\n",
    "        print('World')\n",
    "    case _:\n",
    "        print('No Match')  # 결과 'No Match'"
   ]
  },
  {
   "cell_type": "code",
   "execution_count": null,
   "metadata": {},
   "outputs": [],
   "source": [
    "# 3.10버전 이상..!!\n",
    "# 작동하지 않는 코드입니다. JavaScript와 같은 곳에서는 아래와 같은 형식으로 사용하곤 합니다.\n",
    "text = 'Hello'\n",
    "match text:\n",
    "    case 'Hello':\n",
    "    case 'World':\n",
    "        print('World')\n",
    "    case _:\n",
    "        print('No Match')"
   ]
  },
  {
   "cell_type": "code",
   "execution_count": null,
   "metadata": {},
   "outputs": [],
   "source": [
    "# 3.10버전 이상..!!\n",
    "# 작동하는 코드입니다.\n",
    "text = 'Hello'\n",
    "match text:\n",
    "    case 'Hello' | 'World':\n",
    "        print('World')\n",
    "    case _:\n",
    "        print('No Match')\n"
   ]
  },
  {
   "cell_type": "code",
   "execution_count": null,
   "metadata": {},
   "outputs": [],
   "source": [
    "# 3.10버전 이상..!!\n",
    "def test(i):\n",
    "    match i:\n",
    "        case 1:\n",
    "            print('One')\n",
    "        case 2:\n",
    "            print('Two')\n",
    "        case 3 | 4:\n",
    "            print('Three or Four')\n",
    "        case _ if i > 10:\n",
    "            print('Greater than ten')\n",
    "        case _:\n",
    "            print('Other')\n",
    "\n",
    "\n",
    "test(1)  # 출력: One\n",
    "test(2)  # 출력: Two\n",
    "test(3)  # 출력: Three or Four\n",
    "test(4)  # 출력: Three or Four\n",
    "test(5)  # 출력: Other\n",
    "test(15)  # 출력: Greater than ten\n"
   ]
  },
  {
   "cell_type": "code",
   "execution_count": null,
   "metadata": {},
   "outputs": [],
   "source": [
    "# 3.10버전 이상..!!\n",
    "def test(i):\n",
    "    match i:\n",
    "        case 1:\n",
    "            print('One')\n",
    "        case 2:\n",
    "            print('Two')\n",
    "        case _:\n",
    "            if i > 2:\n",
    "                print('Greater than two')\n",
    "            else:\n",
    "                print('Less than or equal to two')\n",
    "\n",
    "\n",
    "test(1)  # 출력: One\n",
    "test(2)  # 출력: Two\n",
    "test(3)  # 출력: Greater than two\n",
    "test(4)  # 출력: Greater than two\n"
   ]
  },
  {
   "cell_type": "code",
   "execution_count": null,
   "metadata": {},
   "outputs": [],
   "source": [
    "# 문제 match를 사용하여 아래 코드를 완성해주세요.\n",
    "\n",
    "def attack(attack_type, damege):\n",
    "    match attack_type:\n",
    "        case '물리공격'|'마법공격':\n",
    "            print(f'{damege} 데미지를 입혔습니다.')\n",
    "        case '정신공격':\n",
    "            print(f'{damege}ms 만큼 상대방이 혼란을 느낍니다.')\n",
    "\n",
    "attack('물리공격',100) # 물리공격, # 마법공격, # 정신공격"
   ]
  },
  {
   "cell_type": "markdown",
   "metadata": {},
   "source": [
    "# 반복문"
   ]
  },
  {
   "cell_type": "code",
   "execution_count": null,
   "metadata": {},
   "outputs": [],
   "source": [
    "for x in 'hello': # 순회가능한 객체가 들어간다.\n",
    "  print(f'현재 값은 {x}입니다.')\n",
    "\n",
    "for x in (1,2,3,4,5):  # 순회가능한 객체가 들어간다.\n",
    "  print(f'현재 값은 {x}입니다.')"
   ]
  },
  {
   "cell_type": "code",
   "execution_count": 26,
   "metadata": {},
   "outputs": [
    {
     "name": "stdout",
     "output_type": "stream",
     "text": [
      "하나\n",
      "둘\n",
      "셋\n",
      "하나: one, 둘: two, 셋: three, \n",
      "하나 : one\n",
      "둘 : two\n",
      "셋 : three\n"
     ]
    }
   ],
   "source": [
    "d = {\n",
    "    '하나': 'one',\n",
    "    '둘': 'two',\n",
    "    '셋': 'three',\n",
    "}\n",
    "\n",
    "for k in d:\n",
    "    print(k)\n",
    "\n",
    "for k in d:\n",
    "    print(k, ': ', d[k], sep='', end=', ')\n",
    "\n",
    "print()\n",
    "\n",
    "for k,v in d.items():\n",
    "    print(f'{k} : {v}')"
   ]
  },
  {
   "cell_type": "code",
   "execution_count": 17,
   "metadata": {},
   "outputs": [
    {
     "name": "stdout",
     "output_type": "stream",
     "text": [
      "<str_iterator object at 0x000001A628F58EB0>\n",
      "h\n",
      "e\n",
      "l\n",
      "l\n",
      "o\n"
     ]
    },
    {
     "ename": "StopIteration",
     "evalue": "",
     "output_type": "error",
     "traceback": [
      "\u001b[1;31m---------------------------------------------------------------------------\u001b[0m",
      "\u001b[1;31mStopIteration\u001b[0m                             Traceback (most recent call last)",
      "\u001b[1;32mc:\\Users\\user\\BackendOrmi3\\Python\\기본2.ipynb Cell 29\u001b[0m line \u001b[0;36m1\n\u001b[0;32m      <a href='vscode-notebook-cell:/c%3A/Users/user/BackendOrmi3/Python/%EA%B8%B0%EB%B3%B82.ipynb#X43sZmlsZQ%3D%3D?line=7'>8</a>\u001b[0m \u001b[39mprint\u001b[39m(\u001b[39mnext\u001b[39m(x))\n\u001b[0;32m      <a href='vscode-notebook-cell:/c%3A/Users/user/BackendOrmi3/Python/%EA%B8%B0%EB%B3%B82.ipynb#X43sZmlsZQ%3D%3D?line=8'>9</a>\u001b[0m \u001b[39mprint\u001b[39m(\u001b[39mnext\u001b[39m(x))\n\u001b[1;32m---> <a href='vscode-notebook-cell:/c%3A/Users/user/BackendOrmi3/Python/%EA%B8%B0%EB%B3%B82.ipynb#X43sZmlsZQ%3D%3D?line=9'>10</a>\u001b[0m \u001b[39mprint\u001b[39m(\u001b[39mnext\u001b[39;49m(x))\n",
      "\u001b[1;31mStopIteration\u001b[0m: "
     ]
    }
   ],
   "source": [
    "# 1부터 5까지의 값이 x에 어땋게 들어가능 것일까?\n",
    "x = iter('hello')\n",
    "print(x)\n",
    "\n",
    "print(next(x))\n",
    "print(next(x))\n",
    "print(next(x))\n",
    "print(next(x))\n",
    "print(next(x))\n",
    "print(next(x))  # StopIteration ERROR\n"
   ]
  },
  {
   "cell_type": "code",
   "execution_count": 21,
   "metadata": {},
   "outputs": [
    {
     "name": "stdout",
     "output_type": "stream",
     "text": [
      "h\n",
      "e\n",
      "l\n",
      "l\n",
      "o\n"
     ]
    },
    {
     "ename": "StopIteration",
     "evalue": "",
     "output_type": "error",
     "traceback": [
      "\u001b[1;31m---------------------------------------------------------------------------\u001b[0m",
      "\u001b[1;31mStopIteration\u001b[0m                             Traceback (most recent call last)",
      "\u001b[1;32mc:\\Users\\user\\BackendOrmi3\\Python\\기본2.ipynb Cell 32\u001b[0m line \u001b[0;36m9\n\u001b[0;32m      <a href='vscode-notebook-cell:/c%3A/Users/user/BackendOrmi3/Python/%EA%B8%B0%EB%B3%B82.ipynb#X46sZmlsZQ%3D%3D?line=6'>7</a>\u001b[0m \u001b[39mprint\u001b[39m(y\u001b[39m.\u001b[39m\u001b[39m__next__\u001b[39m())  \u001b[39m# next(x)\u001b[39;00m\n\u001b[0;32m      <a href='vscode-notebook-cell:/c%3A/Users/user/BackendOrmi3/Python/%EA%B8%B0%EB%B3%B82.ipynb#X46sZmlsZQ%3D%3D?line=7'>8</a>\u001b[0m \u001b[39mprint\u001b[39m(y\u001b[39m.\u001b[39m\u001b[39m__next__\u001b[39m()) \u001b[39m# next(x)\u001b[39;00m\n\u001b[1;32m----> <a href='vscode-notebook-cell:/c%3A/Users/user/BackendOrmi3/Python/%EA%B8%B0%EB%B3%B82.ipynb#X46sZmlsZQ%3D%3D?line=8'>9</a>\u001b[0m \u001b[39mprint\u001b[39m(y\u001b[39m.\u001b[39;49m\u001b[39m__next__\u001b[39;49m())  \u001b[39m# next(x)\u001b[39;00m\n",
      "\u001b[1;31mStopIteration\u001b[0m: "
     ]
    }
   ],
   "source": [
    "# __iter__ 매직메서드가 없다? for문이 안된다! 순회가능한 객체가 아니다.\n",
    "#                      있다? for문이 된다! 순회가능한 객체다.\n",
    "x='hello'\n",
    "y=x.__iter__() # iter('hello')\n",
    "\n",
    "print(y.__next__())  # next(x)\n",
    "print(y.__next__()) # next(x)\n",
    "print(y.__next__())  # next(x)\n",
    "print(y.__next__())  # next(x)\n",
    "print(y.__next__()) # next(x)\n",
    "print(y.__next__())  # next(x)\n"
   ]
  },
  {
   "cell_type": "code",
   "execution_count": 27,
   "metadata": {},
   "outputs": [
    {
     "name": "stdout",
     "output_type": "stream",
     "text": [
      "4950\n"
     ]
    }
   ],
   "source": [
    "# 1부터 100까지 더하는 코드\n",
    "result = 0\n",
    "\n",
    "for i in range(100):\n",
    "  result += i\n",
    "\n",
    "print(result)"
   ]
  },
  {
   "cell_type": "code",
   "execution_count": null,
   "metadata": {},
   "outputs": [],
   "source": [
    "# 1부터 100까지 짝수를 더하는 코드\n",
    "# 권장하지 않는 코드(100번 순회, if문 확인)\n",
    "result = 0\n",
    "\n",
    "for i in range(100):\n",
    "    if i % 2 == 0:\n",
    "        result += i\n",
    "\n",
    "print(result)\n",
    "\n",
    "# 권장 코드 (50번 순회, if문도 없다)\n",
    "result = 0\n",
    "\n",
    "for i in range(0, 101, 2):\n",
    "    result += i\n",
    "\n",
    "print(result)"
   ]
  },
  {
   "cell_type": "code",
   "execution_count": null,
   "metadata": {},
   "outputs": [],
   "source": [
    "# 구구단\n",
    "for i in range(2, 10):\n",
    "    for j in range(1, 10):\n",
    "        print(i, 'x', j, '=', i*j)\n"
   ]
  },
  {
   "cell_type": "code",
   "execution_count": 32,
   "metadata": {},
   "outputs": [
    {
     "name": "stdout",
     "output_type": "stream",
     "text": [
      "0 range(0, 3) 0\n",
      "0 range(0, 3) 1\n",
      "1 range(0, 3) 2\n",
      "3 range(0, 5) 0\n",
      "3 range(0, 5) 1\n",
      "4 range(0, 5) 2\n",
      "6 range(0, 5) 3\n",
      "9 range(0, 5) 4\n",
      "13 range(0, 7) 0\n",
      "13 range(0, 7) 1\n",
      "14 range(0, 7) 2\n",
      "16 range(0, 7) 3\n",
      "19 range(0, 7) 4\n",
      "23 range(0, 7) 5\n",
      "28 range(0, 7) 6\n"
     ]
    },
    {
     "data": {
      "text/plain": [
       "34"
      ]
     },
     "execution_count": 32,
     "metadata": {},
     "output_type": "execute_result"
    }
   ],
   "source": [
    "# 홀수의 특이한 덧셈\n",
    "# 예) 6이하의 특이한 덧셈을 한다면\n",
    "# 1 + 3이하의 수 + 5이하의 수\n",
    "# 1 + 1+2+3 + 1+2+3+4+5\n",
    "# 중첩 for를 조금 어렵게 표현\n",
    "result = 0\n",
    "for i in [range(3), range(5), range(7)]:\n",
    "    for j in i:\n",
    "        print(result,i,j)\n",
    "        result += j\n",
    "result"
   ]
  },
  {
   "cell_type": "code",
   "execution_count": null,
   "metadata": {},
   "outputs": [],
   "source": [
    "# for는 중첩 2번 해야한다.\n",
    "# 문제1\n",
    "# 다음과 같은 문자열이 있습니다\n",
    "# s='135678'\n",
    "# 이때 구구단 1단, 3단, 5단, 6단, 7단, 8단을 출력하는 코드를 만들어 주세요\n",
    "s='135678'\n",
    "\n",
    "# 방법1\n",
    "for i in s:\n",
    "  for j in range(2,10):\n",
    "    print(i, 'x', j, '=', int(i)*j)\n",
    "    \n",
    "\n",
    "# 방법2\n",
    "for i in map(int, s):\n",
    "  print(f\"[{i}단]\")\n",
    "  for j in range(1,10):\n",
    "    print(i, 'x', j, '=', i*j)\n"
   ]
  },
  {
   "cell_type": "code",
   "execution_count": null,
   "metadata": {},
   "outputs": [],
   "source": [
    "# 문제2\n",
    "# 특이한 구구단이 있다.\n",
    "# [2,3,6]이 있었을때 아래와 같이 출력되어야 한다.\n",
    "# 2단, 3단, 6단을 출력하고\n",
    "# 곱해지는 수는 [2,3,6]에 1씩 더한 [3,4,7]이 각각 곱해져야 한다.\n",
    "l = [2, 3, 6]\n",
    "\n",
    "# 방법1\n",
    "for i in l:\n",
    "  for j in l:\n",
    "    print(i, 'x', j+1, '=', i*(j+1))\n",
    "    \n",
    "\n",
    "# 방법2\n",
    "for i in l:\n",
    "  print(f\"[{i}단]\")\n",
    "  for j in map(lambda x: x+1, l):\n",
    "    print(i, 'x', j, '=', i*j)\n"
   ]
  },
  {
   "cell_type": "code",
   "execution_count": 50,
   "metadata": {},
   "outputs": [
    {
     "name": "stdout",
     "output_type": "stream",
     "text": [
      "고기잡이 100 SS\n",
      "고기팔기 120 SSS\n",
      "낚시 5 C\n",
      "통발 5 C\n",
      "큰그물 5 C\n"
     ]
    }
   ],
   "source": [
    "# 하나만 리스트여도 쌍이면 상관없이 잘 돌아감\n",
    "skill = [\n",
    "    ('고기잡이', 100, 'SS'),\n",
    "    ('고기팔기', 120, 'SSS'),\n",
    "    ('낚시', 5, 'C'),\n",
    "    ('통발', 5, 'C'),\n",
    "    ('큰그물', 5, 'C')\n",
    "]\n",
    "\n",
    "for skillName, skillLevel, skillGrade in skill:\n",
    "    print(skillName, skillLevel, skillGrade)\n"
   ]
  },
  {
   "cell_type": "code",
   "execution_count": 52,
   "metadata": {},
   "outputs": [
    {
     "name": "stdout",
     "output_type": "stream",
     "text": [
      "(0, '레미제라블')\n",
      "(1, '뷰티인사이트')\n",
      "(2, '매트리스')\n",
      "(3, '인셉션')\n",
      "(4, '어거스트 러쉬')\n",
      "누적관객수 1위! 레미제라블!\n",
      "누적관객수 2위! 뷰티인사이트!\n",
      "누적관객수 3위! 매트리스!\n",
      "누적관객수 4위! 인셉션!\n",
      "누적관객수 5위! 어거스트 러쉬!\n"
     ]
    }
   ],
   "source": [
    "영화누적관객수 = ['레미제라블', '뷰티인사이트', '매트리스', '인셉션', '어거스트 러쉬']\n",
    "for i in enumerate(영화누적관객수):\n",
    "    print(i)\n",
    "\n",
    "for i, j in enumerate(영화누적관객수, 1):\n",
    "    print(f'누적관객수 {i}위! {j}!')\n"
   ]
  },
  {
   "cell_type": "code",
   "execution_count": 58,
   "metadata": {},
   "outputs": [
    {
     "name": "stdout",
     "output_type": "stream",
     "text": [
      "hello!\n",
      "hello!!\n",
      "hello!!!\n",
      "hello!!!!\n",
      "hello!!!!!\n",
      "hello!!!!!\n"
     ]
    }
   ],
   "source": [
    "# 실행시키면 런타임 다시 시작해야 합니다.\n",
    "# l = [1, 2]\n",
    "# for i in l:\n",
    "#     l.append(3)\n",
    "#     print(i) # 1, 2, 3, 3, 3, 3, 3, 3 ...\n",
    "\n",
    "s = 'hello'\n",
    "for i in s:  # 순회가 정상적으로 됩니다.\n",
    "    s += '!'\n",
    "    print(i)\n",
    "    print(s)\n",
    "\n",
    "d = {'one': '하나'}\n",
    "for i in d:  # RuntimeError: dictionary changed size during iteration\n",
    "    d.update({i+d[i]: None})\n",
    "    print(d)"
   ]
  },
  {
   "cell_type": "code",
   "execution_count": null,
   "metadata": {},
   "outputs": [],
   "source": [
    "while True:\n",
    "    print('무한 반복 중...')"
   ]
  },
  {
   "cell_type": "code",
   "execution_count": null,
   "metadata": {},
   "outputs": [],
   "source": [
    "while True:\n",
    "  userinput = input('>')\n",
    "  if userinput == 'pwd':\n",
    "    print('현재 위치 출력')\n",
    "  elif userinput == 'dir' or userinput =='ls':\n",
    "    print('현재 폴더에 폴더와 파일명 출력')\n",
    "  elif userinput == 'exit':\n",
    "    print(\"안녕히가세요!\")\n",
    "    break"
   ]
  },
  {
   "cell_type": "code",
   "execution_count": null,
   "metadata": {},
   "outputs": [],
   "source": [
    "import random\n",
    "\n",
    "answer = random.randint(1, 1000)\n",
    "while True:\n",
    "    userinput = int(input('숫자를 입력해주세요.'))\n",
    "    if userinput > answer:\n",
    "        print('Down')\n",
    "\n",
    "    elif userinput < answer:\n",
    "        print('Up')\n",
    "    else:\n",
    "        print('축하합니다! 맞추셨어요!')\n",
    "        break\n"
   ]
  },
  {
   "cell_type": "code",
   "execution_count": 61,
   "metadata": {},
   "outputs": [
    {
     "data": {
      "text/plain": [
       "[5, 2, 3, 1, 4]"
      ]
     },
     "execution_count": 61,
     "metadata": {},
     "output_type": "execute_result"
    }
   ],
   "source": [
    "import random\n",
    "\n",
    "s = [1, 2, 3, 4, 5]\n",
    "random.shuffle(s)\n",
    "s\n"
   ]
  },
  {
   "cell_type": "code",
   "execution_count": null,
   "metadata": {},
   "outputs": [],
   "source": [
    "# 이런게 있다정도로만 알아두기\n",
    "\n",
    "x = (n := 10) * 2\n",
    "print(x)  # 출력: 20\n",
    "print(n)  # 출력: 10"
   ]
  },
  {
   "cell_type": "code",
   "execution_count": null,
   "metadata": {},
   "outputs": [],
   "source": [
    "import random\n",
    "\n",
    "while (x := random.randint(0, 10)) != 7:\n",
    "    print(x)\n"
   ]
  },
  {
   "cell_type": "code",
   "execution_count": null,
   "metadata": {},
   "outputs": [],
   "source": [
    "i = 2\n",
    "while i < 10:\n",
    "    j = 1  # 별표 5개! while문은 중첩해서 사용할 때 초기화가 필요합니다!\n",
    "    while j < 10:\n",
    "        print(f'{i} X {j} = {i*j}')\n",
    "        j += 1\n",
    "    i += 1"
   ]
  },
  {
   "cell_type": "code",
   "execution_count": null,
   "metadata": {},
   "outputs": [],
   "source": [
    "# break은 바로 위에 부모만 탈출합니다.\n",
    "# continue는 아래코드를 실행하지 않고 다음 루프로 넘어갑니다.\n",
    "# pass는 지나칠 뿐입니다. pass는 코드가 애러가 나지 않게만 합니다.\n",
    "\n",
    "x = 0\n",
    "while x < 10:\n",
    "    x += 1\n",
    "    if x == 5:\n",
    "        break\n",
    "    print(x)\n",
    "\n",
    "while x < 10:\n",
    "    x += 1\n",
    "    if x == 5:\n",
    "        continue\n",
    "    print(x)\n",
    "\n",
    "while x < 10:\n",
    "    x += 1\n",
    "    if x == 5:\n",
    "        pass\n",
    "    print(x)\n"
   ]
  },
  {
   "cell_type": "code",
   "execution_count": null,
   "metadata": {},
   "outputs": [],
   "source": [
    "# else라고 하지 않고 다른 키워드로 해야한다는 주장있었어요.\n",
    "for i in range(5):\n",
    "    print(i)\n",
    "else:\n",
    "    print('정상 종료')\n"
   ]
  },
  {
   "cell_type": "code",
   "execution_count": 3,
   "metadata": {},
   "outputs": [
    {
     "name": "stdout",
     "output_type": "stream",
     "text": [
      "1\n",
      "2\n",
      "3\n"
     ]
    }
   ],
   "source": [
    "x = 1\n",
    "while x < 10:\n",
    "    print(x)\n",
    "    if x == 3:\n",
    "        break\n",
    "    x += 1\n",
    "else:\n",
    "    print('정상 종료')\n"
   ]
  },
  {
   "cell_type": "code",
   "execution_count": 16,
   "metadata": {},
   "outputs": [],
   "source": [
    "data = [\n",
    "    {\n",
    "        \"_id\": \"fd7e9a0f-e77b-436a-B781-119b66033d49\",\n",
    "        \"index\": \"1\",\n",
    "        \"name\": \"나주헌\",\n",
    "        \"email\": \"user-tzctc1q@suspendisse.org\",\n",
    "        \"phone\": \"010-5547-5841\",\n",
    "        \"country\": \"과테말라\",\n",
    "        \"address\": \"광나루로 99-2\",\n",
    "        \"job\": \"유치원교사\",\n",
    "        \"gender\": \"여성\",\n",
    "        \"age\": \"43\"\n",
    "    },\n",
    "    {\n",
    "        \"_id\": \"8ec6eabb-160a-41e4-A3de-cd33aff0b281\",\n",
    "        \"index\": \"2\",\n",
    "        \"name\": \"엄루다\",\n",
    "        \"email\": \"user-1rz7xby@mi.org\",\n",
    "        \"phone\": \"010-3963-9373\",\n",
    "        \"country\": \"엘살바도르\",\n",
    "        \"address\": \"석촌호수로 37-1\",\n",
    "        \"job\": \"프로게이머\",\n",
    "        \"gender\": \"남성\",\n",
    "        \"age\": \"22\"\n",
    "    },\n",
    "    {\n",
    "        \"_id\": \"bcf804f7-0452-4c31-B9d1-20cc2d38490b\",\n",
    "        \"index\": \"3\",\n",
    "        \"name\": \"형유환\",\n",
    "        \"email\": \"user-ym96wth@have.net\",\n",
    "        \"phone\": \"010-6389-9499\",\n",
    "        \"country\": \"벨리즈\",\n",
    "        \"address\": \"잠실로 33-3\",\n",
    "        \"job\": \"아나운서\",\n",
    "        \"gender\": \"남성\",\n",
    "        \"age\": \"31\"\n",
    "    },\n",
    "    {\n",
    "        \"_id\": \"11006f0d-e88d-41fc-A288-caa2e67927e7\",\n",
    "        \"index\": \"4\",\n",
    "        \"name\": \"위도현\",\n",
    "        \"email\": \"user-tkxj6f5@diam.org\",\n",
    "        \"phone\": \"010-4246-4752\",\n",
    "        \"country\": \"바레인\",\n",
    "        \"address\": \"종로 99-8\",\n",
    "        \"job\": \"작곡가\",\n",
    "        \"gender\": \"여성\",\n",
    "        \"age\": \"42\"\n",
    "    },\n",
    "    {\n",
    "        \"_id\": \"b7421487-da52-4410-B696-17bab958a5d8\",\n",
    "        \"index\": \"5\",\n",
    "        \"name\": \"유성재\",\n",
    "        \"email\": \"user-bgxih63@Sed.net\",\n",
    "        \"phone\": \"010-6359-7592\",\n",
    "        \"country\": \"피지\",\n",
    "        \"address\": \"방학로 71-3\",\n",
    "        \"job\": \"연기자\",\n",
    "        \"gender\": \"여성\",\n",
    "        \"age\": \"48\"\n",
    "    }\n",
    "]\n"
   ]
  },
  {
   "cell_type": "code",
   "execution_count": 37,
   "metadata": {},
   "outputs": [
    {
     "name": "stdout",
     "output_type": "stream",
     "text": [
      "평균 나이: 37.2\n"
     ]
    },
    {
     "data": {
      "text/plain": [
       "(40.0, 60.0)"
      ]
     },
     "execution_count": 37,
     "metadata": {},
     "output_type": "execute_result"
    }
   ],
   "source": [
    "# 문제 1번: 평균 나이를 출력해주세요.\n",
    "ages = map(lambda x:x['age'],data)\n",
    "ages = map(int,ages)\n",
    "# map은 한번 순회하면 다시 순회가 불가능하다.\n",
    "ages = list(ages)\n",
    "\n",
    "print(\"평균 나이:\",sum(ages) / len(ages))\n",
    "\n",
    "# 문제 2번: 남녀 성비를 출력해주세요.\n",
    "ratio = {}\n",
    "\n",
    "genders = list(map(lambda x:x['gender'],data))\n",
    "total = len(genders)\n",
    "man = genders.count('남성')\n",
    "woman = total - man\n",
    "man/total * 100, woman/total * 100\n"
   ]
  },
  {
   "cell_type": "markdown",
   "metadata": {},
   "source": [
    "# 클래스(Class)"
   ]
  },
  {
   "cell_type": "markdown",
   "metadata": {},
   "source": [
    "- 클래스 : 객체를 만들어 내기 위한 설계도\n",
    "- 객체 : \n",
    "  - 클래스에 선언된 모양 그대로 생성된 실체(클래스의 인스턴스)\n",
    "  - 객체는 모든 인스턴스를 대표하는 포괄적인 의미를 갖는다.\n",
    "- 인스턴스 :\n",
    "  - 설계도를 바탕으로 구현된 구체적인 실체\n",
    "  - 실체화된 인스턴스는 메모리에 할당된다.\n",
    "\n",
    "[클래스(Class) VS 객체(Object)]  \n",
    "클래스는 ‘설계도’, 객체는 ‘설계도로 구현한 모든 대상’을 의미한다."
   ]
  },
  {
   "cell_type": "code",
   "execution_count": 39,
   "metadata": {},
   "outputs": [
    {
     "name": "stdout",
     "output_type": "stream",
     "text": [
      "D\n",
      "차가 출발합니다!\n",
      "차가 멈췄습니다!\n"
     ]
    }
   ],
   "source": [
    "# 차를 만들어 내기 위한 설계도\n",
    "class Car:  # 클래스\n",
    "    max_speed = 500\n",
    "    max_people = 5\n",
    "    car_gear = ['P', 'D', 'R', 'N']\n",
    "\n",
    "    def start(self):\n",
    "        print('차가 출발합니다!')\n",
    "\n",
    "    def stop(self):\n",
    "        print('차가 멈췄습니다!')\n",
    "\n",
    "\n",
    "# 테슬라 공장에서 막 찍혀져 나온 자동차!\n",
    "# 3대! modelx, y, s!\n",
    "modelx = Car()  # 인스턴스 = 클래스()\n",
    "modely = Car()\n",
    "models = Car()\n",
    "\n",
    "# modelx의 속도를 보고 싶으면 modelx.max_speed를 찍어야 한다.\n",
    "\n",
    "print(models.car_gear[1])\n",
    "models.start()\n",
    "models.stop()"
   ]
  },
  {
   "cell_type": "code",
   "execution_count": 40,
   "metadata": {},
   "outputs": [
    {
     "data": {
      "text/plain": [
       "[1, 2, 3, 3]"
      ]
     },
     "execution_count": 40,
     "metadata": {},
     "output_type": "execute_result"
    }
   ],
   "source": [
    "l = [1, 2, 3]\n",
    "type(l)\n",
    "dir(l)\n",
    "l.append(3)  # 이 모습!?\n",
    "l\n"
   ]
  },
  {
   "cell_type": "code",
   "execution_count": 41,
   "metadata": {},
   "outputs": [
    {
     "name": "stdout",
     "output_type": "stream",
     "text": [
      "<class '__main__.Car'>\n",
      "['__class__', '__delattr__', '__dict__', '__dir__', '__doc__', '__eq__', '__format__', '__ge__', '__getattribute__', '__gt__', '__hash__', '__init__', '__init_subclass__', '__le__', '__lt__', '__module__', '__ne__', '__new__', '__reduce__', '__reduce_ex__', '__repr__', '__setattr__', '__sizeof__', '__str__', '__subclasshook__', '__weakref__', 'car_gear', 'max_people', 'max_speed', 'start', 'stop']\n"
     ]
    }
   ],
   "source": [
    "# int, float, str와 같은 새로운 Car는 type을 만들고 있는 것이다.\n",
    "print(type(models))\n",
    "print(dir(models))"
   ]
  },
  {
   "cell_type": "code",
   "execution_count": null,
   "metadata": {},
   "outputs": [],
   "source": [
    "x = int(3)\n",
    "# x는 무엇일까?\n",
    "# int라는 class의 인스턴스이다."
   ]
  },
  {
   "cell_type": "code",
   "execution_count": 98,
   "metadata": {},
   "outputs": [
    {
     "data": {
      "text/plain": [
       "'Tesla Model X'"
      ]
     },
     "execution_count": 98,
     "metadata": {},
     "output_type": "execute_result"
    }
   ],
   "source": [
    "# x = int(3)에서 넣은 3이라는 값이 어떻게 처리되는지 확인\n",
    "class Car:\n",
    "    max_speed = 300\n",
    "    max_people = 5\n",
    "    car_gear = ['P', 'D', 'R', 'N']\n",
    "\n",
    "    def __init__(self, name):\n",
    "        self.name = name\n",
    "\n",
    "    def start(self):\n",
    "        print('차가 출발합니다!')\n",
    "\n",
    "    def stop(self):\n",
    "        print('차가 멈췄습니다!')\n",
    "\n",
    "\n",
    "modelx = Car('Tesla Model X') # x = int(3) 여기서 넣었던 3일 __init__매직메서드에서 처리!\n",
    "modelx.name"
   ]
  },
  {
   "cell_type": "code",
   "execution_count": 46,
   "metadata": {},
   "outputs": [],
   "source": [
    "# 실제 게임 코드\n",
    "class Character:\n",
    "    def __init__(self, name, role, hp, mp, power):\n",
    "        self.name = name\n",
    "        self.role = role\n",
    "        self.hp = hp\n",
    "        self.mp = mp\n",
    "        self.power = power\n",
    "\n",
    "    def attack(self):\n",
    "        print('공격!')\n",
    "\n",
    "    def defence(self):\n",
    "        print('방어!')\n",
    "\n",
    "\n",
    "hero_ironman = Character('아이언맨', '히어로', 100, 100, 100)\n",
    "villain_thanos = Character('타노스', '빌런', 100, 100, 200)\n",
    "# 여러 등장인물을 이런식으로 코딩할 수 있습니다.\n"
   ]
  },
  {
   "cell_type": "code",
   "execution_count": null,
   "metadata": {},
   "outputs": [],
   "source": [
    "class Person:\n",
    "    name = 'jun'  # 클래스 변수\n",
    "\n",
    "    def __init__(self, name):\n",
    "        self.name = name  # 인스턴스 변수\n",
    "\n",
    "\n",
    "hojun = Person('hojun')\n",
    "hojun.name, Person.name\n"
   ]
  },
  {
   "cell_type": "code",
   "execution_count": null,
   "metadata": {},
   "outputs": [],
   "source": [
    "class Car:\n",
    "    max_speed = 300\n",
    "\n",
    "    def __init__(self, name):\n",
    "        self.name = name\n",
    "\n",
    "    def start(self):\n",
    "        print('차가 출발합니다!')\n",
    "\n",
    "\n",
    "modelx = Car('Tesla Model X')\n",
    "modelx.name\n"
   ]
  },
  {
   "cell_type": "code",
   "execution_count": 47,
   "metadata": {},
   "outputs": [
    {
     "name": "stdout",
     "output_type": "stream",
     "text": [
      "<class 'function'>\n"
     ]
    }
   ],
   "source": [
    "def hello():\n",
    "    print('hellow word')\n",
    "\n",
    "\n",
    "print(type(hello))\n"
   ]
  },
  {
   "cell_type": "code",
   "execution_count": 50,
   "metadata": {},
   "outputs": [
    {
     "data": {
      "text/plain": [
       "'hi, world'"
      ]
     },
     "execution_count": 50,
     "metadata": {},
     "output_type": "execute_result"
    }
   ],
   "source": [
    "hello.hi = 'hi, world'\n",
    "\n",
    "hello.hi"
   ]
  },
  {
   "cell_type": "code",
   "execution_count": null,
   "metadata": {},
   "outputs": [],
   "source": [
    "# 함수를 제외하고 인스턴스 변수를 생성하는 것을 허락하지 않는다.\n",
    "s=10\n",
    "s.hi  = 'hi, whordl!'\n",
    "print(s.hi)\n",
    "\n",
    "s='hello'\n",
    "s.hi  = 'hi, whordl!'\n",
    "print(s.hi)\n",
    "\n",
    "s=[10,20,30]\n",
    "s.hi = 'hi, whordl!'\n",
    "print(s.hi)\n",
    "\n",
    "s={'one':1}\n",
    "s.hi = 'hi, whordl!'\n",
    "print(s.hi)"
   ]
  },
  {
   "cell_type": "code",
   "execution_count": 100,
   "metadata": {},
   "outputs": [
    {
     "data": {
      "text/plain": [
       "<__main__.Coordinate at 0x2027346c700>"
      ]
     },
     "execution_count": 100,
     "metadata": {},
     "output_type": "execute_result"
    }
   ],
   "source": [
    "class Coordinate:\n",
    "    def __init__(self, x,y):\n",
    "        self.x=x\n",
    "        self.y=y\n",
    "\n",
    "    def __add__(self,other):\n",
    "        return ((self.x+other.x), (self.y+other.y))\n",
    "    \n",
    "dot1=Coordinate(10,20)\n",
    "dot2=Coordinate(20,30)\n",
    "\n",
    "dot1 + dot2\n"
   ]
  },
  {
   "cell_type": "code",
   "execution_count": 102,
   "metadata": {},
   "outputs": [
    {
     "name": "stdout",
     "output_type": "stream",
     "text": [
      "[30, 50, 70]\n",
      "[30, 60, 90]\n"
     ]
    }
   ],
   "source": [
    "class Matrix:\n",
    "\n",
    "    def __init__(self, value):\n",
    "        self.value = value\n",
    "\n",
    "    def __add__(self, other):\n",
    "        result = []\n",
    "        for i in range(len(self.value)):\n",
    "            result.append(self.value[i] + other.value[i])\n",
    "        return result\n",
    "\n",
    "    def __mul__(self, other):\n",
    "        if isinstance(other, int):\n",
    "            return [i*other for i in self.value]\n",
    "        raise TypeError('int형 외에 곱을 허락하지 않습니다!')   # 에러를 발생시킴\n",
    "\n",
    "\n",
    "m1 = Matrix([10, 20, 30])\n",
    "m2 = Matrix([20, 30, 40])\n",
    "\n",
    "print(m1 + m2)\n",
    "\n",
    "print(m1*3)\n"
   ]
  },
  {
   "cell_type": "code",
   "execution_count": null,
   "metadata": {},
   "outputs": [],
   "source": [
    "# 단순화 시키긴 했으나 실제 아래와 같이 만듭니다.\n",
    "class 게시물설계도:\n",
    "    id = int()\n",
    "    title = str()\n",
    "    contents = str()\n",
    "    author = str()\n",
    "    create_time = str()\n",
    "    update_time = str()\n",
    "    view_count = int()\n",
    "    last_connect_location = str()\n",
    "    last_connect_time = str()\n",
    "\n",
    "\n",
    "게시물1 = 게시물설계도()\n",
    "게시물2 = 게시물설계도()"
   ]
  },
  {
   "cell_type": "code",
   "execution_count": 55,
   "metadata": {},
   "outputs": [],
   "source": [
    "# 아래 기본 data를 기반으로 문제를 풀어주세요.\n",
    "data = [\n",
    "    {\n",
    "        \"_id\": \"fd7e9a0f-e77b-436a-B781-119b66033d49\",\n",
    "        \"index\": \"1\",\n",
    "        \"name\": \"나주헌\",\n",
    "        \"gender\": \"여성\",\n",
    "        \"age\": \"43\"\n",
    "    },\n",
    "    {\n",
    "        \"_id\": \"8ec6eabb-160a-41e4-A3de-cd33aff0b281\",\n",
    "        \"index\": \"2\",\n",
    "        \"name\": \"엄루다\",\n",
    "        \"gender\": \"남성\",\n",
    "        \"age\": \"22\"\n",
    "    },\n",
    "    {\n",
    "        \"_id\": \"bcf804f7-0452-4c31-B9d1-20cc2d38490b\",\n",
    "        \"index\": \"3\",\n",
    "        \"name\": \"형유환\",\n",
    "        \"gender\": \"남성\",\n",
    "        \"age\": \"31\"\n",
    "    }\n",
    "]\n"
   ]
  },
  {
   "cell_type": "code",
   "execution_count": 97,
   "metadata": {},
   "outputs": [
    {
     "name": "stdout",
     "output_type": "stream",
     "text": [
      "나주헌\n",
      "엄루다\n",
      "형유환\n"
     ]
    }
   ],
   "source": [
    "# 문제 1 gender, age값을 추출해보세요. 아래 양식처럼 추출하시면 됩니다.\n",
    "# 가능하면 map을 사용해주세요.\n",
    "'''\n",
    " [\n",
    "  {\n",
    "    \"gender\": \"여성\",\n",
    "    \"age\": \"43\"\n",
    "  },\n",
    "  {\n",
    "    \"gender\": \"남성\",\n",
    "    \"age\": \"22\"\n",
    "  },\n",
    "  {\n",
    "    \"gender\": \"남성\",\n",
    "    \"age\": \"31\"\n",
    "  }\n",
    "]\n",
    "'''\n",
    "list(map(lambda x: {\"gender\": x['gender'], \"age\": x['age']},data))\n",
    "\n",
    "def genderNage(data):\n",
    "    gender = data['gender']\n",
    "    age = data['age']\n",
    "    return {\"gender\": gender, \"age\": age}\n",
    "\n",
    "\n",
    "list(map(genderNage, data))\n",
    "\n",
    "# 문제 2 User라는 class를 만들어 해당 데이터를 관리해주세요. 아래처럼 저장되어야 합니다.\n",
    "# 다만 꼭 변수 이름이 user_1...user_n 일 필요는 없습니다.\n",
    "# 저장양식: '[user_1, user_2, user_3]'\n",
    "\n",
    "\n",
    "class User():\n",
    "    def __init__(self, data):\n",
    "        self._id = data['_id']\n",
    "        self.index = data['index']\n",
    "        self.name = data['name']\n",
    "        self.gender = data['gender']\n",
    "        self.age = data['age']\n",
    "\n",
    "\n",
    "user1 = User(data[0])\n",
    "user2 = User(data[1])\n",
    "user3 = User(data[2])\n",
    "\n",
    "user_list = [user1, user2, user3]\n",
    "for i in user_list:\n",
    "    print(i.name)\n",
    "\n",
    "# Django에서 많이 사용되고 크롤링에도 많이 사용된다.\n",
    "# 1. 속도 : 기본 자료형보다 훨씬 빠르다.\n",
    "# 2. 메서드 구현: 예) User 클래스를 가지고 연령대별 타깃 광고\n"
   ]
  },
  {
   "cell_type": "code",
   "execution_count": 95,
   "metadata": {},
   "outputs": [
    {
     "name": "stdout",
     "output_type": "stream",
     "text": [
      "1000원 입금되었습니다. 잔액 : 1000원\n",
      "100원 출금되었습니다. 잔액 : 900원\n"
     ]
    }
   ],
   "source": [
    "# 문제 3 BankAccount 클래스를 생성하세요. 이 클래스는 owner(계좌주 이름), balance(잔액) 속성을 가져야 합니다.\n",
    "# 이 클래스는 deposit(amount) (입금) 및 withdraw(amount) (출금) 메서드를 가져야 합니다.\n",
    "# 단, 출금 시 잔액보다 큰 금액을 출금하려고 하면 \"잔액 부족\" 메시지를 출력해야 합니다.\n",
    "\n",
    "\n",
    "class BankAccount():\n",
    "    def __init__(self, owner, balance=0):\n",
    "        self.owner = owner\n",
    "        self.balance = balance\n",
    "\n",
    "    def deposit(self, amount):  # 입금\n",
    "        if amount > 0:\n",
    "            self.balance += amount\n",
    "            print(f\"{amount}원 입금되었습니다. 잔액 : {self.balance}원\")\n",
    "\n",
    "    def withdraw(self, amount):  # 출금\n",
    "        if amount < 0:\n",
    "            return\n",
    "        if (self.balance - amount) >= 0:\n",
    "            print(f\"{amount}원 출금되었습니다. 잔액 : {self.balance - amount}원\")\n",
    "            return\n",
    "        return \"잔액부족\"\n",
    "\n",
    "\n",
    "account1 = BankAccount(\"홍길동\")\n",
    "account1.deposit(-1000)\n",
    "account1.deposit(1000)\n",
    "account1.withdraw(-100)\n",
    "account1.withdraw(100)"
   ]
  }
 ],
 "metadata": {
  "kernelspec": {
   "display_name": "Python 3",
   "language": "python",
   "name": "python3"
  },
  "language_info": {
   "codemirror_mode": {
    "name": "ipython",
    "version": 3
   },
   "file_extension": ".py",
   "mimetype": "text/x-python",
   "name": "python",
   "nbconvert_exporter": "python",
   "pygments_lexer": "ipython3",
   "version": "3.9.2"
  },
  "orig_nbformat": 4
 },
 "nbformat": 4,
 "nbformat_minor": 2
}
