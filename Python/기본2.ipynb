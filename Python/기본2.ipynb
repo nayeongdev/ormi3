{
 "cells": [
  {
   "cell_type": "markdown",
   "metadata": {},
   "source": [
    "# 조건문"
   ]
  },
  {
   "cell_type": "markdown",
   "metadata": {},
   "source": [
    "## if"
   ]
  },
  {
   "cell_type": "code",
   "execution_count": null,
   "metadata": {},
   "outputs": [],
   "source": [
    "if True:\n",
    "    print('hello')\n",
    "\n",
    "if (True):  # 이렇게 괄호를 안해도 된다!\n",
    "    print('hello')\n"
   ]
  },
  {
   "cell_type": "code",
   "execution_count": null,
   "metadata": {},
   "outputs": [],
   "source": [
    "if 10 and 9: #True나 False가 아니라 단락평가에 의해 9\n",
    "  print('hello')\n",
    "\n",
    "if 10:\n",
    "  print('hello')"
   ]
  },
  {
   "cell_type": "code",
   "execution_count": null,
   "metadata": {},
   "outputs": [],
   "source": [
    "''\n",
    "0\n",
    "[]\n",
    "{}\n",
    "()\n",
    "set()\n",
    "False\n",
    "\n",
    "#=========\n",
    "\n",
    "1\n",
    "-1\n",
    "' '\n",
    "[10,20]\n",
    "True"
   ]
  },
  {
   "cell_type": "code",
   "execution_count": null,
   "metadata": {},
   "outputs": [],
   "source": [
    "# 삼항 연산자\n",
    "x = 5\n",
    "y = 10\n",
    "result = 'x is greater' if x > y else 'y is greater or equal'\n",
    "print(result)  # 출력: 'y is greater or equal'"
   ]
  },
  {
   "cell_type": "code",
   "execution_count": null,
   "metadata": {},
   "outputs": [],
   "source": [
    "[i if i % 2 == 0 else None for i in range(10)]"
   ]
  },
  {
   "cell_type": "code",
   "execution_count": null,
   "metadata": {},
   "outputs": [],
   "source": [
    "[i for i in range(10) if i % 2 == 0]"
   ]
  },
  {
   "cell_type": "code",
   "execution_count": null,
   "metadata": {},
   "outputs": [],
   "source": [
    "def f():\n",
    "    return True\n",
    "\n",
    "\n",
    "if f():\n",
    "    print('hello')\n"
   ]
  },
  {
   "cell_type": "code",
   "execution_count": null,
   "metadata": {},
   "outputs": [],
   "source": [
    "def f():\n",
    "    return True\n",
    "\n",
    "\n",
    "def ff():\n",
    "    return 'hello'\n",
    "\n",
    "if f() and ff():\n",
    "    print('hello')\n"
   ]
  },
  {
   "cell_type": "code",
   "execution_count": null,
   "metadata": {},
   "outputs": [],
   "source": [
    "# 성능에 영향을 끼칩니다!\n",
    "def f():\n",
    "    return True\n",
    "\n",
    "\n",
    "def ff():\n",
    "    x = 100 / 0  # error\n",
    "    return 'hello'\n",
    "\n",
    "\n",
    "if f() or ff():\n",
    "    print('hello')\n",
    "\n",
    "# # error가 나는 코드\n",
    "# if ff() or f():\n",
    "#     print('hello')\n"
   ]
  },
  {
   "cell_type": "code",
   "execution_count": null,
   "metadata": {},
   "outputs": [],
   "source": [
    "def my_function(x): return '짝수' if x % 2 == 0 else '홀수'\n",
    "\n",
    "\n",
    "my_function(10)"
   ]
  },
  {
   "cell_type": "code",
   "execution_count": null,
   "metadata": {},
   "outputs": [],
   "source": [
    "# error\n",
    "x = -1\n",
    "assert x > 0, '양수여야 한다!'"
   ]
  },
  {
   "cell_type": "code",
   "execution_count": null,
   "metadata": {},
   "outputs": [],
   "source": [
    "x = 10\n",
    "assert x > 0, '양수여야 한다!'"
   ]
  },
  {
   "cell_type": "code",
   "execution_count": null,
   "metadata": {},
   "outputs": [],
   "source": [
    "score = 81\n",
    "money = 0\n",
    "\n",
    "if score >= 90:\n",
    "    print('mom : i\\'m so happy!')\n",
    "    money += 1000000\n",
    "elif score >= 80:  # 어떤 의미가 내포되어 있나요? 90미만이라는 얘기가 하나 더 있는겁니다!\n",
    "    print('mom : i\\'m happy!')\n",
    "    money += 100000\n",
    "elif score >= 70 and score < 80:\n",
    "    print('mom : i\\'m so...!')\n",
    "    money += 10000\n",
    "elif score >= 60 and score < 70:\n",
    "    print('mom : i\\'m so...!')\n",
    "    money += 1000\n",
    "else:\n",
    "    print('mom : i\\'m...!')\n",
    "print(money)"
   ]
  },
  {
   "cell_type": "code",
   "execution_count": null,
   "metadata": {},
   "outputs": [],
   "source": [
    "score = 81\n",
    "money = 0\n",
    "\n",
    "if score >= 90:\n",
    "    print('mom : i\\'m so happy!')\n",
    "    money += 1000000\n",
    "if 90 > score >= 80:  # 어떤 의미가 내포되어 있나요? 90미만이라는 얘기가 하나 더 있는겁니다!\n",
    "    print('mom : i\\'m happy!')\n",
    "    money += 100000\n",
    "if 80 > score >= 70 and score < 80:\n",
    "    print('mom : i\\'m so...!')\n",
    "    money += 10000\n",
    "if 70 > score >= 60 and score < 70:\n",
    "    print('mom : i\\'m so...!')\n",
    "    money += 1000\n",
    "else:\n",
    "    print('mom : i\\'m...!')\n",
    "print(money)\n",
    "\n",
    "# if, elif, else는 한 묶음으로 만들어줍니다!"
   ]
  },
  {
   "cell_type": "code",
   "execution_count": null,
   "metadata": {},
   "outputs": [],
   "source": [
    "# 아래와 같이 하더라도 실행이 같지 않고 또 성능도 안좋다!!\n",
    "# 성능이 왜 안좋나요?\n",
    "# if 뒤를 다 검사해야 하기 때문에 그렇다.\n",
    "# 적절하게 묶는 것은 매우 중요한 포인트입니다.\n",
    "score = 81\n",
    "money = 0\n",
    "\n",
    "if score >= 90:\n",
    "    print('mom : i\\'m so happy!')\n",
    "    money += 1000000\n",
    "if 90 > score >= 80:\n",
    "    print('mom : i\\'m happy!')\n",
    "    money += 100000\n",
    "if 80 > score >= 70:\n",
    "    print('mom : i\\'m so...!')\n",
    "    money += 10000\n",
    "if 70 > score >= 60:\n",
    "    print('mom : i\\'m so...!')\n",
    "    money += 1000\n",
    "else:\n",
    "    print('mom : i\\'m...!')\n",
    "print(money)"
   ]
  },
  {
   "cell_type": "code",
   "execution_count": null,
   "metadata": {},
   "outputs": [],
   "source": [
    "# if를 중첩\n",
    "movie = {\n",
    "    '영화': '무빙',\n",
    "    '장르': 'SF',\n",
    "    '서비스': '디즈니',\n",
    "    '비용': 15000,\n",
    "    '평점': 4.9\n",
    "}\n",
    "\n",
    "if movie['장르'] == 'SF':\n",
    "    if movie['서비스'] == '디즈니' or movie['서비스'] == '넷플릭스':\n",
    "        if movie['평점'] >= 4.5:\n",
    "            if movie['비용'] <= 10000:\n",
    "                print('영화시청')\n",
    "\n",
    "if movie['장르'] == 'SF' and (movie['서비스'] == '디즈니' or movie['서비스'] == '넷플릭스') and movie['평점'] >= 4.5 and movie['비용'] <= 20000:\n",
    "    print('영화시청')"
   ]
  },
  {
   "cell_type": "code",
   "execution_count": null,
   "metadata": {},
   "outputs": [],
   "source": [
    "# 지금 이 코드에서는 동일하게 작동하지만\n",
    "# 아래와 같이 했을 때에는 문제가 발생합니다.\n",
    "movie = {\n",
    "    '영화': '무빙',\n",
    "    '장르': 'SF',\n",
    "    '서비스': '디즈니',\n",
    "    '비용': 15000,\n",
    "    '평점': 4.1  # 변경\n",
    "}\n",
    "\n",
    "\n",
    "def 구독중인ott():\n",
    "    # 사용자에게 문자 알림을 준다던지 하는 엑션이 있었다?\n",
    "    return movie['서비스'] == '디즈니' or movie['서비스'] == '넷플릭스'\n",
    "\n",
    "\n",
    "if movie['장르'] == 'SF':\n",
    "    if movie['평점'] >= 4.5:\n",
    "        if movie['비용'] <= 20000:\n",
    "            if 구독중인ott():\n",
    "                print('영화시청')\n"
   ]
  },
  {
   "cell_type": "code",
   "execution_count": null,
   "metadata": {},
   "outputs": [],
   "source": [
    "# if 중첩, 깔끔하게 다듬어진 것\n",
    "movie = {\n",
    "    '영화': '무빙',\n",
    "    '장르': 'SF',\n",
    "    '서비스': '왓챠',\n",
    "    '비용': 15000,\n",
    "    '평점': 4.9\n",
    "}\n",
    "\n",
    "if movie['장르'] == 'SF':\n",
    "    if movie['서비스'] == '디즈니' or movie['서비스'] == '넷플릭스':\n",
    "        if movie['평점'] >= 4.5 and movie['비용'] <= 20000:\n",
    "            print('영화시청')\n",
    "    else:\n",
    "        print(movie['서비스'] + ' 구독하기!')"
   ]
  },
  {
   "cell_type": "markdown",
   "metadata": {},
   "source": [
    "## Match"
   ]
  },
  {
   "cell_type": "code",
   "execution_count": null,
   "metadata": {},
   "outputs": [],
   "source": [
    "# 3.10버전 이상..!!\n",
    "text = 'Hello World'\n",
    "\n",
    "match text:\n",
    "    case 'Hello':\n",
    "        print('Hello')\n",
    "    case 'World':\n",
    "        print('World')\n",
    "    case _:\n",
    "        print('No Match')  # 결과 'No Match'"
   ]
  },
  {
   "cell_type": "code",
   "execution_count": null,
   "metadata": {},
   "outputs": [],
   "source": [
    "# 3.10버전 이상..!!\n",
    "text = 'Hello'\n",
    "match text:\n",
    "    case 'Hello':\n",
    "        print('Hello')\n",
    "    case 'World':\n",
    "        print('World')\n",
    "    case _:\n",
    "        print('No Match')  # 결과 'No Match'"
   ]
  },
  {
   "cell_type": "code",
   "execution_count": null,
   "metadata": {},
   "outputs": [],
   "source": [
    "# 3.10버전 이상..!!\n",
    "# 작동하지 않는 코드입니다. JavaScript와 같은 곳에서는 아래와 같은 형식으로 사용하곤 합니다.\n",
    "text = 'Hello'\n",
    "match text:\n",
    "    case 'Hello':\n",
    "    case 'World':\n",
    "        print('World')\n",
    "    case _:\n",
    "        print('No Match')"
   ]
  },
  {
   "cell_type": "code",
   "execution_count": null,
   "metadata": {},
   "outputs": [],
   "source": [
    "# 3.10버전 이상..!!\n",
    "# 작동하는 코드입니다.\n",
    "text = 'Hello'\n",
    "match text:\n",
    "    case 'Hello' | 'World':\n",
    "        print('World')\n",
    "    case _:\n",
    "        print('No Match')\n"
   ]
  },
  {
   "cell_type": "code",
   "execution_count": null,
   "metadata": {},
   "outputs": [],
   "source": [
    "# 3.10버전 이상..!!\n",
    "def test(i):\n",
    "    match i:\n",
    "        case 1:\n",
    "            print('One')\n",
    "        case 2:\n",
    "            print('Two')\n",
    "        case 3 | 4:\n",
    "            print('Three or Four')\n",
    "        case _ if i > 10:\n",
    "            print('Greater than ten')\n",
    "        case _:\n",
    "            print('Other')\n",
    "\n",
    "\n",
    "test(1)  # 출력: One\n",
    "test(2)  # 출력: Two\n",
    "test(3)  # 출력: Three or Four\n",
    "test(4)  # 출력: Three or Four\n",
    "test(5)  # 출력: Other\n",
    "test(15)  # 출력: Greater than ten\n"
   ]
  },
  {
   "cell_type": "code",
   "execution_count": null,
   "metadata": {},
   "outputs": [],
   "source": [
    "# 3.10버전 이상..!!\n",
    "def test(i):\n",
    "    match i:\n",
    "        case 1:\n",
    "            print('One')\n",
    "        case 2:\n",
    "            print('Two')\n",
    "        case _:\n",
    "            if i > 2:\n",
    "                print('Greater than two')\n",
    "            else:\n",
    "                print('Less than or equal to two')\n",
    "\n",
    "\n",
    "test(1)  # 출력: One\n",
    "test(2)  # 출력: Two\n",
    "test(3)  # 출력: Greater than two\n",
    "test(4)  # 출력: Greater than two\n"
   ]
  },
  {
   "cell_type": "code",
   "execution_count": null,
   "metadata": {},
   "outputs": [],
   "source": [
    "# 문제 match를 사용하여 아래 코드를 완성해주세요.\n",
    "\n",
    "def attack(attack_type, damege):\n",
    "    match attack_type:\n",
    "        case '물리공격'|'마법공격':\n",
    "            print(f'{damege} 데미지를 입혔습니다.')\n",
    "        case '정신공격':\n",
    "            print(f'{damege}ms 만큼 상대방이 혼란을 느낍니다.')\n",
    "\n",
    "attack('물리공격',100) # 물리공격, # 마법공격, # 정신공격"
   ]
  },
  {
   "cell_type": "markdown",
   "metadata": {},
   "source": [
    "# 반복문"
   ]
  },
  {
   "cell_type": "code",
   "execution_count": null,
   "metadata": {},
   "outputs": [],
   "source": [
    "for x in 'hello': # 순회가능한 객체가 들어간다.\n",
    "  print(f'현재 값은 {x}입니다.')\n",
    "\n",
    "for x in (1,2,3,4,5):  # 순회가능한 객체가 들어간다.\n",
    "  print(f'현재 값은 {x}입니다.')"
   ]
  },
  {
   "cell_type": "code",
   "execution_count": null,
   "metadata": {},
   "outputs": [],
   "source": [
    "d = {\n",
    "    '하나': 'one',\n",
    "    '둘': 'two',\n",
    "    '셋': 'three',\n",
    "}\n",
    "\n",
    "for k in d:\n",
    "    print(k)\n",
    "\n",
    "for k in d:\n",
    "    print(k, ': ', d[k], sep='', end=', ')\n",
    "\n",
    "print()\n",
    "\n",
    "for k,v in d.items():\n",
    "    print(f'{k} : {v}')"
   ]
  },
  {
   "cell_type": "code",
   "execution_count": null,
   "metadata": {},
   "outputs": [],
   "source": [
    "# 1부터 5까지의 값이 x에 어땋게 들어가능 것일까?\n",
    "x = iter('hello')\n",
    "print(x)\n",
    "\n",
    "print(next(x))\n",
    "print(next(x))\n",
    "print(next(x))\n",
    "print(next(x))\n",
    "print(next(x))\n",
    "print(next(x))  # StopIteration ERROR\n"
   ]
  },
  {
   "cell_type": "code",
   "execution_count": null,
   "metadata": {},
   "outputs": [],
   "source": [
    "# __iter__ 매직메서드가 없다? for문이 안된다! 순회가능한 객체가 아니다.\n",
    "#                      있다? for문이 된다! 순회가능한 객체다.\n",
    "x='hello'\n",
    "y=x.__iter__() # iter('hello')\n",
    "\n",
    "print(y.__next__())  # next(x)\n",
    "print(y.__next__()) # next(x)\n",
    "print(y.__next__())  # next(x)\n",
    "print(y.__next__())  # next(x)\n",
    "print(y.__next__()) # next(x)\n",
    "print(y.__next__())  # next(x)\n"
   ]
  },
  {
   "cell_type": "code",
   "execution_count": null,
   "metadata": {},
   "outputs": [],
   "source": [
    "# 1부터 100까지 더하는 코드\n",
    "result = 0\n",
    "\n",
    "for i in range(100):\n",
    "  result += i\n",
    "\n",
    "print(result)"
   ]
  },
  {
   "cell_type": "code",
   "execution_count": null,
   "metadata": {},
   "outputs": [],
   "source": [
    "# 1부터 100까지 짝수를 더하는 코드\n",
    "# 권장하지 않는 코드(100번 순회, if문 확인)\n",
    "result = 0\n",
    "\n",
    "for i in range(100):\n",
    "    if i % 2 == 0:\n",
    "        result += i\n",
    "\n",
    "print(result)\n",
    "\n",
    "# 권장 코드 (50번 순회, if문도 없다)\n",
    "result = 0\n",
    "\n",
    "for i in range(0, 101, 2):\n",
    "    result += i\n",
    "\n",
    "print(result)"
   ]
  },
  {
   "cell_type": "code",
   "execution_count": null,
   "metadata": {},
   "outputs": [],
   "source": [
    "# 구구단\n",
    "for i in range(2, 10):\n",
    "    for j in range(1, 10):\n",
    "        print(i, 'x', j, '=', i*j)\n"
   ]
  },
  {
   "cell_type": "code",
   "execution_count": null,
   "metadata": {},
   "outputs": [],
   "source": [
    "# 홀수의 특이한 덧셈\n",
    "# 예) 6이하의 특이한 덧셈을 한다면\n",
    "# 1 + 3이하의 수 + 5이하의 수\n",
    "# 1 + 1+2+3 + 1+2+3+4+5\n",
    "# 중첩 for를 조금 어렵게 표현\n",
    "result = 0\n",
    "for i in [range(3), range(5), range(7)]:\n",
    "    for j in i:\n",
    "        print(result,i,j)\n",
    "        result += j\n",
    "result"
   ]
  },
  {
   "cell_type": "code",
   "execution_count": null,
   "metadata": {},
   "outputs": [],
   "source": [
    "# for는 중첩 2번 해야한다.\n",
    "# 문제1\n",
    "# 다음과 같은 문자열이 있습니다\n",
    "# s='135678'\n",
    "# 이때 구구단 1단, 3단, 5단, 6단, 7단, 8단을 출력하는 코드를 만들어 주세요\n",
    "s='135678'\n",
    "\n",
    "# 방법1\n",
    "for i in s:\n",
    "  for j in range(2,10):\n",
    "    print(i, 'x', j, '=', int(i)*j)\n",
    "    \n",
    "\n",
    "# 방법2\n",
    "for i in map(int, s):\n",
    "  print(f\"[{i}단]\")\n",
    "  for j in range(1,10):\n",
    "    print(i, 'x', j, '=', i*j)\n"
   ]
  },
  {
   "cell_type": "code",
   "execution_count": null,
   "metadata": {},
   "outputs": [],
   "source": [
    "# 문제2\n",
    "# 특이한 구구단이 있다.\n",
    "# [2,3,6]이 있었을때 아래와 같이 출력되어야 한다.\n",
    "# 2단, 3단, 6단을 출력하고\n",
    "# 곱해지는 수는 [2,3,6]에 1씩 더한 [3,4,7]이 각각 곱해져야 한다.\n",
    "l = [2, 3, 6]\n",
    "\n",
    "# 방법1\n",
    "for i in l:\n",
    "  for j in l:\n",
    "    print(i, 'x', j+1, '=', i*(j+1))\n",
    "    \n",
    "\n",
    "# 방법2\n",
    "for i in l:\n",
    "  print(f\"[{i}단]\")\n",
    "  for j in map(lambda x: x+1, l):\n",
    "    print(i, 'x', j, '=', i*j)\n"
   ]
  },
  {
   "cell_type": "code",
   "execution_count": null,
   "metadata": {},
   "outputs": [],
   "source": [
    "# 하나만 리스트여도 쌍이면 상관없이 잘 돌아감\n",
    "skill = [\n",
    "    ('고기잡이', 100, 'SS'),\n",
    "    ('고기팔기', 120, 'SSS'),\n",
    "    ('낚시', 5, 'C'),\n",
    "    ('통발', 5, 'C'),\n",
    "    ('큰그물', 5, 'C')\n",
    "]\n",
    "\n",
    "for skillName, skillLevel, skillGrade in skill:\n",
    "    print(skillName, skillLevel, skillGrade)\n"
   ]
  },
  {
   "cell_type": "code",
   "execution_count": null,
   "metadata": {},
   "outputs": [],
   "source": [
    "영화누적관객수 = ['레미제라블', '뷰티인사이트', '매트리스', '인셉션', '어거스트 러쉬']\n",
    "for i in enumerate(영화누적관객수):\n",
    "    print(i)\n",
    "\n",
    "for i, j in enumerate(영화누적관객수, 1):\n",
    "    print(f'누적관객수 {i}위! {j}!')\n"
   ]
  },
  {
   "cell_type": "code",
   "execution_count": null,
   "metadata": {},
   "outputs": [],
   "source": [
    "# 실행시키면 런타임 다시 시작해야 합니다.\n",
    "# l = [1, 2]\n",
    "# for i in l:\n",
    "#     l.append(3)\n",
    "#     print(i) # 1, 2, 3, 3, 3, 3, 3, 3 ...\n",
    "\n",
    "s = 'hello'\n",
    "for i in s:  # 순회가 정상적으로 됩니다.\n",
    "    s += '!'\n",
    "    print(i)\n",
    "    print(s)\n",
    "\n",
    "d = {'one': '하나'}\n",
    "for i in d:  # RuntimeError: dictionary changed size during iteration\n",
    "    d.update({i+d[i]: None})\n",
    "    print(d)"
   ]
  },
  {
   "cell_type": "code",
   "execution_count": null,
   "metadata": {},
   "outputs": [],
   "source": [
    "while True:\n",
    "    print('무한 반복 중...')"
   ]
  },
  {
   "cell_type": "code",
   "execution_count": null,
   "metadata": {},
   "outputs": [],
   "source": [
    "while True:\n",
    "  userinput = input('>')\n",
    "  if userinput == 'pwd':\n",
    "    print('현재 위치 출력')\n",
    "  elif userinput == 'dir' or userinput =='ls':\n",
    "    print('현재 폴더에 폴더와 파일명 출력')\n",
    "  elif userinput == 'exit':\n",
    "    print(\"안녕히가세요!\")\n",
    "    break"
   ]
  },
  {
   "cell_type": "code",
   "execution_count": null,
   "metadata": {},
   "outputs": [],
   "source": [
    "import random\n",
    "\n",
    "answer = random.randint(1, 1000)\n",
    "while True:\n",
    "    userinput = int(input('숫자를 입력해주세요.'))\n",
    "    if userinput > answer:\n",
    "        print('Down')\n",
    "\n",
    "    elif userinput < answer:\n",
    "        print('Up')\n",
    "    else:\n",
    "        print('축하합니다! 맞추셨어요!')\n",
    "        break\n"
   ]
  },
  {
   "cell_type": "code",
   "execution_count": null,
   "metadata": {},
   "outputs": [],
   "source": [
    "import random\n",
    "\n",
    "s = [1, 2, 3, 4, 5]\n",
    "random.shuffle(s)\n",
    "s\n"
   ]
  },
  {
   "cell_type": "code",
   "execution_count": null,
   "metadata": {},
   "outputs": [],
   "source": [
    "# 이런게 있다정도로만 알아두기\n",
    "\n",
    "x = (n := 10) * 2\n",
    "print(x)  # 출력: 20\n",
    "print(n)  # 출력: 10"
   ]
  },
  {
   "cell_type": "code",
   "execution_count": null,
   "metadata": {},
   "outputs": [],
   "source": [
    "import random\n",
    "\n",
    "while (x := random.randint(0, 10)) != 7:\n",
    "    print(x)\n"
   ]
  },
  {
   "cell_type": "code",
   "execution_count": null,
   "metadata": {},
   "outputs": [],
   "source": [
    "i = 2\n",
    "while i < 10:\n",
    "    j = 1  # 별표 5개! while문은 중첩해서 사용할 때 초기화가 필요합니다!\n",
    "    while j < 10:\n",
    "        print(f'{i} X {j} = {i*j}')\n",
    "        j += 1\n",
    "    i += 1"
   ]
  },
  {
   "cell_type": "code",
   "execution_count": null,
   "metadata": {},
   "outputs": [],
   "source": [
    "# break은 바로 위에 부모만 탈출합니다.\n",
    "# continue는 아래코드를 실행하지 않고 다음 루프로 넘어갑니다.\n",
    "# pass는 지나칠 뿐입니다. pass는 코드가 애러가 나지 않게만 합니다.\n",
    "\n",
    "x = 0\n",
    "while x < 10:\n",
    "    x += 1\n",
    "    if x == 5:\n",
    "        break\n",
    "    print(x)\n",
    "\n",
    "while x < 10:\n",
    "    x += 1\n",
    "    if x == 5:\n",
    "        continue\n",
    "    print(x)\n",
    "\n",
    "while x < 10:\n",
    "    x += 1\n",
    "    if x == 5:\n",
    "        pass\n",
    "    print(x)\n"
   ]
  },
  {
   "cell_type": "code",
   "execution_count": null,
   "metadata": {},
   "outputs": [],
   "source": [
    "# else라고 하지 않고 다른 키워드로 해야한다는 주장있었어요.\n",
    "for i in range(5):\n",
    "    print(i)\n",
    "else:\n",
    "    print('정상 종료')\n"
   ]
  },
  {
   "cell_type": "code",
   "execution_count": null,
   "metadata": {},
   "outputs": [],
   "source": [
    "x = 1\n",
    "while x < 10:\n",
    "    print(x)\n",
    "    if x == 3:\n",
    "        break\n",
    "    x += 1\n",
    "else:\n",
    "    print('정상 종료')\n"
   ]
  },
  {
   "cell_type": "code",
   "execution_count": null,
   "metadata": {},
   "outputs": [],
   "source": [
    "data = [\n",
    "    {\n",
    "        \"_id\": \"fd7e9a0f-e77b-436a-B781-119b66033d49\",\n",
    "        \"index\": \"1\",\n",
    "        \"name\": \"나주헌\",\n",
    "        \"email\": \"user-tzctc1q@suspendisse.org\",\n",
    "        \"phone\": \"010-5547-5841\",\n",
    "        \"country\": \"과테말라\",\n",
    "        \"address\": \"광나루로 99-2\",\n",
    "        \"job\": \"유치원교사\",\n",
    "        \"gender\": \"여성\",\n",
    "        \"age\": \"43\"\n",
    "    },\n",
    "    {\n",
    "        \"_id\": \"8ec6eabb-160a-41e4-A3de-cd33aff0b281\",\n",
    "        \"index\": \"2\",\n",
    "        \"name\": \"엄루다\",\n",
    "        \"email\": \"user-1rz7xby@mi.org\",\n",
    "        \"phone\": \"010-3963-9373\",\n",
    "        \"country\": \"엘살바도르\",\n",
    "        \"address\": \"석촌호수로 37-1\",\n",
    "        \"job\": \"프로게이머\",\n",
    "        \"gender\": \"남성\",\n",
    "        \"age\": \"22\"\n",
    "    },\n",
    "    {\n",
    "        \"_id\": \"bcf804f7-0452-4c31-B9d1-20cc2d38490b\",\n",
    "        \"index\": \"3\",\n",
    "        \"name\": \"형유환\",\n",
    "        \"email\": \"user-ym96wth@have.net\",\n",
    "        \"phone\": \"010-6389-9499\",\n",
    "        \"country\": \"벨리즈\",\n",
    "        \"address\": \"잠실로 33-3\",\n",
    "        \"job\": \"아나운서\",\n",
    "        \"gender\": \"남성\",\n",
    "        \"age\": \"31\"\n",
    "    },\n",
    "    {\n",
    "        \"_id\": \"11006f0d-e88d-41fc-A288-caa2e67927e7\",\n",
    "        \"index\": \"4\",\n",
    "        \"name\": \"위도현\",\n",
    "        \"email\": \"user-tkxj6f5@diam.org\",\n",
    "        \"phone\": \"010-4246-4752\",\n",
    "        \"country\": \"바레인\",\n",
    "        \"address\": \"종로 99-8\",\n",
    "        \"job\": \"작곡가\",\n",
    "        \"gender\": \"여성\",\n",
    "        \"age\": \"42\"\n",
    "    },\n",
    "    {\n",
    "        \"_id\": \"b7421487-da52-4410-B696-17bab958a5d8\",\n",
    "        \"index\": \"5\",\n",
    "        \"name\": \"유성재\",\n",
    "        \"email\": \"user-bgxih63@Sed.net\",\n",
    "        \"phone\": \"010-6359-7592\",\n",
    "        \"country\": \"피지\",\n",
    "        \"address\": \"방학로 71-3\",\n",
    "        \"job\": \"연기자\",\n",
    "        \"gender\": \"여성\",\n",
    "        \"age\": \"48\"\n",
    "    }\n",
    "]\n"
   ]
  },
  {
   "cell_type": "code",
   "execution_count": null,
   "metadata": {},
   "outputs": [],
   "source": [
    "# 문제 1번: 평균 나이를 출력해주세요.\n",
    "ages = map(lambda x:x['age'],data)\n",
    "ages = map(int,ages)\n",
    "# map은 한번 순회하면 다시 순회가 불가능하다.\n",
    "ages = list(ages)\n",
    "\n",
    "print(\"평균 나이:\",sum(ages) / len(ages))\n",
    "\n",
    "# 문제 2번: 남녀 성비를 출력해주세요.\n",
    "ratio = {}\n",
    "\n",
    "genders = list(map(lambda x:x['gender'],data))\n",
    "total = len(genders)\n",
    "man = genders.count('남성')\n",
    "woman = total - man\n",
    "man/total * 100, woman/total * 100\n"
   ]
  },
  {
   "cell_type": "markdown",
   "metadata": {},
   "source": [
    "# 클래스(Class)"
   ]
  },
  {
   "cell_type": "markdown",
   "metadata": {},
   "source": [
    "- 클래스 : 객체를 만들어 내기 위한 설계도\n",
    "- 객체 : \n",
    "  - 클래스에 선언된 모양 그대로 생성된 실체(클래스의 인스턴스)\n",
    "  - 객체는 모든 인스턴스를 대표하는 포괄적인 의미를 갖는다.\n",
    "- 인스턴스 :\n",
    "  - 설계도를 바탕으로 구현된 구체적인 실체\n",
    "  - 실체화된 인스턴스는 메모리에 할당된다.\n",
    "\n",
    "[클래스(Class) VS 객체(Object)]  \n",
    "클래스는 ‘설계도’, 객체는 ‘설계도로 구현한 모든 대상’을 의미한다."
   ]
  },
  {
   "cell_type": "code",
   "execution_count": null,
   "metadata": {},
   "outputs": [],
   "source": [
    "# 차를 만들어 내기 위한 설계도\n",
    "class Car:  # 클래스\n",
    "    max_speed = 500\n",
    "    max_people = 5\n",
    "    car_gear = ['P', 'D', 'R', 'N']\n",
    "\n",
    "    def start(self):\n",
    "        print('차가 출발합니다!')\n",
    "\n",
    "    def stop(self):\n",
    "        print('차가 멈췄습니다!')\n",
    "\n",
    "\n",
    "# 테슬라 공장에서 막 찍혀져 나온 자동차!\n",
    "# 3대! modelx, y, s!\n",
    "modelx = Car()  # 인스턴스 = 클래스()\n",
    "modely = Car()\n",
    "models = Car()\n",
    "\n",
    "# modelx의 속도를 보고 싶으면 modelx.max_speed를 찍어야 한다.\n",
    "\n",
    "print(models.car_gear[1])\n",
    "models.start()\n",
    "models.stop()"
   ]
  },
  {
   "cell_type": "code",
   "execution_count": null,
   "metadata": {},
   "outputs": [],
   "source": [
    "l = [1, 2, 3]\n",
    "type(l)\n",
    "dir(l)\n",
    "l.append(3)  # 이 모습!?\n",
    "l\n"
   ]
  },
  {
   "cell_type": "code",
   "execution_count": null,
   "metadata": {},
   "outputs": [],
   "source": [
    "# int, float, str와 같은 새로운 Car는 type을 만들고 있는 것이다.\n",
    "print(type(models))\n",
    "print(dir(models))"
   ]
  },
  {
   "cell_type": "code",
   "execution_count": null,
   "metadata": {},
   "outputs": [],
   "source": [
    "x = int(3)\n",
    "# x는 무엇일까?\n",
    "# int라는 class의 인스턴스이다."
   ]
  },
  {
   "cell_type": "code",
   "execution_count": null,
   "metadata": {},
   "outputs": [],
   "source": [
    "# x = int(3)에서 넣은 3이라는 값이 어떻게 처리되는지 확인\n",
    "class Car:\n",
    "    max_speed = 300\n",
    "    max_people = 5\n",
    "    car_gear = ['P', 'D', 'R', 'N']\n",
    "\n",
    "    def __init__(self, name):\n",
    "        self.name = name\n",
    "\n",
    "    def start(self):\n",
    "        print('차가 출발합니다!')\n",
    "\n",
    "    def stop(self):\n",
    "        print('차가 멈췄습니다!')\n",
    "\n",
    "\n",
    "modelx = Car('Tesla Model X') # x = int(3) 여기서 넣었던 3일 __init__매직메서드에서 처리!\n",
    "modelx.name"
   ]
  },
  {
   "cell_type": "code",
   "execution_count": null,
   "metadata": {},
   "outputs": [],
   "source": [
    "# 실제 게임 코드\n",
    "class Character:\n",
    "    def __init__(self, name, role, hp, mp, power):\n",
    "        self.name = name\n",
    "        self.role = role\n",
    "        self.hp = hp\n",
    "        self.mp = mp\n",
    "        self.power = power\n",
    "\n",
    "    def attack(self):\n",
    "        print('공격!')\n",
    "\n",
    "    def defence(self):\n",
    "        print('방어!')\n",
    "\n",
    "\n",
    "hero_ironman = Character('아이언맨', '히어로', 100, 100, 100)\n",
    "villain_thanos = Character('타노스', '빌런', 100, 100, 200)\n",
    "# 여러 등장인물을 이런식으로 코딩할 수 있습니다.\n"
   ]
  },
  {
   "cell_type": "code",
   "execution_count": null,
   "metadata": {},
   "outputs": [],
   "source": [
    "class Person:\n",
    "    name = 'jun'  # 클래스 변수\n",
    "\n",
    "    def __init__(self, name):\n",
    "        self.name = name  # 인스턴스 변수\n",
    "\n",
    "\n",
    "hojun = Person('hojun')\n",
    "hojun.name, Person.name\n"
   ]
  },
  {
   "cell_type": "code",
   "execution_count": null,
   "metadata": {},
   "outputs": [],
   "source": [
    "class Car:\n",
    "    max_speed = 300\n",
    "\n",
    "    def __init__(self, name):\n",
    "        self.name = name\n",
    "\n",
    "    def start(self):\n",
    "        print('차가 출발합니다!')\n",
    "\n",
    "\n",
    "modelx = Car('Tesla Model X')\n",
    "modelx.name\n"
   ]
  },
  {
   "cell_type": "code",
   "execution_count": null,
   "metadata": {},
   "outputs": [],
   "source": [
    "def hello():\n",
    "    print('hellow word')\n",
    "\n",
    "\n",
    "print(type(hello))\n"
   ]
  },
  {
   "cell_type": "code",
   "execution_count": null,
   "metadata": {},
   "outputs": [],
   "source": [
    "hello.hi = 'hi, world'\n",
    "\n",
    "hello.hi"
   ]
  },
  {
   "cell_type": "code",
   "execution_count": null,
   "metadata": {},
   "outputs": [],
   "source": [
    "# 함수를 제외하고 인스턴스 변수를 생성하는 것을 허락하지 않는다.\n",
    "s=10\n",
    "s.hi  = 'hi, whordl!'\n",
    "print(s.hi)\n",
    "\n",
    "s='hello'\n",
    "s.hi  = 'hi, whordl!'\n",
    "print(s.hi)\n",
    "\n",
    "s=[10,20,30]\n",
    "s.hi = 'hi, whordl!'\n",
    "print(s.hi)\n",
    "\n",
    "s={'one':1}\n",
    "s.hi = 'hi, whordl!'\n",
    "print(s.hi)"
   ]
  },
  {
   "cell_type": "code",
   "execution_count": null,
   "metadata": {},
   "outputs": [],
   "source": [
    "class Coordinate:\n",
    "    def __init__(self, x,y):\n",
    "        self.x=x\n",
    "        self.y=y\n",
    "\n",
    "    def __add__(self,other):\n",
    "        return ((self.x+other.x), (self.y+other.y))\n",
    "    \n",
    "dot1=Coordinate(10,20)\n",
    "dot2=Coordinate(20,30)\n",
    "\n",
    "dot1 + dot2\n"
   ]
  },
  {
   "cell_type": "code",
   "execution_count": null,
   "metadata": {},
   "outputs": [],
   "source": [
    "class Matrix:\n",
    "\n",
    "    def __init__(self, value):\n",
    "        self.value = value\n",
    "\n",
    "    def __add__(self, other):\n",
    "        result = []\n",
    "        for i in range(len(self.value)):\n",
    "            result.append(self.value[i] + other.value[i])\n",
    "        return result\n",
    "\n",
    "    def __mul__(self, other):\n",
    "        if isinstance(other, int):\n",
    "            return [i*other for i in self.value]\n",
    "        raise TypeError('int형 외에 곱을 허락하지 않습니다!')   # 에러를 발생시킴\n",
    "\n",
    "\n",
    "m1 = Matrix([10, 20, 30])\n",
    "m2 = Matrix([20, 30, 40])\n",
    "\n",
    "print(m1 + m2)\n",
    "\n",
    "print(m1*3)\n"
   ]
  },
  {
   "cell_type": "code",
   "execution_count": null,
   "metadata": {},
   "outputs": [],
   "source": [
    "# 단순화 시키긴 했으나 실제 아래와 같이 만듭니다.\n",
    "class 게시물설계도:\n",
    "    id = int()\n",
    "    title = str()\n",
    "    contents = str()\n",
    "    author = str()\n",
    "    create_time = str()\n",
    "    update_time = str()\n",
    "    view_count = int()\n",
    "    last_connect_location = str()\n",
    "    last_connect_time = str()\n",
    "\n",
    "\n",
    "게시물1 = 게시물설계도()\n",
    "게시물2 = 게시물설계도()"
   ]
  },
  {
   "cell_type": "code",
   "execution_count": null,
   "metadata": {},
   "outputs": [],
   "source": [
    "# 아래 기본 data를 기반으로 문제를 풀어주세요.\n",
    "data = [\n",
    "    {\n",
    "        \"_id\": \"fd7e9a0f-e77b-436a-B781-119b66033d49\",\n",
    "        \"index\": \"1\",\n",
    "        \"name\": \"나주헌\",\n",
    "        \"gender\": \"여성\",\n",
    "        \"age\": \"43\"\n",
    "    },\n",
    "    {\n",
    "        \"_id\": \"8ec6eabb-160a-41e4-A3de-cd33aff0b281\",\n",
    "        \"index\": \"2\",\n",
    "        \"name\": \"엄루다\",\n",
    "        \"gender\": \"남성\",\n",
    "        \"age\": \"22\"\n",
    "    },\n",
    "    {\n",
    "        \"_id\": \"bcf804f7-0452-4c31-B9d1-20cc2d38490b\",\n",
    "        \"index\": \"3\",\n",
    "        \"name\": \"형유환\",\n",
    "        \"gender\": \"남성\",\n",
    "        \"age\": \"31\"\n",
    "    }\n",
    "]\n"
   ]
  },
  {
   "cell_type": "code",
   "execution_count": null,
   "metadata": {},
   "outputs": [],
   "source": [
    "# 문제 1 gender, age값을 추출해보세요. 아래 양식처럼 추출하시면 됩니다.\n",
    "# 가능하면 map을 사용해주세요.\n",
    "'''\n",
    " [\n",
    "  {\n",
    "    \"gender\": \"여성\",\n",
    "    \"age\": \"43\"\n",
    "  },\n",
    "  {\n",
    "    \"gender\": \"남성\",\n",
    "    \"age\": \"22\"\n",
    "  },\n",
    "  {\n",
    "    \"gender\": \"남성\",\n",
    "    \"age\": \"31\"\n",
    "  }\n",
    "]\n",
    "'''\n",
    "list(map(lambda x: {\"gender\": x['gender'], \"age\": x['age']},data))\n",
    "\n",
    "def genderNage(data):\n",
    "    gender = data['gender']\n",
    "    age = data['age']\n",
    "    return {\"gender\": gender, \"age\": age}\n",
    "\n",
    "\n",
    "list(map(genderNage, data))\n",
    "\n",
    "# 문제 2 User라는 class를 만들어 해당 데이터를 관리해주세요. 아래처럼 저장되어야 합니다.\n",
    "# 다만 꼭 변수 이름이 user_1...user_n 일 필요는 없습니다.\n",
    "# 저장양식: '[user_1, user_2, user_3]'\n",
    "\n",
    "\n",
    "class User():\n",
    "    def __init__(self, data):\n",
    "        self._id = data['_id']\n",
    "        self.index = data['index']\n",
    "        self.name = data['name']\n",
    "        self.gender = data['gender']\n",
    "        self.age = data['age']\n",
    "\n",
    "\n",
    "user1 = User(data[0])\n",
    "user2 = User(data[1])\n",
    "user3 = User(data[2])\n",
    "\n",
    "user_list = [user1, user2, user3]\n",
    "for i in user_list:\n",
    "    print(i.name)\n",
    "\n",
    "# Django에서 많이 사용되고 크롤링에도 많이 사용된다.\n",
    "# 1. 속도 : 기본 자료형보다 훨씬 빠르다.\n",
    "# 2. 메서드 구현: 예) User 클래스를 가지고 연령대별 타깃 광고\n"
   ]
  },
  {
   "cell_type": "code",
   "execution_count": null,
   "metadata": {},
   "outputs": [],
   "source": [
    "# 문제 3 BankAccount 클래스를 생성하세요. 이 클래스는 owner(계좌주 이름), balance(잔액) 속성을 가져야 합니다.\n",
    "# 이 클래스는 deposit(amount) (입금) 및 withdraw(amount) (출금) 메서드를 가져야 합니다.\n",
    "# 단, 출금 시 잔액보다 큰 금액을 출금하려고 하면 \"잔액 부족\" 메시지를 출력해야 합니다.\n",
    "\n",
    "\n",
    "class BankAccount():\n",
    "    def __init__(self, owner, balance=0):\n",
    "        self.owner = owner\n",
    "        self.balance = balance\n",
    "\n",
    "    def deposit(self, amount):  # 입금\n",
    "        if amount > 0:\n",
    "            self.balance += amount\n",
    "            print(f\"{amount}원 입금되었습니다. 잔액 : {self.balance}원\")\n",
    "\n",
    "    def withdraw(self, amount):  # 출금\n",
    "        if amount < 0:\n",
    "            return\n",
    "        if (self.balance - amount) >= 0:\n",
    "            print(f\"{amount}원 출금되었습니다. 잔액 : {self.balance - amount}원\")\n",
    "            return\n",
    "        return \"잔액부족\"\n",
    "\n",
    "\n",
    "account1 = BankAccount(\"홍길동\")\n",
    "account1.deposit(-1000)\n",
    "account1.deposit(1000)\n",
    "account1.withdraw(-100)\n",
    "account1.withdraw(100)"
   ]
  },
  {
   "cell_type": "markdown",
   "metadata": {},
   "source": [
    "## 클래스 변수와 인스턴스 변수"
   ]
  },
  {
   "cell_type": "code",
   "execution_count": null,
   "metadata": {},
   "outputs": [],
   "source": [
    "class Car:\n",
    "    # 클래스 변수의 위치\n",
    "    max_speed = 300\n",
    "    max_people = 5\n",
    "    car_gear = ['P', 'D', 'R', 'N']\n",
    "\n",
    "\n",
    "modelx = Car()\n",
    "modely = Car()\n",
    "\n",
    "modely.max_speed = 500\n",
    "\n",
    "print(Car.max_speed)    # 300\n",
    "print(modelx.max_speed) # 300\n",
    "print(modely.max_speed) # 500"
   ]
  },
  {
   "cell_type": "code",
   "execution_count": null,
   "metadata": {},
   "outputs": [],
   "source": [
    "class Car:\n",
    "    kinds = []\n",
    "    speed = 300\n",
    "\n",
    "    def add_kinds(self, name):\n",
    "        self.kinds.append(name)\n",
    "\n",
    "    def change_speed(self, speed):\n",
    "        self.speed = speed\n",
    "\n",
    "\n",
    "modelx = Car()\n",
    "modely = Car()\n",
    "\n",
    "modelx.add_kinds('x')\n",
    "modely.add_kinds('y')\n",
    "\n",
    "Car.speed = 100\n",
    "\n",
    "# modelx.change_speed(500)\n",
    "# modely.change_speed(250)\n",
    "\n",
    "print(f'modelx.kinds: {modelx.kinds}')\n",
    "print(f'modely.kinds: {modely.kinds}')\n",
    "print(f'modelx.speed: {modelx.speed}')\n",
    "print(f'modely.speed: {modely.speed}')"
   ]
  },
  {
   "cell_type": "code",
   "execution_count": null,
   "metadata": {},
   "outputs": [],
   "source": [
    "class Car:\n",
    "    kinds = []\n",
    "    speed = 300\n",
    "\n",
    "    def add_kinds(self, name):\n",
    "        self.kinds.append(name)\n",
    "\n",
    "    def change_speed(self, speed):\n",
    "        self.speed = speed\n",
    "\n",
    "\n",
    "modelx = Car()\n",
    "modely = Car()\n",
    "\n",
    "# Car.speed = 100\n",
    "\n",
    "# 인스턴스의 메소드 사용\n",
    "modelx.change_speed(500)\n",
    "modely.change_speed(250)\n",
    "\n",
    "print(f'modelx.speed: {modelx.speed}')\n",
    "print(f'modely.speed: {modely.speed}')"
   ]
  },
  {
   "cell_type": "code",
   "execution_count": null,
   "metadata": {},
   "outputs": [],
   "source": [
    "x = 100\n",
    "\n",
    "\n",
    "def test():\n",
    "    print(x)  # 내 메모리 영역에 x가 없네? 그러면 찾아 올라갑니다.\n",
    "\n",
    "\n",
    "test()"
   ]
  },
  {
   "cell_type": "code",
   "execution_count": null,
   "metadata": {},
   "outputs": [],
   "source": [
    "x = 100\n",
    "\n",
    "\n",
    "def test():\n",
    "    x = 200  # 값을 읽어올 수 있지만 변경은 안됩니다!\n",
    "    # x는 전역변수는 건드리지 않고 지역변수 200을 선언했을 뿐입니다.\n",
    "\n",
    "\n",
    "test()\n",
    "x"
   ]
  },
  {
   "cell_type": "code",
   "execution_count": null,
   "metadata": {},
   "outputs": [],
   "source": [
    "x = 100\n",
    "\n",
    "\n",
    "def test():\n",
    "    x += 100  # x = x + 100\n",
    "    # error\n",
    "    # 지역변수 x가 할당되지 않았다.\n",
    "\n",
    "\n",
    "test()"
   ]
  },
  {
   "cell_type": "code",
   "execution_count": null,
   "metadata": {},
   "outputs": [],
   "source": [
    "# 매우 중요합니다.\n",
    "l = [10, 20, 30]\n",
    "\n",
    "\n",
    "def test(ll):\n",
    "    ll.append(40)\n",
    "\n",
    "\n",
    "test(l)\n",
    "l"
   ]
  },
  {
   "cell_type": "markdown",
   "metadata": {},
   "source": [
    "![Alt text](image-3.png)"
   ]
  },
  {
   "cell_type": "code",
   "execution_count": null,
   "metadata": {},
   "outputs": [],
   "source": [
    "# 매우 중요합니다.\n",
    "# 화살표 그릴 수 있어야 합니다.\n",
    "i = 100\n",
    "\n",
    "\n",
    "def test(ii):\n",
    "    ii = 300\n",
    "\n",
    "\n",
    "test(i)\n",
    "i"
   ]
  },
  {
   "cell_type": "markdown",
   "metadata": {},
   "source": [
    "![Alt text](image-4.png)"
   ]
  },
  {
   "cell_type": "code",
   "execution_count": null,
   "metadata": {},
   "outputs": [],
   "source": [
    "# 매우 중요합니다.\n",
    "l = [10, 20, 30]\n",
    "\n",
    "\n",
    "def test(ll):\n",
    "    ll = 100\n",
    "\n",
    "\n",
    "test(l)\n",
    "l"
   ]
  },
  {
   "cell_type": "markdown",
   "metadata": {},
   "source": [
    "![Alt text](image-5.png)"
   ]
  },
  {
   "cell_type": "code",
   "execution_count": null,
   "metadata": {},
   "outputs": [],
   "source": [
    "kinds = []  # 전역변수 speed 300\n",
    "\n",
    "\n",
    "def add_kinds(value):\n",
    "    kinds.append(value)  # 지역에 해당 변수가 없으므로 전역변수 kinds에 append\n",
    "\n",
    "\n",
    "add_kinds(100)\n",
    "kinds"
   ]
  },
  {
   "cell_type": "code",
   "execution_count": null,
   "metadata": {},
   "outputs": [],
   "source": [
    "kinds = []  # 전역변수 speed 300\n",
    "\n",
    "\n",
    "def add_kinds(value):\n",
    "    kinds = []\n",
    "    kinds.append(value)  # 지역변수 kinds에 append\n",
    "\n",
    "\n",
    "add_kinds(100)\n",
    "kinds"
   ]
  },
  {
   "cell_type": "markdown",
   "metadata": {},
   "source": [
    "## 매직 메소드"
   ]
  },
  {
   "cell_type": "code",
   "execution_count": null,
   "metadata": {},
   "outputs": [],
   "source": [
    "class Point:\n",
    "\n",
    "    def __init__(self, x, y):\n",
    "        self.x = x\n",
    "        self.y = y\n",
    "\n",
    "    def __add__(self, other):\n",
    "        if isinstance(other, Point):\n",
    "            return Point((self.x + other.x), (self.y + other.y))\n",
    "        elif isinstance(other, int) or isinstance(other, float):\n",
    "            return Point((self.x + other), (self.y + other))\n",
    "\n",
    "    def distance(self, other):\n",
    "        dx = self.x - other.x\n",
    "        dy = self.y - other.y\n",
    "        return (dx**2 + dy**2)**0.5\n",
    "\n",
    "\n",
    "dot1 = Point(10, 20)\n",
    "dot2 = Point(20, 30)\n",
    "\n",
    "dot3 = dot1 + 10\n",
    "print(dot1.x, dot1.y)  # 출력: 10 20\n",
    "print(dot3.x, dot3.y)  # 출력: 20 30\n",
    "\n",
    "dot4 = dot1 + dot2\n",
    "print(dot4.x, dot4.y)  # 출력: 30 50\n",
    "print(dot4.distance(dot1))  # 출력: 36.05551275463989\n"
   ]
  },
  {
   "cell_type": "code",
   "execution_count": null,
   "metadata": {},
   "outputs": [],
   "source": [
    "from typing import Any\n",
    "\n",
    "\n",
    "class Counter:\n",
    "    def __init__(self):\n",
    "        self.num = 0\n",
    "\n",
    "    def __len__(self):\n",
    "        return 1000\n",
    "\n",
    "    def __call__(self):\n",
    "        return 'hello'\n",
    "\n",
    "    def __getitem__(self, key):\n",
    "        return key*10\n",
    "\n",
    "    def __str__(self):\n",
    "        return 'hi'\n",
    "\n",
    "    def __repr__(self) -> str:\n",
    "        return 'world'\n",
    "\n",
    "\n",
    "c = Counter()  # __init__\n",
    "len(c)         # __len__\n",
    "c()            # __call__\n",
    "c[10]          # __getitem__\n",
    "print(c)       # __str__\n",
    "c              # __repr__"
   ]
  },
  {
   "cell_type": "markdown",
   "metadata": {},
   "source": [
    "## 상속"
   ]
  },
  {
   "cell_type": "code",
   "execution_count": null,
   "metadata": {},
   "outputs": [],
   "source": [
    "class A:\n",
    "  def hello(self):\n",
    "    return 'hello'\n",
    "  \n",
    "class B(A):\n",
    "  def world(self):\n",
    "    return 'world'\n",
    "\n",
    "b = B()\n",
    "b.hello()\n",
    "b.world()"
   ]
  },
  {
   "cell_type": "code",
   "execution_count": null,
   "metadata": {},
   "outputs": [],
   "source": [
    "class A:\n",
    "    def hello(self):\n",
    "        return 'hello'\n",
    "\n",
    "\n",
    "class B(A):\n",
    "    def hello(self):\n",
    "        return 'hello word'\n",
    "\n",
    "\n",
    "b = B()\n",
    "b.hello()  # hello 메소드 재정의"
   ]
  },
  {
   "cell_type": "code",
   "execution_count": null,
   "metadata": {},
   "outputs": [],
   "source": [
    "class A():\n",
    "    def one(self):\n",
    "        return 'one'\n",
    "\n",
    "\n",
    "class B(A):\n",
    "    def two(self):\n",
    "        return 'two'\n",
    "\n",
    "\n",
    "class C(B):\n",
    "    def three(self):\n",
    "        return 'three'\n",
    "\n",
    "c=C()\n",
    "A.test = 300\n",
    "c.test # 상속을 받을 때 내 메모리 영역의 값(보유하고 있는 값)은 아니다. 참조 값이다."
   ]
  },
  {
   "cell_type": "markdown",
   "metadata": {},
   "source": [
    "### 다중상속"
   ]
  },
  {
   "cell_type": "code",
   "execution_count": null,
   "metadata": {},
   "outputs": [],
   "source": [
    "class A:\n",
    "  def hello(self):\n",
    "    print('hello A')\n",
    "class B:\n",
    "  def hello(self):\n",
    "    print('hello B')\n",
    "class C(A,B):\n",
    "  pass\n",
    "\n",
    "c=C()\n",
    "c.hello()"
   ]
  },
  {
   "cell_type": "code",
   "execution_count": null,
   "metadata": {},
   "outputs": [],
   "source": [
    "# 다중 상속 했을 때 상속에서 에러나는 경우 - 정상실행\n",
    "class A:\n",
    "    def hello(self):\n",
    "        print('hello A')\n",
    "\n",
    "\n",
    "class B:\n",
    "    def hello(self):\n",
    "        print('hello B')\n",
    "\n",
    "\n",
    "class C(A, B):\n",
    "    def hello(self):\n",
    "        print('hello B')\n",
    "\n",
    "\n",
    "class D(A, B):\n",
    "    pass\n",
    "\n",
    "\n",
    "d = D()\n",
    "d.hello()\n"
   ]
  },
  {
   "cell_type": "code",
   "execution_count": null,
   "metadata": {},
   "outputs": [],
   "source": [
    "# 다중 상속을 했을 때 상속에서 error가 나는 경우 - error\n",
    "class A:\n",
    "    def hello(self):\n",
    "        print('hello A')\n",
    "\n",
    "\n",
    "class B(A):\n",
    "    def hello(self):\n",
    "        print('hello B')\n",
    "\n",
    "\n",
    "class C(B):\n",
    "    def hello(self):\n",
    "        print('hello C')\n",
    "\n",
    "\n",
    "# class D(B, C):  # 상속한 것을 동시에 쓸수없다.\n",
    "#     pass\n",
    "\n",
    "\n",
    "d = D()\n",
    "d.hello()\n"
   ]
  },
  {
   "cell_type": "code",
   "execution_count": null,
   "metadata": {},
   "outputs": [],
   "source": [
    "# 연습문제\n",
    "\n",
    "# 게임에서 케릭터를 구현할 예정입니다. \n",
    "# 아래 클래스를 적절하게 조합하여 hero 인스턴스와 villain 인스턴스를 만들어주세요.\n",
    "\n",
    "# 1. class Body(능력치)\n",
    "# 2. class Weapon(무기)\n",
    "# 3. class WeaponEnhancement(무기강화)\n",
    "# 4. class Skill(기술)\n",
    "# 5. class Equipment(장비)\n",
    "# 6. class Role(히어로인지, 빌런인지, 몹인지)"
   ]
  },
  {
   "cell_type": "code",
   "execution_count": null,
   "metadata": {},
   "outputs": [],
   "source": [
    "class Weapon:  # 무기\n",
    "    def setDamage(self,damage):\n",
    "        self.damage = damage\n",
    "\n",
    "\n",
    "class WeaponEnhancement(Weapon):  # 무기강화\n",
    "    def setEnhance(self, success):\n",
    "        if success ==True:\n",
    "            self.damage *= 5\n",
    "        else:\n",
    "            self.damage = 0\n",
    "\n",
    "class Equipment(WeaponEnhancement):  # 장비\n",
    "    def getEquipment(self,equipment):\n",
    "        self.equipment = equipment\n",
    "        return f\"{equipment}를 획득했다.\"\n",
    "\n",
    "\n",
    "class Role:  # 히어로인지, 빌런인지, 몹인지\n",
    "    def setRole(self, role):\n",
    "        self.role = role\n",
    "\n",
    "\n",
    "class Skill(Equipment):  # 기술\n",
    "    def heal(self):\n",
    "        return '내가 도와줄게~'\n",
    "    def beam(self):\n",
    "        return '빔~~'\n",
    "    def attack(self):\n",
    "        return f\"{self.equipment} : {self.damage} 공격\"\n",
    "\n",
    "\n",
    "class Body(Role, Skill):  # 능력치\n",
    "    def __init__(self, role, hp, mp, power):\n",
    "        self.setRole(role)\n",
    "\n",
    "hero = Body('hero', 100, 100, 100)\n",
    "hero.getEquipment(\"망치\")\n",
    "hero.setDamage(10)\n",
    "hero.setEnhance(True)\n",
    "hero.damage\n",
    "hero.attack()\n"
   ]
  },
  {
   "cell_type": "markdown",
   "metadata": {},
   "source": [
    "## 연습문제"
   ]
  },
  {
   "cell_type": "code",
   "execution_count": null,
   "metadata": {},
   "outputs": [],
   "source": [
    "# 문제 1:\n",
    "# 동물 클래스 Animal을 만들고 어주세요. Dog와 Cat 클래스를 각각 정의하십시오.\n",
    "\n",
    "# Animal 클래스는 name 속성을 가집니다. \n",
    "# 이 클래스는 make_sound 메서드를 갖고 있습니다.\n",
    "\n",
    "# Dog와 Cat 클래스는 Animal 클래스를 상속받는 클래스입니다.\n",
    "# Dog 클래스의 make_sound 메서드는 \"멍멍!\"을, \n",
    "# Cat 클래스의 make_sound 메서드는 \"야옹!\"을 출력하도록 재정의하세요.\n",
    "\n",
    "# 더 완성도 높은 클래스를 만들어보세요. 추가 속성이나 메서드 작성 가능합니다.\n"
   ]
  },
  {
   "cell_type": "code",
   "execution_count": null,
   "metadata": {},
   "outputs": [],
   "source": [
    "class Animal:\n",
    "    def __init__(self, name) -> str:\n",
    "        self.name = name\n",
    "\n",
    "    def make_sound(self, sound) -> str:\n",
    "        self.sound = sound\n",
    "    \n",
    "    def eat(self):\n",
    "        return f\"{self.name}가 밥을 먹고 있네요~\"\n",
    "    \n",
    "    def play(self):\n",
    "        return f\"{self.name}가 놀고있어요!\"\n",
    "\n",
    "\n",
    "class Dog(Animal):\n",
    "    def __init__(self, name) -> str:\n",
    "        super().__init__(name)\n",
    "\n",
    "    def make_sound(self) -> str:\n",
    "        return f\"{self.name}는 멍멍!\"\n",
    "\n",
    "\n",
    "class Cat(Animal):\n",
    "    def __init__(self, name) -> str:\n",
    "        super().__init__(name)\n",
    "\n",
    "    def make_sound(self) -> str:\n",
    "        return f\"{self.name}는 야옹!\"\n",
    "\n",
    "\n",
    "happy = Dog(\"해피\")\n",
    "happy.make_sound()\n",
    "joy = Cat(\"조이\")\n",
    "joy.make_sound()\n",
    "joy.eat()\n",
    "joy.play()"
   ]
  },
  {
   "cell_type": "code",
   "execution_count": null,
   "metadata": {},
   "outputs": [],
   "source": [
    "# 문제 2:\n",
    "# Person이라는 기본 클래스를 만들어주세요. \n",
    "# Person 클래스는 이름과 나이라는 두 개의 속성과 소개하기라는 메서드를 가지며, \n",
    "# 이 메서드는 \"Hello World!, 제 이름은 [이름]이고 제 나이는 [나이]살 입니다.\"라는 메시지를 출력합니다.\n",
    "\n",
    "# Person 클래스를 상속받는 Student 클래스를 정의하십시오. \n",
    "# Student 클래스는 추가적으로 학년 속성을 가집니다. \n",
    "# Student 클래스에서 소개하기 메서드를 오버라이드하여 \n",
    "# \"Hello World!, 제 이름은 [이름]이고 제 나이는 [나이]살 입니다. 그리고 저는 [학년]학년입니다. \"\n",
    "# 라는 메시지를 출력하도록 만드세요."
   ]
  },
  {
   "cell_type": "code",
   "execution_count": null,
   "metadata": {},
   "outputs": [],
   "source": [
    "class Person:\n",
    "    def __init__(self, name, age) -> Any:\n",
    "        self.name = name\n",
    "        self.age = age\n",
    "\n",
    "    def introduce(self) -> str:\n",
    "        return f\"Hello World! 제 이름은 {self.name}이고, 제 나이는 {self.age}살 입니다.\"\n",
    "\n",
    "\n",
    "class Student(Person):\n",
    "    def __init__(self, name, age, grade) -> Any:\n",
    "        super().__init__(name, age)\n",
    "        self.grade = grade\n",
    "\n",
    "    def introduce(self) -> str:\n",
    "        return f\"Hello World! 제 이름은 {self.name}이고, 제 나이는 {self.age}살 입니다. 그리고 저는 {self.grade}학년입니다.\"\n",
    "\n",
    "영수 = Person(\"영수\",20)\n",
    "영수.introduce()\n",
    "민희 = Student(\"민희\",16,\"중학교 3\")\n",
    "민희.introduce()"
   ]
  },
  {
   "cell_type": "markdown",
   "metadata": {},
   "source": [
    "## 클래스 메서드와 정적 메서드"
   ]
  },
  {
   "cell_type": "code",
   "execution_count": null,
   "metadata": {},
   "outputs": [],
   "source": [
    "# 클래스 메서드 @classmethod\n",
    "class MyClass:\n",
    "    count = 0\n",
    "\n",
    "    @classmethod\n",
    "    def increment(cls):\n",
    "        cls.count += 1\n",
    "\n",
    "\n",
    "a = MyClass()\n",
    "b = MyClass()\n",
    "\n",
    "MyClass.increment()\n",
    "print(MyClass.count)  # 출력:1\n",
    "\n",
    "print(a.count, b.count)\n",
    "\n",
    "MyClass.increment()\n",
    "\n",
    "print(a.count, b.count)\n"
   ]
  },
  {
   "cell_type": "code",
   "execution_count": null,
   "metadata": {},
   "outputs": [],
   "source": [
    "class MyClass:\n",
    "    count = 0\n",
    "\n",
    "    def increment(self):\n",
    "        self.count += 1\n",
    "\n",
    "\n",
    "a = MyClass()\n",
    "b = MyClass()\n",
    "\n",
    "# MyClass.increment() # error\n",
    "a.increment()\n",
    "\n",
    "print(a.count, b.count)\n",
    "\n",
    "a.increment()\n",
    "\n",
    "print(a.count, b.count)"
   ]
  },
  {
   "cell_type": "code",
   "execution_count": null,
   "metadata": {},
   "outputs": [],
   "source": [
    "# 정적 메서드 @staticmethod\n",
    "class MyClass:\n",
    "    @staticmethod\n",
    "    def my_method(x, y):\n",
    "        return x + y\n",
    "\n",
    "\n",
    "print(MyClass.my_method(5, 3))  # 출력: 8"
   ]
  },
  {
   "cell_type": "code",
   "execution_count": null,
   "metadata": {},
   "outputs": [],
   "source": [
    "class MyClass:\n",
    "    count = 10\n",
    "\n",
    "    @staticmethod\n",
    "    def my_method(x, y):\n",
    "        # print(count) # 읽는 것 조차 접근이 안된다.\n",
    "        return x + y\n",
    "\n",
    "\n",
    "print(MyClass.my_method(5, 3))  # 출력: 8\n"
   ]
  },
  {
   "cell_type": "code",
   "execution_count": null,
   "metadata": {},
   "outputs": [],
   "source": [
    "class 학사정보시스템:\n",
    "    졸업학점 = 136\n",
    "\n",
    "    def __init__(self):\n",
    "        self.학기점수 = []\n",
    "\n",
    "    def 학점추가(self, 이번학기점수):\n",
    "        self.학기점수.append(이번학기점수)\n",
    "\n",
    "    def 학점총점(self):\n",
    "        return sum(self.학기점수)\n",
    "\n",
    "    def 학점평균(self):\n",
    "        return self.학점총점()/len(self.학기점수)\n",
    "\n",
    "    def 졸업장출력(self):\n",
    "        if self.학점총점() >= self.졸업학점:\n",
    "            return f'총학점 {self.학점총점()}학점, {self.학점평균()}으로 졸업하셨습니다.'\n",
    "        else:\n",
    "            return f'총학점 {self.학점총점()}학점, 졸업하기위해 {self.졸업학점 - self.학점총점()}학점 남았습니다.'\n",
    "\n",
    "\n",
    "피카츄 = 학사정보시스템()\n",
    "꼬부기 = 학사정보시스템()\n",
    "\n",
    "피카츄.학점추가(21)\n",
    "피카츄.학점추가(18)\n",
    "꼬부기.학점추가(19)\n",
    "꼬부기.학점추가(17)\n",
    "\n",
    "피카츄.학점평균()\n",
    "피카츄.졸업장출력()\n",
    "\n",
    "꼬부기.학점평균()\n",
    "꼬부기.졸업장출력()\n"
   ]
  },
  {
   "cell_type": "code",
   "execution_count": null,
   "metadata": {},
   "outputs": [],
   "source": [
    "# 스토리 : 총학점이 120학점에서 60학점으로 바껴서 조기 졸업을 할 수 있게 됩니다!\n",
    "class 학사정보시스템:\n",
    "    졸업학점 = 136\n",
    "\n",
    "    def __init__(self):\n",
    "        self.학기점수 = []\n",
    "\n",
    "    def 학점추가(self, 이번학기점수):\n",
    "        self.학기점수.append(이번학기점수)\n",
    "\n",
    "    def 학점총점(self):\n",
    "        return sum(self.학기점수)\n",
    "\n",
    "    def 학점평균(self):\n",
    "        return self.학점총점()/len(self.학기점수)\n",
    "\n",
    "    def 졸업장출력(self):\n",
    "        if self.학점총점() >= self.졸업학점:\n",
    "            return f'총학점 {self.학점총점()}학점, {self.학점평균()}으로 졸업하셨습니다.'\n",
    "        else:\n",
    "            return f'총학점 {self.학점총점()}학점, 졸업하기위해 {self.졸업학점 - self.학점총점()}'\n",
    "\n",
    "\n",
    "피카츄 = 학사정보시스템()\n",
    "꼬부기 = 학사정보시스템()\n",
    "\n",
    "피카츄.학점추가(21)\n",
    "피카츄.학점추가(18)\n",
    "학사정보시스템.학점총점 = 60  # 이 코드가 변경이 된 것입니다.\n",
    "# 이 코드는 위험합니다.(예: 학사정보시스템.학점총점 = '60')\n",
    "# 협업을 하거나 안정성을 더 확보하고 싶다면 클래스 메서드로 수정을 해주세요.\n",
    "꼬부기.학점추가(19)\n",
    "꼬부기.학점추가(17)\n",
    "\n",
    "피카츄.학점평균()\n",
    "피카츄.졸업장출력()\n",
    "\n",
    "꼬부기.학점평균()\n",
    "꼬부기.졸업장출력()"
   ]
  },
  {
   "cell_type": "code",
   "execution_count": null,
   "metadata": {},
   "outputs": [],
   "source": [
    "class 학사정보시스템:\n",
    "    졸업학점 = 136\n",
    "\n",
    "    def __init__(self):\n",
    "        self.학기점수 = []\n",
    "\n",
    "    def 학점추가(self, 이번학기점수):\n",
    "        self.학기점수.append(이번학기점수)\n",
    "\n",
    "    def 학점총점(self):\n",
    "        return sum(self.학기점수)\n",
    "\n",
    "    def 학점평균(self):\n",
    "        return self.학점총점()/len(self.학기점수)\n",
    "\n",
    "    def 졸업장출력(self):\n",
    "        if self.학점총점() >= self.졸업학점:\n",
    "            return f'총학점 {self.학점총점()}학점, {self.학점평균()}으로 졸업하셨습니다.'\n",
    "        else:\n",
    "            return f'총학점 {self.학점총점()}학점, 졸업하기위해 {self.졸업학점 - self.학점총점()}학점 남았습니다.'\n",
    "    \n",
    "    @classmethod\n",
    "    def 졸업학점변경(cls,총점):\n",
    "        if isinstance(총점,int):\n",
    "            cls.졸업학점 = 총점\n",
    "            return '변경되었습니다'\n",
    "        return '변경되지 않았습니다'\n",
    "\n",
    "\n",
    "피카츄 = 학사정보시스템()\n",
    "꼬부기 = 학사정보시스템()\n",
    "\n",
    "피카츄.학점추가(21)\n",
    "피카츄.학점추가(18)\n",
    "학사정보시스템.졸업학점변경(60)\n",
    "꼬부기.학점추가(19)\n",
    "꼬부기.학점추가(17)\n",
    "\n",
    "피카츄.학점평균()\n",
    "피카츄.졸업장출력()\n",
    "\n",
    "꼬부기.학점평균()\n",
    "꼬부기.졸업장출력()\n"
   ]
  },
  {
   "cell_type": "code",
   "execution_count": null,
   "metadata": {},
   "outputs": [],
   "source": [
    "class 학사정보시스템:\n",
    "    졸업학점 = 136\n",
    "\n",
    "    def __init__(self):\n",
    "        self.학기점수 = []\n",
    "\n",
    "    def 학점추가(self, 이번학기점수):\n",
    "        self.학기점수.append(이번학기점수)\n",
    "\n",
    "    def 학점총점(self):\n",
    "        return sum(self.학기점수)\n",
    "\n",
    "    def 학점평균(self):\n",
    "        return self.학점총점()/len(self.학기점수)\n",
    "\n",
    "    def 졸업장출력(self):\n",
    "        if self.학점총점() >= self.졸업학점:\n",
    "            return f'총학점 {self.학점총점()}학점, {self.학점평균()}으로 졸업하셨습니다.'\n",
    "        else:\n",
    "            return f'총학점 {self.학점총점()}학점, 졸업하기위해 {self.졸업학점 - self.학점총점()}학점 남았습니다.'\n",
    "\n",
    "    @staticmethod\n",
    "    def 학사경고(이번학기점수):\n",
    "        if 이번학기점수 - 4 > 0:\n",
    "            return '학사경고 아님!'\n",
    "        return '학사경고임!'\n",
    "\n",
    "    @classmethod\n",
    "    def 졸업학점변경(cls, 총점):\n",
    "        if isinstance(총점, int):\n",
    "            cls.졸업학점 = 총점\n",
    "            return '변경되었습니다'\n",
    "        return '변경되지 않았습니다'\n",
    "\n",
    "\n",
    "학사정보시스템.학사경고(14)\n",
    "학사정보시스템.학사경고(2)\n"
   ]
  },
  {
   "cell_type": "markdown",
   "metadata": {},
   "source": [
    "## 속성 접근자와 덕타이핑"
   ]
  },
  {
   "cell_type": "code",
   "execution_count": null,
   "metadata": {},
   "outputs": [],
   "source": [
    "class Person:\n",
    "    def __init__(self, first_name, last_name):\n",
    "        self._first_name = first_name\n",
    "        self._last_name = last_name\n",
    "\n",
    "    @property\n",
    "    def full_name(self):\n",
    "        return f'{self._first_name}{self._last_name}'\n",
    "\n",
    "\n",
    "licat = Person('li', 'cat')\n",
    "print(licat._first_name)\n",
    "print(licat._last_name)\n",
    "print(licat.full_name)\n",
    "# print(licat.full_name())"
   ]
  },
  {
   "cell_type": "code",
   "execution_count": null,
   "metadata": {},
   "outputs": [],
   "source": [
    "class Person:\n",
    "    def __init__(self, first_name, last_name):\n",
    "        self._first_name = first_name\n",
    "        self._last_name = last_name\n",
    "\n",
    "    @property\n",
    "    def full_name(self):\n",
    "        return f'{self._first_name}{self._last_name}'\n",
    "\n",
    "    def namemul(self):\n",
    "        return self.full_name * 2  # 클래스 내부에서도 self.full_name, 인스턴스 변수처럼 취급됩니다.\n",
    "\n",
    "\n",
    "licat = Person('li', 'cat')\n",
    "mura = Person('mu', 'ra')\n",
    "print(licat._first_name)\n",
    "print(licat._last_name)\n",
    "print(licat.full_name)  # 클래스 변수였다면 둘 다 같은 값을 출력했었어야 합니다.\n",
    "print(mura.full_name)  # 클래스 변수였다면 둘 다 같은 값을 출력했었어야 합니다.\n",
    "print(mura.namemul())"
   ]
  },
  {
   "cell_type": "markdown",
   "metadata": {},
   "source": [
    "### 덕타이핑"
   ]
  },
  {
   "cell_type": "code",
   "execution_count": null,
   "metadata": {},
   "outputs": [],
   "source": [
    "class Duck:\n",
    "    def introduce(self):\n",
    "        print(\"꽥꽥\")\n",
    "\n",
    "\n",
    "class Person:\n",
    "    def introduce(self):\n",
    "        print(\"안녕\")\n",
    "\n",
    "\n",
    "def introduce(obj):\n",
    "    obj.introduce()\n",
    "\n",
    "duck=Duck()\n",
    "person=Person()\n",
    "\n",
    "introduce(duck)  # 꽥꽥\n",
    "introduce(person) # 안녕\n",
    "\n",
    "# 장점1. 코드의 가독성이 좋아진다.\n",
    "# duck.introduce() 처럼 사용하지 않고 introduce()처럼 사용하게되면\n",
    "# duck에 object 안을 들여다보지 않고, 어느정도 기능 유추가 가능하다.\n",
    "# 장점2. 여러가지 obj를 하나의 함수에서 실행하며 커스터마이징도 가능하다."
   ]
  },
  {
   "cell_type": "code",
   "execution_count": null,
   "metadata": {},
   "outputs": [],
   "source": [
    "class Hero:\n",
    "    def move(self):\n",
    "        print('히어로 움직임')\n",
    "\n",
    "\n",
    "class Villain:\n",
    "    def move(self):\n",
    "        print('빌런 움직임')\n",
    "\n",
    "\n",
    "class Mob:\n",
    "    def move(self):\n",
    "        print('몹 움직임')\n",
    "\n",
    "\n",
    "def move(obj):\n",
    "    obj.move()\n",
    "\n",
    "\n",
    "a = Hero()\n",
    "b = Villain()\n",
    "c = Mob()\n",
    "\n",
    "등장인물 = [a,b,c]\n",
    "\n",
    "for person in 등장인물:\n",
    "    move(person)  # 덕타이핑 -> 취향에 따라 사용하길~\n",
    "    person.move() # 사용가능\n"
   ]
  },
  {
   "cell_type": "markdown",
   "metadata": {},
   "source": [
    "## 추상클래스"
   ]
  },
  {
   "cell_type": "code",
   "execution_count": null,
   "metadata": {},
   "outputs": [],
   "source": [
    "from abc import ABC, abstractmethod\n",
    "\n",
    "\n",
    "class Person:\n",
    "    def move(self):\n",
    "        pass\n",
    "\n",
    "\n",
    "class Hero(Person):\n",
    "    pass\n",
    "\n",
    "\n",
    "ironman = Hero()\n",
    "ironman.move()\n"
   ]
  },
  {
   "cell_type": "code",
   "execution_count": null,
   "metadata": {},
   "outputs": [],
   "source": [
    "from abc import ABC, abstractmethod\n",
    "\n",
    "\n",
    "class Person(ABC):  # ABC를 상속받고\n",
    "\n",
    "    @abstractmethod  # abstractmethod라고 선언을 하면\n",
    "    def move(self):\n",
    "        pass\n",
    "\n",
    "\n",
    "class Hero(Person):  # 상속받은 자식에서 반드시 메서드 오버라이딩이 일어나야 합니다.\n",
    "    pass\n",
    "\n",
    "\n",
    "ironman = Hero()\n",
    "ironman.move()\n"
   ]
  },
  {
   "cell_type": "markdown",
   "metadata": {},
   "source": [
    "## 비공개 속성"
   ]
  },
  {
   "cell_type": "code",
   "execution_count": null,
   "metadata": {},
   "outputs": [],
   "source": [
    "# 비공개 속성이 조작 불가능한게 아닙니다!\n",
    "class MyClass:\n",
    "    __a = 10\n",
    "    _a = 100\n",
    "    b = 20\n",
    "\n",
    "    def __init__(self, c, d):\n",
    "        self.__c = c\n",
    "        self.d = d\n",
    "\n",
    "\n",
    "# MyClass.__a\n",
    "test = MyClass(30, 40)\n",
    "\n",
    "# test.__a # 오!? 접근이 가능하지 않네 => 오해입니다.\n",
    "print(test._MyClass__a)\n",
    "print(test._MyClass__c)"
   ]
  },
  {
   "cell_type": "code",
   "execution_count": null,
   "metadata": {},
   "outputs": [],
   "source": [
    "# 비공개 속성이 조작 불가능한게 아닙니다!\n",
    "class MyClass:\n",
    "    __a = 10\n",
    "    _a = 100\n",
    "    b = 20\n",
    "\n",
    "    def __init__(self, c, d):\n",
    "        self.__c = c\n",
    "        self.d = d\n",
    "\n",
    "\n",
    "# MyClass.__a\n",
    "test = MyClass(30, 40)\n",
    "# test.__a # 오!? 접근이 가능하지 않네 => 오해입니다.\n",
    "test._a\n",
    "test._MyClass__a = 9000\n",
    "test._MyClass__c = 90000\n",
    "\n",
    "print(test._MyClass__a)\n",
    "print(test._MyClass__c)"
   ]
  },
  {
   "cell_type": "markdown",
   "metadata": {},
   "source": [
    "# 예외처리"
   ]
  },
  {
   "cell_type": "code",
   "execution_count": null,
   "metadata": {},
   "outputs": [],
   "source": [
    "# for i in range(3)  # SyntaxError : invalid syntax\n",
    "#     print(i)\n",
    "\n",
    "if False:\n",
    "  raise SyntaxError\n",
    "\n",
    "if True:\n",
    "  raise SyntaxError('hello world')"
   ]
  },
  {
   "cell_type": "code",
   "execution_count": null,
   "metadata": {},
   "outputs": [],
   "source": [
    "# Name Error : name 'x' is not defined\n",
    "print(x)"
   ]
  },
  {
   "cell_type": "code",
   "execution_count": null,
   "metadata": {},
   "outputs": [],
   "source": [
    "# Type Error\n",
    "x = 10\n",
    "y = '20'\n",
    "print(x + y)"
   ]
  },
  {
   "cell_type": "code",
   "execution_count": null,
   "metadata": {},
   "outputs": [],
   "source": [
    "# Index Error : list index out of range\n",
    "my_list = [1, 2, 3]\n",
    "print(my_list[3])"
   ]
  },
  {
   "cell_type": "code",
   "execution_count": null,
   "metadata": {},
   "outputs": [],
   "source": [
    "# 'list' object attribute '__len__' is read-only\n",
    "# 파이썬에서 length 조절 안된다.\n",
    "my_list = [1, 2, 3]\n",
    "my_list.__len__ = 100"
   ]
  },
  {
   "cell_type": "code",
   "execution_count": null,
   "metadata": {},
   "outputs": [],
   "source": [
    "# Key Error\n",
    "my_dict = {'a': 1, 'b': 2}\n",
    "print(my_dict['c'])  # key error를 피하기 위해서는 get 메소드 사용"
   ]
  },
  {
   "cell_type": "code",
   "execution_count": null,
   "metadata": {},
   "outputs": [],
   "source": [
    "# Value Error\n",
    "int('a')\n"
   ]
  },
  {
   "cell_type": "code",
   "execution_count": null,
   "metadata": {},
   "outputs": [],
   "source": [
    "# ZeroDivision Error\n",
    "x = 10\n",
    "y = 0\n",
    "print(x / y)\n"
   ]
  },
  {
   "cell_type": "code",
   "execution_count": null,
   "metadata": {},
   "outputs": [],
   "source": [
    "# ZeroDivision 에러 사용\n",
    "def f():\n",
    "    return True\n",
    "\n",
    "\n",
    "def ff():\n",
    "    return 1/0\n",
    "\n",
    "\n",
    "f() or ff()"
   ]
  },
  {
   "cell_type": "code",
   "execution_count": null,
   "metadata": {},
   "outputs": [],
   "source": [
    "# Attribute Error\n",
    "my_list = [1, 2, 3]\n",
    "print(my_list.appeend(4))"
   ]
  },
  {
   "cell_type": "code",
   "execution_count": null,
   "metadata": {},
   "outputs": [],
   "source": [
    "# Type Error\n",
    "def add(x, y):\n",
    "    return x + y\n",
    "\n",
    "\n",
    "add(1, 2, 3)  # *args, **kargs\n"
   ]
  },
  {
   "cell_type": "code",
   "execution_count": null,
   "metadata": {},
   "outputs": [],
   "source": [
    "def add(x, y, *args):\n",
    "    print(x, y, args)\n",
    "    return x + y\n",
    "\n",
    "\n",
    "add(1, 2, 3, 4, 5, 6, 7, 8, 9, 10)"
   ]
  },
  {
   "cell_type": "code",
   "execution_count": null,
   "metadata": {},
   "outputs": [],
   "source": [
    "# File I/O Error\n",
    "f = open('non-existent.txt', 'r')\n",
    "f.read()\n"
   ]
  },
  {
   "cell_type": "code",
   "execution_count": null,
   "metadata": {},
   "outputs": [],
   "source": [
    "try:\n",
    "    할인율 = 0\n",
    "    치킨값 = 30000 / 할인율\n",
    "    print('치킨주문 되었습니다!')\n",
    "except:\n",
    "    print('결제가 안되었습니다!')\n",
    "else:  # 에러가 없으면 실행\n",
    "    print('else')\n"
   ]
  },
  {
   "cell_type": "code",
   "execution_count": null,
   "metadata": {},
   "outputs": [],
   "source": [
    "try:\n",
    "    할인율 = 0\n",
    "    # 치킨값 = 30000 / 할인율\n",
    "    print('치킨주문 되었습니다!')\n",
    "except:\n",
    "    print('결제가 안되었습니다!')\n",
    "finally:  # 에러있든없든 무조건 실행\n",
    "    print('메인화면으로 이동')\n"
   ]
  },
  {
   "cell_type": "code",
   "execution_count": null,
   "metadata": {},
   "outputs": [],
   "source": [
    "test = 'hello'\n",
    "\n",
    "assert test == 'hello', '애러 메시지 1' #1\n",
    "assert test == 'world', '애러 메시지 2' #2\n",
    "assert test + 3 == 5, '애러 메시지 3' #3"
   ]
  },
  {
   "cell_type": "code",
   "execution_count": null,
   "metadata": {},
   "outputs": [],
   "source": [
    "x = 10\n",
    "# raise\n",
    "# raise ValueError\n",
    "# raise ValueError('코드를 잘~~ 만들어주세요.')\n",
    "y = 20\n"
   ]
  },
  {
   "cell_type": "code",
   "execution_count": null,
   "metadata": {},
   "outputs": [],
   "source": [
    "import logging\n",
    "\n",
    "logging.basicConfig(level=logging.INFO)  # 어느 레벨부터 로깅할지, 기본으로 warning 부터 합니다.\n",
    "\n",
    "logging.debug(\"This is a debug message\")  # 고쳐야 할 코드, 기록 필요\n",
    "logging.info(\"This is an info message\")  # 정보성 메시지\n",
    "logging.warning(\"This is a warning message\")  # 경고 메시지\n",
    "logging.error(\"This is an error message\")  # 애러 메시지(프로그램은 동작)\n",
    "logging.critical(\"This is a critical message\")  # 프로그램 중지(애러처리 안된경우)\n"
   ]
  },
  {
   "cell_type": "code",
   "execution_count": null,
   "metadata": {},
   "outputs": [],
   "source": [
    "import logging.handlers\n",
    "\n",
    "\n",
    "def logger():\n",
    "    log_obj = logging.getLogger(\"log_name\")  # log name으로 log 객체 생성\n",
    "    log_obj.setLevel(logging.DEBUG)  # 어디부터 기록할지 설정\n",
    "\n",
    "    fileHandeler = logging.FileHandler(filename=\"./test.txt\")  # 파일로 기록\n",
    "    # streamHandler = logging.StreamHandler() # 콘솔에 출력\n",
    "\n",
    "    fileHandeler.setLevel(logging.INFO)  # 파일 기록 레벨 설정\n",
    "    # streamHandler.setLevel(logging.DEBUG) # 콘솔 기록 레벨 설정\n",
    "\n",
    "    formatter = logging.Formatter(\n",
    "        \"%(name)s, %(asctime)s, %(levelname)s, %(message)s\")  # 포멧 생성\n",
    "\n",
    "    fileHandeler.setFormatter(formatter)  # 파일 메시지 포멧 설정\n",
    "    # streamHandler.setFormatter(formatter) # 콘솔 메시지 포멧 설정\n",
    "\n",
    "    log_obj.addHandler(fileHandeler)  # log_obj handler에 파일 출력 방식 추가\n",
    "    # log_obj.addHandler(streamHandler) # log_obj handler에 파일 콘솔 방식 추가\n",
    "\n",
    "    return log_obj\n",
    "\n",
    "\n",
    "log = logger()\n",
    "\n",
    "# 아래 코드를 기록하고 싶은 곳에 함께 설정\n",
    "log.debug('debug')\n",
    "log.info('info')\n",
    "log.warning('warning')\n",
    "log.error('error')\n",
    "log.critical('critical')\n",
    "\n",
    "print('---')\n",
    "\n",
    "# 아래와 같이 사용합니다.\n",
    "\n",
    "\n",
    "def f():\n",
    "    try:\n",
    "        x = 1 / 0\n",
    "    except Exception as e:\n",
    "        print(e)\n",
    "        log.error(f'{e} error')\n",
    "\n",
    "\n",
    "f()\n"
   ]
  },
  {
   "cell_type": "code",
   "execution_count": null,
   "metadata": {},
   "outputs": [],
   "source": [
    "import logging.handlers\n",
    "\n",
    "\n",
    "def logger():\n",
    "    log_obj = logging.getLogger(\"log_name\")  # log name으로 log 객체 생성\n",
    "    log_obj.setLevel(logging.ERROR)  # 어디부터 기록할지 설정\n",
    "\n",
    "    fileHandeler = logging.FileHandler(filename=\"./test.txt\")  # 파일로 기록\n",
    "    # streamHandler = logging.StreamHandler() # 콘솔에 출력\n",
    "\n",
    "    fileHandeler.setLevel(logging.ERROR)  # 파일 기록 레벨 설정\n",
    "    # streamHandler.setLevel(logging.DEBUG) # 콘솔 기록 레벨 설정\n",
    "\n",
    "    formatter = logging.Formatter(\n",
    "        \"%(name)s, %(asctime)s, %(levelname)s, %(message)s\")  # 포멧 생성\n",
    "\n",
    "    fileHandeler.setFormatter(formatter)  # 파일 메시지 포멧 설정\n",
    "    # streamHandler.setFormatter(formatter) # 콘솔 메시지 포멧 설정\n",
    "\n",
    "    log_obj.addHandler(fileHandeler)  # log_obj handler에 파일 출력 방식 추가\n",
    "    # log_obj.addHandler(streamHandler) # log_obj handler에 파일 콘솔 방식 추가\n",
    "\n",
    "    return log_obj\n",
    "\n",
    "\n",
    "log = logger()\n",
    "\n",
    "# 아래 코드를 기록하고 싶은 곳에 함께 설정\n",
    "log.debug('debug')\n",
    "log.info('info')\n",
    "log.warning('warning')\n",
    "log.error('error')\n",
    "log.critical('critical')\n",
    "\n",
    "print('---')\n",
    "\n",
    "# 아래와 같이 사용합니다.\n",
    "\n",
    "\n",
    "def f():\n",
    "    try:\n",
    "        x = 1 / 0\n",
    "    except Exception as e:\n",
    "        print(e)\n",
    "        log.error(f'{e} error')\n",
    "\n",
    "\n",
    "f()"
   ]
  },
  {
   "cell_type": "markdown",
   "metadata": {},
   "source": [
    "### 연습문제"
   ]
  },
  {
   "cell_type": "markdown",
   "metadata": {},
   "source": [
    "문제1  \n",
    "두 수를 나누는 함수 div(a, b)가 있었을 때 b에 0이 입력되면 예외처리를 하여 정상작동이 되는 함수로 작성을 해주세요."
   ]
  },
  {
   "cell_type": "code",
   "execution_count": 1,
   "metadata": {},
   "outputs": [
    {
     "name": "stdout",
     "output_type": "stream",
     "text": [
      "0으로 나눌 수 없습니다.\n"
     ]
    }
   ],
   "source": [
    "def div(a, b):\n",
    "    try:\n",
    "        return a/b\n",
    "    except ZeroDivisionError:\n",
    "        print(\"0으로 나눌 수 없습니다.\")\n",
    "\n",
    "\n",
    "div(3, 0)\n"
   ]
  },
  {
   "cell_type": "markdown",
   "metadata": {},
   "source": [
    "문제2   \n",
    "하나의 숫자에 제곱근을 구하는 함수 sqrt_number(num)이 있었을 때   \n",
    "자체 예외 NegativeNumberError를 정의하세요. 이 예외는 음수가 입력될 때 발생하도록 합니다.   \n",
    "사용자로부터 숫자를 입력 받아 그 숫자의 제곱근을 반환하는 함수를 작성하세요.    \n",
    "입력된 숫자가 음수이면 NegativeNumberError를 발생시키고   \n",
    "\"음수의 제곱근은 계산할 수 없습니다.\"라는 메시지를 출력하세요."
   ]
  },
  {
   "cell_type": "code",
   "execution_count": null,
   "metadata": {},
   "outputs": [],
   "source": [
    "import math\n",
    "\n",
    "\n",
    "class NegativeNumberError(Exception):\n",
    "    def __init__(self, message=''):\n",
    "        super().__init__(message)\n",
    "\n",
    "\n",
    "def sqrt_number(num):\n",
    "    if num < 0:\n",
    "        raise NegativeNumberError(\"음수의 제곱근은 계산할 수 없습니다.\")\n",
    "\n",
    "    return math.sqrt(num)\n",
    "\n",
    "\n",
    "num = int(input(\"제곱근할 숫자를 입력하세요 : \"))\n",
    "\n",
    "sqrt_number(num)\n"
   ]
  },
  {
   "cell_type": "markdown",
   "metadata": {},
   "source": [
    "문제3   \n",
    "사용자로부터 인덱스 값을 입력 받아서 리스트 [\"apple\", \"banana\", \"cherry\"]에서   \n",
    "해당 인덱스의 값을 출력하는 함수를 작성하세요.    \n",
    "사용자가 범위를 벗어난 인덱스를 입력하면 \"리스트의 범위를 벗어났습니다.\"라는 메시지를 출력하세요. "
   ]
  },
  {
   "cell_type": "code",
   "execution_count": null,
   "metadata": {},
   "outputs": [],
   "source": [
    "def searchIndexValue(lst,idx):\n",
    "  try:\n",
    "    return lst[idx]\n",
    "  except IndexError:\n",
    "    print(\"리스트의 범위를 벗어났습니다.\")\n",
    "  except:  # 예상치 못한 오류일때 처리\n",
    "    print(\"예상치 못한 오류\")\n",
    "\n",
    "fruits = [\"apple\", \"banana\", \"cherry\"]\n",
    "userInputIndex = int(input(\"과일 번호를 입력하세요\"))\n",
    "\n",
    "searchIndexValue(fruits, userInputIndex)\n"
   ]
  }
 ],
 "metadata": {
  "kernelspec": {
   "display_name": "Python 3",
   "language": "python",
   "name": "python3"
  },
  "language_info": {
   "codemirror_mode": {
    "name": "ipython",
    "version": 3
   },
   "file_extension": ".py",
   "mimetype": "text/x-python",
   "name": "python",
   "nbconvert_exporter": "python",
   "pygments_lexer": "ipython3",
   "version": "3.9.2"
  },
  "orig_nbformat": 4
 },
 "nbformat": 4,
 "nbformat_minor": 2
}
